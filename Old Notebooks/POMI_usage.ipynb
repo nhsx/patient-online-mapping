{
 "cells": [
  {
   "cell_type": "code",
   "execution_count": 2,
   "id": "4901a9d5-8acc-49aa-8cf8-e6fd145a436d",
   "metadata": {},
   "outputs": [],
   "source": [
    "import pandas as pd\n",
    "import os\n",
    "import plotly\n",
    "import plotly.graph_objects as go\n",
    "import plotly.express as px\n",
    "import plotly.offline as pyo\n",
    "import numpy as np\n",
    "import datetime\n",
    "import matplotlib.pyplot as plt\n",
    "import seaborn as sns"
   ]
  },
  {
   "cell_type": "code",
   "execution_count": 3,
   "id": "0b63e836-e954-4540-950a-abc250f9d42f",
   "metadata": {},
   "outputs": [],
   "source": [
    "POMI_2017_2018 = pd.read_csv('data/POMI 2017_2021/POMI_APR2017_to_MAR2018.csv', sep = ',')\n",
    "POMI_2018_2018 = pd.read_csv('data/POMI 2017_2021/POMI_APR2018_to_SEP2018.csv', sep = ',')\n",
    "POMI_2018_2019 = pd.read_csv('data/POMI 2017_2021/POMI_OCT2018_to_MAR2019.csv', sep = ',')\n",
    "POMI_2019_2020 = pd.read_csv('data/POMI 2017_2021/POMI_APR2019_to_MAR2020.csv', sep = ',')\n",
    "POMI_2020_2021 = pd.read_csv('data/POMI 2017_2021/POMI_APR2020_to_MAR2021_v2.csv', sep = ',')\n",
    "\n",
    "POMI_FILES = [POMI_2017_2018, \n",
    "POMI_2018_2018,\n",
    "POMI_2018_2019, \n",
    "POMI_2019_2020, \n",
    "POMI_2020_2021]\n",
    "\n",
    "POMI = pd.concat(POMI_FILES)\n"
   ]
  },
  {
   "cell_type": "code",
   "execution_count": 101,
   "id": "1f888065-8bef-4cd0-a89a-a512ecc1ec4c",
   "metadata": {},
   "outputs": [
    {
     "data": {
      "text/plain": [
       "report_period_end    datetime64[ns]\n",
       "region_code                  object\n",
       "region_name                  object\n",
       "subregion_code               object\n",
       "subregion_name               object\n",
       "ccg_code                     object\n",
       "ccg_name                     object\n",
       "practice_code                object\n",
       "practice_name                object\n",
       "system_supplier              object\n",
       "field                        object\n",
       "value                       float64\n",
       "dtype: object"
      ]
     },
     "execution_count": 101,
     "metadata": {},
     "output_type": "execute_result"
    }
   ],
   "source": [
    "POMI.dtypes\n",
    "POMI['report_period_end'] = pd.to_datetime(POMI['report_period_end'])\n",
    "POMI['ccg_name'] = POMI['ccg_name'].str.upper()\n",
    "POMI['practice_name'] = POMI['practice_name'].str.upper()\n",
    "POMI.dtypes"
   ]
  },
  {
   "cell_type": "code",
   "execution_count": 5,
   "id": "939cfd3e-14bf-4ac1-a596-f38a5cbfa735",
   "metadata": {},
   "outputs": [
    {
     "data": {
      "text/html": [
       "<div>\n",
       "<style scoped>\n",
       "    .dataframe tbody tr th:only-of-type {\n",
       "        vertical-align: middle;\n",
       "    }\n",
       "\n",
       "    .dataframe tbody tr th {\n",
       "        vertical-align: top;\n",
       "    }\n",
       "\n",
       "    .dataframe thead th {\n",
       "        text-align: right;\n",
       "    }\n",
       "</style>\n",
       "<table border=\"1\" class=\"dataframe\">\n",
       "  <thead>\n",
       "    <tr style=\"text-align: right;\">\n",
       "      <th></th>\n",
       "      <th></th>\n",
       "      <th>field</th>\n",
       "      <th>New_Pat_Enbld</th>\n",
       "      <th>Pat_Appts_Enbld</th>\n",
       "      <th>Pat_Appts_Use</th>\n",
       "      <th>Pat_DetCodeRec_Enbld</th>\n",
       "      <th>Pat_DetCodeRec_Use</th>\n",
       "      <th>Pat_Presc_Enbld</th>\n",
       "      <th>Pat_Presc_Use</th>\n",
       "      <th>Sys_Appts_Enbld</th>\n",
       "      <th>Sys_DetCodeRec_Enbld</th>\n",
       "      <th>Sys_Presc_Enbld</th>\n",
       "      <th>Total_Pat_Enbld</th>\n",
       "      <th>Total_Use</th>\n",
       "      <th>patient_list_size</th>\n",
       "    </tr>\n",
       "    <tr>\n",
       "      <th>report_period_end</th>\n",
       "      <th>ccg_name</th>\n",
       "      <th>practice_name</th>\n",
       "      <th></th>\n",
       "      <th></th>\n",
       "      <th></th>\n",
       "      <th></th>\n",
       "      <th></th>\n",
       "      <th></th>\n",
       "      <th></th>\n",
       "      <th></th>\n",
       "      <th></th>\n",
       "      <th></th>\n",
       "      <th></th>\n",
       "      <th></th>\n",
       "      <th></th>\n",
       "    </tr>\n",
       "  </thead>\n",
       "  <tbody>\n",
       "    <tr>\n",
       "      <th rowspan=\"5\" valign=\"top\">2017-04-30</th>\n",
       "      <th rowspan=\"5\" valign=\"top\">NHS AIREDALE, WHARFEDALE AND CRAVEN CCG</th>\n",
       "      <th>ADDINGHAM SURGERY</th>\n",
       "      <td>11.0</td>\n",
       "      <td>757.0</td>\n",
       "      <td>2.0</td>\n",
       "      <td>0.0</td>\n",
       "      <td>0.0</td>\n",
       "      <td>757.0</td>\n",
       "      <td>326.0</td>\n",
       "      <td>2.0</td>\n",
       "      <td>2.0</td>\n",
       "      <td>2.0</td>\n",
       "      <td>757.0</td>\n",
       "      <td>342.0</td>\n",
       "      <td>2908.0</td>\n",
       "    </tr>\n",
       "    <tr>\n",
       "      <th>CROSS HILLS GROUP PRACTICE</th>\n",
       "      <td>22.0</td>\n",
       "      <td>3052.0</td>\n",
       "      <td>8.0</td>\n",
       "      <td>0.0</td>\n",
       "      <td>0.0</td>\n",
       "      <td>3051.0</td>\n",
       "      <td>574.0</td>\n",
       "      <td>2.0</td>\n",
       "      <td>2.0</td>\n",
       "      <td>2.0</td>\n",
       "      <td>3054.0</td>\n",
       "      <td>596.0</td>\n",
       "      <td>12043.0</td>\n",
       "    </tr>\n",
       "    <tr>\n",
       "      <th>DYNELEY HOUSE SURGERY</th>\n",
       "      <td>64.0</td>\n",
       "      <td>1947.0</td>\n",
       "      <td>44.0</td>\n",
       "      <td>0.0</td>\n",
       "      <td>0.0</td>\n",
       "      <td>1940.0</td>\n",
       "      <td>423.0</td>\n",
       "      <td>2.0</td>\n",
       "      <td>2.0</td>\n",
       "      <td>2.0</td>\n",
       "      <td>1949.0</td>\n",
       "      <td>535.0</td>\n",
       "      <td>12105.0</td>\n",
       "    </tr>\n",
       "    <tr>\n",
       "      <th>FARFIELD GROUP PRACTICE</th>\n",
       "      <td>158.0</td>\n",
       "      <td>2108.0</td>\n",
       "      <td>84.0</td>\n",
       "      <td>0.0</td>\n",
       "      <td>0.0</td>\n",
       "      <td>2109.0</td>\n",
       "      <td>405.0</td>\n",
       "      <td>2.0</td>\n",
       "      <td>2.0</td>\n",
       "      <td>2.0</td>\n",
       "      <td>2110.0</td>\n",
       "      <td>495.0</td>\n",
       "      <td>12877.0</td>\n",
       "    </tr>\n",
       "    <tr>\n",
       "      <th>FISHER MEDICAL CENTRE</th>\n",
       "      <td>107.0</td>\n",
       "      <td>3210.0</td>\n",
       "      <td>177.0</td>\n",
       "      <td>0.0</td>\n",
       "      <td>0.0</td>\n",
       "      <td>3211.0</td>\n",
       "      <td>485.0</td>\n",
       "      <td>2.0</td>\n",
       "      <td>2.0</td>\n",
       "      <td>2.0</td>\n",
       "      <td>3211.0</td>\n",
       "      <td>690.0</td>\n",
       "      <td>14112.0</td>\n",
       "    </tr>\n",
       "    <tr>\n",
       "      <th>...</th>\n",
       "      <th>...</th>\n",
       "      <th>...</th>\n",
       "      <td>...</td>\n",
       "      <td>...</td>\n",
       "      <td>...</td>\n",
       "      <td>...</td>\n",
       "      <td>...</td>\n",
       "      <td>...</td>\n",
       "      <td>...</td>\n",
       "      <td>...</td>\n",
       "      <td>...</td>\n",
       "      <td>...</td>\n",
       "      <td>...</td>\n",
       "      <td>...</td>\n",
       "      <td>...</td>\n",
       "    </tr>\n",
       "    <tr>\n",
       "      <th rowspan=\"5\" valign=\"top\">2021-03-31</th>\n",
       "      <th rowspan=\"5\" valign=\"top\">NHS WOLVERHAMPTON CCG</th>\n",
       "      <th>THORNLEY STREET SURGERY</th>\n",
       "      <td>26.0</td>\n",
       "      <td>1859.0</td>\n",
       "      <td>97.0</td>\n",
       "      <td>413.0</td>\n",
       "      <td>2109.0</td>\n",
       "      <td>1804.0</td>\n",
       "      <td>200.0</td>\n",
       "      <td>2.0</td>\n",
       "      <td>2.0</td>\n",
       "      <td>2.0</td>\n",
       "      <td>1861.0</td>\n",
       "      <td>4537.0</td>\n",
       "      <td>9866.0</td>\n",
       "    </tr>\n",
       "    <tr>\n",
       "      <th>TUDOR MEDICAL CENTRE</th>\n",
       "      <td>40.0</td>\n",
       "      <td>2188.0</td>\n",
       "      <td>0.0</td>\n",
       "      <td>654.0</td>\n",
       "      <td>7962.0</td>\n",
       "      <td>2189.0</td>\n",
       "      <td>377.0</td>\n",
       "      <td>2.0</td>\n",
       "      <td>2.0</td>\n",
       "      <td>2.0</td>\n",
       "      <td>2195.0</td>\n",
       "      <td>16302.0</td>\n",
       "      <td>19181.0</td>\n",
       "    </tr>\n",
       "    <tr>\n",
       "      <th>WARSTONES SURGERY</th>\n",
       "      <td>10.0</td>\n",
       "      <td>532.0</td>\n",
       "      <td>0.0</td>\n",
       "      <td>16.0</td>\n",
       "      <td>785.0</td>\n",
       "      <td>431.0</td>\n",
       "      <td>101.0</td>\n",
       "      <td>2.0</td>\n",
       "      <td>2.0</td>\n",
       "      <td>2.0</td>\n",
       "      <td>539.0</td>\n",
       "      <td>1671.0</td>\n",
       "      <td>4247.0</td>\n",
       "    </tr>\n",
       "    <tr>\n",
       "      <th>WEST PARK SURGERY</th>\n",
       "      <td>2.0</td>\n",
       "      <td>1205.0</td>\n",
       "      <td>0.0</td>\n",
       "      <td>2.0</td>\n",
       "      <td>1003.0</td>\n",
       "      <td>1183.0</td>\n",
       "      <td>86.0</td>\n",
       "      <td>2.0</td>\n",
       "      <td>2.0</td>\n",
       "      <td>2.0</td>\n",
       "      <td>1210.0</td>\n",
       "      <td>2093.0</td>\n",
       "      <td>3883.0</td>\n",
       "    </tr>\n",
       "    <tr>\n",
       "      <th>WHITMORE REANS MEDICAL PRACTICE</th>\n",
       "      <td>24.0</td>\n",
       "      <td>2470.0</td>\n",
       "      <td>0.0</td>\n",
       "      <td>242.0</td>\n",
       "      <td>1809.0</td>\n",
       "      <td>2259.0</td>\n",
       "      <td>133.0</td>\n",
       "      <td>2.0</td>\n",
       "      <td>2.0</td>\n",
       "      <td>2.0</td>\n",
       "      <td>2494.0</td>\n",
       "      <td>3759.0</td>\n",
       "      <td>15150.0</td>\n",
       "    </tr>\n",
       "  </tbody>\n",
       "</table>\n",
       "<p>300109 rows × 13 columns</p>\n",
       "</div>"
      ],
      "text/plain": [
       "field                                                                                      New_Pat_Enbld  \\\n",
       "report_period_end ccg_name                                practice_name                                    \n",
       "2017-04-30        NHS AIREDALE, WHARFEDALE AND CRAVEN CCG ADDINGHAM SURGERY                         11.0   \n",
       "                                                          CROSS HILLS GROUP PRACTICE                22.0   \n",
       "                                                          DYNELEY HOUSE SURGERY                     64.0   \n",
       "                                                          FARFIELD GROUP PRACTICE                  158.0   \n",
       "                                                          FISHER MEDICAL CENTRE                    107.0   \n",
       "...                                                                                                  ...   \n",
       "2021-03-31        NHS WOLVERHAMPTON CCG                   THORNLEY STREET SURGERY                   26.0   \n",
       "                                                          TUDOR MEDICAL CENTRE                      40.0   \n",
       "                                                          WARSTONES SURGERY                         10.0   \n",
       "                                                          WEST PARK SURGERY                          2.0   \n",
       "                                                          WHITMORE REANS MEDICAL PRACTICE           24.0   \n",
       "\n",
       "field                                                                                      Pat_Appts_Enbld  \\\n",
       "report_period_end ccg_name                                practice_name                                      \n",
       "2017-04-30        NHS AIREDALE, WHARFEDALE AND CRAVEN CCG ADDINGHAM SURGERY                          757.0   \n",
       "                                                          CROSS HILLS GROUP PRACTICE                3052.0   \n",
       "                                                          DYNELEY HOUSE SURGERY                     1947.0   \n",
       "                                                          FARFIELD GROUP PRACTICE                   2108.0   \n",
       "                                                          FISHER MEDICAL CENTRE                     3210.0   \n",
       "...                                                                                                    ...   \n",
       "2021-03-31        NHS WOLVERHAMPTON CCG                   THORNLEY STREET SURGERY                   1859.0   \n",
       "                                                          TUDOR MEDICAL CENTRE                      2188.0   \n",
       "                                                          WARSTONES SURGERY                          532.0   \n",
       "                                                          WEST PARK SURGERY                         1205.0   \n",
       "                                                          WHITMORE REANS MEDICAL PRACTICE           2470.0   \n",
       "\n",
       "field                                                                                      Pat_Appts_Use  \\\n",
       "report_period_end ccg_name                                practice_name                                    \n",
       "2017-04-30        NHS AIREDALE, WHARFEDALE AND CRAVEN CCG ADDINGHAM SURGERY                          2.0   \n",
       "                                                          CROSS HILLS GROUP PRACTICE                 8.0   \n",
       "                                                          DYNELEY HOUSE SURGERY                     44.0   \n",
       "                                                          FARFIELD GROUP PRACTICE                   84.0   \n",
       "                                                          FISHER MEDICAL CENTRE                    177.0   \n",
       "...                                                                                                  ...   \n",
       "2021-03-31        NHS WOLVERHAMPTON CCG                   THORNLEY STREET SURGERY                   97.0   \n",
       "                                                          TUDOR MEDICAL CENTRE                       0.0   \n",
       "                                                          WARSTONES SURGERY                          0.0   \n",
       "                                                          WEST PARK SURGERY                          0.0   \n",
       "                                                          WHITMORE REANS MEDICAL PRACTICE            0.0   \n",
       "\n",
       "field                                                                                      Pat_DetCodeRec_Enbld  \\\n",
       "report_period_end ccg_name                                practice_name                                           \n",
       "2017-04-30        NHS AIREDALE, WHARFEDALE AND CRAVEN CCG ADDINGHAM SURGERY                                 0.0   \n",
       "                                                          CROSS HILLS GROUP PRACTICE                        0.0   \n",
       "                                                          DYNELEY HOUSE SURGERY                             0.0   \n",
       "                                                          FARFIELD GROUP PRACTICE                           0.0   \n",
       "                                                          FISHER MEDICAL CENTRE                             0.0   \n",
       "...                                                                                                         ...   \n",
       "2021-03-31        NHS WOLVERHAMPTON CCG                   THORNLEY STREET SURGERY                         413.0   \n",
       "                                                          TUDOR MEDICAL CENTRE                            654.0   \n",
       "                                                          WARSTONES SURGERY                                16.0   \n",
       "                                                          WEST PARK SURGERY                                 2.0   \n",
       "                                                          WHITMORE REANS MEDICAL PRACTICE                 242.0   \n",
       "\n",
       "field                                                                                      Pat_DetCodeRec_Use  \\\n",
       "report_period_end ccg_name                                practice_name                                         \n",
       "2017-04-30        NHS AIREDALE, WHARFEDALE AND CRAVEN CCG ADDINGHAM SURGERY                               0.0   \n",
       "                                                          CROSS HILLS GROUP PRACTICE                      0.0   \n",
       "                                                          DYNELEY HOUSE SURGERY                           0.0   \n",
       "                                                          FARFIELD GROUP PRACTICE                         0.0   \n",
       "                                                          FISHER MEDICAL CENTRE                           0.0   \n",
       "...                                                                                                       ...   \n",
       "2021-03-31        NHS WOLVERHAMPTON CCG                   THORNLEY STREET SURGERY                      2109.0   \n",
       "                                                          TUDOR MEDICAL CENTRE                         7962.0   \n",
       "                                                          WARSTONES SURGERY                             785.0   \n",
       "                                                          WEST PARK SURGERY                            1003.0   \n",
       "                                                          WHITMORE REANS MEDICAL PRACTICE              1809.0   \n",
       "\n",
       "field                                                                                      Pat_Presc_Enbld  \\\n",
       "report_period_end ccg_name                                practice_name                                      \n",
       "2017-04-30        NHS AIREDALE, WHARFEDALE AND CRAVEN CCG ADDINGHAM SURGERY                          757.0   \n",
       "                                                          CROSS HILLS GROUP PRACTICE                3051.0   \n",
       "                                                          DYNELEY HOUSE SURGERY                     1940.0   \n",
       "                                                          FARFIELD GROUP PRACTICE                   2109.0   \n",
       "                                                          FISHER MEDICAL CENTRE                     3211.0   \n",
       "...                                                                                                    ...   \n",
       "2021-03-31        NHS WOLVERHAMPTON CCG                   THORNLEY STREET SURGERY                   1804.0   \n",
       "                                                          TUDOR MEDICAL CENTRE                      2189.0   \n",
       "                                                          WARSTONES SURGERY                          431.0   \n",
       "                                                          WEST PARK SURGERY                         1183.0   \n",
       "                                                          WHITMORE REANS MEDICAL PRACTICE           2259.0   \n",
       "\n",
       "field                                                                                      Pat_Presc_Use  \\\n",
       "report_period_end ccg_name                                practice_name                                    \n",
       "2017-04-30        NHS AIREDALE, WHARFEDALE AND CRAVEN CCG ADDINGHAM SURGERY                        326.0   \n",
       "                                                          CROSS HILLS GROUP PRACTICE               574.0   \n",
       "                                                          DYNELEY HOUSE SURGERY                    423.0   \n",
       "                                                          FARFIELD GROUP PRACTICE                  405.0   \n",
       "                                                          FISHER MEDICAL CENTRE                    485.0   \n",
       "...                                                                                                  ...   \n",
       "2021-03-31        NHS WOLVERHAMPTON CCG                   THORNLEY STREET SURGERY                  200.0   \n",
       "                                                          TUDOR MEDICAL CENTRE                     377.0   \n",
       "                                                          WARSTONES SURGERY                        101.0   \n",
       "                                                          WEST PARK SURGERY                         86.0   \n",
       "                                                          WHITMORE REANS MEDICAL PRACTICE          133.0   \n",
       "\n",
       "field                                                                                      Sys_Appts_Enbld  \\\n",
       "report_period_end ccg_name                                practice_name                                      \n",
       "2017-04-30        NHS AIREDALE, WHARFEDALE AND CRAVEN CCG ADDINGHAM SURGERY                            2.0   \n",
       "                                                          CROSS HILLS GROUP PRACTICE                   2.0   \n",
       "                                                          DYNELEY HOUSE SURGERY                        2.0   \n",
       "                                                          FARFIELD GROUP PRACTICE                      2.0   \n",
       "                                                          FISHER MEDICAL CENTRE                        2.0   \n",
       "...                                                                                                    ...   \n",
       "2021-03-31        NHS WOLVERHAMPTON CCG                   THORNLEY STREET SURGERY                      2.0   \n",
       "                                                          TUDOR MEDICAL CENTRE                         2.0   \n",
       "                                                          WARSTONES SURGERY                            2.0   \n",
       "                                                          WEST PARK SURGERY                            2.0   \n",
       "                                                          WHITMORE REANS MEDICAL PRACTICE              2.0   \n",
       "\n",
       "field                                                                                      Sys_DetCodeRec_Enbld  \\\n",
       "report_period_end ccg_name                                practice_name                                           \n",
       "2017-04-30        NHS AIREDALE, WHARFEDALE AND CRAVEN CCG ADDINGHAM SURGERY                                 2.0   \n",
       "                                                          CROSS HILLS GROUP PRACTICE                        2.0   \n",
       "                                                          DYNELEY HOUSE SURGERY                             2.0   \n",
       "                                                          FARFIELD GROUP PRACTICE                           2.0   \n",
       "                                                          FISHER MEDICAL CENTRE                             2.0   \n",
       "...                                                                                                         ...   \n",
       "2021-03-31        NHS WOLVERHAMPTON CCG                   THORNLEY STREET SURGERY                           2.0   \n",
       "                                                          TUDOR MEDICAL CENTRE                              2.0   \n",
       "                                                          WARSTONES SURGERY                                 2.0   \n",
       "                                                          WEST PARK SURGERY                                 2.0   \n",
       "                                                          WHITMORE REANS MEDICAL PRACTICE                   2.0   \n",
       "\n",
       "field                                                                                      Sys_Presc_Enbld  \\\n",
       "report_period_end ccg_name                                practice_name                                      \n",
       "2017-04-30        NHS AIREDALE, WHARFEDALE AND CRAVEN CCG ADDINGHAM SURGERY                            2.0   \n",
       "                                                          CROSS HILLS GROUP PRACTICE                   2.0   \n",
       "                                                          DYNELEY HOUSE SURGERY                        2.0   \n",
       "                                                          FARFIELD GROUP PRACTICE                      2.0   \n",
       "                                                          FISHER MEDICAL CENTRE                        2.0   \n",
       "...                                                                                                    ...   \n",
       "2021-03-31        NHS WOLVERHAMPTON CCG                   THORNLEY STREET SURGERY                      2.0   \n",
       "                                                          TUDOR MEDICAL CENTRE                         2.0   \n",
       "                                                          WARSTONES SURGERY                            2.0   \n",
       "                                                          WEST PARK SURGERY                            2.0   \n",
       "                                                          WHITMORE REANS MEDICAL PRACTICE              2.0   \n",
       "\n",
       "field                                                                                      Total_Pat_Enbld  \\\n",
       "report_period_end ccg_name                                practice_name                                      \n",
       "2017-04-30        NHS AIREDALE, WHARFEDALE AND CRAVEN CCG ADDINGHAM SURGERY                          757.0   \n",
       "                                                          CROSS HILLS GROUP PRACTICE                3054.0   \n",
       "                                                          DYNELEY HOUSE SURGERY                     1949.0   \n",
       "                                                          FARFIELD GROUP PRACTICE                   2110.0   \n",
       "                                                          FISHER MEDICAL CENTRE                     3211.0   \n",
       "...                                                                                                    ...   \n",
       "2021-03-31        NHS WOLVERHAMPTON CCG                   THORNLEY STREET SURGERY                   1861.0   \n",
       "                                                          TUDOR MEDICAL CENTRE                      2195.0   \n",
       "                                                          WARSTONES SURGERY                          539.0   \n",
       "                                                          WEST PARK SURGERY                         1210.0   \n",
       "                                                          WHITMORE REANS MEDICAL PRACTICE           2494.0   \n",
       "\n",
       "field                                                                                      Total_Use  \\\n",
       "report_period_end ccg_name                                practice_name                                \n",
       "2017-04-30        NHS AIREDALE, WHARFEDALE AND CRAVEN CCG ADDINGHAM SURGERY                    342.0   \n",
       "                                                          CROSS HILLS GROUP PRACTICE           596.0   \n",
       "                                                          DYNELEY HOUSE SURGERY                535.0   \n",
       "                                                          FARFIELD GROUP PRACTICE              495.0   \n",
       "                                                          FISHER MEDICAL CENTRE                690.0   \n",
       "...                                                                                              ...   \n",
       "2021-03-31        NHS WOLVERHAMPTON CCG                   THORNLEY STREET SURGERY             4537.0   \n",
       "                                                          TUDOR MEDICAL CENTRE               16302.0   \n",
       "                                                          WARSTONES SURGERY                   1671.0   \n",
       "                                                          WEST PARK SURGERY                   2093.0   \n",
       "                                                          WHITMORE REANS MEDICAL PRACTICE     3759.0   \n",
       "\n",
       "field                                                                                      patient_list_size  \n",
       "report_period_end ccg_name                                practice_name                                       \n",
       "2017-04-30        NHS AIREDALE, WHARFEDALE AND CRAVEN CCG ADDINGHAM SURGERY                           2908.0  \n",
       "                                                          CROSS HILLS GROUP PRACTICE                 12043.0  \n",
       "                                                          DYNELEY HOUSE SURGERY                      12105.0  \n",
       "                                                          FARFIELD GROUP PRACTICE                    12877.0  \n",
       "                                                          FISHER MEDICAL CENTRE                      14112.0  \n",
       "...                                                                                                      ...  \n",
       "2021-03-31        NHS WOLVERHAMPTON CCG                   THORNLEY STREET SURGERY                     9866.0  \n",
       "                                                          TUDOR MEDICAL CENTRE                       19181.0  \n",
       "                                                          WARSTONES SURGERY                           4247.0  \n",
       "                                                          WEST PARK SURGERY                           3883.0  \n",
       "                                                          WHITMORE REANS MEDICAL PRACTICE            15150.0  \n",
       "\n",
       "[300109 rows x 13 columns]"
      ]
     },
     "execution_count": 5,
     "metadata": {},
     "output_type": "execute_result"
    }
   ],
   "source": [
    "POMI_all = pd.pivot_table(POMI, index = ['report_period_end', 'ccg_name', 'practice_name'], columns = 'field', values = 'value')\n",
    "POMI_all"
   ]
  },
  {
   "cell_type": "code",
   "execution_count": 6,
   "id": "32f85871-40c3-4b26-b991-2192364edd59",
   "metadata": {},
   "outputs": [
    {
     "data": {
      "text/html": [
       "<div>\n",
       "<style scoped>\n",
       "    .dataframe tbody tr th:only-of-type {\n",
       "        vertical-align: middle;\n",
       "    }\n",
       "\n",
       "    .dataframe tbody tr th {\n",
       "        vertical-align: top;\n",
       "    }\n",
       "\n",
       "    .dataframe thead th {\n",
       "        text-align: right;\n",
       "    }\n",
       "</style>\n",
       "<table border=\"1\" class=\"dataframe\">\n",
       "  <thead>\n",
       "    <tr style=\"text-align: right;\">\n",
       "      <th>field</th>\n",
       "      <th>report_period_end</th>\n",
       "      <th>ccg_name</th>\n",
       "      <th>practice_name</th>\n",
       "      <th>Pat_Appts_Use</th>\n",
       "      <th>Pat_Presc_Use</th>\n",
       "      <th>Total_Use</th>\n",
       "      <th>patient_list_size</th>\n",
       "    </tr>\n",
       "  </thead>\n",
       "  <tbody>\n",
       "    <tr>\n",
       "      <th>0</th>\n",
       "      <td>2017-04-30</td>\n",
       "      <td>NHS AIREDALE, WHARFEDALE AND CRAVEN CCG</td>\n",
       "      <td>ADDINGHAM SURGERY</td>\n",
       "      <td>2.0</td>\n",
       "      <td>326.0</td>\n",
       "      <td>342.0</td>\n",
       "      <td>2908.0</td>\n",
       "    </tr>\n",
       "    <tr>\n",
       "      <th>1</th>\n",
       "      <td>2017-04-30</td>\n",
       "      <td>NHS AIREDALE, WHARFEDALE AND CRAVEN CCG</td>\n",
       "      <td>CROSS HILLS GROUP PRACTICE</td>\n",
       "      <td>8.0</td>\n",
       "      <td>574.0</td>\n",
       "      <td>596.0</td>\n",
       "      <td>12043.0</td>\n",
       "    </tr>\n",
       "    <tr>\n",
       "      <th>2</th>\n",
       "      <td>2017-04-30</td>\n",
       "      <td>NHS AIREDALE, WHARFEDALE AND CRAVEN CCG</td>\n",
       "      <td>DYNELEY HOUSE SURGERY</td>\n",
       "      <td>44.0</td>\n",
       "      <td>423.0</td>\n",
       "      <td>535.0</td>\n",
       "      <td>12105.0</td>\n",
       "    </tr>\n",
       "    <tr>\n",
       "      <th>3</th>\n",
       "      <td>2017-04-30</td>\n",
       "      <td>NHS AIREDALE, WHARFEDALE AND CRAVEN CCG</td>\n",
       "      <td>FARFIELD GROUP PRACTICE</td>\n",
       "      <td>84.0</td>\n",
       "      <td>405.0</td>\n",
       "      <td>495.0</td>\n",
       "      <td>12877.0</td>\n",
       "    </tr>\n",
       "    <tr>\n",
       "      <th>4</th>\n",
       "      <td>2017-04-30</td>\n",
       "      <td>NHS AIREDALE, WHARFEDALE AND CRAVEN CCG</td>\n",
       "      <td>FISHER MEDICAL CENTRE</td>\n",
       "      <td>177.0</td>\n",
       "      <td>485.0</td>\n",
       "      <td>690.0</td>\n",
       "      <td>14112.0</td>\n",
       "    </tr>\n",
       "    <tr>\n",
       "      <th>...</th>\n",
       "      <td>...</td>\n",
       "      <td>...</td>\n",
       "      <td>...</td>\n",
       "      <td>...</td>\n",
       "      <td>...</td>\n",
       "      <td>...</td>\n",
       "      <td>...</td>\n",
       "    </tr>\n",
       "    <tr>\n",
       "      <th>300104</th>\n",
       "      <td>2021-03-31</td>\n",
       "      <td>NHS WOLVERHAMPTON CCG</td>\n",
       "      <td>THORNLEY STREET SURGERY</td>\n",
       "      <td>97.0</td>\n",
       "      <td>200.0</td>\n",
       "      <td>4537.0</td>\n",
       "      <td>9866.0</td>\n",
       "    </tr>\n",
       "    <tr>\n",
       "      <th>300105</th>\n",
       "      <td>2021-03-31</td>\n",
       "      <td>NHS WOLVERHAMPTON CCG</td>\n",
       "      <td>TUDOR MEDICAL CENTRE</td>\n",
       "      <td>0.0</td>\n",
       "      <td>377.0</td>\n",
       "      <td>16302.0</td>\n",
       "      <td>19181.0</td>\n",
       "    </tr>\n",
       "    <tr>\n",
       "      <th>300106</th>\n",
       "      <td>2021-03-31</td>\n",
       "      <td>NHS WOLVERHAMPTON CCG</td>\n",
       "      <td>WARSTONES SURGERY</td>\n",
       "      <td>0.0</td>\n",
       "      <td>101.0</td>\n",
       "      <td>1671.0</td>\n",
       "      <td>4247.0</td>\n",
       "    </tr>\n",
       "    <tr>\n",
       "      <th>300107</th>\n",
       "      <td>2021-03-31</td>\n",
       "      <td>NHS WOLVERHAMPTON CCG</td>\n",
       "      <td>WEST PARK SURGERY</td>\n",
       "      <td>0.0</td>\n",
       "      <td>86.0</td>\n",
       "      <td>2093.0</td>\n",
       "      <td>3883.0</td>\n",
       "    </tr>\n",
       "    <tr>\n",
       "      <th>300108</th>\n",
       "      <td>2021-03-31</td>\n",
       "      <td>NHS WOLVERHAMPTON CCG</td>\n",
       "      <td>WHITMORE REANS MEDICAL PRACTICE</td>\n",
       "      <td>0.0</td>\n",
       "      <td>133.0</td>\n",
       "      <td>3759.0</td>\n",
       "      <td>15150.0</td>\n",
       "    </tr>\n",
       "  </tbody>\n",
       "</table>\n",
       "<p>300109 rows × 7 columns</p>\n",
       "</div>"
      ],
      "text/plain": [
       "field  report_period_end                                 ccg_name  \\\n",
       "0             2017-04-30  NHS AIREDALE, WHARFEDALE AND CRAVEN CCG   \n",
       "1             2017-04-30  NHS AIREDALE, WHARFEDALE AND CRAVEN CCG   \n",
       "2             2017-04-30  NHS AIREDALE, WHARFEDALE AND CRAVEN CCG   \n",
       "3             2017-04-30  NHS AIREDALE, WHARFEDALE AND CRAVEN CCG   \n",
       "4             2017-04-30  NHS AIREDALE, WHARFEDALE AND CRAVEN CCG   \n",
       "...                  ...                                      ...   \n",
       "300104        2021-03-31                    NHS WOLVERHAMPTON CCG   \n",
       "300105        2021-03-31                    NHS WOLVERHAMPTON CCG   \n",
       "300106        2021-03-31                    NHS WOLVERHAMPTON CCG   \n",
       "300107        2021-03-31                    NHS WOLVERHAMPTON CCG   \n",
       "300108        2021-03-31                    NHS WOLVERHAMPTON CCG   \n",
       "\n",
       "field                     practice_name  Pat_Appts_Use  Pat_Presc_Use  \\\n",
       "0                     ADDINGHAM SURGERY            2.0          326.0   \n",
       "1            CROSS HILLS GROUP PRACTICE            8.0          574.0   \n",
       "2                 DYNELEY HOUSE SURGERY           44.0          423.0   \n",
       "3               FARFIELD GROUP PRACTICE           84.0          405.0   \n",
       "4                 FISHER MEDICAL CENTRE          177.0          485.0   \n",
       "...                                 ...            ...            ...   \n",
       "300104          THORNLEY STREET SURGERY           97.0          200.0   \n",
       "300105             TUDOR MEDICAL CENTRE            0.0          377.0   \n",
       "300106                WARSTONES SURGERY            0.0          101.0   \n",
       "300107                WEST PARK SURGERY            0.0           86.0   \n",
       "300108  WHITMORE REANS MEDICAL PRACTICE            0.0          133.0   \n",
       "\n",
       "field   Total_Use  patient_list_size  \n",
       "0           342.0             2908.0  \n",
       "1           596.0            12043.0  \n",
       "2           535.0            12105.0  \n",
       "3           495.0            12877.0  \n",
       "4           690.0            14112.0  \n",
       "...           ...                ...  \n",
       "300104     4537.0             9866.0  \n",
       "300105    16302.0            19181.0  \n",
       "300106     1671.0             4247.0  \n",
       "300107     2093.0             3883.0  \n",
       "300108     3759.0            15150.0  \n",
       "\n",
       "[300109 rows x 7 columns]"
      ]
     },
     "execution_count": 6,
     "metadata": {},
     "output_type": "execute_result"
    }
   ],
   "source": [
    "POMI_usage = POMI_all.drop(['New_Pat_Enbld','Pat_Appts_Enbld', 'Pat_DetCodeRec_Enbld','Pat_DetCodeRec_Use',\t'Pat_Presc_Enbld','Sys_Appts_Enbld','Sys_DetCodeRec_Enbld','Sys_Presc_Enbld','Total_Pat_Enbld'], axis=1)\n",
    "POMI_usage = POMI_usage.reset_index()\n",
    "POMI_usage"
   ]
  },
  {
   "cell_type": "code",
   "execution_count": 7,
   "id": "3596d663-a3e6-4f3f-ae31-0789bf256684",
   "metadata": {},
   "outputs": [
    {
     "data": {
      "text/html": [
       "<div>\n",
       "<style scoped>\n",
       "    .dataframe tbody tr th:only-of-type {\n",
       "        vertical-align: middle;\n",
       "    }\n",
       "\n",
       "    .dataframe tbody tr th {\n",
       "        vertical-align: top;\n",
       "    }\n",
       "\n",
       "    .dataframe thead th {\n",
       "        text-align: right;\n",
       "    }\n",
       "</style>\n",
       "<table border=\"1\" class=\"dataframe\">\n",
       "  <thead>\n",
       "    <tr style=\"text-align: right;\">\n",
       "      <th>field</th>\n",
       "      <th>patient_list_size</th>\n",
       "    </tr>\n",
       "    <tr>\n",
       "      <th>report_period_end</th>\n",
       "      <th></th>\n",
       "    </tr>\n",
       "  </thead>\n",
       "  <tbody>\n",
       "    <tr>\n",
       "      <th>2017-04-30</th>\n",
       "      <td>58046839.0</td>\n",
       "    </tr>\n",
       "    <tr>\n",
       "      <th>2017-05-31</th>\n",
       "      <td>57931484.5</td>\n",
       "    </tr>\n",
       "    <tr>\n",
       "      <th>2017-06-30</th>\n",
       "      <td>58010213.5</td>\n",
       "    </tr>\n",
       "    <tr>\n",
       "      <th>2017-07-31</th>\n",
       "      <td>57285995.5</td>\n",
       "    </tr>\n",
       "    <tr>\n",
       "      <th>2017-11-30</th>\n",
       "      <td>57437314.5</td>\n",
       "    </tr>\n",
       "    <tr>\n",
       "      <th>2018-01-31</th>\n",
       "      <td>58037927.5</td>\n",
       "    </tr>\n",
       "    <tr>\n",
       "      <th>2018-02-28</th>\n",
       "      <td>58106607.5</td>\n",
       "    </tr>\n",
       "    <tr>\n",
       "      <th>2018-03-31</th>\n",
       "      <td>58182341.0</td>\n",
       "    </tr>\n",
       "    <tr>\n",
       "      <th>2018-04-30</th>\n",
       "      <td>57854091.0</td>\n",
       "    </tr>\n",
       "    <tr>\n",
       "      <th>2018-05-31</th>\n",
       "      <td>57818579.0</td>\n",
       "    </tr>\n",
       "    <tr>\n",
       "      <th>2018-06-30</th>\n",
       "      <td>58233849.0</td>\n",
       "    </tr>\n",
       "    <tr>\n",
       "      <th>2018-07-31</th>\n",
       "      <td>58225789.0</td>\n",
       "    </tr>\n",
       "    <tr>\n",
       "      <th>2018-08-31</th>\n",
       "      <td>58447429.0</td>\n",
       "    </tr>\n",
       "    <tr>\n",
       "      <th>2018-09-30</th>\n",
       "      <td>58585064.0</td>\n",
       "    </tr>\n",
       "    <tr>\n",
       "      <th>2018-10-31</th>\n",
       "      <td>58689867.5</td>\n",
       "    </tr>\n",
       "    <tr>\n",
       "      <th>2018-11-30</th>\n",
       "      <td>58882004.5</td>\n",
       "    </tr>\n",
       "    <tr>\n",
       "      <th>2018-12-31</th>\n",
       "      <td>58991393.5</td>\n",
       "    </tr>\n",
       "    <tr>\n",
       "      <th>2019-01-31</th>\n",
       "      <td>59016758.5</td>\n",
       "    </tr>\n",
       "    <tr>\n",
       "      <th>2019-02-28</th>\n",
       "      <td>59044893.5</td>\n",
       "    </tr>\n",
       "    <tr>\n",
       "      <th>2019-03-31</th>\n",
       "      <td>59061226.0</td>\n",
       "    </tr>\n",
       "    <tr>\n",
       "      <th>2019-04-30</th>\n",
       "      <td>59004585.0</td>\n",
       "    </tr>\n",
       "    <tr>\n",
       "      <th>2019-05-31</th>\n",
       "      <td>59075205.5</td>\n",
       "    </tr>\n",
       "    <tr>\n",
       "      <th>2019-06-30</th>\n",
       "      <td>59233942.5</td>\n",
       "    </tr>\n",
       "    <tr>\n",
       "      <th>2019-07-31</th>\n",
       "      <td>59299517.0</td>\n",
       "    </tr>\n",
       "    <tr>\n",
       "      <th>2019-08-31</th>\n",
       "      <td>59406144.5</td>\n",
       "    </tr>\n",
       "    <tr>\n",
       "      <th>2019-09-30</th>\n",
       "      <td>59468010.0</td>\n",
       "    </tr>\n",
       "    <tr>\n",
       "      <th>2019-10-31</th>\n",
       "      <td>59626448.5</td>\n",
       "    </tr>\n",
       "    <tr>\n",
       "      <th>2019-11-30</th>\n",
       "      <td>59733148.0</td>\n",
       "    </tr>\n",
       "    <tr>\n",
       "      <th>2019-12-31</th>\n",
       "      <td>59831686.0</td>\n",
       "    </tr>\n",
       "    <tr>\n",
       "      <th>2020-01-31</th>\n",
       "      <td>59847028.5</td>\n",
       "    </tr>\n",
       "    <tr>\n",
       "      <th>2020-02-29</th>\n",
       "      <td>59956939.5</td>\n",
       "    </tr>\n",
       "    <tr>\n",
       "      <th>2020-03-31</th>\n",
       "      <td>60012668.0</td>\n",
       "    </tr>\n",
       "    <tr>\n",
       "      <th>2020-04-30</th>\n",
       "      <td>59871323.0</td>\n",
       "    </tr>\n",
       "    <tr>\n",
       "      <th>2020-05-31</th>\n",
       "      <td>59879508.5</td>\n",
       "    </tr>\n",
       "    <tr>\n",
       "      <th>2020-06-30</th>\n",
       "      <td>59838723.5</td>\n",
       "    </tr>\n",
       "    <tr>\n",
       "      <th>2020-07-31</th>\n",
       "      <td>59858896.5</td>\n",
       "    </tr>\n",
       "    <tr>\n",
       "      <th>2020-08-31</th>\n",
       "      <td>59957369.5</td>\n",
       "    </tr>\n",
       "    <tr>\n",
       "      <th>2020-09-30</th>\n",
       "      <td>59732568.5</td>\n",
       "    </tr>\n",
       "    <tr>\n",
       "      <th>2020-10-31</th>\n",
       "      <td>59996445.5</td>\n",
       "    </tr>\n",
       "    <tr>\n",
       "      <th>2020-11-30</th>\n",
       "      <td>60050880.5</td>\n",
       "    </tr>\n",
       "    <tr>\n",
       "      <th>2020-12-31</th>\n",
       "      <td>60116408.0</td>\n",
       "    </tr>\n",
       "    <tr>\n",
       "      <th>2021-01-31</th>\n",
       "      <td>60119623.0</td>\n",
       "    </tr>\n",
       "    <tr>\n",
       "      <th>2021-02-28</th>\n",
       "      <td>60251870.0</td>\n",
       "    </tr>\n",
       "    <tr>\n",
       "      <th>2021-03-31</th>\n",
       "      <td>60279925.5</td>\n",
       "    </tr>\n",
       "  </tbody>\n",
       "</table>\n",
       "</div>"
      ],
      "text/plain": [
       "field              patient_list_size\n",
       "report_period_end                   \n",
       "2017-04-30                58046839.0\n",
       "2017-05-31                57931484.5\n",
       "2017-06-30                58010213.5\n",
       "2017-07-31                57285995.5\n",
       "2017-11-30                57437314.5\n",
       "2018-01-31                58037927.5\n",
       "2018-02-28                58106607.5\n",
       "2018-03-31                58182341.0\n",
       "2018-04-30                57854091.0\n",
       "2018-05-31                57818579.0\n",
       "2018-06-30                58233849.0\n",
       "2018-07-31                58225789.0\n",
       "2018-08-31                58447429.0\n",
       "2018-09-30                58585064.0\n",
       "2018-10-31                58689867.5\n",
       "2018-11-30                58882004.5\n",
       "2018-12-31                58991393.5\n",
       "2019-01-31                59016758.5\n",
       "2019-02-28                59044893.5\n",
       "2019-03-31                59061226.0\n",
       "2019-04-30                59004585.0\n",
       "2019-05-31                59075205.5\n",
       "2019-06-30                59233942.5\n",
       "2019-07-31                59299517.0\n",
       "2019-08-31                59406144.5\n",
       "2019-09-30                59468010.0\n",
       "2019-10-31                59626448.5\n",
       "2019-11-30                59733148.0\n",
       "2019-12-31                59831686.0\n",
       "2020-01-31                59847028.5\n",
       "2020-02-29                59956939.5\n",
       "2020-03-31                60012668.0\n",
       "2020-04-30                59871323.0\n",
       "2020-05-31                59879508.5\n",
       "2020-06-30                59838723.5\n",
       "2020-07-31                59858896.5\n",
       "2020-08-31                59957369.5\n",
       "2020-09-30                59732568.5\n",
       "2020-10-31                59996445.5\n",
       "2020-11-30                60050880.5\n",
       "2020-12-31                60116408.0\n",
       "2021-01-31                60119623.0\n",
       "2021-02-28                60251870.0\n",
       "2021-03-31                60279925.5"
      ]
     },
     "execution_count": 7,
     "metadata": {},
     "output_type": "execute_result"
    }
   ],
   "source": [
    "patient_list_size_check = POMI_usage[['report_period_end','patient_list_size']].groupby('report_period_end').sum()\n",
    "patient_list_size_check \n"
   ]
  },
  {
   "cell_type": "markdown",
   "id": "0272d451-b6fb-44f7-834a-8d3ae4ac30e8",
   "metadata": {},
   "source": [
    "## Pat_Presc_Use since 2017"
   ]
  },
  {
   "cell_type": "code",
   "execution_count": 24,
   "id": "ce84d31f-c63b-44f2-a723-b35fa17f4a21",
   "metadata": {},
   "outputs": [
    {
     "data": {
      "text/html": [
       "<div>\n",
       "<style scoped>\n",
       "    .dataframe tbody tr th:only-of-type {\n",
       "        vertical-align: middle;\n",
       "    }\n",
       "\n",
       "    .dataframe tbody tr th {\n",
       "        vertical-align: top;\n",
       "    }\n",
       "\n",
       "    .dataframe thead th {\n",
       "        text-align: right;\n",
       "    }\n",
       "</style>\n",
       "<table border=\"1\" class=\"dataframe\">\n",
       "  <thead>\n",
       "    <tr style=\"text-align: right;\">\n",
       "      <th>field</th>\n",
       "      <th>report_period_end</th>\n",
       "      <th>Pat_Presc_Use</th>\n",
       "    </tr>\n",
       "  </thead>\n",
       "  <tbody>\n",
       "    <tr>\n",
       "      <th>0</th>\n",
       "      <td>2017-04-30</td>\n",
       "      <td>1981132.0</td>\n",
       "    </tr>\n",
       "    <tr>\n",
       "      <th>1</th>\n",
       "      <td>2017-05-31</td>\n",
       "      <td>2042427.0</td>\n",
       "    </tr>\n",
       "    <tr>\n",
       "      <th>2</th>\n",
       "      <td>2017-06-30</td>\n",
       "      <td>2008019.5</td>\n",
       "    </tr>\n",
       "    <tr>\n",
       "      <th>3</th>\n",
       "      <td>2017-07-31</td>\n",
       "      <td>2030681.5</td>\n",
       "    </tr>\n",
       "    <tr>\n",
       "      <th>4</th>\n",
       "      <td>2017-11-30</td>\n",
       "      <td>9280002.0</td>\n",
       "    </tr>\n",
       "    <tr>\n",
       "      <th>5</th>\n",
       "      <td>2018-01-31</td>\n",
       "      <td>13730853.0</td>\n",
       "    </tr>\n",
       "    <tr>\n",
       "      <th>6</th>\n",
       "      <td>2018-02-28</td>\n",
       "      <td>2265374.5</td>\n",
       "    </tr>\n",
       "    <tr>\n",
       "      <th>7</th>\n",
       "      <td>2018-03-31</td>\n",
       "      <td>2578319.5</td>\n",
       "    </tr>\n",
       "    <tr>\n",
       "      <th>8</th>\n",
       "      <td>2018-04-30</td>\n",
       "      <td>2576316.5</td>\n",
       "    </tr>\n",
       "    <tr>\n",
       "      <th>9</th>\n",
       "      <td>2018-05-31</td>\n",
       "      <td>2658427.0</td>\n",
       "    </tr>\n",
       "    <tr>\n",
       "      <th>10</th>\n",
       "      <td>2018-06-30</td>\n",
       "      <td>2553147.0</td>\n",
       "    </tr>\n",
       "    <tr>\n",
       "      <th>11</th>\n",
       "      <td>2018-07-31</td>\n",
       "      <td>2816485.0</td>\n",
       "    </tr>\n",
       "    <tr>\n",
       "      <th>12</th>\n",
       "      <td>2018-08-31</td>\n",
       "      <td>2430725.0</td>\n",
       "    </tr>\n",
       "    <tr>\n",
       "      <th>13</th>\n",
       "      <td>2018-09-30</td>\n",
       "      <td>2528823.5</td>\n",
       "    </tr>\n",
       "    <tr>\n",
       "      <th>14</th>\n",
       "      <td>2018-10-31</td>\n",
       "      <td>2898974.5</td>\n",
       "    </tr>\n",
       "    <tr>\n",
       "      <th>15</th>\n",
       "      <td>2018-11-30</td>\n",
       "      <td>2881749.5</td>\n",
       "    </tr>\n",
       "    <tr>\n",
       "      <th>16</th>\n",
       "      <td>2018-12-31</td>\n",
       "      <td>2922042.0</td>\n",
       "    </tr>\n",
       "    <tr>\n",
       "      <th>17</th>\n",
       "      <td>2019-01-31</td>\n",
       "      <td>3187676.5</td>\n",
       "    </tr>\n",
       "    <tr>\n",
       "      <th>18</th>\n",
       "      <td>2019-02-28</td>\n",
       "      <td>2835485.5</td>\n",
       "    </tr>\n",
       "    <tr>\n",
       "      <th>19</th>\n",
       "      <td>2019-03-31</td>\n",
       "      <td>3188395.0</td>\n",
       "    </tr>\n",
       "    <tr>\n",
       "      <th>20</th>\n",
       "      <td>2019-04-30</td>\n",
       "      <td>3243923.5</td>\n",
       "    </tr>\n",
       "    <tr>\n",
       "      <th>21</th>\n",
       "      <td>2019-05-31</td>\n",
       "      <td>3307045.5</td>\n",
       "    </tr>\n",
       "    <tr>\n",
       "      <th>22</th>\n",
       "      <td>2019-06-30</td>\n",
       "      <td>3209970.0</td>\n",
       "    </tr>\n",
       "    <tr>\n",
       "      <th>23</th>\n",
       "      <td>2019-07-31</td>\n",
       "      <td>3535079.5</td>\n",
       "    </tr>\n",
       "    <tr>\n",
       "      <th>24</th>\n",
       "      <td>2019-08-31</td>\n",
       "      <td>3498725.0</td>\n",
       "    </tr>\n",
       "    <tr>\n",
       "      <th>25</th>\n",
       "      <td>2019-09-30</td>\n",
       "      <td>3469618.5</td>\n",
       "    </tr>\n",
       "    <tr>\n",
       "      <th>26</th>\n",
       "      <td>2019-10-31</td>\n",
       "      <td>3633609.5</td>\n",
       "    </tr>\n",
       "    <tr>\n",
       "      <th>27</th>\n",
       "      <td>2019-11-30</td>\n",
       "      <td>3553920.5</td>\n",
       "    </tr>\n",
       "    <tr>\n",
       "      <th>28</th>\n",
       "      <td>2019-12-31</td>\n",
       "      <td>3708684.5</td>\n",
       "    </tr>\n",
       "    <tr>\n",
       "      <th>29</th>\n",
       "      <td>2020-01-31</td>\n",
       "      <td>3875695.5</td>\n",
       "    </tr>\n",
       "    <tr>\n",
       "      <th>30</th>\n",
       "      <td>2020-02-29</td>\n",
       "      <td>3659160.0</td>\n",
       "    </tr>\n",
       "    <tr>\n",
       "      <th>31</th>\n",
       "      <td>2020-03-31</td>\n",
       "      <td>5001759.5</td>\n",
       "    </tr>\n",
       "    <tr>\n",
       "      <th>32</th>\n",
       "      <td>2020-04-30</td>\n",
       "      <td>4106519.0</td>\n",
       "    </tr>\n",
       "    <tr>\n",
       "      <th>33</th>\n",
       "      <td>2020-05-31</td>\n",
       "      <td>4247908.5</td>\n",
       "    </tr>\n",
       "    <tr>\n",
       "      <th>34</th>\n",
       "      <td>2020-06-30</td>\n",
       "      <td>4301813.5</td>\n",
       "    </tr>\n",
       "    <tr>\n",
       "      <th>35</th>\n",
       "      <td>2020-07-31</td>\n",
       "      <td>4374225.0</td>\n",
       "    </tr>\n",
       "    <tr>\n",
       "      <th>36</th>\n",
       "      <td>2020-08-31</td>\n",
       "      <td>4383257.0</td>\n",
       "    </tr>\n",
       "    <tr>\n",
       "      <th>37</th>\n",
       "      <td>2020-09-30</td>\n",
       "      <td>4495054.5</td>\n",
       "    </tr>\n",
       "    <tr>\n",
       "      <th>38</th>\n",
       "      <td>2020-10-31</td>\n",
       "      <td>4581720.5</td>\n",
       "    </tr>\n",
       "    <tr>\n",
       "      <th>39</th>\n",
       "      <td>2020-11-30</td>\n",
       "      <td>4613506.5</td>\n",
       "    </tr>\n",
       "    <tr>\n",
       "      <th>40</th>\n",
       "      <td>2020-12-31</td>\n",
       "      <td>4690956.0</td>\n",
       "    </tr>\n",
       "    <tr>\n",
       "      <th>41</th>\n",
       "      <td>2021-01-31</td>\n",
       "      <td>4727699.0</td>\n",
       "    </tr>\n",
       "    <tr>\n",
       "      <th>42</th>\n",
       "      <td>2021-02-28</td>\n",
       "      <td>4296630.5</td>\n",
       "    </tr>\n",
       "    <tr>\n",
       "      <th>43</th>\n",
       "      <td>2021-03-31</td>\n",
       "      <td>4971029.5</td>\n",
       "    </tr>\n",
       "  </tbody>\n",
       "</table>\n",
       "</div>"
      ],
      "text/plain": [
       "field report_period_end  Pat_Presc_Use\n",
       "0            2017-04-30      1981132.0\n",
       "1            2017-05-31      2042427.0\n",
       "2            2017-06-30      2008019.5\n",
       "3            2017-07-31      2030681.5\n",
       "4            2017-11-30      9280002.0\n",
       "5            2018-01-31     13730853.0\n",
       "6            2018-02-28      2265374.5\n",
       "7            2018-03-31      2578319.5\n",
       "8            2018-04-30      2576316.5\n",
       "9            2018-05-31      2658427.0\n",
       "10           2018-06-30      2553147.0\n",
       "11           2018-07-31      2816485.0\n",
       "12           2018-08-31      2430725.0\n",
       "13           2018-09-30      2528823.5\n",
       "14           2018-10-31      2898974.5\n",
       "15           2018-11-30      2881749.5\n",
       "16           2018-12-31      2922042.0\n",
       "17           2019-01-31      3187676.5\n",
       "18           2019-02-28      2835485.5\n",
       "19           2019-03-31      3188395.0\n",
       "20           2019-04-30      3243923.5\n",
       "21           2019-05-31      3307045.5\n",
       "22           2019-06-30      3209970.0\n",
       "23           2019-07-31      3535079.5\n",
       "24           2019-08-31      3498725.0\n",
       "25           2019-09-30      3469618.5\n",
       "26           2019-10-31      3633609.5\n",
       "27           2019-11-30      3553920.5\n",
       "28           2019-12-31      3708684.5\n",
       "29           2020-01-31      3875695.5\n",
       "30           2020-02-29      3659160.0\n",
       "31           2020-03-31      5001759.5\n",
       "32           2020-04-30      4106519.0\n",
       "33           2020-05-31      4247908.5\n",
       "34           2020-06-30      4301813.5\n",
       "35           2020-07-31      4374225.0\n",
       "36           2020-08-31      4383257.0\n",
       "37           2020-09-30      4495054.5\n",
       "38           2020-10-31      4581720.5\n",
       "39           2020-11-30      4613506.5\n",
       "40           2020-12-31      4690956.0\n",
       "41           2021-01-31      4727699.0\n",
       "42           2021-02-28      4296630.5\n",
       "43           2021-03-31      4971029.5"
      ]
     },
     "execution_count": 24,
     "metadata": {},
     "output_type": "execute_result"
    }
   ],
   "source": [
    "Pat_Presc_Usage = POMI_usage[['report_period_end','Pat_Presc_Use']].groupby('report_period_end').sum()\n",
    "Pat_Presc_Usage = Pat_Presc_Usage.reset_index()\n",
    "Pat_Presc_Usage"
   ]
  },
  {
   "cell_type": "code",
   "execution_count": 20,
   "id": "65139b7d-6161-4b96-aa65-b2803b551738",
   "metadata": {},
   "outputs": [
    {
     "data": {
      "text/plain": [
       "<AxesSubplot:xlabel='report_period_end'>"
      ]
     },
     "execution_count": 20,
     "metadata": {},
     "output_type": "execute_result"
    },
    {
     "data": {
      "image/png": "[encoded data removed]",
      "text/plain": [
       "<Figure size 432x288 with 1 Axes>"
      ]
     },
     "metadata": {
      "needs_background": "light"
     },
     "output_type": "display_data"
    }
   ],
   "source": [
    "Pat_Presc_Usage['Pat_Presc_Use'].plot()"
   ]
  },
  {
   "cell_type": "code",
   "execution_count": 28,
   "id": "9b0b9d93-abdc-4780-9193-f43e1784e08d",
   "metadata": {},
   "outputs": [
    {
     "data": {
      "application/vnd.plotly.v1+json": {
       "config": {
        "plotlyServerURL": "https://plot.ly"
       },
       "data": [
        {
         "name": "Pat_Presc_Usage ",
         "type": "scatter",
         "x": [
          "2017-04-30T00:00:00",
          "2017-05-31T00:00:00",
          "2017-06-30T00:00:00",
          "2017-07-31T00:00:00",
          "2017-11-30T00:00:00",
          "2018-01-31T00:00:00",
          "2018-02-28T00:00:00",
          "2018-03-31T00:00:00",
          "2018-04-30T00:00:00",
          "2018-05-31T00:00:00",
          "2018-06-30T00:00:00",
          "2018-07-31T00:00:00",
          "2018-08-31T00:00:00",
          "2018-09-30T00:00:00",
          "2018-10-31T00:00:00",
          "2018-11-30T00:00:00",
          "2018-12-31T00:00:00",
          "2019-01-31T00:00:00",
          "2019-02-28T00:00:00",
          "2019-03-31T00:00:00",
          "2019-04-30T00:00:00",
          "2019-05-31T00:00:00",
          "2019-06-30T00:00:00",
          "2019-07-31T00:00:00",
          "2019-08-31T00:00:00",
          "2019-09-30T00:00:00",
          "2019-10-31T00:00:00",
          "2019-11-30T00:00:00",
          "2019-12-31T00:00:00",
          "2020-01-31T00:00:00",
          "2020-02-29T00:00:00",
          "2020-03-31T00:00:00",
          "2020-04-30T00:00:00",
          "2020-05-31T00:00:00",
          "2020-06-30T00:00:00",
          "2020-07-31T00:00:00",
          "2020-08-31T00:00:00",
          "2020-09-30T00:00:00",
          "2020-10-31T00:00:00",
          "2020-11-30T00:00:00",
          "2020-12-31T00:00:00",
          "2021-01-31T00:00:00",
          "2021-02-28T00:00:00",
          "2021-03-31T00:00:00"
         ],
         "y": [
          1981132,
          2042427,
          2008019.5,
          2030681.5,
          9280002,
          13730853,
          2265374.5,
          2578319.5,
          2576316.5,
          2658427,
          2553147,
          2816485,
          2430725,
          2528823.5,
          2898974.5,
          2881749.5,
          2922042,
          3187676.5,
          2835485.5,
          3188395,
          3243923.5,
          3307045.5,
          3209970,
          3535079.5,
          3498725,
          3469618.5,
          3633609.5,
          3553920.5,
          3708684.5,
          3875695.5,
          3659160,
          5001759.5,
          4106519,
          4247908.5,
          4301813.5,
          4374225,
          4383257,
          4495054.5,
          4581720.5,
          4613506.5,
          4690956,
          4727699,
          4296630.5,
          4971029.5
         ]
        }
       ],
       "layout": {
        "autosize": true,
        "template": {
         "data": {
          "bar": [
           {
            "error_x": {
             "color": "#2a3f5f"
            },
            "error_y": {
             "color": "#2a3f5f"
            },
            "marker": {
             "line": {
              "color": "#E5ECF6",
              "width": 0.5
             },
             "pattern": {
              "fillmode": "overlay",
              "size": 10,
              "solidity": 0.2
             }
            },
            "type": "bar"
           }
          ],
          "barpolar": [
           {
            "marker": {
             "line": {
              "color": "#E5ECF6",
              "width": 0.5
             },
             "pattern": {
              "fillmode": "overlay",
              "size": 10,
              "solidity": 0.2
             }
            },
            "type": "barpolar"
           }
          ],
          "carpet": [
           {
            "aaxis": {
             "endlinecolor": "#2a3f5f",
             "gridcolor": "white",
             "linecolor": "white",
             "minorgridcolor": "white",
             "startlinecolor": "#2a3f5f"
            },
            "baxis": {
             "endlinecolor": "#2a3f5f",
             "gridcolor": "white",
             "linecolor": "white",
             "minorgridcolor": "white",
             "startlinecolor": "#2a3f5f"
            },
            "type": "carpet"
           }
          ],
          "choropleth": [
           {
            "colorbar": {
             "outlinewidth": 0,
             "ticks": ""
            },
            "type": "choropleth"
           }
          ],
          "contour": [
           {
            "colorbar": {
             "outlinewidth": 0,
             "ticks": ""
            },
            "colorscale": [
             [
              0,
              "#0d0887"
             ],
             [
              0.1111111111111111,
              "#46039f"
             ],
             [
              0.2222222222222222,
              "#7201a8"
             ],
             [
              0.3333333333333333,
              "#9c179e"
             ],
             [
              0.4444444444444444,
              "#bd3786"
             ],
             [
              0.5555555555555556,
              "#d8576b"
             ],
             [
              0.6666666666666666,
              "#ed7953"
             ],
             [
              0.7777777777777778,
              "#fb9f3a"
             ],
             [
              0.8888888888888888,
              "#fdca26"
             ],
             [
              1,
              "#f0f921"
             ]
            ],
            "type": "contour"
           }
          ],
          "contourcarpet": [
           {
            "colorbar": {
             "outlinewidth": 0,
             "ticks": ""
            },
            "type": "contourcarpet"
           }
          ],
          "heatmap": [
           {
            "colorbar": {
             "outlinewidth": 0,
             "ticks": ""
            },
            "colorscale": [
             [
              0,
              "#0d0887"
             ],
             [
              0.1111111111111111,
              "#46039f"
             ],
             [
              0.2222222222222222,
              "#7201a8"
             ],
             [
              0.3333333333333333,
              "#9c179e"
             ],
             [
              0.4444444444444444,
              "#bd3786"
             ],
             [
              0.5555555555555556,
              "#d8576b"
             ],
             [
              0.6666666666666666,
              "#ed7953"
             ],
             [
              0.7777777777777778,
              "#fb9f3a"
             ],
             [
              0.8888888888888888,
              "#fdca26"
             ],
             [
              1,
              "#f0f921"
             ]
            ],
            "type": "heatmap"
           }
          ],
          "heatmapgl": [
           {
            "colorbar": {
             "outlinewidth": 0,
             "ticks": ""
            },
            "colorscale": [
             [
              0,
              "#0d0887"
             ],
             [
              0.1111111111111111,
              "#46039f"
             ],
             [
              0.2222222222222222,
              "#7201a8"
             ],
             [
              0.3333333333333333,
              "#9c179e"
             ],
             [
              0.4444444444444444,
              "#bd3786"
             ],
             [
              0.5555555555555556,
              "#d8576b"
             ],
             [
              0.6666666666666666,
              "#ed7953"
             ],
             [
              0.7777777777777778,
              "#fb9f3a"
             ],
             [
              0.8888888888888888,
              "#fdca26"
             ],
             [
              1,
              "#f0f921"
             ]
            ],
            "type": "heatmapgl"
           }
          ],
          "histogram": [
           {
            "marker": {
             "pattern": {
              "fillmode": "overlay",
              "size": 10,
              "solidity": 0.2
             }
            },
            "type": "histogram"
           }
          ],
          "histogram2d": [
           {
            "colorbar": {
             "outlinewidth": 0,
             "ticks": ""
            },
            "colorscale": [
             [
              0,
              "#0d0887"
             ],
             [
              0.1111111111111111,
              "#46039f"
             ],
             [
              0.2222222222222222,
              "#7201a8"
             ],
             [
              0.3333333333333333,
              "#9c179e"
             ],
             [
              0.4444444444444444,
              "#bd3786"
             ],
             [
              0.5555555555555556,
              "#d8576b"
             ],
             [
              0.6666666666666666,
              "#ed7953"
             ],
             [
              0.7777777777777778,
              "#fb9f3a"
             ],
             [
              0.8888888888888888,
              "#fdca26"
             ],
             [
              1,
              "#f0f921"
             ]
            ],
            "type": "histogram2d"
           }
          ],
          "histogram2dcontour": [
           {
            "colorbar": {
             "outlinewidth": 0,
             "ticks": ""
            },
            "colorscale": [
             [
              0,
              "#0d0887"
             ],
             [
              0.1111111111111111,
              "#46039f"
             ],
             [
              0.2222222222222222,
              "#7201a8"
             ],
             [
              0.3333333333333333,
              "#9c179e"
             ],
             [
              0.4444444444444444,
              "#bd3786"
             ],
             [
              0.5555555555555556,
              "#d8576b"
             ],
             [
              0.6666666666666666,
              "#ed7953"
             ],
             [
              0.7777777777777778,
              "#fb9f3a"
             ],
             [
              0.8888888888888888,
              "#fdca26"
             ],
             [
              1,
              "#f0f921"
             ]
            ],
            "type": "histogram2dcontour"
           }
          ],
          "mesh3d": [
           {
            "colorbar": {
             "outlinewidth": 0,
             "ticks": ""
            },
            "type": "mesh3d"
           }
          ],
          "parcoords": [
           {
            "line": {
             "colorbar": {
              "outlinewidth": 0,
              "ticks": ""
             }
            },
            "type": "parcoords"
           }
          ],
          "pie": [
           {
            "automargin": true,
            "type": "pie"
           }
          ],
          "scatter": [
           {
            "marker": {
             "colorbar": {
              "outlinewidth": 0,
              "ticks": ""
             }
            },
            "type": "scatter"
           }
          ],
          "scatter3d": [
           {
            "line": {
             "colorbar": {
              "outlinewidth": 0,
              "ticks": ""
             }
            },
            "marker": {
             "colorbar": {
              "outlinewidth": 0,
              "ticks": ""
             }
            },
            "type": "scatter3d"
           }
          ],
          "scattercarpet": [
           {
            "marker": {
             "colorbar": {
              "outlinewidth": 0,
              "ticks": ""
             }
            },
            "type": "scattercarpet"
           }
          ],
          "scattergeo": [
           {
            "marker": {
             "colorbar": {
              "outlinewidth": 0,
              "ticks": ""
             }
            },
            "type": "scattergeo"
           }
          ],
          "scattergl": [
           {
            "marker": {
             "colorbar": {
              "outlinewidth": 0,
              "ticks": ""
             }
            },
            "type": "scattergl"
           }
          ],
          "scattermapbox": [
           {
            "marker": {
             "colorbar": {
              "outlinewidth": 0,
              "ticks": ""
             }
            },
            "type": "scattermapbox"
           }
          ],
          "scatterpolar": [
           {
            "marker": {
             "colorbar": {
              "outlinewidth": 0,
              "ticks": ""
             }
            },
            "type": "scatterpolar"
           }
          ],
          "scatterpolargl": [
           {
            "marker": {
             "colorbar": {
              "outlinewidth": 0,
              "ticks": ""
             }
            },
            "type": "scatterpolargl"
           }
          ],
          "scatterternary": [
           {
            "marker": {
             "colorbar": {
              "outlinewidth": 0,
              "ticks": ""
             }
            },
            "type": "scatterternary"
           }
          ],
          "surface": [
           {
            "colorbar": {
             "outlinewidth": 0,
             "ticks": ""
            },
            "colorscale": [
             [
              0,
              "#0d0887"
             ],
             [
              0.1111111111111111,
              "#46039f"
             ],
             [
              0.2222222222222222,
              "#7201a8"
             ],
             [
              0.3333333333333333,
              "#9c179e"
             ],
             [
              0.4444444444444444,
              "#bd3786"
             ],
             [
              0.5555555555555556,
              "#d8576b"
             ],
             [
              0.6666666666666666,
              "#ed7953"
             ],
             [
              0.7777777777777778,
              "#fb9f3a"
             ],
             [
              0.8888888888888888,
              "#fdca26"
             ],
             [
              1,
              "#f0f921"
             ]
            ],
            "type": "surface"
           }
          ],
          "table": [
           {
            "cells": {
             "fill": {
              "color": "#EBF0F8"
             },
             "line": {
              "color": "white"
             }
            },
            "header": {
             "fill": {
              "color": "#C8D4E3"
             },
             "line": {
              "color": "white"
             }
            },
            "type": "table"
           }
          ]
         },
         "layout": {
          "annotationdefaults": {
           "arrowcolor": "#2a3f5f",
           "arrowhead": 0,
           "arrowwidth": 1
          },
          "autotypenumbers": "strict",
          "coloraxis": {
           "colorbar": {
            "outlinewidth": 0,
            "ticks": ""
           }
          },
          "colorscale": {
           "diverging": [
            [
             0,
             "#8e0152"
            ],
            [
             0.1,
             "#c51b7d"
            ],
            [
             0.2,
             "#de77ae"
            ],
            [
             0.3,
             "#f1b6da"
            ],
            [
             0.4,
             "#fde0ef"
            ],
            [
             0.5,
             "#f7f7f7"
            ],
            [
             0.6,
             "#e6f5d0"
            ],
            [
             0.7,
             "#b8e186"
            ],
            [
             0.8,
             "#7fbc41"
            ],
            [
             0.9,
             "#4d9221"
            ],
            [
             1,
             "#276419"
            ]
           ],
           "sequential": [
            [
             0,
             "#0d0887"
            ],
            [
             0.1111111111111111,
             "#46039f"
            ],
            [
             0.2222222222222222,
             "#7201a8"
            ],
            [
             0.3333333333333333,
             "#9c179e"
            ],
            [
             0.4444444444444444,
             "#bd3786"
            ],
            [
             0.5555555555555556,
             "#d8576b"
            ],
            [
             0.6666666666666666,
             "#ed7953"
            ],
            [
             0.7777777777777778,
             "#fb9f3a"
            ],
            [
             0.8888888888888888,
             "#fdca26"
            ],
            [
             1,
             "#f0f921"
            ]
           ],
           "sequentialminus": [
            [
             0,
             "#0d0887"
            ],
            [
             0.1111111111111111,
             "#46039f"
            ],
            [
             0.2222222222222222,
             "#7201a8"
            ],
            [
             0.3333333333333333,
             "#9c179e"
            ],
            [
             0.4444444444444444,
             "#bd3786"
            ],
            [
             0.5555555555555556,
             "#d8576b"
            ],
            [
             0.6666666666666666,
             "#ed7953"
            ],
            [
             0.7777777777777778,
             "#fb9f3a"
            ],
            [
             0.8888888888888888,
             "#fdca26"
            ],
            [
             1,
             "#f0f921"
            ]
           ]
          },
          "colorway": [
           "#636efa",
           "#EF553B",
           "#00cc96",
           "#ab63fa",
           "#FFA15A",
           "#19d3f3",
           "#FF6692",
           "#B6E880",
           "#FF97FF",
           "#FECB52"
          ],
          "font": {
           "color": "#2a3f5f"
          },
          "geo": {
           "bgcolor": "white",
           "lakecolor": "white",
           "landcolor": "#E5ECF6",
           "showlakes": true,
           "showland": true,
           "subunitcolor": "white"
          },
          "hoverlabel": {
           "align": "left"
          },
          "hovermode": "closest",
          "mapbox": {
           "style": "light"
          },
          "paper_bgcolor": "white",
          "plot_bgcolor": "#E5ECF6",
          "polar": {
           "angularaxis": {
            "gridcolor": "white",
            "linecolor": "white",
            "ticks": ""
           },
           "bgcolor": "#E5ECF6",
           "radialaxis": {
            "gridcolor": "white",
            "linecolor": "white",
            "ticks": ""
           }
          },
          "scene": {
           "xaxis": {
            "backgroundcolor": "#E5ECF6",
            "gridcolor": "white",
            "gridwidth": 2,
            "linecolor": "white",
            "showbackground": true,
            "ticks": "",
            "zerolinecolor": "white"
           },
           "yaxis": {
            "backgroundcolor": "#E5ECF6",
            "gridcolor": "white",
            "gridwidth": 2,
            "linecolor": "white",
            "showbackground": true,
            "ticks": "",
            "zerolinecolor": "white"
           },
           "zaxis": {
            "backgroundcolor": "#E5ECF6",
            "gridcolor": "white",
            "gridwidth": 2,
            "linecolor": "white",
            "showbackground": true,
            "ticks": "",
            "zerolinecolor": "white"
           }
          },
          "shapedefaults": {
           "line": {
            "color": "#2a3f5f"
           }
          },
          "ternary": {
           "aaxis": {
            "gridcolor": "white",
            "linecolor": "white",
            "ticks": ""
           },
           "baxis": {
            "gridcolor": "white",
            "linecolor": "white",
            "ticks": ""
           },
           "bgcolor": "#E5ECF6",
           "caxis": {
            "gridcolor": "white",
            "linecolor": "white",
            "ticks": ""
           }
          },
          "title": {
           "x": 0.05
          },
          "xaxis": {
           "automargin": true,
           "gridcolor": "white",
           "linecolor": "white",
           "ticks": "",
           "title": {
            "standoff": 15
           },
           "zerolinecolor": "white",
           "zerolinewidth": 2
          },
          "yaxis": {
           "automargin": true,
           "gridcolor": "white",
           "linecolor": "white",
           "ticks": "",
           "title": {
            "standoff": 15
           },
           "zerolinecolor": "white",
           "zerolinewidth": 2
          }
         }
        },
        "title": {
         "text": "Pat_Presc_Usage"
        },
        "xaxis": {
         "autorange": true,
         "range": [
          "2017-04-30",
          "2021-03-31"
         ],
         "type": "date"
        },
        "yaxis": {
         "autorange": true,
         "range": [
          1328369.7222222222,
          14383615.277777778
         ],
         "type": "linear"
        }
       }
      },
      "image/png": "[encoded data removed]",
      "text/html": [
       "<div>                            <div id=\"f9a235e4-6505-4fd3-bde9-4d8365c26af4\" class=\"plotly-graph-div\" style=\"height:525px; width:100%;\"></div>            <script type=\"text/javascript\">                require([\"plotly\"], function(Plotly) {                    window.PLOTLYENV=window.PLOTLYENV || {};                                    if (document.getElementById(\"f9a235e4-6505-4fd3-bde9-4d8365c26af4\")) {                    Plotly.newPlot(                        \"f9a235e4-6505-4fd3-bde9-4d8365c26af4\",                        [{\"name\":\"Pat_Presc_Usage \",\"type\":\"scatter\",\"x\":[\"2017-04-30T00:00:00\",\"2017-05-31T00:00:00\",\"2017-06-30T00:00:00\",\"2017-07-31T00:00:00\",\"2017-11-30T00:00:00\",\"2018-01-31T00:00:00\",\"2018-02-28T00:00:00\",\"2018-03-31T00:00:00\",\"2018-04-30T00:00:00\",\"2018-05-31T00:00:00\",\"2018-06-30T00:00:00\",\"2018-07-31T00:00:00\",\"2018-08-31T00:00:00\",\"2018-09-30T00:00:00\",\"2018-10-31T00:00:00\",\"2018-11-30T00:00:00\",\"2018-12-31T00:00:00\",\"2019-01-31T00:00:00\",\"2019-02-28T00:00:00\",\"2019-03-31T00:00:00\",\"2019-04-30T00:00:00\",\"2019-05-31T00:00:00\",\"2019-06-30T00:00:00\",\"2019-07-31T00:00:00\",\"2019-08-31T00:00:00\",\"2019-09-30T00:00:00\",\"2019-10-31T00:00:00\",\"2019-11-30T00:00:00\",\"2019-12-31T00:00:00\",\"2020-01-31T00:00:00\",\"2020-02-29T00:00:00\",\"2020-03-31T00:00:00\",\"2020-04-30T00:00:00\",\"2020-05-31T00:00:00\",\"2020-06-30T00:00:00\",\"2020-07-31T00:00:00\",\"2020-08-31T00:00:00\",\"2020-09-30T00:00:00\",\"2020-10-31T00:00:00\",\"2020-11-30T00:00:00\",\"2020-12-31T00:00:00\",\"2021-01-31T00:00:00\",\"2021-02-28T00:00:00\",\"2021-03-31T00:00:00\"],\"y\":[1981132.0,2042427.0,2008019.5,2030681.5,9280002.0,13730853.0,2265374.5,2578319.5,2576316.5,2658427.0,2553147.0,2816485.0,2430725.0,2528823.5,2898974.5,2881749.5,2922042.0,3187676.5,2835485.5,3188395.0,3243923.5,3307045.5,3209970.0,3535079.5,3498725.0,3469618.5,3633609.5,3553920.5,3708684.5,3875695.5,3659160.0,5001759.5,4106519.0,4247908.5,4301813.5,4374225.0,4383257.0,4495054.5,4581720.5,4613506.5,4690956.0,4727699.0,4296630.5,4971029.5]}],                        {\"template\":{\"data\":{\"bar\":[{\"error_x\":{\"color\":\"#2a3f5f\"},\"error_y\":{\"color\":\"#2a3f5f\"},\"marker\":{\"line\":{\"color\":\"#E5ECF6\",\"width\":0.5},\"pattern\":{\"fillmode\":\"overlay\",\"size\":10,\"solidity\":0.2}},\"type\":\"bar\"}],\"barpolar\":[{\"marker\":{\"line\":{\"color\":\"#E5ECF6\",\"width\":0.5},\"pattern\":{\"fillmode\":\"overlay\",\"size\":10,\"solidity\":0.2}},\"type\":\"barpolar\"}],\"carpet\":[{\"aaxis\":{\"endlinecolor\":\"#2a3f5f\",\"gridcolor\":\"white\",\"linecolor\":\"white\",\"minorgridcolor\":\"white\",\"startlinecolor\":\"#2a3f5f\"},\"baxis\":{\"endlinecolor\":\"#2a3f5f\",\"gridcolor\":\"white\",\"linecolor\":\"white\",\"minorgridcolor\":\"white\",\"startlinecolor\":\"#2a3f5f\"},\"type\":\"carpet\"}],\"choropleth\":[{\"colorbar\":{\"outlinewidth\":0,\"ticks\":\"\"},\"type\":\"choropleth\"}],\"contour\":[{\"colorbar\":{\"outlinewidth\":0,\"ticks\":\"\"},\"colorscale\":[[0.0,\"#0d0887\"],[0.1111111111111111,\"#46039f\"],[0.2222222222222222,\"#7201a8\"],[0.3333333333333333,\"#9c179e\"],[0.4444444444444444,\"#bd3786\"],[0.5555555555555556,\"#d8576b\"],[0.6666666666666666,\"#ed7953\"],[0.7777777777777778,\"#fb9f3a\"],[0.8888888888888888,\"#fdca26\"],[1.0,\"#f0f921\"]],\"type\":\"contour\"}],\"contourcarpet\":[{\"colorbar\":{\"outlinewidth\":0,\"ticks\":\"\"},\"type\":\"contourcarpet\"}],\"heatmap\":[{\"colorbar\":{\"outlinewidth\":0,\"ticks\":\"\"},\"colorscale\":[[0.0,\"#0d0887\"],[0.1111111111111111,\"#46039f\"],[0.2222222222222222,\"#7201a8\"],[0.3333333333333333,\"#9c179e\"],[0.4444444444444444,\"#bd3786\"],[0.5555555555555556,\"#d8576b\"],[0.6666666666666666,\"#ed7953\"],[0.7777777777777778,\"#fb9f3a\"],[0.8888888888888888,\"#fdca26\"],[1.0,\"#f0f921\"]],\"type\":\"heatmap\"}],\"heatmapgl\":[{\"colorbar\":{\"outlinewidth\":0,\"ticks\":\"\"},\"colorscale\":[[0.0,\"#0d0887\"],[0.1111111111111111,\"#46039f\"],[0.2222222222222222,\"#7201a8\"],[0.3333333333333333,\"#9c179e\"],[0.4444444444444444,\"#bd3786\"],[0.5555555555555556,\"#d8576b\"],[0.6666666666666666,\"#ed7953\"],[0.7777777777777778,\"#fb9f3a\"],[0.8888888888888888,\"#fdca26\"],[1.0,\"#f0f921\"]],\"type\":\"heatmapgl\"}],\"histogram\":[{\"marker\":{\"pattern\":{\"fillmode\":\"overlay\",\"size\":10,\"solidity\":0.2}},\"type\":\"histogram\"}],\"histogram2d\":[{\"colorbar\":{\"outlinewidth\":0,\"ticks\":\"\"},\"colorscale\":[[0.0,\"#0d0887\"],[0.1111111111111111,\"#46039f\"],[0.2222222222222222,\"#7201a8\"],[0.3333333333333333,\"#9c179e\"],[0.4444444444444444,\"#bd3786\"],[0.5555555555555556,\"#d8576b\"],[0.6666666666666666,\"#ed7953\"],[0.7777777777777778,\"#fb9f3a\"],[0.8888888888888888,\"#fdca26\"],[1.0,\"#f0f921\"]],\"type\":\"histogram2d\"}],\"histogram2dcontour\":[{\"colorbar\":{\"outlinewidth\":0,\"ticks\":\"\"},\"colorscale\":[[0.0,\"#0d0887\"],[0.1111111111111111,\"#46039f\"],[0.2222222222222222,\"#7201a8\"],[0.3333333333333333,\"#9c179e\"],[0.4444444444444444,\"#bd3786\"],[0.5555555555555556,\"#d8576b\"],[0.6666666666666666,\"#ed7953\"],[0.7777777777777778,\"#fb9f3a\"],[0.8888888888888888,\"#fdca26\"],[1.0,\"#f0f921\"]],\"type\":\"histogram2dcontour\"}],\"mesh3d\":[{\"colorbar\":{\"outlinewidth\":0,\"ticks\":\"\"},\"type\":\"mesh3d\"}],\"parcoords\":[{\"line\":{\"colorbar\":{\"outlinewidth\":0,\"ticks\":\"\"}},\"type\":\"parcoords\"}],\"pie\":[{\"automargin\":true,\"type\":\"pie\"}],\"scatter\":[{\"marker\":{\"colorbar\":{\"outlinewidth\":0,\"ticks\":\"\"}},\"type\":\"scatter\"}],\"scatter3d\":[{\"line\":{\"colorbar\":{\"outlinewidth\":0,\"ticks\":\"\"}},\"marker\":{\"colorbar\":{\"outlinewidth\":0,\"ticks\":\"\"}},\"type\":\"scatter3d\"}],\"scattercarpet\":[{\"marker\":{\"colorbar\":{\"outlinewidth\":0,\"ticks\":\"\"}},\"type\":\"scattercarpet\"}],\"scattergeo\":[{\"marker\":{\"colorbar\":{\"outlinewidth\":0,\"ticks\":\"\"}},\"type\":\"scattergeo\"}],\"scattergl\":[{\"marker\":{\"colorbar\":{\"outlinewidth\":0,\"ticks\":\"\"}},\"type\":\"scattergl\"}],\"scattermapbox\":[{\"marker\":{\"colorbar\":{\"outlinewidth\":0,\"ticks\":\"\"}},\"type\":\"scattermapbox\"}],\"scatterpolar\":[{\"marker\":{\"colorbar\":{\"outlinewidth\":0,\"ticks\":\"\"}},\"type\":\"scatterpolar\"}],\"scatterpolargl\":[{\"marker\":{\"colorbar\":{\"outlinewidth\":0,\"ticks\":\"\"}},\"type\":\"scatterpolargl\"}],\"scatterternary\":[{\"marker\":{\"colorbar\":{\"outlinewidth\":0,\"ticks\":\"\"}},\"type\":\"scatterternary\"}],\"surface\":[{\"colorbar\":{\"outlinewidth\":0,\"ticks\":\"\"},\"colorscale\":[[0.0,\"#0d0887\"],[0.1111111111111111,\"#46039f\"],[0.2222222222222222,\"#7201a8\"],[0.3333333333333333,\"#9c179e\"],[0.4444444444444444,\"#bd3786\"],[0.5555555555555556,\"#d8576b\"],[0.6666666666666666,\"#ed7953\"],[0.7777777777777778,\"#fb9f3a\"],[0.8888888888888888,\"#fdca26\"],[1.0,\"#f0f921\"]],\"type\":\"surface\"}],\"table\":[{\"cells\":{\"fill\":{\"color\":\"#EBF0F8\"},\"line\":{\"color\":\"white\"}},\"header\":{\"fill\":{\"color\":\"#C8D4E3\"},\"line\":{\"color\":\"white\"}},\"type\":\"table\"}]},\"layout\":{\"annotationdefaults\":{\"arrowcolor\":\"#2a3f5f\",\"arrowhead\":0,\"arrowwidth\":1},\"autotypenumbers\":\"strict\",\"coloraxis\":{\"colorbar\":{\"outlinewidth\":0,\"ticks\":\"\"}},\"colorscale\":{\"diverging\":[[0,\"#8e0152\"],[0.1,\"#c51b7d\"],[0.2,\"#de77ae\"],[0.3,\"#f1b6da\"],[0.4,\"#fde0ef\"],[0.5,\"#f7f7f7\"],[0.6,\"#e6f5d0\"],[0.7,\"#b8e186\"],[0.8,\"#7fbc41\"],[0.9,\"#4d9221\"],[1,\"#276419\"]],\"sequential\":[[0.0,\"#0d0887\"],[0.1111111111111111,\"#46039f\"],[0.2222222222222222,\"#7201a8\"],[0.3333333333333333,\"#9c179e\"],[0.4444444444444444,\"#bd3786\"],[0.5555555555555556,\"#d8576b\"],[0.6666666666666666,\"#ed7953\"],[0.7777777777777778,\"#fb9f3a\"],[0.8888888888888888,\"#fdca26\"],[1.0,\"#f0f921\"]],\"sequentialminus\":[[0.0,\"#0d0887\"],[0.1111111111111111,\"#46039f\"],[0.2222222222222222,\"#7201a8\"],[0.3333333333333333,\"#9c179e\"],[0.4444444444444444,\"#bd3786\"],[0.5555555555555556,\"#d8576b\"],[0.6666666666666666,\"#ed7953\"],[0.7777777777777778,\"#fb9f3a\"],[0.8888888888888888,\"#fdca26\"],[1.0,\"#f0f921\"]]},\"colorway\":[\"#636efa\",\"#EF553B\",\"#00cc96\",\"#ab63fa\",\"#FFA15A\",\"#19d3f3\",\"#FF6692\",\"#B6E880\",\"#FF97FF\",\"#FECB52\"],\"font\":{\"color\":\"#2a3f5f\"},\"geo\":{\"bgcolor\":\"white\",\"lakecolor\":\"white\",\"landcolor\":\"#E5ECF6\",\"showlakes\":true,\"showland\":true,\"subunitcolor\":\"white\"},\"hoverlabel\":{\"align\":\"left\"},\"hovermode\":\"closest\",\"mapbox\":{\"style\":\"light\"},\"paper_bgcolor\":\"white\",\"plot_bgcolor\":\"#E5ECF6\",\"polar\":{\"angularaxis\":{\"gridcolor\":\"white\",\"linecolor\":\"white\",\"ticks\":\"\"},\"bgcolor\":\"#E5ECF6\",\"radialaxis\":{\"gridcolor\":\"white\",\"linecolor\":\"white\",\"ticks\":\"\"}},\"scene\":{\"xaxis\":{\"backgroundcolor\":\"#E5ECF6\",\"gridcolor\":\"white\",\"gridwidth\":2,\"linecolor\":\"white\",\"showbackground\":true,\"ticks\":\"\",\"zerolinecolor\":\"white\"},\"yaxis\":{\"backgroundcolor\":\"#E5ECF6\",\"gridcolor\":\"white\",\"gridwidth\":2,\"linecolor\":\"white\",\"showbackground\":true,\"ticks\":\"\",\"zerolinecolor\":\"white\"},\"zaxis\":{\"backgroundcolor\":\"#E5ECF6\",\"gridcolor\":\"white\",\"gridwidth\":2,\"linecolor\":\"white\",\"showbackground\":true,\"ticks\":\"\",\"zerolinecolor\":\"white\"}},\"shapedefaults\":{\"line\":{\"color\":\"#2a3f5f\"}},\"ternary\":{\"aaxis\":{\"gridcolor\":\"white\",\"linecolor\":\"white\",\"ticks\":\"\"},\"baxis\":{\"gridcolor\":\"white\",\"linecolor\":\"white\",\"ticks\":\"\"},\"bgcolor\":\"#E5ECF6\",\"caxis\":{\"gridcolor\":\"white\",\"linecolor\":\"white\",\"ticks\":\"\"}},\"title\":{\"x\":0.05},\"xaxis\":{\"automargin\":true,\"gridcolor\":\"white\",\"linecolor\":\"white\",\"ticks\":\"\",\"title\":{\"standoff\":15},\"zerolinecolor\":\"white\",\"zerolinewidth\":2},\"yaxis\":{\"automargin\":true,\"gridcolor\":\"white\",\"linecolor\":\"white\",\"ticks\":\"\",\"title\":{\"standoff\":15},\"zerolinecolor\":\"white\",\"zerolinewidth\":2}}},\"title\":{\"text\":\"Pat_Presc_Usage\"}},                        {\"responsive\": true}                    ).then(function(){\n",
       "                            \n",
       "var gd = document.getElementById('f9a235e4-6505-4fd3-bde9-4d8365c26af4');\n",
       "var x = new MutationObserver(function (mutations, observer) {{\n",
       "        var display = window.getComputedStyle(gd).display;\n",
       "        if (!display || display === 'none') {{\n",
       "            console.log([gd, 'removed!']);\n",
       "            Plotly.purge(gd);\n",
       "            observer.disconnect();\n",
       "        }}\n",
       "}});\n",
       "\n",
       "// Listen for the removal of the full notebook cells\n",
       "var notebookContainer = gd.closest('#notebook-container');\n",
       "if (notebookContainer) {{\n",
       "    x.observe(notebookContainer, {childList: true});\n",
       "}}\n",
       "\n",
       "// Listen for the clearing of the current output cell\n",
       "var outputEl = gd.closest('.output');\n",
       "if (outputEl) {{\n",
       "    x.observe(outputEl, {childList: true});\n",
       "}}\n",
       "\n",
       "                        })                };                });            </script>        </div>"
      ]
     },
     "metadata": {},
     "output_type": "display_data"
    }
   ],
   "source": [
    "data0 = go.Scatter(\n",
    "    x = Pat_Presc_Usage.report_period_end,\n",
    "    y = Pat_Presc_Usage.Pat_Presc_Use,\n",
    "    name = \"Pat_Presc_Usage \")\n",
    "\n",
    "layout = go.Layout(title = 'Pat_Presc_Usage')\n",
    "\n",
    "figure = go.Figure(data = data0, layout = layout)\n",
    "figure.show()"
   ]
  },
  {
   "cell_type": "markdown",
   "id": "22a02243-eb75-4fa6-9b2f-17f7f4f13e23",
   "metadata": {},
   "source": [
    "## Pat_Presc_Use since 2017 - London"
   ]
  },
  {
   "cell_type": "code",
   "execution_count": 30,
   "id": "000ff08f-c5c5-4b7b-be00-621502f0b7a5",
   "metadata": {},
   "outputs": [
    {
     "ename": "SyntaxError",
     "evalue": "invalid syntax (<ipython-input-30-63f50ea63032>, line 1)",
     "output_type": "error",
     "traceback": [
      "\u001b[0;36m  File \u001b[0;32m\"<ipython-input-30-63f50ea63032>\"\u001b[0;36m, line \u001b[0;32m1\u001b[0m\n\u001b[0;31m    POMI_usage_london = POMI_usage['ccg_name'] ==\u001b[0m\n\u001b[0m                                                  ^\u001b[0m\n\u001b[0;31mSyntaxError\u001b[0m\u001b[0;31m:\u001b[0m invalid syntax\n"
     ]
    }
   ],
   "source": []
  },
  {
   "cell_type": "code",
   "execution_count": 32,
   "id": "2fbc8c51-9d3a-456e-978c-25b8ff0b52c3",
   "metadata": {},
   "outputs": [
    {
     "data": {
      "text/html": [
       "<div>\n",
       "<style scoped>\n",
       "    .dataframe tbody tr th:only-of-type {\n",
       "        vertical-align: middle;\n",
       "    }\n",
       "\n",
       "    .dataframe tbody tr th {\n",
       "        vertical-align: top;\n",
       "    }\n",
       "\n",
       "    .dataframe thead th {\n",
       "        text-align: right;\n",
       "    }\n",
       "</style>\n",
       "<table border=\"1\" class=\"dataframe\">\n",
       "  <thead>\n",
       "    <tr style=\"text-align: right;\">\n",
       "      <th>field</th>\n",
       "      <th>report_period_end</th>\n",
       "      <th>ccg_name</th>\n",
       "      <th>practice_name</th>\n",
       "      <th>Pat_Appts_Use</th>\n",
       "      <th>Pat_Presc_Use</th>\n",
       "      <th>Total_Use</th>\n",
       "      <th>patient_list_size</th>\n",
       "    </tr>\n",
       "  </thead>\n",
       "  <tbody>\n",
       "    <tr>\n",
       "      <th>1128</th>\n",
       "      <td>2017-04-30</td>\n",
       "      <td>NHS CENTRAL LONDON (WESTMINSTER) CCG</td>\n",
       "      <td>BELGRAVIA SURGERY</td>\n",
       "      <td>94.0</td>\n",
       "      <td>111.0</td>\n",
       "      <td>205.0</td>\n",
       "      <td>7326.0</td>\n",
       "    </tr>\n",
       "    <tr>\n",
       "      <th>1129</th>\n",
       "      <td>2017-04-30</td>\n",
       "      <td>NHS CENTRAL LONDON (WESTMINSTER) CCG</td>\n",
       "      <td>CAVENDISH HEALTH CENTRE</td>\n",
       "      <td>85.0</td>\n",
       "      <td>101.0</td>\n",
       "      <td>327.0</td>\n",
       "      <td>6233.0</td>\n",
       "    </tr>\n",
       "    <tr>\n",
       "      <th>1130</th>\n",
       "      <td>2017-04-30</td>\n",
       "      <td>NHS CENTRAL LONDON (WESTMINSTER) CCG</td>\n",
       "      <td>CONNAUGHT SQUARE PRACTICE</td>\n",
       "      <td>75.0</td>\n",
       "      <td>74.0</td>\n",
       "      <td>349.0</td>\n",
       "      <td>6980.0</td>\n",
       "    </tr>\n",
       "    <tr>\n",
       "      <th>1131</th>\n",
       "      <td>2017-04-30</td>\n",
       "      <td>NHS CENTRAL LONDON (WESTMINSTER) CCG</td>\n",
       "      <td>COVENT GARDEN MEDICAL CENTRE</td>\n",
       "      <td>17.0</td>\n",
       "      <td>60.0</td>\n",
       "      <td>80.0</td>\n",
       "      <td>2872.0</td>\n",
       "    </tr>\n",
       "    <tr>\n",
       "      <th>1132</th>\n",
       "      <td>2017-04-30</td>\n",
       "      <td>NHS CENTRAL LONDON (WESTMINSTER) CCG</td>\n",
       "      <td>CRAWFORD STREET SURGERY</td>\n",
       "      <td>26.0</td>\n",
       "      <td>31.0</td>\n",
       "      <td>58.0</td>\n",
       "      <td>5012.0</td>\n",
       "    </tr>\n",
       "    <tr>\n",
       "      <th>...</th>\n",
       "      <td>...</td>\n",
       "      <td>...</td>\n",
       "      <td>...</td>\n",
       "      <td>...</td>\n",
       "      <td>...</td>\n",
       "      <td>...</td>\n",
       "      <td>...</td>\n",
       "    </tr>\n",
       "    <tr>\n",
       "      <th>299861</th>\n",
       "      <td>2021-03-31</td>\n",
       "      <td>NHS WEST LONDON CCG</td>\n",
       "      <td>THE NOTTING HILL MEDICAL CENTRE</td>\n",
       "      <td>84.0</td>\n",
       "      <td>267.0</td>\n",
       "      <td>655.0</td>\n",
       "      <td>2746.0</td>\n",
       "    </tr>\n",
       "    <tr>\n",
       "      <th>299862</th>\n",
       "      <td>2021-03-31</td>\n",
       "      <td>NHS WEST LONDON CCG</td>\n",
       "      <td>THE PEMBRIDGE VILLAS SURGERY</td>\n",
       "      <td>0.0</td>\n",
       "      <td>228.0</td>\n",
       "      <td>1763.0</td>\n",
       "      <td>10812.0</td>\n",
       "    </tr>\n",
       "    <tr>\n",
       "      <th>299863</th>\n",
       "      <td>2021-03-31</td>\n",
       "      <td>NHS WEST LONDON CCG</td>\n",
       "      <td>THE REDCLIFFE SURGERY</td>\n",
       "      <td>21.0</td>\n",
       "      <td>1103.0</td>\n",
       "      <td>2388.0</td>\n",
       "      <td>10136.0</td>\n",
       "    </tr>\n",
       "    <tr>\n",
       "      <th>299864</th>\n",
       "      <td>2021-03-31</td>\n",
       "      <td>NHS WEST LONDON CCG</td>\n",
       "      <td>THE SURGERY</td>\n",
       "      <td>3.0</td>\n",
       "      <td>50.0</td>\n",
       "      <td>159.0</td>\n",
       "      <td>2776.0</td>\n",
       "    </tr>\n",
       "    <tr>\n",
       "      <th>299865</th>\n",
       "      <td>2021-03-31</td>\n",
       "      <td>NHS WEST LONDON CCG</td>\n",
       "      <td>WESTBOURNE GROVE MEDICAL CENTRE</td>\n",
       "      <td>11.0</td>\n",
       "      <td>354.0</td>\n",
       "      <td>758.0</td>\n",
       "      <td>8442.0</td>\n",
       "    </tr>\n",
       "  </tbody>\n",
       "</table>\n",
       "<p>10069 rows × 7 columns</p>\n",
       "</div>"
      ],
      "text/plain": [
       "field  report_period_end                              ccg_name  \\\n",
       "1128          2017-04-30  NHS CENTRAL LONDON (WESTMINSTER) CCG   \n",
       "1129          2017-04-30  NHS CENTRAL LONDON (WESTMINSTER) CCG   \n",
       "1130          2017-04-30  NHS CENTRAL LONDON (WESTMINSTER) CCG   \n",
       "1131          2017-04-30  NHS CENTRAL LONDON (WESTMINSTER) CCG   \n",
       "1132          2017-04-30  NHS CENTRAL LONDON (WESTMINSTER) CCG   \n",
       "...                  ...                                   ...   \n",
       "299861        2021-03-31                   NHS WEST LONDON CCG   \n",
       "299862        2021-03-31                   NHS WEST LONDON CCG   \n",
       "299863        2021-03-31                   NHS WEST LONDON CCG   \n",
       "299864        2021-03-31                   NHS WEST LONDON CCG   \n",
       "299865        2021-03-31                   NHS WEST LONDON CCG   \n",
       "\n",
       "field                     practice_name  Pat_Appts_Use  Pat_Presc_Use  \\\n",
       "1128                  BELGRAVIA SURGERY           94.0          111.0   \n",
       "1129            CAVENDISH HEALTH CENTRE           85.0          101.0   \n",
       "1130          CONNAUGHT SQUARE PRACTICE           75.0           74.0   \n",
       "1131       COVENT GARDEN MEDICAL CENTRE           17.0           60.0   \n",
       "1132            CRAWFORD STREET SURGERY           26.0           31.0   \n",
       "...                                 ...            ...            ...   \n",
       "299861  THE NOTTING HILL MEDICAL CENTRE           84.0          267.0   \n",
       "299862     THE PEMBRIDGE VILLAS SURGERY            0.0          228.0   \n",
       "299863            THE REDCLIFFE SURGERY           21.0         1103.0   \n",
       "299864                      THE SURGERY            3.0           50.0   \n",
       "299865  WESTBOURNE GROVE MEDICAL CENTRE           11.0          354.0   \n",
       "\n",
       "field   Total_Use  patient_list_size  \n",
       "1128        205.0             7326.0  \n",
       "1129        327.0             6233.0  \n",
       "1130        349.0             6980.0  \n",
       "1131         80.0             2872.0  \n",
       "1132         58.0             5012.0  \n",
       "...           ...                ...  \n",
       "299861      655.0             2746.0  \n",
       "299862     1763.0            10812.0  \n",
       "299863     2388.0            10136.0  \n",
       "299864      159.0             2776.0  \n",
       "299865      758.0             8442.0  \n",
       "\n",
       "[10069 rows x 7 columns]"
      ]
     },
     "execution_count": 32,
     "metadata": {},
     "output_type": "execute_result"
    }
   ],
   "source": [
    "POMI_usage_london = POMI_usage[POMI_usage['ccg_name'].str.contains(\"LONDON\")]\n",
    "POMI_usage_london "
   ]
  },
  {
   "cell_type": "code",
   "execution_count": 60,
   "id": "99d6e57f-1d01-4ab9-bd9b-5aff793b8ab0",
   "metadata": {},
   "outputs": [
    {
     "data": {
      "text/html": [
       "<div>\n",
       "<style scoped>\n",
       "    .dataframe tbody tr th:only-of-type {\n",
       "        vertical-align: middle;\n",
       "    }\n",
       "\n",
       "    .dataframe tbody tr th {\n",
       "        vertical-align: top;\n",
       "    }\n",
       "\n",
       "    .dataframe thead th {\n",
       "        text-align: right;\n",
       "    }\n",
       "</style>\n",
       "<table border=\"1\" class=\"dataframe\">\n",
       "  <thead>\n",
       "    <tr style=\"text-align: right;\">\n",
       "      <th>field</th>\n",
       "      <th>ccg_name</th>\n",
       "      <th>Pat_Presc_Use</th>\n",
       "      <th>Pat_Appts_Use</th>\n",
       "    </tr>\n",
       "  </thead>\n",
       "  <tbody>\n",
       "    <tr>\n",
       "      <th>0</th>\n",
       "      <td>NHS CENTRAL LONDON (WESTMINSTER) CCG</td>\n",
       "      <td>341749.0</td>\n",
       "      <td>239870.0</td>\n",
       "    </tr>\n",
       "    <tr>\n",
       "      <th>1</th>\n",
       "      <td>NHS NORTH CENTRAL LONDON CCG</td>\n",
       "      <td>506310.0</td>\n",
       "      <td>77252.0</td>\n",
       "    </tr>\n",
       "    <tr>\n",
       "      <th>2</th>\n",
       "      <td>NHS SOUTH EAST LONDON</td>\n",
       "      <td>674542.0</td>\n",
       "      <td>126879.5</td>\n",
       "    </tr>\n",
       "    <tr>\n",
       "      <th>3</th>\n",
       "      <td>NHS SOUTH WEST LONDON CCG</td>\n",
       "      <td>661228.0</td>\n",
       "      <td>137069.0</td>\n",
       "    </tr>\n",
       "    <tr>\n",
       "      <th>4</th>\n",
       "      <td>NHS WEST LONDON CCG</td>\n",
       "      <td>305452.0</td>\n",
       "      <td>217693.5</td>\n",
       "    </tr>\n",
       "  </tbody>\n",
       "</table>\n",
       "</div>"
      ],
      "text/plain": [
       "field                              ccg_name  Pat_Presc_Use  Pat_Appts_Use\n",
       "0      NHS CENTRAL LONDON (WESTMINSTER) CCG       341749.0       239870.0\n",
       "1              NHS NORTH CENTRAL LONDON CCG       506310.0        77252.0\n",
       "2                     NHS SOUTH EAST LONDON       674542.0       126879.5\n",
       "3                 NHS SOUTH WEST LONDON CCG       661228.0       137069.0\n",
       "4                       NHS WEST LONDON CCG       305452.0       217693.5"
      ]
     },
     "execution_count": 60,
     "metadata": {},
     "output_type": "execute_result"
    }
   ],
   "source": [
    "POMI_usage_london_usage = POMI_usage_london[['ccg_name', 'Pat_Presc_Use', 'Pat_Appts_Use']].groupby('ccg_name').sum()\n",
    "POMI_usage_london_usage = POMI_usage_london_usage.reset_index()\n",
    "POMI_usage_london_usage"
   ]
  },
  {
   "cell_type": "code",
   "execution_count": 43,
   "id": "bca47038-b042-44f4-80a4-649a6bf87695",
   "metadata": {},
   "outputs": [
    {
     "data": {
      "application/vnd.plotly.v1+json": {
       "config": {
        "plotlyServerURL": "https://plot.ly"
       },
       "data": [
        {
         "name": "Pat_Presc_Usage ",
         "type": "bar",
         "x": [
          "NHS CENTRAL LONDON (WESTMINSTER) CCG",
          "NHS NORTH CENTRAL LONDON CCG",
          "NHS SOUTH EAST LONDON",
          "NHS SOUTH WEST LONDON CCG",
          "NHS WEST LONDON CCG"
         ],
         "y": [
          341749,
          506310,
          674542,
          661228,
          305452
         ]
        }
       ],
       "layout": {
        "autosize": true,
        "template": {
         "data": {
          "bar": [
           {
            "error_x": {
             "color": "#2a3f5f"
            },
            "error_y": {
             "color": "#2a3f5f"
            },
            "marker": {
             "line": {
              "color": "#E5ECF6",
              "width": 0.5
             },
             "pattern": {
              "fillmode": "overlay",
              "size": 10,
              "solidity": 0.2
             }
            },
            "type": "bar"
           }
          ],
          "barpolar": [
           {
            "marker": {
             "line": {
              "color": "#E5ECF6",
              "width": 0.5
             },
             "pattern": {
              "fillmode": "overlay",
              "size": 10,
              "solidity": 0.2
             }
            },
            "type": "barpolar"
           }
          ],
          "carpet": [
           {
            "aaxis": {
             "endlinecolor": "#2a3f5f",
             "gridcolor": "white",
             "linecolor": "white",
             "minorgridcolor": "white",
             "startlinecolor": "#2a3f5f"
            },
            "baxis": {
             "endlinecolor": "#2a3f5f",
             "gridcolor": "white",
             "linecolor": "white",
             "minorgridcolor": "white",
             "startlinecolor": "#2a3f5f"
            },
            "type": "carpet"
           }
          ],
          "choropleth": [
           {
            "colorbar": {
             "outlinewidth": 0,
             "ticks": ""
            },
            "type": "choropleth"
           }
          ],
          "contour": [
           {
            "colorbar": {
             "outlinewidth": 0,
             "ticks": ""
            },
            "colorscale": [
             [
              0,
              "#0d0887"
             ],
             [
              0.1111111111111111,
              "#46039f"
             ],
             [
              0.2222222222222222,
              "#7201a8"
             ],
             [
              0.3333333333333333,
              "#9c179e"
             ],
             [
              0.4444444444444444,
              "#bd3786"
             ],
             [
              0.5555555555555556,
              "#d8576b"
             ],
             [
              0.6666666666666666,
              "#ed7953"
             ],
             [
              0.7777777777777778,
              "#fb9f3a"
             ],
             [
              0.8888888888888888,
              "#fdca26"
             ],
             [
              1,
              "#f0f921"
             ]
            ],
            "type": "contour"
           }
          ],
          "contourcarpet": [
           {
            "colorbar": {
             "outlinewidth": 0,
             "ticks": ""
            },
            "type": "contourcarpet"
           }
          ],
          "heatmap": [
           {
            "colorbar": {
             "outlinewidth": 0,
             "ticks": ""
            },
            "colorscale": [
             [
              0,
              "#0d0887"
             ],
             [
              0.1111111111111111,
              "#46039f"
             ],
             [
              0.2222222222222222,
              "#7201a8"
             ],
             [
              0.3333333333333333,
              "#9c179e"
             ],
             [
              0.4444444444444444,
              "#bd3786"
             ],
             [
              0.5555555555555556,
              "#d8576b"
             ],
             [
              0.6666666666666666,
              "#ed7953"
             ],
             [
              0.7777777777777778,
              "#fb9f3a"
             ],
             [
              0.8888888888888888,
              "#fdca26"
             ],
             [
              1,
              "#f0f921"
             ]
            ],
            "type": "heatmap"
           }
          ],
          "heatmapgl": [
           {
            "colorbar": {
             "outlinewidth": 0,
             "ticks": ""
            },
            "colorscale": [
             [
              0,
              "#0d0887"
             ],
             [
              0.1111111111111111,
              "#46039f"
             ],
             [
              0.2222222222222222,
              "#7201a8"
             ],
             [
              0.3333333333333333,
              "#9c179e"
             ],
             [
              0.4444444444444444,
              "#bd3786"
             ],
             [
              0.5555555555555556,
              "#d8576b"
             ],
             [
              0.6666666666666666,
              "#ed7953"
             ],
             [
              0.7777777777777778,
              "#fb9f3a"
             ],
             [
              0.8888888888888888,
              "#fdca26"
             ],
             [
              1,
              "#f0f921"
             ]
            ],
            "type": "heatmapgl"
           }
          ],
          "histogram": [
           {
            "marker": {
             "pattern": {
              "fillmode": "overlay",
              "size": 10,
              "solidity": 0.2
             }
            },
            "type": "histogram"
           }
          ],
          "histogram2d": [
           {
            "colorbar": {
             "outlinewidth": 0,
             "ticks": ""
            },
            "colorscale": [
             [
              0,
              "#0d0887"
             ],
             [
              0.1111111111111111,
              "#46039f"
             ],
             [
              0.2222222222222222,
              "#7201a8"
             ],
             [
              0.3333333333333333,
              "#9c179e"
             ],
             [
              0.4444444444444444,
              "#bd3786"
             ],
             [
              0.5555555555555556,
              "#d8576b"
             ],
             [
              0.6666666666666666,
              "#ed7953"
             ],
             [
              0.7777777777777778,
              "#fb9f3a"
             ],
             [
              0.8888888888888888,
              "#fdca26"
             ],
             [
              1,
              "#f0f921"
             ]
            ],
            "type": "histogram2d"
           }
          ],
          "histogram2dcontour": [
           {
            "colorbar": {
             "outlinewidth": 0,
             "ticks": ""
            },
            "colorscale": [
             [
              0,
              "#0d0887"
             ],
             [
              0.1111111111111111,
              "#46039f"
             ],
             [
              0.2222222222222222,
              "#7201a8"
             ],
             [
              0.3333333333333333,
              "#9c179e"
             ],
             [
              0.4444444444444444,
              "#bd3786"
             ],
             [
              0.5555555555555556,
              "#d8576b"
             ],
             [
              0.6666666666666666,
              "#ed7953"
             ],
             [
              0.7777777777777778,
              "#fb9f3a"
             ],
             [
              0.8888888888888888,
              "#fdca26"
             ],
             [
              1,
              "#f0f921"
             ]
            ],
            "type": "histogram2dcontour"
           }
          ],
          "mesh3d": [
           {
            "colorbar": {
             "outlinewidth": 0,
             "ticks": ""
            },
            "type": "mesh3d"
           }
          ],
          "parcoords": [
           {
            "line": {
             "colorbar": {
              "outlinewidth": 0,
              "ticks": ""
             }
            },
            "type": "parcoords"
           }
          ],
          "pie": [
           {
            "automargin": true,
            "type": "pie"
           }
          ],
          "scatter": [
           {
            "marker": {
             "colorbar": {
              "outlinewidth": 0,
              "ticks": ""
             }
            },
            "type": "scatter"
           }
          ],
          "scatter3d": [
           {
            "line": {
             "colorbar": {
              "outlinewidth": 0,
              "ticks": ""
             }
            },
            "marker": {
             "colorbar": {
              "outlinewidth": 0,
              "ticks": ""
             }
            },
            "type": "scatter3d"
           }
          ],
          "scattercarpet": [
           {
            "marker": {
             "colorbar": {
              "outlinewidth": 0,
              "ticks": ""
             }
            },
            "type": "scattercarpet"
           }
          ],
          "scattergeo": [
           {
            "marker": {
             "colorbar": {
              "outlinewidth": 0,
              "ticks": ""
             }
            },
            "type": "scattergeo"
           }
          ],
          "scattergl": [
           {
            "marker": {
             "colorbar": {
              "outlinewidth": 0,
              "ticks": ""
             }
            },
            "type": "scattergl"
           }
          ],
          "scattermapbox": [
           {
            "marker": {
             "colorbar": {
              "outlinewidth": 0,
              "ticks": ""
             }
            },
            "type": "scattermapbox"
           }
          ],
          "scatterpolar": [
           {
            "marker": {
             "colorbar": {
              "outlinewidth": 0,
              "ticks": ""
             }
            },
            "type": "scatterpolar"
           }
          ],
          "scatterpolargl": [
           {
            "marker": {
             "colorbar": {
              "outlinewidth": 0,
              "ticks": ""
             }
            },
            "type": "scatterpolargl"
           }
          ],
          "scatterternary": [
           {
            "marker": {
             "colorbar": {
              "outlinewidth": 0,
              "ticks": ""
             }
            },
            "type": "scatterternary"
           }
          ],
          "surface": [
           {
            "colorbar": {
             "outlinewidth": 0,
             "ticks": ""
            },
            "colorscale": [
             [
              0,
              "#0d0887"
             ],
             [
              0.1111111111111111,
              "#46039f"
             ],
             [
              0.2222222222222222,
              "#7201a8"
             ],
             [
              0.3333333333333333,
              "#9c179e"
             ],
             [
              0.4444444444444444,
              "#bd3786"
             ],
             [
              0.5555555555555556,
              "#d8576b"
             ],
             [
              0.6666666666666666,
              "#ed7953"
             ],
             [
              0.7777777777777778,
              "#fb9f3a"
             ],
             [
              0.8888888888888888,
              "#fdca26"
             ],
             [
              1,
              "#f0f921"
             ]
            ],
            "type": "surface"
           }
          ],
          "table": [
           {
            "cells": {
             "fill": {
              "color": "#EBF0F8"
             },
             "line": {
              "color": "white"
             }
            },
            "header": {
             "fill": {
              "color": "#C8D4E3"
             },
             "line": {
              "color": "white"
             }
            },
            "type": "table"
           }
          ]
         },
         "layout": {
          "annotationdefaults": {
           "arrowcolor": "#2a3f5f",
           "arrowhead": 0,
           "arrowwidth": 1
          },
          "autotypenumbers": "strict",
          "coloraxis": {
           "colorbar": {
            "outlinewidth": 0,
            "ticks": ""
           }
          },
          "colorscale": {
           "diverging": [
            [
             0,
             "#8e0152"
            ],
            [
             0.1,
             "#c51b7d"
            ],
            [
             0.2,
             "#de77ae"
            ],
            [
             0.3,
             "#f1b6da"
            ],
            [
             0.4,
             "#fde0ef"
            ],
            [
             0.5,
             "#f7f7f7"
            ],
            [
             0.6,
             "#e6f5d0"
            ],
            [
             0.7,
             "#b8e186"
            ],
            [
             0.8,
             "#7fbc41"
            ],
            [
             0.9,
             "#4d9221"
            ],
            [
             1,
             "#276419"
            ]
           ],
           "sequential": [
            [
             0,
             "#0d0887"
            ],
            [
             0.1111111111111111,
             "#46039f"
            ],
            [
             0.2222222222222222,
             "#7201a8"
            ],
            [
             0.3333333333333333,
             "#9c179e"
            ],
            [
             0.4444444444444444,
             "#bd3786"
            ],
            [
             0.5555555555555556,
             "#d8576b"
            ],
            [
             0.6666666666666666,
             "#ed7953"
            ],
            [
             0.7777777777777778,
             "#fb9f3a"
            ],
            [
             0.8888888888888888,
             "#fdca26"
            ],
            [
             1,
             "#f0f921"
            ]
           ],
           "sequentialminus": [
            [
             0,
             "#0d0887"
            ],
            [
             0.1111111111111111,
             "#46039f"
            ],
            [
             0.2222222222222222,
             "#7201a8"
            ],
            [
             0.3333333333333333,
             "#9c179e"
            ],
            [
             0.4444444444444444,
             "#bd3786"
            ],
            [
             0.5555555555555556,
             "#d8576b"
            ],
            [
             0.6666666666666666,
             "#ed7953"
            ],
            [
             0.7777777777777778,
             "#fb9f3a"
            ],
            [
             0.8888888888888888,
             "#fdca26"
            ],
            [
             1,
             "#f0f921"
            ]
           ]
          },
          "colorway": [
           "#636efa",
           "#EF553B",
           "#00cc96",
           "#ab63fa",
           "#FFA15A",
           "#19d3f3",
           "#FF6692",
           "#B6E880",
           "#FF97FF",
           "#FECB52"
          ],
          "font": {
           "color": "#2a3f5f"
          },
          "geo": {
           "bgcolor": "white",
           "lakecolor": "white",
           "landcolor": "#E5ECF6",
           "showlakes": true,
           "showland": true,
           "subunitcolor": "white"
          },
          "hoverlabel": {
           "align": "left"
          },
          "hovermode": "closest",
          "mapbox": {
           "style": "light"
          },
          "paper_bgcolor": "white",
          "plot_bgcolor": "#E5ECF6",
          "polar": {
           "angularaxis": {
            "gridcolor": "white",
            "linecolor": "white",
            "ticks": ""
           },
           "bgcolor": "#E5ECF6",
           "radialaxis": {
            "gridcolor": "white",
            "linecolor": "white",
            "ticks": ""
           }
          },
          "scene": {
           "xaxis": {
            "backgroundcolor": "#E5ECF6",
            "gridcolor": "white",
            "gridwidth": 2,
            "linecolor": "white",
            "showbackground": true,
            "ticks": "",
            "zerolinecolor": "white"
           },
           "yaxis": {
            "backgroundcolor": "#E5ECF6",
            "gridcolor": "white",
            "gridwidth": 2,
            "linecolor": "white",
            "showbackground": true,
            "ticks": "",
            "zerolinecolor": "white"
           },
           "zaxis": {
            "backgroundcolor": "#E5ECF6",
            "gridcolor": "white",
            "gridwidth": 2,
            "linecolor": "white",
            "showbackground": true,
            "ticks": "",
            "zerolinecolor": "white"
           }
          },
          "shapedefaults": {
           "line": {
            "color": "#2a3f5f"
           }
          },
          "ternary": {
           "aaxis": {
            "gridcolor": "white",
            "linecolor": "white",
            "ticks": ""
           },
           "baxis": {
            "gridcolor": "white",
            "linecolor": "white",
            "ticks": ""
           },
           "bgcolor": "#E5ECF6",
           "caxis": {
            "gridcolor": "white",
            "linecolor": "white",
            "ticks": ""
           }
          },
          "title": {
           "x": 0.05
          },
          "xaxis": {
           "automargin": true,
           "gridcolor": "white",
           "linecolor": "white",
           "ticks": "",
           "title": {
            "standoff": 15
           },
           "zerolinecolor": "white",
           "zerolinewidth": 2
          },
          "yaxis": {
           "automargin": true,
           "gridcolor": "white",
           "linecolor": "white",
           "ticks": "",
           "title": {
            "standoff": 15
           },
           "zerolinecolor": "white",
           "zerolinewidth": 2
          }
         }
        },
        "title": {
         "text": "Total Pat_Presc_Usage Trasactions since 2017 in London"
        },
        "xaxis": {
         "autorange": true,
         "range": [
          -0.5,
          4.5
         ],
         "type": "category"
        },
        "yaxis": {
         "autorange": true,
         "range": [
          0,
          710044.2105263157
         ],
         "type": "linear"
        }
       }
      },
      "image/png": "[encoded data removed]",
      "text/html": [
       "<div>                            <div id=\"58ebc5e3-4041-4185-bc6d-5be474403a61\" class=\"plotly-graph-div\" style=\"height:525px; width:100%;\"></div>            <script type=\"text/javascript\">                require([\"plotly\"], function(Plotly) {                    window.PLOTLYENV=window.PLOTLYENV || {};                                    if (document.getElementById(\"58ebc5e3-4041-4185-bc6d-5be474403a61\")) {                    Plotly.newPlot(                        \"58ebc5e3-4041-4185-bc6d-5be474403a61\",                        [{\"name\":\"Pat_Presc_Usage \",\"type\":\"bar\",\"x\":[\"NHS CENTRAL LONDON (WESTMINSTER) CCG\",\"NHS NORTH CENTRAL LONDON CCG\",\"NHS SOUTH EAST LONDON\",\"NHS SOUTH WEST LONDON CCG\",\"NHS WEST LONDON CCG\"],\"y\":[341749.0,506310.0,674542.0,661228.0,305452.0]}],                        {\"template\":{\"data\":{\"bar\":[{\"error_x\":{\"color\":\"#2a3f5f\"},\"error_y\":{\"color\":\"#2a3f5f\"},\"marker\":{\"line\":{\"color\":\"#E5ECF6\",\"width\":0.5},\"pattern\":{\"fillmode\":\"overlay\",\"size\":10,\"solidity\":0.2}},\"type\":\"bar\"}],\"barpolar\":[{\"marker\":{\"line\":{\"color\":\"#E5ECF6\",\"width\":0.5},\"pattern\":{\"fillmode\":\"overlay\",\"size\":10,\"solidity\":0.2}},\"type\":\"barpolar\"}],\"carpet\":[{\"aaxis\":{\"endlinecolor\":\"#2a3f5f\",\"gridcolor\":\"white\",\"linecolor\":\"white\",\"minorgridcolor\":\"white\",\"startlinecolor\":\"#2a3f5f\"},\"baxis\":{\"endlinecolor\":\"#2a3f5f\",\"gridcolor\":\"white\",\"linecolor\":\"white\",\"minorgridcolor\":\"white\",\"startlinecolor\":\"#2a3f5f\"},\"type\":\"carpet\"}],\"choropleth\":[{\"colorbar\":{\"outlinewidth\":0,\"ticks\":\"\"},\"type\":\"choropleth\"}],\"contour\":[{\"colorbar\":{\"outlinewidth\":0,\"ticks\":\"\"},\"colorscale\":[[0.0,\"#0d0887\"],[0.1111111111111111,\"#46039f\"],[0.2222222222222222,\"#7201a8\"],[0.3333333333333333,\"#9c179e\"],[0.4444444444444444,\"#bd3786\"],[0.5555555555555556,\"#d8576b\"],[0.6666666666666666,\"#ed7953\"],[0.7777777777777778,\"#fb9f3a\"],[0.8888888888888888,\"#fdca26\"],[1.0,\"#f0f921\"]],\"type\":\"contour\"}],\"contourcarpet\":[{\"colorbar\":{\"outlinewidth\":0,\"ticks\":\"\"},\"type\":\"contourcarpet\"}],\"heatmap\":[{\"colorbar\":{\"outlinewidth\":0,\"ticks\":\"\"},\"colorscale\":[[0.0,\"#0d0887\"],[0.1111111111111111,\"#46039f\"],[0.2222222222222222,\"#7201a8\"],[0.3333333333333333,\"#9c179e\"],[0.4444444444444444,\"#bd3786\"],[0.5555555555555556,\"#d8576b\"],[0.6666666666666666,\"#ed7953\"],[0.7777777777777778,\"#fb9f3a\"],[0.8888888888888888,\"#fdca26\"],[1.0,\"#f0f921\"]],\"type\":\"heatmap\"}],\"heatmapgl\":[{\"colorbar\":{\"outlinewidth\":0,\"ticks\":\"\"},\"colorscale\":[[0.0,\"#0d0887\"],[0.1111111111111111,\"#46039f\"],[0.2222222222222222,\"#7201a8\"],[0.3333333333333333,\"#9c179e\"],[0.4444444444444444,\"#bd3786\"],[0.5555555555555556,\"#d8576b\"],[0.6666666666666666,\"#ed7953\"],[0.7777777777777778,\"#fb9f3a\"],[0.8888888888888888,\"#fdca26\"],[1.0,\"#f0f921\"]],\"type\":\"heatmapgl\"}],\"histogram\":[{\"marker\":{\"pattern\":{\"fillmode\":\"overlay\",\"size\":10,\"solidity\":0.2}},\"type\":\"histogram\"}],\"histogram2d\":[{\"colorbar\":{\"outlinewidth\":0,\"ticks\":\"\"},\"colorscale\":[[0.0,\"#0d0887\"],[0.1111111111111111,\"#46039f\"],[0.2222222222222222,\"#7201a8\"],[0.3333333333333333,\"#9c179e\"],[0.4444444444444444,\"#bd3786\"],[0.5555555555555556,\"#d8576b\"],[0.6666666666666666,\"#ed7953\"],[0.7777777777777778,\"#fb9f3a\"],[0.8888888888888888,\"#fdca26\"],[1.0,\"#f0f921\"]],\"type\":\"histogram2d\"}],\"histogram2dcontour\":[{\"colorbar\":{\"outlinewidth\":0,\"ticks\":\"\"},\"colorscale\":[[0.0,\"#0d0887\"],[0.1111111111111111,\"#46039f\"],[0.2222222222222222,\"#7201a8\"],[0.3333333333333333,\"#9c179e\"],[0.4444444444444444,\"#bd3786\"],[0.5555555555555556,\"#d8576b\"],[0.6666666666666666,\"#ed7953\"],[0.7777777777777778,\"#fb9f3a\"],[0.8888888888888888,\"#fdca26\"],[1.0,\"#f0f921\"]],\"type\":\"histogram2dcontour\"}],\"mesh3d\":[{\"colorbar\":{\"outlinewidth\":0,\"ticks\":\"\"},\"type\":\"mesh3d\"}],\"parcoords\":[{\"line\":{\"colorbar\":{\"outlinewidth\":0,\"ticks\":\"\"}},\"type\":\"parcoords\"}],\"pie\":[{\"automargin\":true,\"type\":\"pie\"}],\"scatter\":[{\"marker\":{\"colorbar\":{\"outlinewidth\":0,\"ticks\":\"\"}},\"type\":\"scatter\"}],\"scatter3d\":[{\"line\":{\"colorbar\":{\"outlinewidth\":0,\"ticks\":\"\"}},\"marker\":{\"colorbar\":{\"outlinewidth\":0,\"ticks\":\"\"}},\"type\":\"scatter3d\"}],\"scattercarpet\":[{\"marker\":{\"colorbar\":{\"outlinewidth\":0,\"ticks\":\"\"}},\"type\":\"scattercarpet\"}],\"scattergeo\":[{\"marker\":{\"colorbar\":{\"outlinewidth\":0,\"ticks\":\"\"}},\"type\":\"scattergeo\"}],\"scattergl\":[{\"marker\":{\"colorbar\":{\"outlinewidth\":0,\"ticks\":\"\"}},\"type\":\"scattergl\"}],\"scattermapbox\":[{\"marker\":{\"colorbar\":{\"outlinewidth\":0,\"ticks\":\"\"}},\"type\":\"scattermapbox\"}],\"scatterpolar\":[{\"marker\":{\"colorbar\":{\"outlinewidth\":0,\"ticks\":\"\"}},\"type\":\"scatterpolar\"}],\"scatterpolargl\":[{\"marker\":{\"colorbar\":{\"outlinewidth\":0,\"ticks\":\"\"}},\"type\":\"scatterpolargl\"}],\"scatterternary\":[{\"marker\":{\"colorbar\":{\"outlinewidth\":0,\"ticks\":\"\"}},\"type\":\"scatterternary\"}],\"surface\":[{\"colorbar\":{\"outlinewidth\":0,\"ticks\":\"\"},\"colorscale\":[[0.0,\"#0d0887\"],[0.1111111111111111,\"#46039f\"],[0.2222222222222222,\"#7201a8\"],[0.3333333333333333,\"#9c179e\"],[0.4444444444444444,\"#bd3786\"],[0.5555555555555556,\"#d8576b\"],[0.6666666666666666,\"#ed7953\"],[0.7777777777777778,\"#fb9f3a\"],[0.8888888888888888,\"#fdca26\"],[1.0,\"#f0f921\"]],\"type\":\"surface\"}],\"table\":[{\"cells\":{\"fill\":{\"color\":\"#EBF0F8\"},\"line\":{\"color\":\"white\"}},\"header\":{\"fill\":{\"color\":\"#C8D4E3\"},\"line\":{\"color\":\"white\"}},\"type\":\"table\"}]},\"layout\":{\"annotationdefaults\":{\"arrowcolor\":\"#2a3f5f\",\"arrowhead\":0,\"arrowwidth\":1},\"autotypenumbers\":\"strict\",\"coloraxis\":{\"colorbar\":{\"outlinewidth\":0,\"ticks\":\"\"}},\"colorscale\":{\"diverging\":[[0,\"#8e0152\"],[0.1,\"#c51b7d\"],[0.2,\"#de77ae\"],[0.3,\"#f1b6da\"],[0.4,\"#fde0ef\"],[0.5,\"#f7f7f7\"],[0.6,\"#e6f5d0\"],[0.7,\"#b8e186\"],[0.8,\"#7fbc41\"],[0.9,\"#4d9221\"],[1,\"#276419\"]],\"sequential\":[[0.0,\"#0d0887\"],[0.1111111111111111,\"#46039f\"],[0.2222222222222222,\"#7201a8\"],[0.3333333333333333,\"#9c179e\"],[0.4444444444444444,\"#bd3786\"],[0.5555555555555556,\"#d8576b\"],[0.6666666666666666,\"#ed7953\"],[0.7777777777777778,\"#fb9f3a\"],[0.8888888888888888,\"#fdca26\"],[1.0,\"#f0f921\"]],\"sequentialminus\":[[0.0,\"#0d0887\"],[0.1111111111111111,\"#46039f\"],[0.2222222222222222,\"#7201a8\"],[0.3333333333333333,\"#9c179e\"],[0.4444444444444444,\"#bd3786\"],[0.5555555555555556,\"#d8576b\"],[0.6666666666666666,\"#ed7953\"],[0.7777777777777778,\"#fb9f3a\"],[0.8888888888888888,\"#fdca26\"],[1.0,\"#f0f921\"]]},\"colorway\":[\"#636efa\",\"#EF553B\",\"#00cc96\",\"#ab63fa\",\"#FFA15A\",\"#19d3f3\",\"#FF6692\",\"#B6E880\",\"#FF97FF\",\"#FECB52\"],\"font\":{\"color\":\"#2a3f5f\"},\"geo\":{\"bgcolor\":\"white\",\"lakecolor\":\"white\",\"landcolor\":\"#E5ECF6\",\"showlakes\":true,\"showland\":true,\"subunitcolor\":\"white\"},\"hoverlabel\":{\"align\":\"left\"},\"hovermode\":\"closest\",\"mapbox\":{\"style\":\"light\"},\"paper_bgcolor\":\"white\",\"plot_bgcolor\":\"#E5ECF6\",\"polar\":{\"angularaxis\":{\"gridcolor\":\"white\",\"linecolor\":\"white\",\"ticks\":\"\"},\"bgcolor\":\"#E5ECF6\",\"radialaxis\":{\"gridcolor\":\"white\",\"linecolor\":\"white\",\"ticks\":\"\"}},\"scene\":{\"xaxis\":{\"backgroundcolor\":\"#E5ECF6\",\"gridcolor\":\"white\",\"gridwidth\":2,\"linecolor\":\"white\",\"showbackground\":true,\"ticks\":\"\",\"zerolinecolor\":\"white\"},\"yaxis\":{\"backgroundcolor\":\"#E5ECF6\",\"gridcolor\":\"white\",\"gridwidth\":2,\"linecolor\":\"white\",\"showbackground\":true,\"ticks\":\"\",\"zerolinecolor\":\"white\"},\"zaxis\":{\"backgroundcolor\":\"#E5ECF6\",\"gridcolor\":\"white\",\"gridwidth\":2,\"linecolor\":\"white\",\"showbackground\":true,\"ticks\":\"\",\"zerolinecolor\":\"white\"}},\"shapedefaults\":{\"line\":{\"color\":\"#2a3f5f\"}},\"ternary\":{\"aaxis\":{\"gridcolor\":\"white\",\"linecolor\":\"white\",\"ticks\":\"\"},\"baxis\":{\"gridcolor\":\"white\",\"linecolor\":\"white\",\"ticks\":\"\"},\"bgcolor\":\"#E5ECF6\",\"caxis\":{\"gridcolor\":\"white\",\"linecolor\":\"white\",\"ticks\":\"\"}},\"title\":{\"x\":0.05},\"xaxis\":{\"automargin\":true,\"gridcolor\":\"white\",\"linecolor\":\"white\",\"ticks\":\"\",\"title\":{\"standoff\":15},\"zerolinecolor\":\"white\",\"zerolinewidth\":2},\"yaxis\":{\"automargin\":true,\"gridcolor\":\"white\",\"linecolor\":\"white\",\"ticks\":\"\",\"title\":{\"standoff\":15},\"zerolinecolor\":\"white\",\"zerolinewidth\":2}}},\"title\":{\"text\":\"Total Pat_Presc_Usage Trasactions since 2017 in London\"}},                        {\"responsive\": true}                    ).then(function(){\n",
       "                            \n",
       "var gd = document.getElementById('58ebc5e3-4041-4185-bc6d-5be474403a61');\n",
       "var x = new MutationObserver(function (mutations, observer) {{\n",
       "        var display = window.getComputedStyle(gd).display;\n",
       "        if (!display || display === 'none') {{\n",
       "            console.log([gd, 'removed!']);\n",
       "            Plotly.purge(gd);\n",
       "            observer.disconnect();\n",
       "        }}\n",
       "}});\n",
       "\n",
       "// Listen for the removal of the full notebook cells\n",
       "var notebookContainer = gd.closest('#notebook-container');\n",
       "if (notebookContainer) {{\n",
       "    x.observe(notebookContainer, {childList: true});\n",
       "}}\n",
       "\n",
       "// Listen for the clearing of the current output cell\n",
       "var outputEl = gd.closest('.output');\n",
       "if (outputEl) {{\n",
       "    x.observe(outputEl, {childList: true});\n",
       "}}\n",
       "\n",
       "                        })                };                });            </script>        </div>"
      ]
     },
     "metadata": {},
     "output_type": "display_data"
    }
   ],
   "source": [
    "data0 = go.Bar(\n",
    "    x = POMI_usage_london_usage.ccg_name,\n",
    "    y = POMI_usage_london_usage.Pat_Presc_Use,\n",
    "    name = \"Pat_Presc_Usage \")\n",
    "\n",
    "layout = go.Layout(title = 'Total Pat_Presc_Usage Trasactions since 2017 in London')\n",
    "\n",
    "figure = go.Figure(data = data0, layout = layout)\n",
    "figure.show()"
   ]
  },
  {
   "cell_type": "code",
   "execution_count": 59,
   "id": "e0c5ab2d-bd7c-4f1b-bc6f-fee9df2e2a4c",
   "metadata": {},
   "outputs": [
    {
     "ename": "TypeError",
     "evalue": "'method' object is not subscriptable",
     "output_type": "error",
     "traceback": [
      "\u001b[0;31m---------------------------------------------------------------------------\u001b[0m",
      "\u001b[0;31mTypeError\u001b[0m                                 Traceback (most recent call last)",
      "\u001b[0;32m<ipython-input-59-ae78e3d81c80>\u001b[0m in \u001b[0;36m<module>\u001b[0;34m\u001b[0m\n\u001b[0;32m----> 1\u001b[0;31m \u001b[0mPOMI_usage_london_test\u001b[0m \u001b[0;34m=\u001b[0m \u001b[0mPOMI_usage_london\u001b[0m\u001b[0;34m[\u001b[0m\u001b[0;34m[\u001b[0m\u001b[0;34m'report_period_end'\u001b[0m\u001b[0;34m,\u001b[0m \u001b[0;34m'practice_name'\u001b[0m\u001b[0;34m,\u001b[0m \u001b[0;34m'ccg_name'\u001b[0m\u001b[0;34m,\u001b[0m\u001b[0;34m'Pat_Presc_Use'\u001b[0m\u001b[0;34m,\u001b[0m \u001b[0;34m'Pat_Appts_Use'\u001b[0m\u001b[0;34m]\u001b[0m\u001b[0;34m]\u001b[0m\u001b[0;34m.\u001b[0m\u001b[0mgroupby\u001b[0m\u001b[0;34m[\u001b[0m\u001b[0;34m'ccg_name'\u001b[0m\u001b[0;34m,\u001b[0m \u001b[0;34m'Pat_Appts_Use'\u001b[0m\u001b[0;34m]\u001b[0m\u001b[0;34m\u001b[0m\u001b[0;34m\u001b[0m\u001b[0m\n\u001b[0m\u001b[1;32m      2\u001b[0m \u001b[0mPOMI_usage_london_test\u001b[0m\u001b[0;34m\u001b[0m\u001b[0;34m\u001b[0m\u001b[0m\n",
      "\u001b[0;31mTypeError\u001b[0m: 'method' object is not subscriptable"
     ]
    }
   ],
   "source": [
    "POMI_usage_london_test = POMI_usage_london[['report_period_end', 'practice_name', 'ccg_name','Pat_Presc_Use', 'Pat_Appts_Use']].groupby['ccg_name', 'Pat_Appts_Use']\n",
    "POMI_usage_london_test"
   ]
  },
  {
   "cell_type": "code",
   "execution_count": 51,
   "id": "e02e885d-7a98-4fd4-9ac8-3a15ad6ccd5b",
   "metadata": {},
   "outputs": [
    {
     "data": {
      "text/html": [
       "<div>\n",
       "<style scoped>\n",
       "    .dataframe tbody tr th:only-of-type {\n",
       "        vertical-align: middle;\n",
       "    }\n",
       "\n",
       "    .dataframe tbody tr th {\n",
       "        vertical-align: top;\n",
       "    }\n",
       "\n",
       "    .dataframe thead th {\n",
       "        text-align: right;\n",
       "    }\n",
       "</style>\n",
       "<table border=\"1\" class=\"dataframe\">\n",
       "  <thead>\n",
       "    <tr style=\"text-align: right;\">\n",
       "      <th>ccg_name</th>\n",
       "      <th>NHS CENTRAL LONDON (WESTMINSTER) CCG</th>\n",
       "      <th>NHS NORTH CENTRAL LONDON CCG</th>\n",
       "      <th>NHS SOUTH EAST LONDON</th>\n",
       "      <th>NHS SOUTH WEST LONDON CCG</th>\n",
       "      <th>NHS WEST LONDON CCG</th>\n",
       "    </tr>\n",
       "    <tr>\n",
       "      <th>report_period_end</th>\n",
       "      <th></th>\n",
       "      <th></th>\n",
       "      <th></th>\n",
       "      <th></th>\n",
       "      <th></th>\n",
       "    </tr>\n",
       "  </thead>\n",
       "  <tbody>\n",
       "    <tr>\n",
       "      <th>2017-04-30</th>\n",
       "      <td>66.028571</td>\n",
       "      <td>NaN</td>\n",
       "      <td>NaN</td>\n",
       "      <td>NaN</td>\n",
       "      <td>49.616279</td>\n",
       "    </tr>\n",
       "    <tr>\n",
       "      <th>2017-05-31</th>\n",
       "      <td>78.500000</td>\n",
       "      <td>NaN</td>\n",
       "      <td>NaN</td>\n",
       "      <td>NaN</td>\n",
       "      <td>56.267442</td>\n",
       "    </tr>\n",
       "    <tr>\n",
       "      <th>2017-06-30</th>\n",
       "      <td>75.970588</td>\n",
       "      <td>NaN</td>\n",
       "      <td>NaN</td>\n",
       "      <td>NaN</td>\n",
       "      <td>54.790698</td>\n",
       "    </tr>\n",
       "    <tr>\n",
       "      <th>2017-07-31</th>\n",
       "      <td>80.363636</td>\n",
       "      <td>NaN</td>\n",
       "      <td>NaN</td>\n",
       "      <td>NaN</td>\n",
       "      <td>58.848837</td>\n",
       "    </tr>\n",
       "    <tr>\n",
       "      <th>2017-11-30</th>\n",
       "      <td>92.727273</td>\n",
       "      <td>NaN</td>\n",
       "      <td>NaN</td>\n",
       "      <td>NaN</td>\n",
       "      <td>65.697674</td>\n",
       "    </tr>\n",
       "    <tr>\n",
       "      <th>2018-01-31</th>\n",
       "      <td>118.272727</td>\n",
       "      <td>NaN</td>\n",
       "      <td>NaN</td>\n",
       "      <td>NaN</td>\n",
       "      <td>85.604651</td>\n",
       "    </tr>\n",
       "    <tr>\n",
       "      <th>2018-02-28</th>\n",
       "      <td>109.212121</td>\n",
       "      <td>NaN</td>\n",
       "      <td>NaN</td>\n",
       "      <td>NaN</td>\n",
       "      <td>79.220930</td>\n",
       "    </tr>\n",
       "    <tr>\n",
       "      <th>2018-03-31</th>\n",
       "      <td>140.030303</td>\n",
       "      <td>NaN</td>\n",
       "      <td>NaN</td>\n",
       "      <td>NaN</td>\n",
       "      <td>96.309524</td>\n",
       "    </tr>\n",
       "    <tr>\n",
       "      <th>2018-04-30</th>\n",
       "      <td>136.818182</td>\n",
       "      <td>NaN</td>\n",
       "      <td>NaN</td>\n",
       "      <td>NaN</td>\n",
       "      <td>97.964286</td>\n",
       "    </tr>\n",
       "    <tr>\n",
       "      <th>2018-05-31</th>\n",
       "      <td>154.454545</td>\n",
       "      <td>NaN</td>\n",
       "      <td>NaN</td>\n",
       "      <td>NaN</td>\n",
       "      <td>109.630952</td>\n",
       "    </tr>\n",
       "    <tr>\n",
       "      <th>2018-06-30</th>\n",
       "      <td>155.727273</td>\n",
       "      <td>NaN</td>\n",
       "      <td>NaN</td>\n",
       "      <td>NaN</td>\n",
       "      <td>113.321429</td>\n",
       "    </tr>\n",
       "    <tr>\n",
       "      <th>2018-07-31</th>\n",
       "      <td>161.666667</td>\n",
       "      <td>NaN</td>\n",
       "      <td>NaN</td>\n",
       "      <td>NaN</td>\n",
       "      <td>121.904762</td>\n",
       "    </tr>\n",
       "    <tr>\n",
       "      <th>2018-08-31</th>\n",
       "      <td>162.212121</td>\n",
       "      <td>NaN</td>\n",
       "      <td>NaN</td>\n",
       "      <td>NaN</td>\n",
       "      <td>119.353659</td>\n",
       "    </tr>\n",
       "    <tr>\n",
       "      <th>2018-09-30</th>\n",
       "      <td>166.696970</td>\n",
       "      <td>NaN</td>\n",
       "      <td>NaN</td>\n",
       "      <td>NaN</td>\n",
       "      <td>126.402439</td>\n",
       "    </tr>\n",
       "    <tr>\n",
       "      <th>2018-10-31</th>\n",
       "      <td>194.575758</td>\n",
       "      <td>NaN</td>\n",
       "      <td>NaN</td>\n",
       "      <td>NaN</td>\n",
       "      <td>145.402439</td>\n",
       "    </tr>\n",
       "    <tr>\n",
       "      <th>2018-11-30</th>\n",
       "      <td>207.121212</td>\n",
       "      <td>NaN</td>\n",
       "      <td>NaN</td>\n",
       "      <td>NaN</td>\n",
       "      <td>138.878049</td>\n",
       "    </tr>\n",
       "    <tr>\n",
       "      <th>2018-12-31</th>\n",
       "      <td>201.363636</td>\n",
       "      <td>NaN</td>\n",
       "      <td>NaN</td>\n",
       "      <td>NaN</td>\n",
       "      <td>143.621951</td>\n",
       "    </tr>\n",
       "    <tr>\n",
       "      <th>2019-01-31</th>\n",
       "      <td>245.363636</td>\n",
       "      <td>NaN</td>\n",
       "      <td>NaN</td>\n",
       "      <td>NaN</td>\n",
       "      <td>164.439024</td>\n",
       "    </tr>\n",
       "    <tr>\n",
       "      <th>2019-02-28</th>\n",
       "      <td>209.878788</td>\n",
       "      <td>NaN</td>\n",
       "      <td>NaN</td>\n",
       "      <td>NaN</td>\n",
       "      <td>143.951220</td>\n",
       "    </tr>\n",
       "    <tr>\n",
       "      <th>2019-03-31</th>\n",
       "      <td>245.939394</td>\n",
       "      <td>NaN</td>\n",
       "      <td>NaN</td>\n",
       "      <td>NaN</td>\n",
       "      <td>168.304878</td>\n",
       "    </tr>\n",
       "    <tr>\n",
       "      <th>2019-04-30</th>\n",
       "      <td>244.363636</td>\n",
       "      <td>NaN</td>\n",
       "      <td>NaN</td>\n",
       "      <td>NaN</td>\n",
       "      <td>170.451220</td>\n",
       "    </tr>\n",
       "    <tr>\n",
       "      <th>2019-05-31</th>\n",
       "      <td>258.969697</td>\n",
       "      <td>NaN</td>\n",
       "      <td>NaN</td>\n",
       "      <td>NaN</td>\n",
       "      <td>178.743902</td>\n",
       "    </tr>\n",
       "    <tr>\n",
       "      <th>2019-06-30</th>\n",
       "      <td>248.515152</td>\n",
       "      <td>NaN</td>\n",
       "      <td>NaN</td>\n",
       "      <td>NaN</td>\n",
       "      <td>172.670732</td>\n",
       "    </tr>\n",
       "    <tr>\n",
       "      <th>2019-07-31</th>\n",
       "      <td>267.787879</td>\n",
       "      <td>NaN</td>\n",
       "      <td>NaN</td>\n",
       "      <td>NaN</td>\n",
       "      <td>190.268293</td>\n",
       "    </tr>\n",
       "    <tr>\n",
       "      <th>2019-08-31</th>\n",
       "      <td>253.515152</td>\n",
       "      <td>NaN</td>\n",
       "      <td>NaN</td>\n",
       "      <td>NaN</td>\n",
       "      <td>177.585366</td>\n",
       "    </tr>\n",
       "    <tr>\n",
       "      <th>2019-09-30</th>\n",
       "      <td>262.454545</td>\n",
       "      <td>NaN</td>\n",
       "      <td>NaN</td>\n",
       "      <td>NaN</td>\n",
       "      <td>182.048780</td>\n",
       "    </tr>\n",
       "    <tr>\n",
       "      <th>2019-10-31</th>\n",
       "      <td>282.090909</td>\n",
       "      <td>NaN</td>\n",
       "      <td>NaN</td>\n",
       "      <td>NaN</td>\n",
       "      <td>194.963415</td>\n",
       "    </tr>\n",
       "    <tr>\n",
       "      <th>2019-11-30</th>\n",
       "      <td>278.969697</td>\n",
       "      <td>NaN</td>\n",
       "      <td>NaN</td>\n",
       "      <td>NaN</td>\n",
       "      <td>188.817073</td>\n",
       "    </tr>\n",
       "    <tr>\n",
       "      <th>2019-12-31</th>\n",
       "      <td>280.000000</td>\n",
       "      <td>NaN</td>\n",
       "      <td>NaN</td>\n",
       "      <td>NaN</td>\n",
       "      <td>195.646341</td>\n",
       "    </tr>\n",
       "    <tr>\n",
       "      <th>2020-01-31</th>\n",
       "      <td>302.606061</td>\n",
       "      <td>NaN</td>\n",
       "      <td>NaN</td>\n",
       "      <td>NaN</td>\n",
       "      <td>218.731707</td>\n",
       "    </tr>\n",
       "    <tr>\n",
       "      <th>2020-02-29</th>\n",
       "      <td>281.878788</td>\n",
       "      <td>NaN</td>\n",
       "      <td>NaN</td>\n",
       "      <td>NaN</td>\n",
       "      <td>204.890244</td>\n",
       "    </tr>\n",
       "    <tr>\n",
       "      <th>2020-03-31</th>\n",
       "      <td>430.666667</td>\n",
       "      <td>NaN</td>\n",
       "      <td>NaN</td>\n",
       "      <td>NaN</td>\n",
       "      <td>307.926829</td>\n",
       "    </tr>\n",
       "    <tr>\n",
       "      <th>2020-04-30</th>\n",
       "      <td>303.030303</td>\n",
       "      <td>197.160428</td>\n",
       "      <td>247.353659</td>\n",
       "      <td>276.513812</td>\n",
       "      <td>234.548780</td>\n",
       "    </tr>\n",
       "    <tr>\n",
       "      <th>2020-05-31</th>\n",
       "      <td>325.545455</td>\n",
       "      <td>215.817204</td>\n",
       "      <td>266.076733</td>\n",
       "      <td>294.209945</td>\n",
       "      <td>238.365854</td>\n",
       "    </tr>\n",
       "    <tr>\n",
       "      <th>2020-06-30</th>\n",
       "      <td>322.909091</td>\n",
       "      <td>218.724324</td>\n",
       "      <td>269.403465</td>\n",
       "      <td>296.933702</td>\n",
       "      <td>240.560976</td>\n",
       "    </tr>\n",
       "    <tr>\n",
       "      <th>2020-07-31</th>\n",
       "      <td>330.636364</td>\n",
       "      <td>220.188172</td>\n",
       "      <td>278.133663</td>\n",
       "      <td>303.061111</td>\n",
       "      <td>247.243902</td>\n",
       "    </tr>\n",
       "    <tr>\n",
       "      <th>2020-08-31</th>\n",
       "      <td>314.121212</td>\n",
       "      <td>218.237838</td>\n",
       "      <td>271.519802</td>\n",
       "      <td>289.400000</td>\n",
       "      <td>222.195122</td>\n",
       "    </tr>\n",
       "    <tr>\n",
       "      <th>2020-09-30</th>\n",
       "      <td>331.969697</td>\n",
       "      <td>227.264865</td>\n",
       "      <td>280.186567</td>\n",
       "      <td>308.333333</td>\n",
       "      <td>245.512195</td>\n",
       "    </tr>\n",
       "    <tr>\n",
       "      <th>2020-10-31</th>\n",
       "      <td>334.090909</td>\n",
       "      <td>233.437838</td>\n",
       "      <td>283.917910</td>\n",
       "      <td>310.366667</td>\n",
       "      <td>241.341463</td>\n",
       "    </tr>\n",
       "    <tr>\n",
       "      <th>2020-11-30</th>\n",
       "      <td>331.727273</td>\n",
       "      <td>237.735135</td>\n",
       "      <td>289.287500</td>\n",
       "      <td>315.350000</td>\n",
       "      <td>241.412500</td>\n",
       "    </tr>\n",
       "    <tr>\n",
       "      <th>2020-12-31</th>\n",
       "      <td>338.969697</td>\n",
       "      <td>241.454054</td>\n",
       "      <td>291.620000</td>\n",
       "      <td>318.666667</td>\n",
       "      <td>254.662500</td>\n",
       "    </tr>\n",
       "    <tr>\n",
       "      <th>2021-01-31</th>\n",
       "      <td>343.181818</td>\n",
       "      <td>242.786885</td>\n",
       "      <td>294.662500</td>\n",
       "      <td>319.733333</td>\n",
       "      <td>257.775000</td>\n",
       "    </tr>\n",
       "    <tr>\n",
       "      <th>2021-02-28</th>\n",
       "      <td>313.484848</td>\n",
       "      <td>222.497268</td>\n",
       "      <td>269.620603</td>\n",
       "      <td>294.883333</td>\n",
       "      <td>228.887500</td>\n",
       "    </tr>\n",
       "    <tr>\n",
       "      <th>2021-03-31</th>\n",
       "      <td>362.939394</td>\n",
       "      <td>264.912568</td>\n",
       "      <td>312.420000</td>\n",
       "      <td>341.216667</td>\n",
       "      <td>270.737500</td>\n",
       "    </tr>\n",
       "  </tbody>\n",
       "</table>\n",
       "</div>"
      ],
      "text/plain": [
       "ccg_name           NHS CENTRAL LONDON (WESTMINSTER) CCG  \\\n",
       "report_period_end                                         \n",
       "2017-04-30                                    66.028571   \n",
       "2017-05-31                                    78.500000   \n",
       "2017-06-30                                    75.970588   \n",
       "2017-07-31                                    80.363636   \n",
       "2017-11-30                                    92.727273   \n",
       "2018-01-31                                   118.272727   \n",
       "2018-02-28                                   109.212121   \n",
       "2018-03-31                                   140.030303   \n",
       "2018-04-30                                   136.818182   \n",
       "2018-05-31                                   154.454545   \n",
       "2018-06-30                                   155.727273   \n",
       "2018-07-31                                   161.666667   \n",
       "2018-08-31                                   162.212121   \n",
       "2018-09-30                                   166.696970   \n",
       "2018-10-31                                   194.575758   \n",
       "2018-11-30                                   207.121212   \n",
       "2018-12-31                                   201.363636   \n",
       "2019-01-31                                   245.363636   \n",
       "2019-02-28                                   209.878788   \n",
       "2019-03-31                                   245.939394   \n",
       "2019-04-30                                   244.363636   \n",
       "2019-05-31                                   258.969697   \n",
       "2019-06-30                                   248.515152   \n",
       "2019-07-31                                   267.787879   \n",
       "2019-08-31                                   253.515152   \n",
       "2019-09-30                                   262.454545   \n",
       "2019-10-31                                   282.090909   \n",
       "2019-11-30                                   278.969697   \n",
       "2019-12-31                                   280.000000   \n",
       "2020-01-31                                   302.606061   \n",
       "2020-02-29                                   281.878788   \n",
       "2020-03-31                                   430.666667   \n",
       "2020-04-30                                   303.030303   \n",
       "2020-05-31                                   325.545455   \n",
       "2020-06-30                                   322.909091   \n",
       "2020-07-31                                   330.636364   \n",
       "2020-08-31                                   314.121212   \n",
       "2020-09-30                                   331.969697   \n",
       "2020-10-31                                   334.090909   \n",
       "2020-11-30                                   331.727273   \n",
       "2020-12-31                                   338.969697   \n",
       "2021-01-31                                   343.181818   \n",
       "2021-02-28                                   313.484848   \n",
       "2021-03-31                                   362.939394   \n",
       "\n",
       "ccg_name           NHS NORTH CENTRAL LONDON CCG  NHS SOUTH EAST LONDON  \\\n",
       "report_period_end                                                        \n",
       "2017-04-30                                  NaN                    NaN   \n",
       "2017-05-31                                  NaN                    NaN   \n",
       "2017-06-30                                  NaN                    NaN   \n",
       "2017-07-31                                  NaN                    NaN   \n",
       "2017-11-30                                  NaN                    NaN   \n",
       "2018-01-31                                  NaN                    NaN   \n",
       "2018-02-28                                  NaN                    NaN   \n",
       "2018-03-31                                  NaN                    NaN   \n",
       "2018-04-30                                  NaN                    NaN   \n",
       "2018-05-31                                  NaN                    NaN   \n",
       "2018-06-30                                  NaN                    NaN   \n",
       "2018-07-31                                  NaN                    NaN   \n",
       "2018-08-31                                  NaN                    NaN   \n",
       "2018-09-30                                  NaN                    NaN   \n",
       "2018-10-31                                  NaN                    NaN   \n",
       "2018-11-30                                  NaN                    NaN   \n",
       "2018-12-31                                  NaN                    NaN   \n",
       "2019-01-31                                  NaN                    NaN   \n",
       "2019-02-28                                  NaN                    NaN   \n",
       "2019-03-31                                  NaN                    NaN   \n",
       "2019-04-30                                  NaN                    NaN   \n",
       "2019-05-31                                  NaN                    NaN   \n",
       "2019-06-30                                  NaN                    NaN   \n",
       "2019-07-31                                  NaN                    NaN   \n",
       "2019-08-31                                  NaN                    NaN   \n",
       "2019-09-30                                  NaN                    NaN   \n",
       "2019-10-31                                  NaN                    NaN   \n",
       "2019-11-30                                  NaN                    NaN   \n",
       "2019-12-31                                  NaN                    NaN   \n",
       "2020-01-31                                  NaN                    NaN   \n",
       "2020-02-29                                  NaN                    NaN   \n",
       "2020-03-31                                  NaN                    NaN   \n",
       "2020-04-30                           197.160428             247.353659   \n",
       "2020-05-31                           215.817204             266.076733   \n",
       "2020-06-30                           218.724324             269.403465   \n",
       "2020-07-31                           220.188172             278.133663   \n",
       "2020-08-31                           218.237838             271.519802   \n",
       "2020-09-30                           227.264865             280.186567   \n",
       "2020-10-31                           233.437838             283.917910   \n",
       "2020-11-30                           237.735135             289.287500   \n",
       "2020-12-31                           241.454054             291.620000   \n",
       "2021-01-31                           242.786885             294.662500   \n",
       "2021-02-28                           222.497268             269.620603   \n",
       "2021-03-31                           264.912568             312.420000   \n",
       "\n",
       "ccg_name           NHS SOUTH WEST LONDON CCG  NHS WEST LONDON CCG  \n",
       "report_period_end                                                  \n",
       "2017-04-30                               NaN            49.616279  \n",
       "2017-05-31                               NaN            56.267442  \n",
       "2017-06-30                               NaN            54.790698  \n",
       "2017-07-31                               NaN            58.848837  \n",
       "2017-11-30                               NaN            65.697674  \n",
       "2018-01-31                               NaN            85.604651  \n",
       "2018-02-28                               NaN            79.220930  \n",
       "2018-03-31                               NaN            96.309524  \n",
       "2018-04-30                               NaN            97.964286  \n",
       "2018-05-31                               NaN           109.630952  \n",
       "2018-06-30                               NaN           113.321429  \n",
       "2018-07-31                               NaN           121.904762  \n",
       "2018-08-31                               NaN           119.353659  \n",
       "2018-09-30                               NaN           126.402439  \n",
       "2018-10-31                               NaN           145.402439  \n",
       "2018-11-30                               NaN           138.878049  \n",
       "2018-12-31                               NaN           143.621951  \n",
       "2019-01-31                               NaN           164.439024  \n",
       "2019-02-28                               NaN           143.951220  \n",
       "2019-03-31                               NaN           168.304878  \n",
       "2019-04-30                               NaN           170.451220  \n",
       "2019-05-31                               NaN           178.743902  \n",
       "2019-06-30                               NaN           172.670732  \n",
       "2019-07-31                               NaN           190.268293  \n",
       "2019-08-31                               NaN           177.585366  \n",
       "2019-09-30                               NaN           182.048780  \n",
       "2019-10-31                               NaN           194.963415  \n",
       "2019-11-30                               NaN           188.817073  \n",
       "2019-12-31                               NaN           195.646341  \n",
       "2020-01-31                               NaN           218.731707  \n",
       "2020-02-29                               NaN           204.890244  \n",
       "2020-03-31                               NaN           307.926829  \n",
       "2020-04-30                        276.513812           234.548780  \n",
       "2020-05-31                        294.209945           238.365854  \n",
       "2020-06-30                        296.933702           240.560976  \n",
       "2020-07-31                        303.061111           247.243902  \n",
       "2020-08-31                        289.400000           222.195122  \n",
       "2020-09-30                        308.333333           245.512195  \n",
       "2020-10-31                        310.366667           241.341463  \n",
       "2020-11-30                        315.350000           241.412500  \n",
       "2020-12-31                        318.666667           254.662500  \n",
       "2021-01-31                        319.733333           257.775000  \n",
       "2021-02-28                        294.883333           228.887500  \n",
       "2021-03-31                        341.216667           270.737500  "
      ]
     },
     "execution_count": 51,
     "metadata": {},
     "output_type": "execute_result"
    }
   ],
   "source": [
    "POMI_usage_london_pivot = pd.pivot_table(POMI_usage_london, index = ['report_period_end'], columns = 'ccg_name', values = 'Pat_Presc_Use')\n",
    "POMI_usage_london_pivot"
   ]
  },
  {
   "cell_type": "markdown",
   "id": "ca7d4006-61f9-42a9-af4b-4f6a983f22d2",
   "metadata": {},
   "source": [
    "## Pat_Presc_Use per Capita - March 2021\n"
   ]
  },
  {
   "cell_type": "code",
   "execution_count": 62,
   "id": "2fb2a1a9-a644-43bf-981e-ae2107da87ed",
   "metadata": {},
   "outputs": [
    {
     "ename": "SyntaxError",
     "evalue": "leading zeros in decimal integer literals are not permitted; use an 0o prefix for octal integers (<ipython-input-62-67b19cc7f0b3>, line 1)",
     "output_type": "error",
     "traceback": [
      "\u001b[0;36m  File \u001b[0;32m\"<ipython-input-62-67b19cc7f0b3>\"\u001b[0;36m, line \u001b[0;32m1\u001b[0m\n\u001b[0;31m    POMI_usage_march_2021 = POMI_usage[POMI_usage['report_period_end'] == 2021-03-31\u001b[0m\n\u001b[0m                                                                                ^\u001b[0m\n\u001b[0;31mSyntaxError\u001b[0m\u001b[0;31m:\u001b[0m leading zeros in decimal integer literals are not permitted; use an 0o prefix for octal integers\n"
     ]
    }
   ],
   "source": []
  },
  {
   "cell_type": "code",
   "execution_count": 100,
   "id": "66b3683f-d018-4b0a-87ed-4751906e5f42",
   "metadata": {},
   "outputs": [
    {
     "data": {
      "text/plain": [
       "field\n",
       "report_period_end     object\n",
       "ccg_name              object\n",
       "practice_name         object\n",
       "Pat_Appts_Use        float64\n",
       "Pat_Presc_Use        float64\n",
       "Total_Use            float64\n",
       "patient_list_size    float64\n",
       "dtype: object"
      ]
     },
     "execution_count": 100,
     "metadata": {},
     "output_type": "execute_result"
    }
   ],
   "source": [
    "POMI_usage.report_period_end = POMI_usage.report_period_end.astype(str)\n",
    "POMI_usage.practice_name = POMI_usage.practice_name.astype(str)\n",
    "POMI_usage['ccg_name'] = POMI_usage['ccg_name'].astype(str) \n",
    "POMI_usage.dtypes"
   ]
  },
  {
   "cell_type": "code",
   "execution_count": 97,
   "id": "78575571-5813-4b4c-90c1-11783eb91906",
   "metadata": {},
   "outputs": [
    {
     "data": {
      "text/html": [
       "<div>\n",
       "<style scoped>\n",
       "    .dataframe tbody tr th:only-of-type {\n",
       "        vertical-align: middle;\n",
       "    }\n",
       "\n",
       "    .dataframe tbody tr th {\n",
       "        vertical-align: top;\n",
       "    }\n",
       "\n",
       "    .dataframe thead th {\n",
       "        text-align: right;\n",
       "    }\n",
       "</style>\n",
       "<table border=\"1\" class=\"dataframe\">\n",
       "  <thead>\n",
       "    <tr style=\"text-align: right;\">\n",
       "      <th>field</th>\n",
       "      <th>report_period_end</th>\n",
       "      <th>ccg_name</th>\n",
       "      <th>practice_name</th>\n",
       "      <th>Pat_Appts_Use</th>\n",
       "      <th>Pat_Presc_Use</th>\n",
       "      <th>Total_Use</th>\n",
       "      <th>patient_list_size</th>\n",
       "    </tr>\n",
       "  </thead>\n",
       "  <tbody>\n",
       "    <tr>\n",
       "      <th>293572</th>\n",
       "      <td>2021-03-31</td>\n",
       "      <td>NHS BARKING AND DAGENHAM CCG</td>\n",
       "      <td>ABBEY MEDICAL CENTRE</td>\n",
       "      <td>0.0</td>\n",
       "      <td>164.0</td>\n",
       "      <td>8587.0</td>\n",
       "      <td>7146.0</td>\n",
       "    </tr>\n",
       "    <tr>\n",
       "      <th>293573</th>\n",
       "      <td>2021-03-31</td>\n",
       "      <td>NHS BARKING AND DAGENHAM CCG</td>\n",
       "      <td>AURORA MEDCARE</td>\n",
       "      <td>0.0</td>\n",
       "      <td>274.0</td>\n",
       "      <td>14065.0</td>\n",
       "      <td>18598.0</td>\n",
       "    </tr>\n",
       "    <tr>\n",
       "      <th>293574</th>\n",
       "      <td>2021-03-31</td>\n",
       "      <td>NHS BARKING AND DAGENHAM CCG</td>\n",
       "      <td>BARKING MEDICAL GROUP PRACTICE</td>\n",
       "      <td>83.0</td>\n",
       "      <td>343.0</td>\n",
       "      <td>11538.0</td>\n",
       "      <td>11392.0</td>\n",
       "    </tr>\n",
       "    <tr>\n",
       "      <th>293575</th>\n",
       "      <td>2021-03-31</td>\n",
       "      <td>NHS BARKING AND DAGENHAM CCG</td>\n",
       "      <td>DEWEY PRACTICE (DR CHRISTOPHER)</td>\n",
       "      <td>0.0</td>\n",
       "      <td>88.0</td>\n",
       "      <td>2140.0</td>\n",
       "      <td>4050.0</td>\n",
       "    </tr>\n",
       "    <tr>\n",
       "      <th>293576</th>\n",
       "      <td>2021-03-31</td>\n",
       "      <td>NHS BARKING AND DAGENHAM CCG</td>\n",
       "      <td>DR A ARIF</td>\n",
       "      <td>20.0</td>\n",
       "      <td>80.0</td>\n",
       "      <td>2507.0</td>\n",
       "      <td>5127.0</td>\n",
       "    </tr>\n",
       "    <tr>\n",
       "      <th>...</th>\n",
       "      <td>...</td>\n",
       "      <td>...</td>\n",
       "      <td>...</td>\n",
       "      <td>...</td>\n",
       "      <td>...</td>\n",
       "      <td>...</td>\n",
       "      <td>...</td>\n",
       "    </tr>\n",
       "    <tr>\n",
       "      <th>300104</th>\n",
       "      <td>2021-03-31</td>\n",
       "      <td>NHS WOLVERHAMPTON CCG</td>\n",
       "      <td>THORNLEY STREET SURGERY</td>\n",
       "      <td>97.0</td>\n",
       "      <td>200.0</td>\n",
       "      <td>4537.0</td>\n",
       "      <td>9866.0</td>\n",
       "    </tr>\n",
       "    <tr>\n",
       "      <th>300105</th>\n",
       "      <td>2021-03-31</td>\n",
       "      <td>NHS WOLVERHAMPTON CCG</td>\n",
       "      <td>TUDOR MEDICAL CENTRE</td>\n",
       "      <td>0.0</td>\n",
       "      <td>377.0</td>\n",
       "      <td>16302.0</td>\n",
       "      <td>19181.0</td>\n",
       "    </tr>\n",
       "    <tr>\n",
       "      <th>300106</th>\n",
       "      <td>2021-03-31</td>\n",
       "      <td>NHS WOLVERHAMPTON CCG</td>\n",
       "      <td>WARSTONES SURGERY</td>\n",
       "      <td>0.0</td>\n",
       "      <td>101.0</td>\n",
       "      <td>1671.0</td>\n",
       "      <td>4247.0</td>\n",
       "    </tr>\n",
       "    <tr>\n",
       "      <th>300107</th>\n",
       "      <td>2021-03-31</td>\n",
       "      <td>NHS WOLVERHAMPTON CCG</td>\n",
       "      <td>WEST PARK SURGERY</td>\n",
       "      <td>0.0</td>\n",
       "      <td>86.0</td>\n",
       "      <td>2093.0</td>\n",
       "      <td>3883.0</td>\n",
       "    </tr>\n",
       "    <tr>\n",
       "      <th>300108</th>\n",
       "      <td>2021-03-31</td>\n",
       "      <td>NHS WOLVERHAMPTON CCG</td>\n",
       "      <td>WHITMORE REANS MEDICAL PRACTICE</td>\n",
       "      <td>0.0</td>\n",
       "      <td>133.0</td>\n",
       "      <td>3759.0</td>\n",
       "      <td>15150.0</td>\n",
       "    </tr>\n",
       "  </tbody>\n",
       "</table>\n",
       "<p>6537 rows × 7 columns</p>\n",
       "</div>"
      ],
      "text/plain": [
       "field  report_period_end                      ccg_name  \\\n",
       "293572        2021-03-31  NHS BARKING AND DAGENHAM CCG   \n",
       "293573        2021-03-31  NHS BARKING AND DAGENHAM CCG   \n",
       "293574        2021-03-31  NHS BARKING AND DAGENHAM CCG   \n",
       "293575        2021-03-31  NHS BARKING AND DAGENHAM CCG   \n",
       "293576        2021-03-31  NHS BARKING AND DAGENHAM CCG   \n",
       "...                  ...                           ...   \n",
       "300104        2021-03-31         NHS WOLVERHAMPTON CCG   \n",
       "300105        2021-03-31         NHS WOLVERHAMPTON CCG   \n",
       "300106        2021-03-31         NHS WOLVERHAMPTON CCG   \n",
       "300107        2021-03-31         NHS WOLVERHAMPTON CCG   \n",
       "300108        2021-03-31         NHS WOLVERHAMPTON CCG   \n",
       "\n",
       "field                     practice_name  Pat_Appts_Use  Pat_Presc_Use  \\\n",
       "293572             ABBEY MEDICAL CENTRE            0.0          164.0   \n",
       "293573                   AURORA MEDCARE            0.0          274.0   \n",
       "293574   BARKING MEDICAL GROUP PRACTICE           83.0          343.0   \n",
       "293575  DEWEY PRACTICE (DR CHRISTOPHER)            0.0           88.0   \n",
       "293576                        DR A ARIF           20.0           80.0   \n",
       "...                                 ...            ...            ...   \n",
       "300104          THORNLEY STREET SURGERY           97.0          200.0   \n",
       "300105             TUDOR MEDICAL CENTRE            0.0          377.0   \n",
       "300106                WARSTONES SURGERY            0.0          101.0   \n",
       "300107                WEST PARK SURGERY            0.0           86.0   \n",
       "300108  WHITMORE REANS MEDICAL PRACTICE            0.0          133.0   \n",
       "\n",
       "field   Total_Use  patient_list_size  \n",
       "293572     8587.0             7146.0  \n",
       "293573    14065.0            18598.0  \n",
       "293574    11538.0            11392.0  \n",
       "293575     2140.0             4050.0  \n",
       "293576     2507.0             5127.0  \n",
       "...           ...                ...  \n",
       "300104     4537.0             9866.0  \n",
       "300105    16302.0            19181.0  \n",
       "300106     1671.0             4247.0  \n",
       "300107     2093.0             3883.0  \n",
       "300108     3759.0            15150.0  \n",
       "\n",
       "[6537 rows x 7 columns]"
      ]
     },
     "execution_count": 97,
     "metadata": {},
     "output_type": "execute_result"
    }
   ],
   "source": [
    "POMI_usage_march_2021 = POMI_usage[POMI_usage['report_period_end'] == '2021-03-31']\n",
    "POMI_usage_march_2021 "
   ]
  },
  {
   "cell_type": "code",
   "execution_count": 103,
   "id": "fa175622-c7ec-406a-b742-f90f9be759ce",
   "metadata": {},
   "outputs": [],
   "source": [
    "POMI_usage_march_2021.to_csv('POMI_March_2021.csv')"
   ]
  },
  {
   "cell_type": "code",
   "execution_count": 90,
   "id": "8b9c4ff2-129e-483a-80a1-ad247c8e1f32",
   "metadata": {},
   "outputs": [
    {
     "data": {
      "text/plain": [
       "<pandas.core.groupby.generic.DataFrameGroupBy object at 0x7fa39e604970>"
      ]
     },
     "execution_count": 90,
     "metadata": {},
     "output_type": "execute_result"
    }
   ],
   "source": []
  },
  {
   "cell_type": "code",
   "execution_count": null,
   "id": "6c4b010f-4c68-4759-9511-c81db393c28d",
   "metadata": {},
   "outputs": [],
   "source": []
  }
 ],
 "metadata": {
  "kernelspec": {
   "display_name": "Python 3",
   "language": "python",
   "name": "python3"
  },
  "language_info": {
   "codemirror_mode": {
    "name": "ipython",
    "version": 3
   },
   "file_extension": ".py",
   "mimetype": "text/x-python",
   "name": "python",
   "nbconvert_exporter": "python",
   "pygments_lexer": "ipython3",
   "version": "3.8.8"
  }
 },
 "nbformat": 4,
 "nbformat_minor": 5
}
