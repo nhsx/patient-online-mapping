{
 "cells": [
  {
   "cell_type": "markdown",
   "id": "fa351653-7f37-4735-8692-16fbebbc9b10",
   "metadata": {},
   "source": [
    "# Patient Online - Geographic Analysis\n",
    "#### Developed by: Mary Amanuel\n",
    "#### Contact: mary.amanuel@nhsx.nhs.uk\n",
    "#### Last Updated: 25th September 2021"
   ]
  },
  {
   "cell_type": "code",
   "execution_count": null,
   "id": "f46917ed-33ce-4ba9-bfa7-e1442024c76d",
   "metadata": {},
   "outputs": [],
   "source": [
    "import pandas as pd\n",
    "import os\n",
    "import plotly\n",
    "import plotly.graph_objects as go\n",
    "import plotly.express as px\n",
    "import plotly.offline as pyo\n",
    "import numpy as np\n",
    "import datetime\n",
    "import matplotlib.pyplot as plt\n",
    "import seaborn as sns\n",
    "nhs_colours = ['#00A499', '#FFB81C', '#7C2855']\n"
   ]
  },
  {
   "cell_type": "markdown",
   "id": "39def70f-138f-44ee-af04-33dbef563dc8",
   "metadata": {},
   "source": [
    "### Patient Online  - August 2021 Data "
   ]
  },
  {
   "cell_type": "code",
   "execution_count": null,
   "id": "e940c7ed-69a3-4f49-8cb1-7f7870f103a2",
   "metadata": {},
   "outputs": [],
   "source": [
    "POMI = pd.read_csv('data/POMI 2017_2021/POMI_APR2021_to_AUG2021.csv', sep = ',')\n",
    "POMI"
   ]
  },
  {
   "cell_type": "code",
   "execution_count": null,
   "id": "c1e1c525-c289-470d-976e-81d1adc70be0",
   "metadata": {},
   "outputs": [],
   "source": [
    "POMI['report_period_end'] = pd.to_datetime(POMI['report_period_end'])\n",
    "POMI['ccg_name'] = POMI['ccg_name'].replace(['NHS Herefordshire CCG'],'NHS Herefordshire and Worcestershire CCG')\n",
    "POMI['ccg_name'] = POMI['ccg_name'].replace(['NHS Herts Valley CCG'],'NHS Herts Valleys CCG')\n",
    "POMI['ccg_name'] = POMI['ccg_name'].str.upper()\n",
    "POMI['practice_name'] = POMI['practice_name'].str.upper()\n",
    "\n",
    "POMI"
   ]
  },
  {
   "cell_type": "code",
   "execution_count": null,
   "id": "bdd65391-f642-47ff-887f-63950e50f395",
   "metadata": {},
   "outputs": [],
   "source": [
    "POMI_pivot =  pd.pivot_table(POMI, index = ['report_period_end', 'ccg_name', 'practice_name', 'region_code', ], columns = 'field', values = 'value')\n",
    "POMI_pivot"
   ]
  },
  {
   "cell_type": "code",
   "execution_count": null,
   "id": "71de985f-27fd-4481-8ee8-1a99cd36c8a7",
   "metadata": {},
   "outputs": [],
   "source": [
    "POMI_filter = POMI_pivot.drop(['New_Pat_Enbld','Pat_Appts_Enbld', 'Pat_DetCodeRec_Enbld','Pat_DetCodeRec_Use','Pat_Presc_Enbld','Sys_Appts_Enbld','Sys_DetCodeRec_Enbld','Sys_Presc_Enbld','Total_Pat_Enbld'], axis=1)\n",
    "POMI_filter = POMI_filter.reset_index()\n",
    "POMI_filter"
   ]
  },
  {
   "cell_type": "code",
   "execution_count": null,
   "id": "58e6defc-1e42-4cf7-b7ec-8e4277733f2e",
   "metadata": {},
   "outputs": [],
   "source": [
    "patient_list_size_check = POMI_filter[['report_period_end','patient_list_size']].groupby('report_period_end').sum()\n",
    "patient_list_size_check "
   ]
  },
  {
   "cell_type": "code",
   "execution_count": null,
   "id": "b495790a-9017-4fff-bc85-ad9b52fc0d56",
   "metadata": {},
   "outputs": [],
   "source": [
    "POMI_filter.report_period_end = POMI_filter.report_period_end.astype(str)\n",
    "POMI_filter.dtypes"
   ]
  },
  {
   "cell_type": "code",
   "execution_count": null,
   "id": "b2ee2dc9-24e4-4daa-849f-bee40ca4e7da",
   "metadata": {},
   "outputs": [],
   "source": [
    "POMI_august_2021 = POMI_filter[POMI_filter['report_period_end'] == '2021-08-31']\n",
    "POMI_august_2021"
   ]
  },
  {
   "cell_type": "code",
   "execution_count": null,
   "id": "d4bb69a8-6ef9-468a-8a04-a6eec38c2a81",
   "metadata": {},
   "outputs": [],
   "source": [
    "POMI_august_2021_cgg = POMI_august_2021[['ccg_name', 'region_code', 'Pat_Appts_Use', 'Pat_Presc_Use', 'patient_list_size']].groupby('ccg_name').sum()\n",
    "POMI_august_2021_cgg.reset_index()"
   ]
  },
  {
   "cell_type": "code",
   "execution_count": null,
   "id": "c75cbb52-75a7-49d6-b15b-f7c7f09b5a65",
   "metadata": {},
   "outputs": [],
   "source": [
    "patient_list_size_check_ccg = POMI_august_2021[['ccg_name','patient_list_size']].groupby('ccg_name').sum()\n",
    "patient_list_size_check_ccg"
   ]
  },
  {
   "cell_type": "code",
   "execution_count": null,
   "id": "33bcaeb4-c537-4003-96cd-041df478ae5c",
   "metadata": {},
   "outputs": [],
   "source": [
    "POMI_august_2021_cgg['Pat_Presc_Use_per_10000'] = (POMI_august_2021_cgg['Pat_Presc_Use'] / POMI_august_2021_cgg['patient_list_size']) * 10000\n",
    "POMI_august_2021_cgg['Pat_Appts_Use_per_10000'] = (POMI_august_2021_cgg['Pat_Appts_Use'] / POMI_august_2021_cgg['patient_list_size']) * 10000\n",
    "POMI_final = POMI_august_2021_cgg.round(2)\n",
    "POMI_final"
   ]
  },
  {
   "cell_type": "markdown",
   "id": "360ff421-088d-4078-b6a7-8a902da625cb",
   "metadata": {},
   "source": [
    "### Merging CCG CODES / ONS CODES"
   ]
  },
  {
   "cell_type": "code",
   "execution_count": null,
   "id": "c003b907-4f3a-4a99-9a80-01d01228eb9a",
   "metadata": {},
   "outputs": [],
   "source": [
    "CCG_APRIL_2021_CODES_ONS = pd.read_csv('data/POMI 2017_2021/Clinical_Commissioning_Groups_(April_2021)_Names_and_Codes_in_England.csv', sep = ',')\n",
    "CCG_APRIL_2021_CODES_ONS "
   ]
  },
  {
   "cell_type": "code",
   "execution_count": null,
   "id": "a9f7873c-fe37-4ba3-8ac6-f57b7c9794d9",
   "metadata": {},
   "outputs": [],
   "source": [
    "CCG_APRIL_2021_CODES_ONS['CCG21NM']= CCG_APRIL_2021_CODES_ONS['CCG21NM'].str.upper()\n",
    "CCG_APRIL_2021_CODES_ONS"
   ]
  },
  {
   "cell_type": "code",
   "execution_count": null,
   "id": "db4dffbf-4497-4a84-a600-acfd65a74546",
   "metadata": {},
   "outputs": [],
   "source": [
    "CCG_codes = CCG_APRIL_2021_CODES_ONS.merge(POMI_final, left_on='CCG21NM', right_on ='ccg_name')\n",
    "data_set_data_wrapper_mapping = CCG_codes.rename(columns={'CCG21NM': 'Name'})\n",
    "CCG_code_results = data_set_data_wrapper_mapping.sort_values(by='Name', ascending=True)\n",
    "CCG_code_results"
   ]
  },
  {
   "cell_type": "code",
   "execution_count": null,
   "id": "5d3ff77b-05c1-441c-80e2-98f8bb7954fe",
   "metadata": {},
   "outputs": [],
   "source": [
    "CCG_code_results.to_csv('POMI_CCG_Results_August_2021.csv')"
   ]
  },
  {
   "cell_type": "markdown",
   "id": "f2fbdb16-d3d2-45a0-8a7e-721bc5d08d3a",
   "metadata": {},
   "source": [
    "### Regional Bar Charts"
   ]
  },
  {
   "cell_type": "code",
   "execution_count": null,
   "id": "a54a6e29-adf1-4df6-9df2-8da72743a966",
   "metadata": {},
   "outputs": [],
   "source": [
    "POMI_august_2021_region = POMI_august_2021[['ccg_name', 'region_code', 'Pat_Appts_Use', 'Pat_Presc_Use', 'patient_list_size']].groupby('region_code').sum()\n",
    "POMI_august_2021_region.reset_index()"
   ]
  },
  {
   "cell_type": "code",
   "execution_count": null,
   "id": "c3b951a3-9757-4e41-9b29-12ddbeb73350",
   "metadata": {},
   "outputs": [],
   "source": [
    "patient_list_size_check_region = POMI_august_2021_region['patient_list_size'].sum()\n",
    "patient_list_size_check_region "
   ]
  },
  {
   "cell_type": "code",
   "execution_count": null,
   "id": "f10677ff-7a03-4bde-abe5-ed245ce86431",
   "metadata": {},
   "outputs": [],
   "source": [
    "POMI_august_2021_region['Pat_Presc_Use_per_10000'] = (POMI_august_2021_region['Pat_Presc_Use'] / POMI_august_2021_region['patient_list_size']) * 10000\n",
    "POMI_august_2021_region['Pat_Appts_Use_per_10000'] = (POMI_august_2021_region['Pat_Appts_Use'] / POMI_august_2021_region['patient_list_size']) * 10000\n",
    "POMI_region = POMI_august_2021_region.round(2)\n",
    "region_name = {'Y56': 'London', 'Y58': 'South West', 'Y59': 'South East', 'Y60': 'Midlands', 'Y61': 'East of England', 'Y61': 'East of England', 'Y62': 'North West', 'Y63': 'North East and Yorkshire'}\n",
    "POMI_region_code_names = POMI_region.reset_index()"
   ]
  },
  {
   "cell_type": "code",
   "execution_count": null,
   "id": "4b8e0fb6-c5b9-4e02-98a1-7b5f41b8fbfe",
   "metadata": {},
   "outputs": [],
   "source": [
    "POMI_region_code_names['region_name'] = POMI_region_code_names['region_code'].map(region_name)\n",
    "Region_code_results_presc = POMI_region_code_names.sort_values(by='Pat_Presc_Use_per_10000', ascending=False)\n",
    "Region_code_results_presc\n",
    "\n",
    "data0 = go.Bar(\n",
    "    x = Region_code_results_presc.region_name,\n",
    "    y = Region_code_results_presc.Pat_Presc_Use_per_10000)\n",
    "\n",
    "figure = go.Figure(data = data0)\n",
    "figure.show()"
   ]
  },
  {
   "cell_type": "code",
   "execution_count": null,
   "id": "2c00f6c2-e496-401d-b1e0-95d5446cc68f",
   "metadata": {},
   "outputs": [],
   "source": [
    "\n",
    "# Write chart to file (.html)\n",
    "config = {\"displayModeBar\": False, \"displaylogo\": False}\n",
    "plotly_obj = plotly.offline.plot(\n",
    "    fig, include_plotlyjs=False, output_type=\"div\", config=config\n",
    ")\n",
    "with open(\"_includes/prescriptions.html\", \"w\") as file:\n",
    "    file.write(plotly_obj)"
   ]
  },
  {
   "cell_type": "code",
   "execution_count": null,
   "id": "ce2f3c2d-cb73-495e-bad5-74c79ef3bc23",
   "metadata": {},
   "outputs": [],
   "source": [
    "POMI_region_code_names['region_name'] = POMI_region_code_names['region_code'].map(region_name)\n",
    "Region_code_results_appts= POMI_region_code_names.sort_values(by='Pat_Appts_Use_per_10000', ascending=False)\n",
    "\n",
    "data1 = go.Bar(\n",
    "    x = Region_code_results_appts.region_name,\n",
    "    y = Region_code_results_appts.Pat_Appts_Use_per_10000)\n",
    "\n",
    "figure = go.Figure(data = data1)\n",
    "figure.show()"
   ]
  },
  {
   "cell_type": "code",
   "execution_count": null,
   "id": "e716b2ae-367b-496b-ab88-6b176a26c03b",
   "metadata": {},
   "outputs": [],
   "source": [
    "\n",
    "# Write chart to file (.html)\n",
    "config = {\"displayModeBar\": False, \"displaylogo\": False}\n",
    "plotly_obj = plotly.offline.plot(\n",
    "    fig, include_plotlyjs=False, output_type=\"div\", config=config\n",
    ")\n",
    "with open(\"_includes/appointments.html\", \"w\") as file:\n",
    "    file.write(plotly_obj)"
   ]
  },
  {
   "cell_type": "code",
   "execution_count": null,
   "id": "47bd07a4-5307-43e7-aaff-1cfb8e4fcf2b",
   "metadata": {},
   "outputs": [],
   "source": [
    "Region_code_results_appts.to_csv('Region_code_results_appts_August_2021.csv')"
   ]
  }
 ],
 "metadata": {
  "kernelspec": {
   "display_name": "Python 3",
   "language": "python",
   "name": "python3"
  },
  "language_info": {
   "codemirror_mode": {
    "name": "ipython",
    "version": 3
   },
   "file_extension": ".py",
   "mimetype": "text/x-python",
   "name": "python",
   "nbconvert_exporter": "python",
   "pygments_lexer": "ipython3",
   "version": "3.8.8"
  }
 },
 "nbformat": 4,
 "nbformat_minor": 5
}
