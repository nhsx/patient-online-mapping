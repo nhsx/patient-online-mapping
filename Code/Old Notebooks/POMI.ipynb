{
 "cells": [
  {
   "cell_type": "code",
   "execution_count": 63,
   "id": "8742262d-edcc-4afa-befc-00d70b33f312",
   "metadata": {},
   "outputs": [],
   "source": [
    "import pandas as pd\n",
    "import os\n",
    "import plotly\n",
    "import plotly.graph_objects as go\n",
    "import plotly.express as px\n",
    "import plotly.offline as pyo\n",
    "import numpy as np\n",
    "import datetime\n",
    "#import matplotlib.pyplot as plt\n",
    "import seaborn as sns\n",
    "\n",
    "\n"
   ]
  },
  {
   "cell_type": "code",
   "execution_count": 29,
   "id": "6294a5c9-49c7-4660-b461-475030a50a3c",
   "metadata": {},
   "outputs": [],
   "source": [
    "POMI_2017_2018 = pd.read_csv('data/POMI 2017_2021/POMI_APR2017_to_MAR2018.csv', sep = ',')\n",
    "POMI_2018_2018 = pd.read_csv('data/POMI 2017_2021/POMI_APR2018_to_SEP2018.csv', sep = ',')\n",
    "POMI_2018_2019 = pd.read_csv('data/POMI 2017_2021/POMI_OCT2018_to_MAR2019.csv', sep = ',')\n",
    "POMI_2019_2020 = pd.read_csv('data/POMI 2017_2021/POMI_APR2019_to_MAR2020.csv', sep = ',')\n",
    "POMI_2020_2021 = pd.read_csv('data/POMI 2017_2021/POMI_APR2020_to_MAR2021_v2.csv', sep = ',')\n",
    "\n",
    "POMI_FILES = [POMI_2017_2018, \n",
    "POMI_2018_2018,\n",
    "POMI_2018_2019, \n",
    "POMI_2019_2020, \n",
    "POMI_2020_2021]\n",
    "\n",
    "\n",
    "POMI = pd.concat(POMI_FILES)\n"
   ]
  },
  {
   "cell_type": "code",
   "execution_count": 136,
   "id": "592fef2e-24db-44d5-a65b-64310d4657f8",
   "metadata": {},
   "outputs": [],
   "source": [
    "POMI.dtypes\n",
    "POMI['report_period_end'] = pd.to_datetime(POMI['report_period_end'])\n",
    "POMI['ccg_name'] = POMI['ccg_name'].str.upper()"
   ]
  },
  {
   "cell_type": "code",
   "execution_count": 137,
   "id": "902dc1b0-49d0-4b2e-9b78-41cfd7b4409f",
   "metadata": {},
   "outputs": [
    {
     "data": {
      "text/html": [
       "<div>\n",
       "<style scoped>\n",
       "    .dataframe tbody tr th:only-of-type {\n",
       "        vertical-align: middle;\n",
       "    }\n",
       "\n",
       "    .dataframe tbody tr th {\n",
       "        vertical-align: top;\n",
       "    }\n",
       "\n",
       "    .dataframe thead th {\n",
       "        text-align: right;\n",
       "    }\n",
       "</style>\n",
       "<table border=\"1\" class=\"dataframe\">\n",
       "  <thead>\n",
       "    <tr style=\"text-align: right;\">\n",
       "      <th></th>\n",
       "      <th></th>\n",
       "      <th>field</th>\n",
       "      <th>New_Pat_Enbld</th>\n",
       "      <th>Pat_Appts_Enbld</th>\n",
       "      <th>Pat_Appts_Use</th>\n",
       "      <th>Pat_DetCodeRec_Enbld</th>\n",
       "      <th>Pat_DetCodeRec_Use</th>\n",
       "      <th>Pat_Presc_Enbld</th>\n",
       "      <th>Pat_Presc_Use</th>\n",
       "      <th>Sys_Appts_Enbld</th>\n",
       "      <th>Sys_DetCodeRec_Enbld</th>\n",
       "      <th>Sys_Presc_Enbld</th>\n",
       "      <th>Total_Pat_Enbld</th>\n",
       "      <th>Total_Use</th>\n",
       "      <th>patient_list_size</th>\n",
       "    </tr>\n",
       "    <tr>\n",
       "      <th>report_period_end</th>\n",
       "      <th>ccg_code</th>\n",
       "      <th>ccg_name</th>\n",
       "      <th></th>\n",
       "      <th></th>\n",
       "      <th></th>\n",
       "      <th></th>\n",
       "      <th></th>\n",
       "      <th></th>\n",
       "      <th></th>\n",
       "      <th></th>\n",
       "      <th></th>\n",
       "      <th></th>\n",
       "      <th></th>\n",
       "      <th></th>\n",
       "      <th></th>\n",
       "    </tr>\n",
       "  </thead>\n",
       "  <tbody>\n",
       "    <tr>\n",
       "      <th rowspan=\"5\" valign=\"top\">2017-04-30</th>\n",
       "      <th>00C</th>\n",
       "      <th>NHS DARLINGTON CCG</th>\n",
       "      <td>46.454545</td>\n",
       "      <td>2218.636364</td>\n",
       "      <td>312.818182</td>\n",
       "      <td>0.000000</td>\n",
       "      <td>0.000000</td>\n",
       "      <td>2216.454545</td>\n",
       "      <td>629.272727</td>\n",
       "      <td>2.000000</td>\n",
       "      <td>2.000000</td>\n",
       "      <td>2.0</td>\n",
       "      <td>2300.363636</td>\n",
       "      <td>960.000000</td>\n",
       "      <td>9797.818182</td>\n",
       "    </tr>\n",
       "    <tr>\n",
       "      <th>00D</th>\n",
       "      <th>NHS DURHAM DALES, EASINGTON AND SEDGEFIELD CCG</th>\n",
       "      <td>29.000000</td>\n",
       "      <td>1123.763158</td>\n",
       "      <td>138.394737</td>\n",
       "      <td>8.105263</td>\n",
       "      <td>23.921053</td>\n",
       "      <td>1122.815789</td>\n",
       "      <td>291.026316</td>\n",
       "      <td>2.000000</td>\n",
       "      <td>2.000000</td>\n",
       "      <td>2.0</td>\n",
       "      <td>1126.289474</td>\n",
       "      <td>525.684211</td>\n",
       "      <td>7652.131579</td>\n",
       "    </tr>\n",
       "    <tr>\n",
       "      <th>00J</th>\n",
       "      <th>NHS NORTH DURHAM CCG</th>\n",
       "      <td>25.064516</td>\n",
       "      <td>1713.548387</td>\n",
       "      <td>205.774194</td>\n",
       "      <td>44.838710</td>\n",
       "      <td>132.774194</td>\n",
       "      <td>1656.838710</td>\n",
       "      <td>445.193548</td>\n",
       "      <td>2.000000</td>\n",
       "      <td>2.000000</td>\n",
       "      <td>2.0</td>\n",
       "      <td>1721.387097</td>\n",
       "      <td>1194.580645</td>\n",
       "      <td>8270.387097</td>\n",
       "    </tr>\n",
       "    <tr>\n",
       "      <th>00K</th>\n",
       "      <th>NHS HARTLEPOOL AND STOCKTON-ON-TEES CCG</th>\n",
       "      <td>33.166667</td>\n",
       "      <td>1226.277778</td>\n",
       "      <td>112.888889</td>\n",
       "      <td>0.277778</td>\n",
       "      <td>2.583333</td>\n",
       "      <td>1238.166667</td>\n",
       "      <td>378.500000</td>\n",
       "      <td>2.000000</td>\n",
       "      <td>1.861111</td>\n",
       "      <td>2.0</td>\n",
       "      <td>1257.472222</td>\n",
       "      <td>707.555556</td>\n",
       "      <td>8228.416667</td>\n",
       "    </tr>\n",
       "    <tr>\n",
       "      <th>00L</th>\n",
       "      <th>NHS NORTHUMBERLAND CCG</th>\n",
       "      <td>22.348837</td>\n",
       "      <td>1517.697674</td>\n",
       "      <td>158.558140</td>\n",
       "      <td>4.534884</td>\n",
       "      <td>113.255814</td>\n",
       "      <td>1518.418605</td>\n",
       "      <td>432.906977</td>\n",
       "      <td>2.000000</td>\n",
       "      <td>1.697674</td>\n",
       "      <td>2.0</td>\n",
       "      <td>1525.488372</td>\n",
       "      <td>1128.302326</td>\n",
       "      <td>7314.674419</td>\n",
       "    </tr>\n",
       "    <tr>\n",
       "      <th>...</th>\n",
       "      <th>...</th>\n",
       "      <th>...</th>\n",
       "      <td>...</td>\n",
       "      <td>...</td>\n",
       "      <td>...</td>\n",
       "      <td>...</td>\n",
       "      <td>...</td>\n",
       "      <td>...</td>\n",
       "      <td>...</td>\n",
       "      <td>...</td>\n",
       "      <td>...</td>\n",
       "      <td>...</td>\n",
       "      <td>...</td>\n",
       "      <td>...</td>\n",
       "      <td>...</td>\n",
       "    </tr>\n",
       "    <tr>\n",
       "      <th rowspan=\"5\" valign=\"top\">2021-03-31</th>\n",
       "      <th>99C</th>\n",
       "      <th>NHS NORTH TYNESIDE CCG</th>\n",
       "      <td>47.960000</td>\n",
       "      <td>2712.400000</td>\n",
       "      <td>13.680000</td>\n",
       "      <td>700.000000</td>\n",
       "      <td>2449.880000</td>\n",
       "      <td>3294.560000</td>\n",
       "      <td>941.040000</td>\n",
       "      <td>1.800000</td>\n",
       "      <td>2.000000</td>\n",
       "      <td>2.0</td>\n",
       "      <td>3304.080000</td>\n",
       "      <td>6445.720000</td>\n",
       "      <td>8922.880000</td>\n",
       "    </tr>\n",
       "    <tr>\n",
       "      <th>99E</th>\n",
       "      <th>NHS BASILDON AND BRENTWOOD CCG</th>\n",
       "      <td>44.696970</td>\n",
       "      <td>2487.242424</td>\n",
       "      <td>146.848485</td>\n",
       "      <td>734.878788</td>\n",
       "      <td>564.878788</td>\n",
       "      <td>2605.545455</td>\n",
       "      <td>765.909091</td>\n",
       "      <td>1.969697</td>\n",
       "      <td>2.000000</td>\n",
       "      <td>2.0</td>\n",
       "      <td>2612.787879</td>\n",
       "      <td>2199.818182</td>\n",
       "      <td>8341.424242</td>\n",
       "    </tr>\n",
       "    <tr>\n",
       "      <th>99F</th>\n",
       "      <th>NHS CASTLE POINT AND ROCHFORD CCG</th>\n",
       "      <td>39.600000</td>\n",
       "      <td>2307.750000</td>\n",
       "      <td>73.950000</td>\n",
       "      <td>430.150000</td>\n",
       "      <td>401.150000</td>\n",
       "      <td>2442.850000</td>\n",
       "      <td>636.300000</td>\n",
       "      <td>1.950000</td>\n",
       "      <td>2.000000</td>\n",
       "      <td>2.0</td>\n",
       "      <td>2444.200000</td>\n",
       "      <td>1752.600000</td>\n",
       "      <td>8069.250000</td>\n",
       "    </tr>\n",
       "    <tr>\n",
       "      <th>99G</th>\n",
       "      <th>NHS SOUTHEND CCG</th>\n",
       "      <td>51.360000</td>\n",
       "      <td>2505.560000</td>\n",
       "      <td>74.480000</td>\n",
       "      <td>1159.880000</td>\n",
       "      <td>618.760000</td>\n",
       "      <td>2634.320000</td>\n",
       "      <td>901.360000</td>\n",
       "      <td>2.000000</td>\n",
       "      <td>2.000000</td>\n",
       "      <td>2.0</td>\n",
       "      <td>2655.960000</td>\n",
       "      <td>2355.520000</td>\n",
       "      <td>7579.800000</td>\n",
       "    </tr>\n",
       "    <tr>\n",
       "      <th>99M</th>\n",
       "      <th>NHS NORTH EAST HAMPSHIRE AND FARNHAM CCG</th>\n",
       "      <td>79.600000</td>\n",
       "      <td>3406.650000</td>\n",
       "      <td>50.800000</td>\n",
       "      <td>2501.700000</td>\n",
       "      <td>10986.600000</td>\n",
       "      <td>4146.600000</td>\n",
       "      <td>850.400000</td>\n",
       "      <td>1.800000</td>\n",
       "      <td>2.000000</td>\n",
       "      <td>2.0</td>\n",
       "      <td>4205.050000</td>\n",
       "      <td>24442.800000</td>\n",
       "      <td>11616.000000</td>\n",
       "    </tr>\n",
       "  </tbody>\n",
       "</table>\n",
       "<p>7896 rows × 13 columns</p>\n",
       "</div>"
      ],
      "text/plain": [
       "field                                                                      New_Pat_Enbld  \\\n",
       "report_period_end ccg_code ccg_name                                                        \n",
       "2017-04-30        00C      NHS DARLINGTON CCG                                  46.454545   \n",
       "                  00D      NHS DURHAM DALES, EASINGTON AND SEDGEFIELD CCG      29.000000   \n",
       "                  00J      NHS NORTH DURHAM CCG                                25.064516   \n",
       "                  00K      NHS HARTLEPOOL AND STOCKTON-ON-TEES CCG             33.166667   \n",
       "                  00L      NHS NORTHUMBERLAND CCG                              22.348837   \n",
       "...                                                                                  ...   \n",
       "2021-03-31        99C      NHS NORTH TYNESIDE CCG                              47.960000   \n",
       "                  99E      NHS BASILDON AND BRENTWOOD CCG                      44.696970   \n",
       "                  99F      NHS CASTLE POINT AND ROCHFORD CCG                   39.600000   \n",
       "                  99G      NHS SOUTHEND CCG                                    51.360000   \n",
       "                  99M      NHS NORTH EAST HAMPSHIRE AND FARNHAM CCG            79.600000   \n",
       "\n",
       "field                                                                      Pat_Appts_Enbld  \\\n",
       "report_period_end ccg_code ccg_name                                                          \n",
       "2017-04-30        00C      NHS DARLINGTON CCG                                  2218.636364   \n",
       "                  00D      NHS DURHAM DALES, EASINGTON AND SEDGEFIELD CCG      1123.763158   \n",
       "                  00J      NHS NORTH DURHAM CCG                                1713.548387   \n",
       "                  00K      NHS HARTLEPOOL AND STOCKTON-ON-TEES CCG             1226.277778   \n",
       "                  00L      NHS NORTHUMBERLAND CCG                              1517.697674   \n",
       "...                                                                                    ...   \n",
       "2021-03-31        99C      NHS NORTH TYNESIDE CCG                              2712.400000   \n",
       "                  99E      NHS BASILDON AND BRENTWOOD CCG                      2487.242424   \n",
       "                  99F      NHS CASTLE POINT AND ROCHFORD CCG                   2307.750000   \n",
       "                  99G      NHS SOUTHEND CCG                                    2505.560000   \n",
       "                  99M      NHS NORTH EAST HAMPSHIRE AND FARNHAM CCG            3406.650000   \n",
       "\n",
       "field                                                                      Pat_Appts_Use  \\\n",
       "report_period_end ccg_code ccg_name                                                        \n",
       "2017-04-30        00C      NHS DARLINGTON CCG                                 312.818182   \n",
       "                  00D      NHS DURHAM DALES, EASINGTON AND SEDGEFIELD CCG     138.394737   \n",
       "                  00J      NHS NORTH DURHAM CCG                               205.774194   \n",
       "                  00K      NHS HARTLEPOOL AND STOCKTON-ON-TEES CCG            112.888889   \n",
       "                  00L      NHS NORTHUMBERLAND CCG                             158.558140   \n",
       "...                                                                                  ...   \n",
       "2021-03-31        99C      NHS NORTH TYNESIDE CCG                              13.680000   \n",
       "                  99E      NHS BASILDON AND BRENTWOOD CCG                     146.848485   \n",
       "                  99F      NHS CASTLE POINT AND ROCHFORD CCG                   73.950000   \n",
       "                  99G      NHS SOUTHEND CCG                                    74.480000   \n",
       "                  99M      NHS NORTH EAST HAMPSHIRE AND FARNHAM CCG            50.800000   \n",
       "\n",
       "field                                                                      Pat_DetCodeRec_Enbld  \\\n",
       "report_period_end ccg_code ccg_name                                                               \n",
       "2017-04-30        00C      NHS DARLINGTON CCG                                          0.000000   \n",
       "                  00D      NHS DURHAM DALES, EASINGTON AND SEDGEFIELD CCG              8.105263   \n",
       "                  00J      NHS NORTH DURHAM CCG                                       44.838710   \n",
       "                  00K      NHS HARTLEPOOL AND STOCKTON-ON-TEES CCG                     0.277778   \n",
       "                  00L      NHS NORTHUMBERLAND CCG                                      4.534884   \n",
       "...                                                                                         ...   \n",
       "2021-03-31        99C      NHS NORTH TYNESIDE CCG                                    700.000000   \n",
       "                  99E      NHS BASILDON AND BRENTWOOD CCG                            734.878788   \n",
       "                  99F      NHS CASTLE POINT AND ROCHFORD CCG                         430.150000   \n",
       "                  99G      NHS SOUTHEND CCG                                         1159.880000   \n",
       "                  99M      NHS NORTH EAST HAMPSHIRE AND FARNHAM CCG                 2501.700000   \n",
       "\n",
       "field                                                                      Pat_DetCodeRec_Use  \\\n",
       "report_period_end ccg_code ccg_name                                                             \n",
       "2017-04-30        00C      NHS DARLINGTON CCG                                        0.000000   \n",
       "                  00D      NHS DURHAM DALES, EASINGTON AND SEDGEFIELD CCG           23.921053   \n",
       "                  00J      NHS NORTH DURHAM CCG                                    132.774194   \n",
       "                  00K      NHS HARTLEPOOL AND STOCKTON-ON-TEES CCG                   2.583333   \n",
       "                  00L      NHS NORTHUMBERLAND CCG                                  113.255814   \n",
       "...                                                                                       ...   \n",
       "2021-03-31        99C      NHS NORTH TYNESIDE CCG                                 2449.880000   \n",
       "                  99E      NHS BASILDON AND BRENTWOOD CCG                          564.878788   \n",
       "                  99F      NHS CASTLE POINT AND ROCHFORD CCG                       401.150000   \n",
       "                  99G      NHS SOUTHEND CCG                                        618.760000   \n",
       "                  99M      NHS NORTH EAST HAMPSHIRE AND FARNHAM CCG              10986.600000   \n",
       "\n",
       "field                                                                      Pat_Presc_Enbld  \\\n",
       "report_period_end ccg_code ccg_name                                                          \n",
       "2017-04-30        00C      NHS DARLINGTON CCG                                  2216.454545   \n",
       "                  00D      NHS DURHAM DALES, EASINGTON AND SEDGEFIELD CCG      1122.815789   \n",
       "                  00J      NHS NORTH DURHAM CCG                                1656.838710   \n",
       "                  00K      NHS HARTLEPOOL AND STOCKTON-ON-TEES CCG             1238.166667   \n",
       "                  00L      NHS NORTHUMBERLAND CCG                              1518.418605   \n",
       "...                                                                                    ...   \n",
       "2021-03-31        99C      NHS NORTH TYNESIDE CCG                              3294.560000   \n",
       "                  99E      NHS BASILDON AND BRENTWOOD CCG                      2605.545455   \n",
       "                  99F      NHS CASTLE POINT AND ROCHFORD CCG                   2442.850000   \n",
       "                  99G      NHS SOUTHEND CCG                                    2634.320000   \n",
       "                  99M      NHS NORTH EAST HAMPSHIRE AND FARNHAM CCG            4146.600000   \n",
       "\n",
       "field                                                                      Pat_Presc_Use  \\\n",
       "report_period_end ccg_code ccg_name                                                        \n",
       "2017-04-30        00C      NHS DARLINGTON CCG                                 629.272727   \n",
       "                  00D      NHS DURHAM DALES, EASINGTON AND SEDGEFIELD CCG     291.026316   \n",
       "                  00J      NHS NORTH DURHAM CCG                               445.193548   \n",
       "                  00K      NHS HARTLEPOOL AND STOCKTON-ON-TEES CCG            378.500000   \n",
       "                  00L      NHS NORTHUMBERLAND CCG                             432.906977   \n",
       "...                                                                                  ...   \n",
       "2021-03-31        99C      NHS NORTH TYNESIDE CCG                             941.040000   \n",
       "                  99E      NHS BASILDON AND BRENTWOOD CCG                     765.909091   \n",
       "                  99F      NHS CASTLE POINT AND ROCHFORD CCG                  636.300000   \n",
       "                  99G      NHS SOUTHEND CCG                                   901.360000   \n",
       "                  99M      NHS NORTH EAST HAMPSHIRE AND FARNHAM CCG           850.400000   \n",
       "\n",
       "field                                                                      Sys_Appts_Enbld  \\\n",
       "report_period_end ccg_code ccg_name                                                          \n",
       "2017-04-30        00C      NHS DARLINGTON CCG                                     2.000000   \n",
       "                  00D      NHS DURHAM DALES, EASINGTON AND SEDGEFIELD CCG         2.000000   \n",
       "                  00J      NHS NORTH DURHAM CCG                                   2.000000   \n",
       "                  00K      NHS HARTLEPOOL AND STOCKTON-ON-TEES CCG                2.000000   \n",
       "                  00L      NHS NORTHUMBERLAND CCG                                 2.000000   \n",
       "...                                                                                    ...   \n",
       "2021-03-31        99C      NHS NORTH TYNESIDE CCG                                 1.800000   \n",
       "                  99E      NHS BASILDON AND BRENTWOOD CCG                         1.969697   \n",
       "                  99F      NHS CASTLE POINT AND ROCHFORD CCG                      1.950000   \n",
       "                  99G      NHS SOUTHEND CCG                                       2.000000   \n",
       "                  99M      NHS NORTH EAST HAMPSHIRE AND FARNHAM CCG               1.800000   \n",
       "\n",
       "field                                                                      Sys_DetCodeRec_Enbld  \\\n",
       "report_period_end ccg_code ccg_name                                                               \n",
       "2017-04-30        00C      NHS DARLINGTON CCG                                          2.000000   \n",
       "                  00D      NHS DURHAM DALES, EASINGTON AND SEDGEFIELD CCG              2.000000   \n",
       "                  00J      NHS NORTH DURHAM CCG                                        2.000000   \n",
       "                  00K      NHS HARTLEPOOL AND STOCKTON-ON-TEES CCG                     1.861111   \n",
       "                  00L      NHS NORTHUMBERLAND CCG                                      1.697674   \n",
       "...                                                                                         ...   \n",
       "2021-03-31        99C      NHS NORTH TYNESIDE CCG                                      2.000000   \n",
       "                  99E      NHS BASILDON AND BRENTWOOD CCG                              2.000000   \n",
       "                  99F      NHS CASTLE POINT AND ROCHFORD CCG                           2.000000   \n",
       "                  99G      NHS SOUTHEND CCG                                            2.000000   \n",
       "                  99M      NHS NORTH EAST HAMPSHIRE AND FARNHAM CCG                    2.000000   \n",
       "\n",
       "field                                                                      Sys_Presc_Enbld  \\\n",
       "report_period_end ccg_code ccg_name                                                          \n",
       "2017-04-30        00C      NHS DARLINGTON CCG                                          2.0   \n",
       "                  00D      NHS DURHAM DALES, EASINGTON AND SEDGEFIELD CCG              2.0   \n",
       "                  00J      NHS NORTH DURHAM CCG                                        2.0   \n",
       "                  00K      NHS HARTLEPOOL AND STOCKTON-ON-TEES CCG                     2.0   \n",
       "                  00L      NHS NORTHUMBERLAND CCG                                      2.0   \n",
       "...                                                                                    ...   \n",
       "2021-03-31        99C      NHS NORTH TYNESIDE CCG                                      2.0   \n",
       "                  99E      NHS BASILDON AND BRENTWOOD CCG                              2.0   \n",
       "                  99F      NHS CASTLE POINT AND ROCHFORD CCG                           2.0   \n",
       "                  99G      NHS SOUTHEND CCG                                            2.0   \n",
       "                  99M      NHS NORTH EAST HAMPSHIRE AND FARNHAM CCG                    2.0   \n",
       "\n",
       "field                                                                      Total_Pat_Enbld  \\\n",
       "report_period_end ccg_code ccg_name                                                          \n",
       "2017-04-30        00C      NHS DARLINGTON CCG                                  2300.363636   \n",
       "                  00D      NHS DURHAM DALES, EASINGTON AND SEDGEFIELD CCG      1126.289474   \n",
       "                  00J      NHS NORTH DURHAM CCG                                1721.387097   \n",
       "                  00K      NHS HARTLEPOOL AND STOCKTON-ON-TEES CCG             1257.472222   \n",
       "                  00L      NHS NORTHUMBERLAND CCG                              1525.488372   \n",
       "...                                                                                    ...   \n",
       "2021-03-31        99C      NHS NORTH TYNESIDE CCG                              3304.080000   \n",
       "                  99E      NHS BASILDON AND BRENTWOOD CCG                      2612.787879   \n",
       "                  99F      NHS CASTLE POINT AND ROCHFORD CCG                   2444.200000   \n",
       "                  99G      NHS SOUTHEND CCG                                    2655.960000   \n",
       "                  99M      NHS NORTH EAST HAMPSHIRE AND FARNHAM CCG            4205.050000   \n",
       "\n",
       "field                                                                         Total_Use  \\\n",
       "report_period_end ccg_code ccg_name                                                       \n",
       "2017-04-30        00C      NHS DARLINGTON CCG                                960.000000   \n",
       "                  00D      NHS DURHAM DALES, EASINGTON AND SEDGEFIELD CCG    525.684211   \n",
       "                  00J      NHS NORTH DURHAM CCG                             1194.580645   \n",
       "                  00K      NHS HARTLEPOOL AND STOCKTON-ON-TEES CCG           707.555556   \n",
       "                  00L      NHS NORTHUMBERLAND CCG                           1128.302326   \n",
       "...                                                                                 ...   \n",
       "2021-03-31        99C      NHS NORTH TYNESIDE CCG                           6445.720000   \n",
       "                  99E      NHS BASILDON AND BRENTWOOD CCG                   2199.818182   \n",
       "                  99F      NHS CASTLE POINT AND ROCHFORD CCG                1752.600000   \n",
       "                  99G      NHS SOUTHEND CCG                                 2355.520000   \n",
       "                  99M      NHS NORTH EAST HAMPSHIRE AND FARNHAM CCG        24442.800000   \n",
       "\n",
       "field                                                                      patient_list_size  \n",
       "report_period_end ccg_code ccg_name                                                           \n",
       "2017-04-30        00C      NHS DARLINGTON CCG                                    9797.818182  \n",
       "                  00D      NHS DURHAM DALES, EASINGTON AND SEDGEFIELD CCG        7652.131579  \n",
       "                  00J      NHS NORTH DURHAM CCG                                  8270.387097  \n",
       "                  00K      NHS HARTLEPOOL AND STOCKTON-ON-TEES CCG               8228.416667  \n",
       "                  00L      NHS NORTHUMBERLAND CCG                                7314.674419  \n",
       "...                                                                                      ...  \n",
       "2021-03-31        99C      NHS NORTH TYNESIDE CCG                                8922.880000  \n",
       "                  99E      NHS BASILDON AND BRENTWOOD CCG                        8341.424242  \n",
       "                  99F      NHS CASTLE POINT AND ROCHFORD CCG                     8069.250000  \n",
       "                  99G      NHS SOUTHEND CCG                                      7579.800000  \n",
       "                  99M      NHS NORTH EAST HAMPSHIRE AND FARNHAM CCG             11616.000000  \n",
       "\n",
       "[7896 rows x 13 columns]"
      ]
     },
     "execution_count": 137,
     "metadata": {},
     "output_type": "execute_result"
    }
   ],
   "source": [
    "POMI_pivot = pd.pivot_table(POMI, index = ['report_period_end', 'ccg_code', 'ccg_name'], columns = 'field', values = 'value')\n",
    "POMI_pivot"
   ]
  },
  {
   "cell_type": "code",
   "execution_count": null,
   "id": "aa218251",
   "metadata": {},
   "outputs": [],
   "source": []
  },
  {
   "cell_type": "code",
   "execution_count": 139,
   "id": "b09379d3-2d0d-4ad1-a765-829e284dfa15",
   "metadata": {},
   "outputs": [
    {
     "data": {
      "text/html": [
       "<div>\n",
       "<style scoped>\n",
       "    .dataframe tbody tr th:only-of-type {\n",
       "        vertical-align: middle;\n",
       "    }\n",
       "\n",
       "    .dataframe tbody tr th {\n",
       "        vertical-align: top;\n",
       "    }\n",
       "\n",
       "    .dataframe thead th {\n",
       "        text-align: right;\n",
       "    }\n",
       "</style>\n",
       "<table border=\"1\" class=\"dataframe\">\n",
       "  <thead>\n",
       "    <tr style=\"text-align: right;\">\n",
       "      <th>field</th>\n",
       "      <th>report_period_end</th>\n",
       "      <th>ccg_code</th>\n",
       "      <th>ccg_name</th>\n",
       "      <th>Pat_Appts_Enbld</th>\n",
       "      <th>Pat_Presc_Enbld</th>\n",
       "      <th>Total_Pat_Enbld</th>\n",
       "      <th>patient_list_size</th>\n",
       "    </tr>\n",
       "  </thead>\n",
       "  <tbody>\n",
       "    <tr>\n",
       "      <th>0</th>\n",
       "      <td>2017-04-30</td>\n",
       "      <td>00C</td>\n",
       "      <td>NHS DARLINGTON CCG</td>\n",
       "      <td>2218.636364</td>\n",
       "      <td>2216.454545</td>\n",
       "      <td>2300.363636</td>\n",
       "      <td>9797.818182</td>\n",
       "    </tr>\n",
       "    <tr>\n",
       "      <th>1</th>\n",
       "      <td>2017-04-30</td>\n",
       "      <td>00D</td>\n",
       "      <td>NHS DURHAM DALES, EASINGTON AND SEDGEFIELD CCG</td>\n",
       "      <td>1123.763158</td>\n",
       "      <td>1122.815789</td>\n",
       "      <td>1126.289474</td>\n",
       "      <td>7652.131579</td>\n",
       "    </tr>\n",
       "    <tr>\n",
       "      <th>2</th>\n",
       "      <td>2017-04-30</td>\n",
       "      <td>00J</td>\n",
       "      <td>NHS NORTH DURHAM CCG</td>\n",
       "      <td>1713.548387</td>\n",
       "      <td>1656.838710</td>\n",
       "      <td>1721.387097</td>\n",
       "      <td>8270.387097</td>\n",
       "    </tr>\n",
       "    <tr>\n",
       "      <th>3</th>\n",
       "      <td>2017-04-30</td>\n",
       "      <td>00K</td>\n",
       "      <td>NHS HARTLEPOOL AND STOCKTON-ON-TEES CCG</td>\n",
       "      <td>1226.277778</td>\n",
       "      <td>1238.166667</td>\n",
       "      <td>1257.472222</td>\n",
       "      <td>8228.416667</td>\n",
       "    </tr>\n",
       "    <tr>\n",
       "      <th>4</th>\n",
       "      <td>2017-04-30</td>\n",
       "      <td>00L</td>\n",
       "      <td>NHS NORTHUMBERLAND CCG</td>\n",
       "      <td>1517.697674</td>\n",
       "      <td>1518.418605</td>\n",
       "      <td>1525.488372</td>\n",
       "      <td>7314.674419</td>\n",
       "    </tr>\n",
       "    <tr>\n",
       "      <th>...</th>\n",
       "      <td>...</td>\n",
       "      <td>...</td>\n",
       "      <td>...</td>\n",
       "      <td>...</td>\n",
       "      <td>...</td>\n",
       "      <td>...</td>\n",
       "      <td>...</td>\n",
       "    </tr>\n",
       "    <tr>\n",
       "      <th>7891</th>\n",
       "      <td>2021-03-31</td>\n",
       "      <td>99C</td>\n",
       "      <td>NHS NORTH TYNESIDE CCG</td>\n",
       "      <td>2712.400000</td>\n",
       "      <td>3294.560000</td>\n",
       "      <td>3304.080000</td>\n",
       "      <td>8922.880000</td>\n",
       "    </tr>\n",
       "    <tr>\n",
       "      <th>7892</th>\n",
       "      <td>2021-03-31</td>\n",
       "      <td>99E</td>\n",
       "      <td>NHS BASILDON AND BRENTWOOD CCG</td>\n",
       "      <td>2487.242424</td>\n",
       "      <td>2605.545455</td>\n",
       "      <td>2612.787879</td>\n",
       "      <td>8341.424242</td>\n",
       "    </tr>\n",
       "    <tr>\n",
       "      <th>7893</th>\n",
       "      <td>2021-03-31</td>\n",
       "      <td>99F</td>\n",
       "      <td>NHS CASTLE POINT AND ROCHFORD CCG</td>\n",
       "      <td>2307.750000</td>\n",
       "      <td>2442.850000</td>\n",
       "      <td>2444.200000</td>\n",
       "      <td>8069.250000</td>\n",
       "    </tr>\n",
       "    <tr>\n",
       "      <th>7894</th>\n",
       "      <td>2021-03-31</td>\n",
       "      <td>99G</td>\n",
       "      <td>NHS SOUTHEND CCG</td>\n",
       "      <td>2505.560000</td>\n",
       "      <td>2634.320000</td>\n",
       "      <td>2655.960000</td>\n",
       "      <td>7579.800000</td>\n",
       "    </tr>\n",
       "    <tr>\n",
       "      <th>7895</th>\n",
       "      <td>2021-03-31</td>\n",
       "      <td>99M</td>\n",
       "      <td>NHS NORTH EAST HAMPSHIRE AND FARNHAM CCG</td>\n",
       "      <td>3406.650000</td>\n",
       "      <td>4146.600000</td>\n",
       "      <td>4205.050000</td>\n",
       "      <td>11616.000000</td>\n",
       "    </tr>\n",
       "  </tbody>\n",
       "</table>\n",
       "<p>7896 rows × 7 columns</p>\n",
       "</div>"
      ],
      "text/plain": [
       "field report_period_end ccg_code  \\\n",
       "0            2017-04-30      00C   \n",
       "1            2017-04-30      00D   \n",
       "2            2017-04-30      00J   \n",
       "3            2017-04-30      00K   \n",
       "4            2017-04-30      00L   \n",
       "...                 ...      ...   \n",
       "7891         2021-03-31      99C   \n",
       "7892         2021-03-31      99E   \n",
       "7893         2021-03-31      99F   \n",
       "7894         2021-03-31      99G   \n",
       "7895         2021-03-31      99M   \n",
       "\n",
       "field                                        ccg_name  Pat_Appts_Enbld  \\\n",
       "0                                  NHS DARLINGTON CCG      2218.636364   \n",
       "1      NHS DURHAM DALES, EASINGTON AND SEDGEFIELD CCG      1123.763158   \n",
       "2                                NHS NORTH DURHAM CCG      1713.548387   \n",
       "3             NHS HARTLEPOOL AND STOCKTON-ON-TEES CCG      1226.277778   \n",
       "4                              NHS NORTHUMBERLAND CCG      1517.697674   \n",
       "...                                               ...              ...   \n",
       "7891                           NHS NORTH TYNESIDE CCG      2712.400000   \n",
       "7892                   NHS BASILDON AND BRENTWOOD CCG      2487.242424   \n",
       "7893                NHS CASTLE POINT AND ROCHFORD CCG      2307.750000   \n",
       "7894                                 NHS SOUTHEND CCG      2505.560000   \n",
       "7895         NHS NORTH EAST HAMPSHIRE AND FARNHAM CCG      3406.650000   \n",
       "\n",
       "field  Pat_Presc_Enbld  Total_Pat_Enbld  patient_list_size  \n",
       "0          2216.454545      2300.363636        9797.818182  \n",
       "1          1122.815789      1126.289474        7652.131579  \n",
       "2          1656.838710      1721.387097        8270.387097  \n",
       "3          1238.166667      1257.472222        8228.416667  \n",
       "4          1518.418605      1525.488372        7314.674419  \n",
       "...                ...              ...                ...  \n",
       "7891       3294.560000      3304.080000        8922.880000  \n",
       "7892       2605.545455      2612.787879        8341.424242  \n",
       "7893       2442.850000      2444.200000        8069.250000  \n",
       "7894       2634.320000      2655.960000        7579.800000  \n",
       "7895       4146.600000      4205.050000       11616.000000  \n",
       "\n",
       "[7896 rows x 7 columns]"
      ]
     },
     "execution_count": 139,
     "metadata": {},
     "output_type": "execute_result"
    }
   ],
   "source": [
    "POMI_data = POMI_pivot.drop(['New_Pat_Enbld','Pat_Appts_Use','Pat_DetCodeRec_Enbld', 'Pat_DetCodeRec_Use', 'Pat_Presc_Use','Sys_Appts_Enbld','Sys_DetCodeRec_Enbld','Sys_Presc_Enbld','Total_Use'], axis=1)\n",
    "POMI_index = POMI_data.reset_index()\n",
    "POMI_index"
   ]
  },
  {
   "cell_type": "code",
   "execution_count": 148,
   "id": "1290a978-3f1e-4c2d-b63b-00334694970c",
   "metadata": {},
   "outputs": [
    {
     "data": {
      "text/plain": [
       "field\n",
       "report_period_end    datetime64[ns]\n",
       "ccg_code                     string\n",
       "ccg_name                     string\n",
       "Pat_Appts_Enbld             float64\n",
       "Pat_Presc_Enbld             float64\n",
       "Total_Pat_Enbld             float64\n",
       "patient_list_size           float64\n",
       "dtype: object"
      ]
     },
     "execution_count": 148,
     "metadata": {},
     "output_type": "execute_result"
    }
   ],
   "source": [
    "POMI_index.dtypes\n",
    "POMI_index = POMI_index.astype({'ccg_code': 'string', 'ccg_name': 'string'})\n",
    "POMI_index.dtypes\n"
   ]
  },
  {
   "cell_type": "code",
   "execution_count": 53,
   "id": "78812c60-9572-4c11-8032-9758568c004b",
   "metadata": {},
   "outputs": [
    {
     "data": {
      "text/plain": [
       "44"
      ]
     },
     "execution_count": 53,
     "metadata": {},
     "output_type": "execute_result"
    }
   ],
   "source": [
    "POMI_index['report_period_end'].nunique()\n"
   ]
  },
  {
   "cell_type": "markdown",
   "id": "24698bb7-572d-4e8a-b03f-9afa198da72e",
   "metadata": {},
   "source": [
    "## POMI: Pat_Presc_Enbld and Pat_Appts_Enbld since July 2017"
   ]
  },
  {
   "cell_type": "code",
   "execution_count": 141,
   "id": "383de9c5-14ef-4073-83f9-e7f39de10613",
   "metadata": {},
   "outputs": [
    {
     "data": {
      "text/html": [
       "<div>\n",
       "<style scoped>\n",
       "    .dataframe tbody tr th:only-of-type {\n",
       "        vertical-align: middle;\n",
       "    }\n",
       "\n",
       "    .dataframe tbody tr th {\n",
       "        vertical-align: top;\n",
       "    }\n",
       "\n",
       "    .dataframe thead th {\n",
       "        text-align: right;\n",
       "    }\n",
       "</style>\n",
       "<table border=\"1\" class=\"dataframe\">\n",
       "  <thead>\n",
       "    <tr style=\"text-align: right;\">\n",
       "      <th>field</th>\n",
       "      <th>report_period_end</th>\n",
       "      <th>Pat_Appts_Enbld</th>\n",
       "      <th>Pat_Presc_Enbld</th>\n",
       "      <th>patient_list_size</th>\n",
       "    </tr>\n",
       "  </thead>\n",
       "  <tbody>\n",
       "    <tr>\n",
       "      <th>0</th>\n",
       "      <td>2017-04-30</td>\n",
       "      <td>327346.177577</td>\n",
       "      <td>321812.027330</td>\n",
       "      <td>1.705866e+06</td>\n",
       "    </tr>\n",
       "    <tr>\n",
       "      <th>1</th>\n",
       "      <td>2017-05-31</td>\n",
       "      <td>330040.073060</td>\n",
       "      <td>324512.320945</td>\n",
       "      <td>1.716791e+06</td>\n",
       "    </tr>\n",
       "    <tr>\n",
       "      <th>2</th>\n",
       "      <td>2017-06-30</td>\n",
       "      <td>332261.099615</td>\n",
       "      <td>326786.348867</td>\n",
       "      <td>1.723569e+06</td>\n",
       "    </tr>\n",
       "    <tr>\n",
       "      <th>3</th>\n",
       "      <td>2017-07-31</td>\n",
       "      <td>336191.904893</td>\n",
       "      <td>330650.971829</td>\n",
       "      <td>1.733706e+06</td>\n",
       "    </tr>\n",
       "    <tr>\n",
       "      <th>4</th>\n",
       "      <td>2017-11-30</td>\n",
       "      <td>333619.744279</td>\n",
       "      <td>326246.155212</td>\n",
       "      <td>1.764018e+06</td>\n",
       "    </tr>\n",
       "    <tr>\n",
       "      <th>5</th>\n",
       "      <td>2018-01-31</td>\n",
       "      <td>351639.445725</td>\n",
       "      <td>343242.627448</td>\n",
       "      <td>1.775413e+06</td>\n",
       "    </tr>\n",
       "    <tr>\n",
       "      <th>6</th>\n",
       "      <td>2018-02-28</td>\n",
       "      <td>425151.240703</td>\n",
       "      <td>419390.446887</td>\n",
       "      <td>1.779329e+06</td>\n",
       "    </tr>\n",
       "    <tr>\n",
       "      <th>7</th>\n",
       "      <td>2018-03-31</td>\n",
       "      <td>402647.101729</td>\n",
       "      <td>398253.558897</td>\n",
       "      <td>1.663946e+06</td>\n",
       "    </tr>\n",
       "    <tr>\n",
       "      <th>8</th>\n",
       "      <td>2018-04-30</td>\n",
       "      <td>406491.838408</td>\n",
       "      <td>401593.004176</td>\n",
       "      <td>1.665035e+06</td>\n",
       "    </tr>\n",
       "    <tr>\n",
       "      <th>9</th>\n",
       "      <td>2018-05-31</td>\n",
       "      <td>413219.106005</td>\n",
       "      <td>407639.460722</td>\n",
       "      <td>1.673621e+06</td>\n",
       "    </tr>\n",
       "    <tr>\n",
       "      <th>10</th>\n",
       "      <td>2018-06-30</td>\n",
       "      <td>419387.192528</td>\n",
       "      <td>414279.484889</td>\n",
       "      <td>1.687235e+06</td>\n",
       "    </tr>\n",
       "    <tr>\n",
       "      <th>11</th>\n",
       "      <td>2018-07-31</td>\n",
       "      <td>426382.704249</td>\n",
       "      <td>422221.280050</td>\n",
       "      <td>1.695228e+06</td>\n",
       "    </tr>\n",
       "    <tr>\n",
       "      <th>12</th>\n",
       "      <td>2018-08-31</td>\n",
       "      <td>432791.206506</td>\n",
       "      <td>428520.294537</td>\n",
       "      <td>1.706845e+06</td>\n",
       "    </tr>\n",
       "    <tr>\n",
       "      <th>13</th>\n",
       "      <td>2018-09-30</td>\n",
       "      <td>437502.923071</td>\n",
       "      <td>432939.052199</td>\n",
       "      <td>1.712017e+06</td>\n",
       "    </tr>\n",
       "    <tr>\n",
       "      <th>14</th>\n",
       "      <td>2018-10-31</td>\n",
       "      <td>444341.560286</td>\n",
       "      <td>439933.869208</td>\n",
       "      <td>1.718158e+06</td>\n",
       "    </tr>\n",
       "    <tr>\n",
       "      <th>15</th>\n",
       "      <td>2018-11-30</td>\n",
       "      <td>448956.376715</td>\n",
       "      <td>445130.612755</td>\n",
       "      <td>1.725148e+06</td>\n",
       "    </tr>\n",
       "    <tr>\n",
       "      <th>16</th>\n",
       "      <td>2018-12-31</td>\n",
       "      <td>452155.257301</td>\n",
       "      <td>446762.482174</td>\n",
       "      <td>1.729895e+06</td>\n",
       "    </tr>\n",
       "    <tr>\n",
       "      <th>17</th>\n",
       "      <td>2019-01-31</td>\n",
       "      <td>461849.312158</td>\n",
       "      <td>458168.668477</td>\n",
       "      <td>1.732682e+06</td>\n",
       "    </tr>\n",
       "    <tr>\n",
       "      <th>18</th>\n",
       "      <td>2019-02-28</td>\n",
       "      <td>467285.646863</td>\n",
       "      <td>463642.122115</td>\n",
       "      <td>1.736252e+06</td>\n",
       "    </tr>\n",
       "    <tr>\n",
       "      <th>19</th>\n",
       "      <td>2019-03-31</td>\n",
       "      <td>473882.798036</td>\n",
       "      <td>469939.170821</td>\n",
       "      <td>1.739023e+06</td>\n",
       "    </tr>\n",
       "    <tr>\n",
       "      <th>20</th>\n",
       "      <td>2019-04-30</td>\n",
       "      <td>470681.486397</td>\n",
       "      <td>467006.088804</td>\n",
       "      <td>1.706820e+06</td>\n",
       "    </tr>\n",
       "    <tr>\n",
       "      <th>21</th>\n",
       "      <td>2019-05-31</td>\n",
       "      <td>475578.092967</td>\n",
       "      <td>471899.190860</td>\n",
       "      <td>1.716934e+06</td>\n",
       "    </tr>\n",
       "    <tr>\n",
       "      <th>22</th>\n",
       "      <td>2019-06-30</td>\n",
       "      <td>481454.842631</td>\n",
       "      <td>477651.362778</td>\n",
       "      <td>1.726035e+06</td>\n",
       "    </tr>\n",
       "    <tr>\n",
       "      <th>23</th>\n",
       "      <td>2019-07-31</td>\n",
       "      <td>486744.468027</td>\n",
       "      <td>482916.770753</td>\n",
       "      <td>1.730142e+06</td>\n",
       "    </tr>\n",
       "    <tr>\n",
       "      <th>24</th>\n",
       "      <td>2019-08-31</td>\n",
       "      <td>493085.310970</td>\n",
       "      <td>489560.972042</td>\n",
       "      <td>1.736779e+06</td>\n",
       "    </tr>\n",
       "    <tr>\n",
       "      <th>25</th>\n",
       "      <td>2019-09-30</td>\n",
       "      <td>498774.335620</td>\n",
       "      <td>495953.268701</td>\n",
       "      <td>1.739430e+06</td>\n",
       "    </tr>\n",
       "    <tr>\n",
       "      <th>26</th>\n",
       "      <td>2019-10-31</td>\n",
       "      <td>506310.247138</td>\n",
       "      <td>503823.034276</td>\n",
       "      <td>1.745657e+06</td>\n",
       "    </tr>\n",
       "    <tr>\n",
       "      <th>27</th>\n",
       "      <td>2019-11-30</td>\n",
       "      <td>513158.527095</td>\n",
       "      <td>510686.769467</td>\n",
       "      <td>1.753632e+06</td>\n",
       "    </tr>\n",
       "    <tr>\n",
       "      <th>28</th>\n",
       "      <td>2019-12-31</td>\n",
       "      <td>517829.239358</td>\n",
       "      <td>515475.486774</td>\n",
       "      <td>1.758060e+06</td>\n",
       "    </tr>\n",
       "    <tr>\n",
       "      <th>29</th>\n",
       "      <td>2020-01-31</td>\n",
       "      <td>525926.819479</td>\n",
       "      <td>523857.101745</td>\n",
       "      <td>1.762782e+06</td>\n",
       "    </tr>\n",
       "    <tr>\n",
       "      <th>30</th>\n",
       "      <td>2020-02-29</td>\n",
       "      <td>529329.017793</td>\n",
       "      <td>530235.702210</td>\n",
       "      <td>1.765906e+06</td>\n",
       "    </tr>\n",
       "    <tr>\n",
       "      <th>31</th>\n",
       "      <td>2020-03-31</td>\n",
       "      <td>445452.672929</td>\n",
       "      <td>539922.379595</td>\n",
       "      <td>1.768190e+06</td>\n",
       "    </tr>\n",
       "    <tr>\n",
       "      <th>32</th>\n",
       "      <td>2020-04-30</td>\n",
       "      <td>311146.155322</td>\n",
       "      <td>375152.305589</td>\n",
       "      <td>1.221163e+06</td>\n",
       "    </tr>\n",
       "    <tr>\n",
       "      <th>33</th>\n",
       "      <td>2020-05-31</td>\n",
       "      <td>315716.204412</td>\n",
       "      <td>379843.557356</td>\n",
       "      <td>1.226803e+06</td>\n",
       "    </tr>\n",
       "    <tr>\n",
       "      <th>34</th>\n",
       "      <td>2020-06-30</td>\n",
       "      <td>318857.507816</td>\n",
       "      <td>382897.270699</td>\n",
       "      <td>1.230446e+06</td>\n",
       "    </tr>\n",
       "    <tr>\n",
       "      <th>35</th>\n",
       "      <td>2020-07-31</td>\n",
       "      <td>322684.027942</td>\n",
       "      <td>385667.232739</td>\n",
       "      <td>1.233673e+06</td>\n",
       "    </tr>\n",
       "    <tr>\n",
       "      <th>36</th>\n",
       "      <td>2020-08-31</td>\n",
       "      <td>331739.583381</td>\n",
       "      <td>388310.589577</td>\n",
       "      <td>1.237398e+06</td>\n",
       "    </tr>\n",
       "    <tr>\n",
       "      <th>37</th>\n",
       "      <td>2020-09-30</td>\n",
       "      <td>337112.000230</td>\n",
       "      <td>391552.111142</td>\n",
       "      <td>1.237990e+06</td>\n",
       "    </tr>\n",
       "    <tr>\n",
       "      <th>38</th>\n",
       "      <td>2020-10-31</td>\n",
       "      <td>339202.239625</td>\n",
       "      <td>393577.527962</td>\n",
       "      <td>1.241139e+06</td>\n",
       "    </tr>\n",
       "    <tr>\n",
       "      <th>39</th>\n",
       "      <td>2020-11-30</td>\n",
       "      <td>346894.667920</td>\n",
       "      <td>397861.771856</td>\n",
       "      <td>1.244199e+06</td>\n",
       "    </tr>\n",
       "    <tr>\n",
       "      <th>40</th>\n",
       "      <td>2020-12-31</td>\n",
       "      <td>350503.367741</td>\n",
       "      <td>400442.628176</td>\n",
       "      <td>1.246161e+06</td>\n",
       "    </tr>\n",
       "    <tr>\n",
       "      <th>41</th>\n",
       "      <td>2021-01-31</td>\n",
       "      <td>350243.916697</td>\n",
       "      <td>403647.356805</td>\n",
       "      <td>1.247292e+06</td>\n",
       "    </tr>\n",
       "    <tr>\n",
       "      <th>42</th>\n",
       "      <td>2021-02-28</td>\n",
       "      <td>352139.663534</td>\n",
       "      <td>406805.581434</td>\n",
       "      <td>1.250190e+06</td>\n",
       "    </tr>\n",
       "    <tr>\n",
       "      <th>43</th>\n",
       "      <td>2021-03-31</td>\n",
       "      <td>357089.347172</td>\n",
       "      <td>412484.042650</td>\n",
       "      <td>1.252386e+06</td>\n",
       "    </tr>\n",
       "  </tbody>\n",
       "</table>\n",
       "</div>"
      ],
      "text/plain": [
       "field report_period_end  Pat_Appts_Enbld  Pat_Presc_Enbld  patient_list_size\n",
       "0            2017-04-30    327346.177577    321812.027330       1.705866e+06\n",
       "1            2017-05-31    330040.073060    324512.320945       1.716791e+06\n",
       "2            2017-06-30    332261.099615    326786.348867       1.723569e+06\n",
       "3            2017-07-31    336191.904893    330650.971829       1.733706e+06\n",
       "4            2017-11-30    333619.744279    326246.155212       1.764018e+06\n",
       "5            2018-01-31    351639.445725    343242.627448       1.775413e+06\n",
       "6            2018-02-28    425151.240703    419390.446887       1.779329e+06\n",
       "7            2018-03-31    402647.101729    398253.558897       1.663946e+06\n",
       "8            2018-04-30    406491.838408    401593.004176       1.665035e+06\n",
       "9            2018-05-31    413219.106005    407639.460722       1.673621e+06\n",
       "10           2018-06-30    419387.192528    414279.484889       1.687235e+06\n",
       "11           2018-07-31    426382.704249    422221.280050       1.695228e+06\n",
       "12           2018-08-31    432791.206506    428520.294537       1.706845e+06\n",
       "13           2018-09-30    437502.923071    432939.052199       1.712017e+06\n",
       "14           2018-10-31    444341.560286    439933.869208       1.718158e+06\n",
       "15           2018-11-30    448956.376715    445130.612755       1.725148e+06\n",
       "16           2018-12-31    452155.257301    446762.482174       1.729895e+06\n",
       "17           2019-01-31    461849.312158    458168.668477       1.732682e+06\n",
       "18           2019-02-28    467285.646863    463642.122115       1.736252e+06\n",
       "19           2019-03-31    473882.798036    469939.170821       1.739023e+06\n",
       "20           2019-04-30    470681.486397    467006.088804       1.706820e+06\n",
       "21           2019-05-31    475578.092967    471899.190860       1.716934e+06\n",
       "22           2019-06-30    481454.842631    477651.362778       1.726035e+06\n",
       "23           2019-07-31    486744.468027    482916.770753       1.730142e+06\n",
       "24           2019-08-31    493085.310970    489560.972042       1.736779e+06\n",
       "25           2019-09-30    498774.335620    495953.268701       1.739430e+06\n",
       "26           2019-10-31    506310.247138    503823.034276       1.745657e+06\n",
       "27           2019-11-30    513158.527095    510686.769467       1.753632e+06\n",
       "28           2019-12-31    517829.239358    515475.486774       1.758060e+06\n",
       "29           2020-01-31    525926.819479    523857.101745       1.762782e+06\n",
       "30           2020-02-29    529329.017793    530235.702210       1.765906e+06\n",
       "31           2020-03-31    445452.672929    539922.379595       1.768190e+06\n",
       "32           2020-04-30    311146.155322    375152.305589       1.221163e+06\n",
       "33           2020-05-31    315716.204412    379843.557356       1.226803e+06\n",
       "34           2020-06-30    318857.507816    382897.270699       1.230446e+06\n",
       "35           2020-07-31    322684.027942    385667.232739       1.233673e+06\n",
       "36           2020-08-31    331739.583381    388310.589577       1.237398e+06\n",
       "37           2020-09-30    337112.000230    391552.111142       1.237990e+06\n",
       "38           2020-10-31    339202.239625    393577.527962       1.241139e+06\n",
       "39           2020-11-30    346894.667920    397861.771856       1.244199e+06\n",
       "40           2020-12-31    350503.367741    400442.628176       1.246161e+06\n",
       "41           2021-01-31    350243.916697    403647.356805       1.247292e+06\n",
       "42           2021-02-28    352139.663534    406805.581434       1.250190e+06\n",
       "43           2021-03-31    357089.347172    412484.042650       1.252386e+06"
      ]
     },
     "execution_count": 141,
     "metadata": {},
     "output_type": "execute_result"
    }
   ],
   "source": [
    "patients_enabled = POMI_index[['report_period_end','Pat_Appts_Enbld', 'Pat_Presc_Enbld','patient_list_size']].groupby('report_period_end').sum()\n",
    "Patients_enabled = patients_enabled.reset_index()\n",
    "Patients_enabled "
   ]
  },
  {
   "cell_type": "code",
   "execution_count": 142,
   "id": "fb9da83d-610b-4a09-9131-5cf45d8e2293",
   "metadata": {},
   "outputs": [
    {
     "data": {
      "text/plain": [
       "<AxesSubplot:>"
      ]
     },
     "execution_count": 142,
     "metadata": {},
     "output_type": "execute_result"
    },
    {
     "data": {
      "image/png": "[encoded data removed]",
      "text/plain": [
       "<Figure size 432x288 with 1 Axes>"
      ]
     },
     "metadata": {
      "needs_background": "light"
     },
     "output_type": "display_data"
    }
   ],
   "source": [
    "Patients_enabled['Pat_Presc_Enbld'].plot()"
   ]
  },
  {
   "cell_type": "code",
   "execution_count": 143,
   "id": "6062ff18",
   "metadata": {},
   "outputs": [
    {
     "data": {
      "application/vnd.plotly.v1+json": {
       "config": {
        "plotlyServerURL": "https://plot.ly"
       },
       "data": [
        {
         "name": "Easy",
         "type": "scatter",
         "x": [
          "2017-04-30T00:00:00",
          "2017-05-31T00:00:00",
          "2017-06-30T00:00:00",
          "2017-07-31T00:00:00",
          "2017-11-30T00:00:00",
          "2018-01-31T00:00:00",
          "2018-02-28T00:00:00",
          "2018-03-31T00:00:00",
          "2018-04-30T00:00:00",
          "2018-05-31T00:00:00",
          "2018-06-30T00:00:00",
          "2018-07-31T00:00:00",
          "2018-08-31T00:00:00",
          "2018-09-30T00:00:00",
          "2018-10-31T00:00:00",
          "2018-11-30T00:00:00",
          "2018-12-31T00:00:00",
          "2019-01-31T00:00:00",
          "2019-02-28T00:00:00",
          "2019-03-31T00:00:00",
          "2019-04-30T00:00:00",
          "2019-05-31T00:00:00",
          "2019-06-30T00:00:00",
          "2019-07-31T00:00:00",
          "2019-08-31T00:00:00",
          "2019-09-30T00:00:00",
          "2019-10-31T00:00:00",
          "2019-11-30T00:00:00",
          "2019-12-31T00:00:00",
          "2020-01-31T00:00:00",
          "2020-02-29T00:00:00",
          "2020-03-31T00:00:00",
          "2020-04-30T00:00:00",
          "2020-05-31T00:00:00",
          "2020-06-30T00:00:00",
          "2020-07-31T00:00:00",
          "2020-08-31T00:00:00",
          "2020-09-30T00:00:00",
          "2020-10-31T00:00:00",
          "2020-11-30T00:00:00",
          "2020-12-31T00:00:00",
          "2021-01-31T00:00:00",
          "2021-02-28T00:00:00",
          "2021-03-31T00:00:00"
         ],
         "y": [
          321812.027329556,
          324512.32094507857,
          326786.3488666668,
          330650.9718288825,
          326246.15521153266,
          343242.6274482629,
          419390.4468867895,
          398253.5588974864,
          401593.0041756985,
          407639.46072164306,
          414279.48488850513,
          422221.28005034983,
          428520.29453653307,
          432939.05219903064,
          439933.8692077077,
          445130.61275542714,
          446762.4821740755,
          458168.66847662866,
          463642.12211529294,
          469939.1708206785,
          467006.0888043733,
          471899.190860481,
          477651.36277810816,
          482916.7707527093,
          489560.9720424457,
          495953.2687014468,
          503823.034276058,
          510686.769467094,
          515475.4867737267,
          523857.10174491856,
          530235.7022102369,
          539922.3795948904,
          375152.30558937695,
          379843.55735565483,
          382897.270698637,
          385667.23273929086,
          388310.58957715385,
          391552.1111423815,
          393577.5279622038,
          397861.7718562235,
          400442.6281755506,
          403647.35680540133,
          406805.58143432625,
          412484.04264984356
         ]
        }
       ],
       "layout": {
        "autosize": true,
        "template": {
         "data": {
          "bar": [
           {
            "error_x": {
             "color": "#2a3f5f"
            },
            "error_y": {
             "color": "#2a3f5f"
            },
            "marker": {
             "line": {
              "color": "#E5ECF6",
              "width": 0.5
             },
             "pattern": {
              "fillmode": "overlay",
              "size": 10,
              "solidity": 0.2
             }
            },
            "type": "bar"
           }
          ],
          "barpolar": [
           {
            "marker": {
             "line": {
              "color": "#E5ECF6",
              "width": 0.5
             },
             "pattern": {
              "fillmode": "overlay",
              "size": 10,
              "solidity": 0.2
             }
            },
            "type": "barpolar"
           }
          ],
          "carpet": [
           {
            "aaxis": {
             "endlinecolor": "#2a3f5f",
             "gridcolor": "white",
             "linecolor": "white",
             "minorgridcolor": "white",
             "startlinecolor": "#2a3f5f"
            },
            "baxis": {
             "endlinecolor": "#2a3f5f",
             "gridcolor": "white",
             "linecolor": "white",
             "minorgridcolor": "white",
             "startlinecolor": "#2a3f5f"
            },
            "type": "carpet"
           }
          ],
          "choropleth": [
           {
            "colorbar": {
             "outlinewidth": 0,
             "ticks": ""
            },
            "type": "choropleth"
           }
          ],
          "contour": [
           {
            "colorbar": {
             "outlinewidth": 0,
             "ticks": ""
            },
            "colorscale": [
             [
              0,
              "#0d0887"
             ],
             [
              0.1111111111111111,
              "#46039f"
             ],
             [
              0.2222222222222222,
              "#7201a8"
             ],
             [
              0.3333333333333333,
              "#9c179e"
             ],
             [
              0.4444444444444444,
              "#bd3786"
             ],
             [
              0.5555555555555556,
              "#d8576b"
             ],
             [
              0.6666666666666666,
              "#ed7953"
             ],
             [
              0.7777777777777778,
              "#fb9f3a"
             ],
             [
              0.8888888888888888,
              "#fdca26"
             ],
             [
              1,
              "#f0f921"
             ]
            ],
            "type": "contour"
           }
          ],
          "contourcarpet": [
           {
            "colorbar": {
             "outlinewidth": 0,
             "ticks": ""
            },
            "type": "contourcarpet"
           }
          ],
          "heatmap": [
           {
            "colorbar": {
             "outlinewidth": 0,
             "ticks": ""
            },
            "colorscale": [
             [
              0,
              "#0d0887"
             ],
             [
              0.1111111111111111,
              "#46039f"
             ],
             [
              0.2222222222222222,
              "#7201a8"
             ],
             [
              0.3333333333333333,
              "#9c179e"
             ],
             [
              0.4444444444444444,
              "#bd3786"
             ],
             [
              0.5555555555555556,
              "#d8576b"
             ],
             [
              0.6666666666666666,
              "#ed7953"
             ],
             [
              0.7777777777777778,
              "#fb9f3a"
             ],
             [
              0.8888888888888888,
              "#fdca26"
             ],
             [
              1,
              "#f0f921"
             ]
            ],
            "type": "heatmap"
           }
          ],
          "heatmapgl": [
           {
            "colorbar": {
             "outlinewidth": 0,
             "ticks": ""
            },
            "colorscale": [
             [
              0,
              "#0d0887"
             ],
             [
              0.1111111111111111,
              "#46039f"
             ],
             [
              0.2222222222222222,
              "#7201a8"
             ],
             [
              0.3333333333333333,
              "#9c179e"
             ],
             [
              0.4444444444444444,
              "#bd3786"
             ],
             [
              0.5555555555555556,
              "#d8576b"
             ],
             [
              0.6666666666666666,
              "#ed7953"
             ],
             [
              0.7777777777777778,
              "#fb9f3a"
             ],
             [
              0.8888888888888888,
              "#fdca26"
             ],
             [
              1,
              "#f0f921"
             ]
            ],
            "type": "heatmapgl"
           }
          ],
          "histogram": [
           {
            "marker": {
             "pattern": {
              "fillmode": "overlay",
              "size": 10,
              "solidity": 0.2
             }
            },
            "type": "histogram"
           }
          ],
          "histogram2d": [
           {
            "colorbar": {
             "outlinewidth": 0,
             "ticks": ""
            },
            "colorscale": [
             [
              0,
              "#0d0887"
             ],
             [
              0.1111111111111111,
              "#46039f"
             ],
             [
              0.2222222222222222,
              "#7201a8"
             ],
             [
              0.3333333333333333,
              "#9c179e"
             ],
             [
              0.4444444444444444,
              "#bd3786"
             ],
             [
              0.5555555555555556,
              "#d8576b"
             ],
             [
              0.6666666666666666,
              "#ed7953"
             ],
             [
              0.7777777777777778,
              "#fb9f3a"
             ],
             [
              0.8888888888888888,
              "#fdca26"
             ],
             [
              1,
              "#f0f921"
             ]
            ],
            "type": "histogram2d"
           }
          ],
          "histogram2dcontour": [
           {
            "colorbar": {
             "outlinewidth": 0,
             "ticks": ""
            },
            "colorscale": [
             [
              0,
              "#0d0887"
             ],
             [
              0.1111111111111111,
              "#46039f"
             ],
             [
              0.2222222222222222,
              "#7201a8"
             ],
             [
              0.3333333333333333,
              "#9c179e"
             ],
             [
              0.4444444444444444,
              "#bd3786"
             ],
             [
              0.5555555555555556,
              "#d8576b"
             ],
             [
              0.6666666666666666,
              "#ed7953"
             ],
             [
              0.7777777777777778,
              "#fb9f3a"
             ],
             [
              0.8888888888888888,
              "#fdca26"
             ],
             [
              1,
              "#f0f921"
             ]
            ],
            "type": "histogram2dcontour"
           }
          ],
          "mesh3d": [
           {
            "colorbar": {
             "outlinewidth": 0,
             "ticks": ""
            },
            "type": "mesh3d"
           }
          ],
          "parcoords": [
           {
            "line": {
             "colorbar": {
              "outlinewidth": 0,
              "ticks": ""
             }
            },
            "type": "parcoords"
           }
          ],
          "pie": [
           {
            "automargin": true,
            "type": "pie"
           }
          ],
          "scatter": [
           {
            "marker": {
             "colorbar": {
              "outlinewidth": 0,
              "ticks": ""
             }
            },
            "type": "scatter"
           }
          ],
          "scatter3d": [
           {
            "line": {
             "colorbar": {
              "outlinewidth": 0,
              "ticks": ""
             }
            },
            "marker": {
             "colorbar": {
              "outlinewidth": 0,
              "ticks": ""
             }
            },
            "type": "scatter3d"
           }
          ],
          "scattercarpet": [
           {
            "marker": {
             "colorbar": {
              "outlinewidth": 0,
              "ticks": ""
             }
            },
            "type": "scattercarpet"
           }
          ],
          "scattergeo": [
           {
            "marker": {
             "colorbar": {
              "outlinewidth": 0,
              "ticks": ""
             }
            },
            "type": "scattergeo"
           }
          ],
          "scattergl": [
           {
            "marker": {
             "colorbar": {
              "outlinewidth": 0,
              "ticks": ""
             }
            },
            "type": "scattergl"
           }
          ],
          "scattermapbox": [
           {
            "marker": {
             "colorbar": {
              "outlinewidth": 0,
              "ticks": ""
             }
            },
            "type": "scattermapbox"
           }
          ],
          "scatterpolar": [
           {
            "marker": {
             "colorbar": {
              "outlinewidth": 0,
              "ticks": ""
             }
            },
            "type": "scatterpolar"
           }
          ],
          "scatterpolargl": [
           {
            "marker": {
             "colorbar": {
              "outlinewidth": 0,
              "ticks": ""
             }
            },
            "type": "scatterpolargl"
           }
          ],
          "scatterternary": [
           {
            "marker": {
             "colorbar": {
              "outlinewidth": 0,
              "ticks": ""
             }
            },
            "type": "scatterternary"
           }
          ],
          "surface": [
           {
            "colorbar": {
             "outlinewidth": 0,
             "ticks": ""
            },
            "colorscale": [
             [
              0,
              "#0d0887"
             ],
             [
              0.1111111111111111,
              "#46039f"
             ],
             [
              0.2222222222222222,
              "#7201a8"
             ],
             [
              0.3333333333333333,
              "#9c179e"
             ],
             [
              0.4444444444444444,
              "#bd3786"
             ],
             [
              0.5555555555555556,
              "#d8576b"
             ],
             [
              0.6666666666666666,
              "#ed7953"
             ],
             [
              0.7777777777777778,
              "#fb9f3a"
             ],
             [
              0.8888888888888888,
              "#fdca26"
             ],
             [
              1,
              "#f0f921"
             ]
            ],
            "type": "surface"
           }
          ],
          "table": [
           {
            "cells": {
             "fill": {
              "color": "#EBF0F8"
             },
             "line": {
              "color": "white"
             }
            },
            "header": {
             "fill": {
              "color": "#C8D4E3"
             },
             "line": {
              "color": "white"
             }
            },
            "type": "table"
           }
          ]
         },
         "layout": {
          "annotationdefaults": {
           "arrowcolor": "#2a3f5f",
           "arrowhead": 0,
           "arrowwidth": 1
          },
          "autotypenumbers": "strict",
          "coloraxis": {
           "colorbar": {
            "outlinewidth": 0,
            "ticks": ""
           }
          },
          "colorscale": {
           "diverging": [
            [
             0,
             "#8e0152"
            ],
            [
             0.1,
             "#c51b7d"
            ],
            [
             0.2,
             "#de77ae"
            ],
            [
             0.3,
             "#f1b6da"
            ],
            [
             0.4,
             "#fde0ef"
            ],
            [
             0.5,
             "#f7f7f7"
            ],
            [
             0.6,
             "#e6f5d0"
            ],
            [
             0.7,
             "#b8e186"
            ],
            [
             0.8,
             "#7fbc41"
            ],
            [
             0.9,
             "#4d9221"
            ],
            [
             1,
             "#276419"
            ]
           ],
           "sequential": [
            [
             0,
             "#0d0887"
            ],
            [
             0.1111111111111111,
             "#46039f"
            ],
            [
             0.2222222222222222,
             "#7201a8"
            ],
            [
             0.3333333333333333,
             "#9c179e"
            ],
            [
             0.4444444444444444,
             "#bd3786"
            ],
            [
             0.5555555555555556,
             "#d8576b"
            ],
            [
             0.6666666666666666,
             "#ed7953"
            ],
            [
             0.7777777777777778,
             "#fb9f3a"
            ],
            [
             0.8888888888888888,
             "#fdca26"
            ],
            [
             1,
             "#f0f921"
            ]
           ],
           "sequentialminus": [
            [
             0,
             "#0d0887"
            ],
            [
             0.1111111111111111,
             "#46039f"
            ],
            [
             0.2222222222222222,
             "#7201a8"
            ],
            [
             0.3333333333333333,
             "#9c179e"
            ],
            [
             0.4444444444444444,
             "#bd3786"
            ],
            [
             0.5555555555555556,
             "#d8576b"
            ],
            [
             0.6666666666666666,
             "#ed7953"
            ],
            [
             0.7777777777777778,
             "#fb9f3a"
            ],
            [
             0.8888888888888888,
             "#fdca26"
            ],
            [
             1,
             "#f0f921"
            ]
           ]
          },
          "colorway": [
           "#636efa",
           "#EF553B",
           "#00cc96",
           "#ab63fa",
           "#FFA15A",
           "#19d3f3",
           "#FF6692",
           "#B6E880",
           "#FF97FF",
           "#FECB52"
          ],
          "font": {
           "color": "#2a3f5f"
          },
          "geo": {
           "bgcolor": "white",
           "lakecolor": "white",
           "landcolor": "#E5ECF6",
           "showlakes": true,
           "showland": true,
           "subunitcolor": "white"
          },
          "hoverlabel": {
           "align": "left"
          },
          "hovermode": "closest",
          "mapbox": {
           "style": "light"
          },
          "paper_bgcolor": "white",
          "plot_bgcolor": "#E5ECF6",
          "polar": {
           "angularaxis": {
            "gridcolor": "white",
            "linecolor": "white",
            "ticks": ""
           },
           "bgcolor": "#E5ECF6",
           "radialaxis": {
            "gridcolor": "white",
            "linecolor": "white",
            "ticks": ""
           }
          },
          "scene": {
           "xaxis": {
            "backgroundcolor": "#E5ECF6",
            "gridcolor": "white",
            "gridwidth": 2,
            "linecolor": "white",
            "showbackground": true,
            "ticks": "",
            "zerolinecolor": "white"
           },
           "yaxis": {
            "backgroundcolor": "#E5ECF6",
            "gridcolor": "white",
            "gridwidth": 2,
            "linecolor": "white",
            "showbackground": true,
            "ticks": "",
            "zerolinecolor": "white"
           },
           "zaxis": {
            "backgroundcolor": "#E5ECF6",
            "gridcolor": "white",
            "gridwidth": 2,
            "linecolor": "white",
            "showbackground": true,
            "ticks": "",
            "zerolinecolor": "white"
           }
          },
          "shapedefaults": {
           "line": {
            "color": "#2a3f5f"
           }
          },
          "ternary": {
           "aaxis": {
            "gridcolor": "white",
            "linecolor": "white",
            "ticks": ""
           },
           "baxis": {
            "gridcolor": "white",
            "linecolor": "white",
            "ticks": ""
           },
           "bgcolor": "#E5ECF6",
           "caxis": {
            "gridcolor": "white",
            "linecolor": "white",
            "ticks": ""
           }
          },
          "title": {
           "x": 0.05
          },
          "xaxis": {
           "automargin": true,
           "gridcolor": "white",
           "linecolor": "white",
           "ticks": "",
           "title": {
            "standoff": 15
           },
           "zerolinecolor": "white",
           "zerolinewidth": 2
          },
          "yaxis": {
           "automargin": true,
           "gridcolor": "white",
           "linecolor": "white",
           "ticks": "",
           "title": {
            "standoff": 15
           },
           "zerolinecolor": "white",
           "zerolinewidth": 2
          }
         }
        },
        "title": {
         "text": "Pat_Presc_Enbld"
        },
        "xaxis": {
         "autorange": true,
         "range": [
          "2017-04-30",
          "2021-03-31"
         ],
         "type": "date"
        },
        "yaxis": {
         "autorange": true,
         "range": [
          309694.7855370374,
          552039.6213874089
         ],
         "type": "linear"
        }
       }
      },
      "image/png": "[encoded data removed]",
      "text/html": [
       "<div>                            <div id=\"fc52937c-eba9-4461-ab23-aefa5aeefefe\" class=\"plotly-graph-div\" style=\"height:525px; width:100%;\"></div>            <script type=\"text/javascript\">                require([\"plotly\"], function(Plotly) {                    window.PLOTLYENV=window.PLOTLYENV || {};                                    if (document.getElementById(\"fc52937c-eba9-4461-ab23-aefa5aeefefe\")) {                    Plotly.newPlot(                        \"fc52937c-eba9-4461-ab23-aefa5aeefefe\",                        [{\"name\":\"Easy\",\"type\":\"scatter\",\"x\":[\"2017-04-30T00:00:00\",\"2017-05-31T00:00:00\",\"2017-06-30T00:00:00\",\"2017-07-31T00:00:00\",\"2017-11-30T00:00:00\",\"2018-01-31T00:00:00\",\"2018-02-28T00:00:00\",\"2018-03-31T00:00:00\",\"2018-04-30T00:00:00\",\"2018-05-31T00:00:00\",\"2018-06-30T00:00:00\",\"2018-07-31T00:00:00\",\"2018-08-31T00:00:00\",\"2018-09-30T00:00:00\",\"2018-10-31T00:00:00\",\"2018-11-30T00:00:00\",\"2018-12-31T00:00:00\",\"2019-01-31T00:00:00\",\"2019-02-28T00:00:00\",\"2019-03-31T00:00:00\",\"2019-04-30T00:00:00\",\"2019-05-31T00:00:00\",\"2019-06-30T00:00:00\",\"2019-07-31T00:00:00\",\"2019-08-31T00:00:00\",\"2019-09-30T00:00:00\",\"2019-10-31T00:00:00\",\"2019-11-30T00:00:00\",\"2019-12-31T00:00:00\",\"2020-01-31T00:00:00\",\"2020-02-29T00:00:00\",\"2020-03-31T00:00:00\",\"2020-04-30T00:00:00\",\"2020-05-31T00:00:00\",\"2020-06-30T00:00:00\",\"2020-07-31T00:00:00\",\"2020-08-31T00:00:00\",\"2020-09-30T00:00:00\",\"2020-10-31T00:00:00\",\"2020-11-30T00:00:00\",\"2020-12-31T00:00:00\",\"2021-01-31T00:00:00\",\"2021-02-28T00:00:00\",\"2021-03-31T00:00:00\"],\"y\":[321812.027329556,324512.32094507857,326786.3488666668,330650.9718288825,326246.15521153266,343242.6274482629,419390.4468867895,398253.5588974864,401593.0041756985,407639.46072164306,414279.48488850513,422221.28005034983,428520.29453653307,432939.05219903064,439933.8692077077,445130.61275542714,446762.4821740755,458168.66847662866,463642.12211529294,469939.1708206785,467006.0888043733,471899.190860481,477651.36277810816,482916.7707527093,489560.9720424457,495953.2687014468,503823.034276058,510686.769467094,515475.4867737267,523857.10174491856,530235.7022102369,539922.3795948904,375152.30558937695,379843.55735565483,382897.270698637,385667.23273929086,388310.58957715385,391552.1111423815,393577.5279622038,397861.7718562235,400442.6281755506,403647.35680540133,406805.58143432625,412484.04264984356]}],                        {\"template\":{\"data\":{\"bar\":[{\"error_x\":{\"color\":\"#2a3f5f\"},\"error_y\":{\"color\":\"#2a3f5f\"},\"marker\":{\"line\":{\"color\":\"#E5ECF6\",\"width\":0.5},\"pattern\":{\"fillmode\":\"overlay\",\"size\":10,\"solidity\":0.2}},\"type\":\"bar\"}],\"barpolar\":[{\"marker\":{\"line\":{\"color\":\"#E5ECF6\",\"width\":0.5},\"pattern\":{\"fillmode\":\"overlay\",\"size\":10,\"solidity\":0.2}},\"type\":\"barpolar\"}],\"carpet\":[{\"aaxis\":{\"endlinecolor\":\"#2a3f5f\",\"gridcolor\":\"white\",\"linecolor\":\"white\",\"minorgridcolor\":\"white\",\"startlinecolor\":\"#2a3f5f\"},\"baxis\":{\"endlinecolor\":\"#2a3f5f\",\"gridcolor\":\"white\",\"linecolor\":\"white\",\"minorgridcolor\":\"white\",\"startlinecolor\":\"#2a3f5f\"},\"type\":\"carpet\"}],\"choropleth\":[{\"colorbar\":{\"outlinewidth\":0,\"ticks\":\"\"},\"type\":\"choropleth\"}],\"contour\":[{\"colorbar\":{\"outlinewidth\":0,\"ticks\":\"\"},\"colorscale\":[[0.0,\"#0d0887\"],[0.1111111111111111,\"#46039f\"],[0.2222222222222222,\"#7201a8\"],[0.3333333333333333,\"#9c179e\"],[0.4444444444444444,\"#bd3786\"],[0.5555555555555556,\"#d8576b\"],[0.6666666666666666,\"#ed7953\"],[0.7777777777777778,\"#fb9f3a\"],[0.8888888888888888,\"#fdca26\"],[1.0,\"#f0f921\"]],\"type\":\"contour\"}],\"contourcarpet\":[{\"colorbar\":{\"outlinewidth\":0,\"ticks\":\"\"},\"type\":\"contourcarpet\"}],\"heatmap\":[{\"colorbar\":{\"outlinewidth\":0,\"ticks\":\"\"},\"colorscale\":[[0.0,\"#0d0887\"],[0.1111111111111111,\"#46039f\"],[0.2222222222222222,\"#7201a8\"],[0.3333333333333333,\"#9c179e\"],[0.4444444444444444,\"#bd3786\"],[0.5555555555555556,\"#d8576b\"],[0.6666666666666666,\"#ed7953\"],[0.7777777777777778,\"#fb9f3a\"],[0.8888888888888888,\"#fdca26\"],[1.0,\"#f0f921\"]],\"type\":\"heatmap\"}],\"heatmapgl\":[{\"colorbar\":{\"outlinewidth\":0,\"ticks\":\"\"},\"colorscale\":[[0.0,\"#0d0887\"],[0.1111111111111111,\"#46039f\"],[0.2222222222222222,\"#7201a8\"],[0.3333333333333333,\"#9c179e\"],[0.4444444444444444,\"#bd3786\"],[0.5555555555555556,\"#d8576b\"],[0.6666666666666666,\"#ed7953\"],[0.7777777777777778,\"#fb9f3a\"],[0.8888888888888888,\"#fdca26\"],[1.0,\"#f0f921\"]],\"type\":\"heatmapgl\"}],\"histogram\":[{\"marker\":{\"pattern\":{\"fillmode\":\"overlay\",\"size\":10,\"solidity\":0.2}},\"type\":\"histogram\"}],\"histogram2d\":[{\"colorbar\":{\"outlinewidth\":0,\"ticks\":\"\"},\"colorscale\":[[0.0,\"#0d0887\"],[0.1111111111111111,\"#46039f\"],[0.2222222222222222,\"#7201a8\"],[0.3333333333333333,\"#9c179e\"],[0.4444444444444444,\"#bd3786\"],[0.5555555555555556,\"#d8576b\"],[0.6666666666666666,\"#ed7953\"],[0.7777777777777778,\"#fb9f3a\"],[0.8888888888888888,\"#fdca26\"],[1.0,\"#f0f921\"]],\"type\":\"histogram2d\"}],\"histogram2dcontour\":[{\"colorbar\":{\"outlinewidth\":0,\"ticks\":\"\"},\"colorscale\":[[0.0,\"#0d0887\"],[0.1111111111111111,\"#46039f\"],[0.2222222222222222,\"#7201a8\"],[0.3333333333333333,\"#9c179e\"],[0.4444444444444444,\"#bd3786\"],[0.5555555555555556,\"#d8576b\"],[0.6666666666666666,\"#ed7953\"],[0.7777777777777778,\"#fb9f3a\"],[0.8888888888888888,\"#fdca26\"],[1.0,\"#f0f921\"]],\"type\":\"histogram2dcontour\"}],\"mesh3d\":[{\"colorbar\":{\"outlinewidth\":0,\"ticks\":\"\"},\"type\":\"mesh3d\"}],\"parcoords\":[{\"line\":{\"colorbar\":{\"outlinewidth\":0,\"ticks\":\"\"}},\"type\":\"parcoords\"}],\"pie\":[{\"automargin\":true,\"type\":\"pie\"}],\"scatter\":[{\"marker\":{\"colorbar\":{\"outlinewidth\":0,\"ticks\":\"\"}},\"type\":\"scatter\"}],\"scatter3d\":[{\"line\":{\"colorbar\":{\"outlinewidth\":0,\"ticks\":\"\"}},\"marker\":{\"colorbar\":{\"outlinewidth\":0,\"ticks\":\"\"}},\"type\":\"scatter3d\"}],\"scattercarpet\":[{\"marker\":{\"colorbar\":{\"outlinewidth\":0,\"ticks\":\"\"}},\"type\":\"scattercarpet\"}],\"scattergeo\":[{\"marker\":{\"colorbar\":{\"outlinewidth\":0,\"ticks\":\"\"}},\"type\":\"scattergeo\"}],\"scattergl\":[{\"marker\":{\"colorbar\":{\"outlinewidth\":0,\"ticks\":\"\"}},\"type\":\"scattergl\"}],\"scattermapbox\":[{\"marker\":{\"colorbar\":{\"outlinewidth\":0,\"ticks\":\"\"}},\"type\":\"scattermapbox\"}],\"scatterpolar\":[{\"marker\":{\"colorbar\":{\"outlinewidth\":0,\"ticks\":\"\"}},\"type\":\"scatterpolar\"}],\"scatterpolargl\":[{\"marker\":{\"colorbar\":{\"outlinewidth\":0,\"ticks\":\"\"}},\"type\":\"scatterpolargl\"}],\"scatterternary\":[{\"marker\":{\"colorbar\":{\"outlinewidth\":0,\"ticks\":\"\"}},\"type\":\"scatterternary\"}],\"surface\":[{\"colorbar\":{\"outlinewidth\":0,\"ticks\":\"\"},\"colorscale\":[[0.0,\"#0d0887\"],[0.1111111111111111,\"#46039f\"],[0.2222222222222222,\"#7201a8\"],[0.3333333333333333,\"#9c179e\"],[0.4444444444444444,\"#bd3786\"],[0.5555555555555556,\"#d8576b\"],[0.6666666666666666,\"#ed7953\"],[0.7777777777777778,\"#fb9f3a\"],[0.8888888888888888,\"#fdca26\"],[1.0,\"#f0f921\"]],\"type\":\"surface\"}],\"table\":[{\"cells\":{\"fill\":{\"color\":\"#EBF0F8\"},\"line\":{\"color\":\"white\"}},\"header\":{\"fill\":{\"color\":\"#C8D4E3\"},\"line\":{\"color\":\"white\"}},\"type\":\"table\"}]},\"layout\":{\"annotationdefaults\":{\"arrowcolor\":\"#2a3f5f\",\"arrowhead\":0,\"arrowwidth\":1},\"autotypenumbers\":\"strict\",\"coloraxis\":{\"colorbar\":{\"outlinewidth\":0,\"ticks\":\"\"}},\"colorscale\":{\"diverging\":[[0,\"#8e0152\"],[0.1,\"#c51b7d\"],[0.2,\"#de77ae\"],[0.3,\"#f1b6da\"],[0.4,\"#fde0ef\"],[0.5,\"#f7f7f7\"],[0.6,\"#e6f5d0\"],[0.7,\"#b8e186\"],[0.8,\"#7fbc41\"],[0.9,\"#4d9221\"],[1,\"#276419\"]],\"sequential\":[[0.0,\"#0d0887\"],[0.1111111111111111,\"#46039f\"],[0.2222222222222222,\"#7201a8\"],[0.3333333333333333,\"#9c179e\"],[0.4444444444444444,\"#bd3786\"],[0.5555555555555556,\"#d8576b\"],[0.6666666666666666,\"#ed7953\"],[0.7777777777777778,\"#fb9f3a\"],[0.8888888888888888,\"#fdca26\"],[1.0,\"#f0f921\"]],\"sequentialminus\":[[0.0,\"#0d0887\"],[0.1111111111111111,\"#46039f\"],[0.2222222222222222,\"#7201a8\"],[0.3333333333333333,\"#9c179e\"],[0.4444444444444444,\"#bd3786\"],[0.5555555555555556,\"#d8576b\"],[0.6666666666666666,\"#ed7953\"],[0.7777777777777778,\"#fb9f3a\"],[0.8888888888888888,\"#fdca26\"],[1.0,\"#f0f921\"]]},\"colorway\":[\"#636efa\",\"#EF553B\",\"#00cc96\",\"#ab63fa\",\"#FFA15A\",\"#19d3f3\",\"#FF6692\",\"#B6E880\",\"#FF97FF\",\"#FECB52\"],\"font\":{\"color\":\"#2a3f5f\"},\"geo\":{\"bgcolor\":\"white\",\"lakecolor\":\"white\",\"landcolor\":\"#E5ECF6\",\"showlakes\":true,\"showland\":true,\"subunitcolor\":\"white\"},\"hoverlabel\":{\"align\":\"left\"},\"hovermode\":\"closest\",\"mapbox\":{\"style\":\"light\"},\"paper_bgcolor\":\"white\",\"plot_bgcolor\":\"#E5ECF6\",\"polar\":{\"angularaxis\":{\"gridcolor\":\"white\",\"linecolor\":\"white\",\"ticks\":\"\"},\"bgcolor\":\"#E5ECF6\",\"radialaxis\":{\"gridcolor\":\"white\",\"linecolor\":\"white\",\"ticks\":\"\"}},\"scene\":{\"xaxis\":{\"backgroundcolor\":\"#E5ECF6\",\"gridcolor\":\"white\",\"gridwidth\":2,\"linecolor\":\"white\",\"showbackground\":true,\"ticks\":\"\",\"zerolinecolor\":\"white\"},\"yaxis\":{\"backgroundcolor\":\"#E5ECF6\",\"gridcolor\":\"white\",\"gridwidth\":2,\"linecolor\":\"white\",\"showbackground\":true,\"ticks\":\"\",\"zerolinecolor\":\"white\"},\"zaxis\":{\"backgroundcolor\":\"#E5ECF6\",\"gridcolor\":\"white\",\"gridwidth\":2,\"linecolor\":\"white\",\"showbackground\":true,\"ticks\":\"\",\"zerolinecolor\":\"white\"}},\"shapedefaults\":{\"line\":{\"color\":\"#2a3f5f\"}},\"ternary\":{\"aaxis\":{\"gridcolor\":\"white\",\"linecolor\":\"white\",\"ticks\":\"\"},\"baxis\":{\"gridcolor\":\"white\",\"linecolor\":\"white\",\"ticks\":\"\"},\"bgcolor\":\"#E5ECF6\",\"caxis\":{\"gridcolor\":\"white\",\"linecolor\":\"white\",\"ticks\":\"\"}},\"title\":{\"x\":0.05},\"xaxis\":{\"automargin\":true,\"gridcolor\":\"white\",\"linecolor\":\"white\",\"ticks\":\"\",\"title\":{\"standoff\":15},\"zerolinecolor\":\"white\",\"zerolinewidth\":2},\"yaxis\":{\"automargin\":true,\"gridcolor\":\"white\",\"linecolor\":\"white\",\"ticks\":\"\",\"title\":{\"standoff\":15},\"zerolinecolor\":\"white\",\"zerolinewidth\":2}}},\"title\":{\"text\":\"Pat_Presc_Enbld\"}},                        {\"responsive\": true}                    ).then(function(){\n",
       "                            \n",
       "var gd = document.getElementById('fc52937c-eba9-4461-ab23-aefa5aeefefe');\n",
       "var x = new MutationObserver(function (mutations, observer) {{\n",
       "        var display = window.getComputedStyle(gd).display;\n",
       "        if (!display || display === 'none') {{\n",
       "            console.log([gd, 'removed!']);\n",
       "            Plotly.purge(gd);\n",
       "            observer.disconnect();\n",
       "        }}\n",
       "}});\n",
       "\n",
       "// Listen for the removal of the full notebook cells\n",
       "var notebookContainer = gd.closest('#notebook-container');\n",
       "if (notebookContainer) {{\n",
       "    x.observe(notebookContainer, {childList: true});\n",
       "}}\n",
       "\n",
       "// Listen for the clearing of the current output cell\n",
       "var outputEl = gd.closest('.output');\n",
       "if (outputEl) {{\n",
       "    x.observe(outputEl, {childList: true});\n",
       "}}\n",
       "\n",
       "                        })                };                });            </script>        </div>"
      ]
     },
     "metadata": {},
     "output_type": "display_data"
    }
   ],
   "source": [
    "data0 = go.Scatter(\n",
    "    x = Patients_enabled.report_period_end,\n",
    "    y = Patients_enabled.Pat_Presc_Enbld,\n",
    "    name = \"Easy\")\n",
    "\n",
    "layout = go.Layout(title = 'Pat_Presc_Enbld')\n",
    "\n",
    "figure = go.Figure(data = data0, layout = layout)\n",
    "figure.show()"
   ]
  },
  {
   "cell_type": "code",
   "execution_count": 144,
   "id": "82fc0b70",
   "metadata": {},
   "outputs": [
    {
     "data": {
      "application/vnd.plotly.v1+json": {
       "config": {
        "plotlyServerURL": "https://plot.ly"
       },
       "data": [
        {
         "name": "Easy",
         "type": "scatter",
         "x": [
          "2017-04-30T00:00:00",
          "2017-05-31T00:00:00",
          "2017-06-30T00:00:00",
          "2017-07-31T00:00:00",
          "2017-11-30T00:00:00",
          "2018-01-31T00:00:00",
          "2018-02-28T00:00:00",
          "2018-03-31T00:00:00",
          "2018-04-30T00:00:00",
          "2018-05-31T00:00:00",
          "2018-06-30T00:00:00",
          "2018-07-31T00:00:00",
          "2018-08-31T00:00:00",
          "2018-09-30T00:00:00",
          "2018-10-31T00:00:00",
          "2018-11-30T00:00:00",
          "2018-12-31T00:00:00",
          "2019-01-31T00:00:00",
          "2019-02-28T00:00:00",
          "2019-03-31T00:00:00",
          "2019-04-30T00:00:00",
          "2019-05-31T00:00:00",
          "2019-06-30T00:00:00",
          "2019-07-31T00:00:00",
          "2019-08-31T00:00:00",
          "2019-09-30T00:00:00",
          "2019-10-31T00:00:00",
          "2019-11-30T00:00:00",
          "2019-12-31T00:00:00",
          "2020-01-31T00:00:00",
          "2020-02-29T00:00:00",
          "2020-03-31T00:00:00",
          "2020-04-30T00:00:00",
          "2020-05-31T00:00:00",
          "2020-06-30T00:00:00",
          "2020-07-31T00:00:00",
          "2020-08-31T00:00:00",
          "2020-09-30T00:00:00",
          "2020-10-31T00:00:00",
          "2020-11-30T00:00:00",
          "2020-12-31T00:00:00",
          "2021-01-31T00:00:00",
          "2021-02-28T00:00:00",
          "2021-03-31T00:00:00"
         ],
         "y": [
          321812.027329556,
          324512.32094507857,
          326786.3488666668,
          330650.9718288825,
          326246.15521153266,
          343242.6274482629,
          419390.4468867895,
          398253.5588974864,
          401593.0041756985,
          407639.46072164306,
          414279.48488850513,
          422221.28005034983,
          428520.29453653307,
          432939.05219903064,
          439933.8692077077,
          445130.61275542714,
          446762.4821740755,
          458168.66847662866,
          463642.12211529294,
          469939.1708206785,
          467006.0888043733,
          471899.190860481,
          477651.36277810816,
          482916.7707527093,
          489560.9720424457,
          495953.2687014468,
          503823.034276058,
          510686.769467094,
          515475.4867737267,
          523857.10174491856,
          530235.7022102369,
          539922.3795948904,
          375152.30558937695,
          379843.55735565483,
          382897.270698637,
          385667.23273929086,
          388310.58957715385,
          391552.1111423815,
          393577.5279622038,
          397861.7718562235,
          400442.6281755506,
          403647.35680540133,
          406805.58143432625,
          412484.04264984356
         ]
        }
       ],
       "layout": {
        "autosize": true,
        "template": {
         "data": {
          "bar": [
           {
            "error_x": {
             "color": "#2a3f5f"
            },
            "error_y": {
             "color": "#2a3f5f"
            },
            "marker": {
             "line": {
              "color": "#E5ECF6",
              "width": 0.5
             },
             "pattern": {
              "fillmode": "overlay",
              "size": 10,
              "solidity": 0.2
             }
            },
            "type": "bar"
           }
          ],
          "barpolar": [
           {
            "marker": {
             "line": {
              "color": "#E5ECF6",
              "width": 0.5
             },
             "pattern": {
              "fillmode": "overlay",
              "size": 10,
              "solidity": 0.2
             }
            },
            "type": "barpolar"
           }
          ],
          "carpet": [
           {
            "aaxis": {
             "endlinecolor": "#2a3f5f",
             "gridcolor": "white",
             "linecolor": "white",
             "minorgridcolor": "white",
             "startlinecolor": "#2a3f5f"
            },
            "baxis": {
             "endlinecolor": "#2a3f5f",
             "gridcolor": "white",
             "linecolor": "white",
             "minorgridcolor": "white",
             "startlinecolor": "#2a3f5f"
            },
            "type": "carpet"
           }
          ],
          "choropleth": [
           {
            "colorbar": {
             "outlinewidth": 0,
             "ticks": ""
            },
            "type": "choropleth"
           }
          ],
          "contour": [
           {
            "colorbar": {
             "outlinewidth": 0,
             "ticks": ""
            },
            "colorscale": [
             [
              0,
              "#0d0887"
             ],
             [
              0.1111111111111111,
              "#46039f"
             ],
             [
              0.2222222222222222,
              "#7201a8"
             ],
             [
              0.3333333333333333,
              "#9c179e"
             ],
             [
              0.4444444444444444,
              "#bd3786"
             ],
             [
              0.5555555555555556,
              "#d8576b"
             ],
             [
              0.6666666666666666,
              "#ed7953"
             ],
             [
              0.7777777777777778,
              "#fb9f3a"
             ],
             [
              0.8888888888888888,
              "#fdca26"
             ],
             [
              1,
              "#f0f921"
             ]
            ],
            "type": "contour"
           }
          ],
          "contourcarpet": [
           {
            "colorbar": {
             "outlinewidth": 0,
             "ticks": ""
            },
            "type": "contourcarpet"
           }
          ],
          "heatmap": [
           {
            "colorbar": {
             "outlinewidth": 0,
             "ticks": ""
            },
            "colorscale": [
             [
              0,
              "#0d0887"
             ],
             [
              0.1111111111111111,
              "#46039f"
             ],
             [
              0.2222222222222222,
              "#7201a8"
             ],
             [
              0.3333333333333333,
              "#9c179e"
             ],
             [
              0.4444444444444444,
              "#bd3786"
             ],
             [
              0.5555555555555556,
              "#d8576b"
             ],
             [
              0.6666666666666666,
              "#ed7953"
             ],
             [
              0.7777777777777778,
              "#fb9f3a"
             ],
             [
              0.8888888888888888,
              "#fdca26"
             ],
             [
              1,
              "#f0f921"
             ]
            ],
            "type": "heatmap"
           }
          ],
          "heatmapgl": [
           {
            "colorbar": {
             "outlinewidth": 0,
             "ticks": ""
            },
            "colorscale": [
             [
              0,
              "#0d0887"
             ],
             [
              0.1111111111111111,
              "#46039f"
             ],
             [
              0.2222222222222222,
              "#7201a8"
             ],
             [
              0.3333333333333333,
              "#9c179e"
             ],
             [
              0.4444444444444444,
              "#bd3786"
             ],
             [
              0.5555555555555556,
              "#d8576b"
             ],
             [
              0.6666666666666666,
              "#ed7953"
             ],
             [
              0.7777777777777778,
              "#fb9f3a"
             ],
             [
              0.8888888888888888,
              "#fdca26"
             ],
             [
              1,
              "#f0f921"
             ]
            ],
            "type": "heatmapgl"
           }
          ],
          "histogram": [
           {
            "marker": {
             "pattern": {
              "fillmode": "overlay",
              "size": 10,
              "solidity": 0.2
             }
            },
            "type": "histogram"
           }
          ],
          "histogram2d": [
           {
            "colorbar": {
             "outlinewidth": 0,
             "ticks": ""
            },
            "colorscale": [
             [
              0,
              "#0d0887"
             ],
             [
              0.1111111111111111,
              "#46039f"
             ],
             [
              0.2222222222222222,
              "#7201a8"
             ],
             [
              0.3333333333333333,
              "#9c179e"
             ],
             [
              0.4444444444444444,
              "#bd3786"
             ],
             [
              0.5555555555555556,
              "#d8576b"
             ],
             [
              0.6666666666666666,
              "#ed7953"
             ],
             [
              0.7777777777777778,
              "#fb9f3a"
             ],
             [
              0.8888888888888888,
              "#fdca26"
             ],
             [
              1,
              "#f0f921"
             ]
            ],
            "type": "histogram2d"
           }
          ],
          "histogram2dcontour": [
           {
            "colorbar": {
             "outlinewidth": 0,
             "ticks": ""
            },
            "colorscale": [
             [
              0,
              "#0d0887"
             ],
             [
              0.1111111111111111,
              "#46039f"
             ],
             [
              0.2222222222222222,
              "#7201a8"
             ],
             [
              0.3333333333333333,
              "#9c179e"
             ],
             [
              0.4444444444444444,
              "#bd3786"
             ],
             [
              0.5555555555555556,
              "#d8576b"
             ],
             [
              0.6666666666666666,
              "#ed7953"
             ],
             [
              0.7777777777777778,
              "#fb9f3a"
             ],
             [
              0.8888888888888888,
              "#fdca26"
             ],
             [
              1,
              "#f0f921"
             ]
            ],
            "type": "histogram2dcontour"
           }
          ],
          "mesh3d": [
           {
            "colorbar": {
             "outlinewidth": 0,
             "ticks": ""
            },
            "type": "mesh3d"
           }
          ],
          "parcoords": [
           {
            "line": {
             "colorbar": {
              "outlinewidth": 0,
              "ticks": ""
             }
            },
            "type": "parcoords"
           }
          ],
          "pie": [
           {
            "automargin": true,
            "type": "pie"
           }
          ],
          "scatter": [
           {
            "marker": {
             "colorbar": {
              "outlinewidth": 0,
              "ticks": ""
             }
            },
            "type": "scatter"
           }
          ],
          "scatter3d": [
           {
            "line": {
             "colorbar": {
              "outlinewidth": 0,
              "ticks": ""
             }
            },
            "marker": {
             "colorbar": {
              "outlinewidth": 0,
              "ticks": ""
             }
            },
            "type": "scatter3d"
           }
          ],
          "scattercarpet": [
           {
            "marker": {
             "colorbar": {
              "outlinewidth": 0,
              "ticks": ""
             }
            },
            "type": "scattercarpet"
           }
          ],
          "scattergeo": [
           {
            "marker": {
             "colorbar": {
              "outlinewidth": 0,
              "ticks": ""
             }
            },
            "type": "scattergeo"
           }
          ],
          "scattergl": [
           {
            "marker": {
             "colorbar": {
              "outlinewidth": 0,
              "ticks": ""
             }
            },
            "type": "scattergl"
           }
          ],
          "scattermapbox": [
           {
            "marker": {
             "colorbar": {
              "outlinewidth": 0,
              "ticks": ""
             }
            },
            "type": "scattermapbox"
           }
          ],
          "scatterpolar": [
           {
            "marker": {
             "colorbar": {
              "outlinewidth": 0,
              "ticks": ""
             }
            },
            "type": "scatterpolar"
           }
          ],
          "scatterpolargl": [
           {
            "marker": {
             "colorbar": {
              "outlinewidth": 0,
              "ticks": ""
             }
            },
            "type": "scatterpolargl"
           }
          ],
          "scatterternary": [
           {
            "marker": {
             "colorbar": {
              "outlinewidth": 0,
              "ticks": ""
             }
            },
            "type": "scatterternary"
           }
          ],
          "surface": [
           {
            "colorbar": {
             "outlinewidth": 0,
             "ticks": ""
            },
            "colorscale": [
             [
              0,
              "#0d0887"
             ],
             [
              0.1111111111111111,
              "#46039f"
             ],
             [
              0.2222222222222222,
              "#7201a8"
             ],
             [
              0.3333333333333333,
              "#9c179e"
             ],
             [
              0.4444444444444444,
              "#bd3786"
             ],
             [
              0.5555555555555556,
              "#d8576b"
             ],
             [
              0.6666666666666666,
              "#ed7953"
             ],
             [
              0.7777777777777778,
              "#fb9f3a"
             ],
             [
              0.8888888888888888,
              "#fdca26"
             ],
             [
              1,
              "#f0f921"
             ]
            ],
            "type": "surface"
           }
          ],
          "table": [
           {
            "cells": {
             "fill": {
              "color": "#EBF0F8"
             },
             "line": {
              "color": "white"
             }
            },
            "header": {
             "fill": {
              "color": "#C8D4E3"
             },
             "line": {
              "color": "white"
             }
            },
            "type": "table"
           }
          ]
         },
         "layout": {
          "annotationdefaults": {
           "arrowcolor": "#2a3f5f",
           "arrowhead": 0,
           "arrowwidth": 1
          },
          "autotypenumbers": "strict",
          "coloraxis": {
           "colorbar": {
            "outlinewidth": 0,
            "ticks": ""
           }
          },
          "colorscale": {
           "diverging": [
            [
             0,
             "#8e0152"
            ],
            [
             0.1,
             "#c51b7d"
            ],
            [
             0.2,
             "#de77ae"
            ],
            [
             0.3,
             "#f1b6da"
            ],
            [
             0.4,
             "#fde0ef"
            ],
            [
             0.5,
             "#f7f7f7"
            ],
            [
             0.6,
             "#e6f5d0"
            ],
            [
             0.7,
             "#b8e186"
            ],
            [
             0.8,
             "#7fbc41"
            ],
            [
             0.9,
             "#4d9221"
            ],
            [
             1,
             "#276419"
            ]
           ],
           "sequential": [
            [
             0,
             "#0d0887"
            ],
            [
             0.1111111111111111,
             "#46039f"
            ],
            [
             0.2222222222222222,
             "#7201a8"
            ],
            [
             0.3333333333333333,
             "#9c179e"
            ],
            [
             0.4444444444444444,
             "#bd3786"
            ],
            [
             0.5555555555555556,
             "#d8576b"
            ],
            [
             0.6666666666666666,
             "#ed7953"
            ],
            [
             0.7777777777777778,
             "#fb9f3a"
            ],
            [
             0.8888888888888888,
             "#fdca26"
            ],
            [
             1,
             "#f0f921"
            ]
           ],
           "sequentialminus": [
            [
             0,
             "#0d0887"
            ],
            [
             0.1111111111111111,
             "#46039f"
            ],
            [
             0.2222222222222222,
             "#7201a8"
            ],
            [
             0.3333333333333333,
             "#9c179e"
            ],
            [
             0.4444444444444444,
             "#bd3786"
            ],
            [
             0.5555555555555556,
             "#d8576b"
            ],
            [
             0.6666666666666666,
             "#ed7953"
            ],
            [
             0.7777777777777778,
             "#fb9f3a"
            ],
            [
             0.8888888888888888,
             "#fdca26"
            ],
            [
             1,
             "#f0f921"
            ]
           ]
          },
          "colorway": [
           "#636efa",
           "#EF553B",
           "#00cc96",
           "#ab63fa",
           "#FFA15A",
           "#19d3f3",
           "#FF6692",
           "#B6E880",
           "#FF97FF",
           "#FECB52"
          ],
          "font": {
           "color": "#2a3f5f"
          },
          "geo": {
           "bgcolor": "white",
           "lakecolor": "white",
           "landcolor": "#E5ECF6",
           "showlakes": true,
           "showland": true,
           "subunitcolor": "white"
          },
          "hoverlabel": {
           "align": "left"
          },
          "hovermode": "closest",
          "mapbox": {
           "style": "light"
          },
          "paper_bgcolor": "white",
          "plot_bgcolor": "#E5ECF6",
          "polar": {
           "angularaxis": {
            "gridcolor": "white",
            "linecolor": "white",
            "ticks": ""
           },
           "bgcolor": "#E5ECF6",
           "radialaxis": {
            "gridcolor": "white",
            "linecolor": "white",
            "ticks": ""
           }
          },
          "scene": {
           "xaxis": {
            "backgroundcolor": "#E5ECF6",
            "gridcolor": "white",
            "gridwidth": 2,
            "linecolor": "white",
            "showbackground": true,
            "ticks": "",
            "zerolinecolor": "white"
           },
           "yaxis": {
            "backgroundcolor": "#E5ECF6",
            "gridcolor": "white",
            "gridwidth": 2,
            "linecolor": "white",
            "showbackground": true,
            "ticks": "",
            "zerolinecolor": "white"
           },
           "zaxis": {
            "backgroundcolor": "#E5ECF6",
            "gridcolor": "white",
            "gridwidth": 2,
            "linecolor": "white",
            "showbackground": true,
            "ticks": "",
            "zerolinecolor": "white"
           }
          },
          "shapedefaults": {
           "line": {
            "color": "#2a3f5f"
           }
          },
          "ternary": {
           "aaxis": {
            "gridcolor": "white",
            "linecolor": "white",
            "ticks": ""
           },
           "baxis": {
            "gridcolor": "white",
            "linecolor": "white",
            "ticks": ""
           },
           "bgcolor": "#E5ECF6",
           "caxis": {
            "gridcolor": "white",
            "linecolor": "white",
            "ticks": ""
           }
          },
          "title": {
           "x": 0.05
          },
          "xaxis": {
           "automargin": true,
           "gridcolor": "white",
           "linecolor": "white",
           "ticks": "",
           "title": {
            "standoff": 15
           },
           "zerolinecolor": "white",
           "zerolinewidth": 2
          },
          "yaxis": {
           "automargin": true,
           "gridcolor": "white",
           "linecolor": "white",
           "ticks": "",
           "title": {
            "standoff": 15
           },
           "zerolinecolor": "white",
           "zerolinewidth": 2
          }
         }
        },
        "title": {
         "text": "Pat_Appts_Enbld"
        },
        "xaxis": {
         "autorange": true,
         "range": [
          "2017-04-30",
          "2021-03-31"
         ],
         "type": "date"
        },
        "yaxis": {
         "autorange": true,
         "range": [
          309694.7855370374,
          552039.6213874089
         ],
         "type": "linear"
        }
       }
      },
      "image/png": "[encoded data removed]",
      "text/html": [
       "<div>                            <div id=\"d6531845-0974-41f4-b46b-332224ecbd25\" class=\"plotly-graph-div\" style=\"height:525px; width:100%;\"></div>            <script type=\"text/javascript\">                require([\"plotly\"], function(Plotly) {                    window.PLOTLYENV=window.PLOTLYENV || {};                                    if (document.getElementById(\"d6531845-0974-41f4-b46b-332224ecbd25\")) {                    Plotly.newPlot(                        \"d6531845-0974-41f4-b46b-332224ecbd25\",                        [{\"name\":\"Easy\",\"type\":\"scatter\",\"x\":[\"2017-04-30T00:00:00\",\"2017-05-31T00:00:00\",\"2017-06-30T00:00:00\",\"2017-07-31T00:00:00\",\"2017-11-30T00:00:00\",\"2018-01-31T00:00:00\",\"2018-02-28T00:00:00\",\"2018-03-31T00:00:00\",\"2018-04-30T00:00:00\",\"2018-05-31T00:00:00\",\"2018-06-30T00:00:00\",\"2018-07-31T00:00:00\",\"2018-08-31T00:00:00\",\"2018-09-30T00:00:00\",\"2018-10-31T00:00:00\",\"2018-11-30T00:00:00\",\"2018-12-31T00:00:00\",\"2019-01-31T00:00:00\",\"2019-02-28T00:00:00\",\"2019-03-31T00:00:00\",\"2019-04-30T00:00:00\",\"2019-05-31T00:00:00\",\"2019-06-30T00:00:00\",\"2019-07-31T00:00:00\",\"2019-08-31T00:00:00\",\"2019-09-30T00:00:00\",\"2019-10-31T00:00:00\",\"2019-11-30T00:00:00\",\"2019-12-31T00:00:00\",\"2020-01-31T00:00:00\",\"2020-02-29T00:00:00\",\"2020-03-31T00:00:00\",\"2020-04-30T00:00:00\",\"2020-05-31T00:00:00\",\"2020-06-30T00:00:00\",\"2020-07-31T00:00:00\",\"2020-08-31T00:00:00\",\"2020-09-30T00:00:00\",\"2020-10-31T00:00:00\",\"2020-11-30T00:00:00\",\"2020-12-31T00:00:00\",\"2021-01-31T00:00:00\",\"2021-02-28T00:00:00\",\"2021-03-31T00:00:00\"],\"y\":[321812.027329556,324512.32094507857,326786.3488666668,330650.9718288825,326246.15521153266,343242.6274482629,419390.4468867895,398253.5588974864,401593.0041756985,407639.46072164306,414279.48488850513,422221.28005034983,428520.29453653307,432939.05219903064,439933.8692077077,445130.61275542714,446762.4821740755,458168.66847662866,463642.12211529294,469939.1708206785,467006.0888043733,471899.190860481,477651.36277810816,482916.7707527093,489560.9720424457,495953.2687014468,503823.034276058,510686.769467094,515475.4867737267,523857.10174491856,530235.7022102369,539922.3795948904,375152.30558937695,379843.55735565483,382897.270698637,385667.23273929086,388310.58957715385,391552.1111423815,393577.5279622038,397861.7718562235,400442.6281755506,403647.35680540133,406805.58143432625,412484.04264984356]}],                        {\"template\":{\"data\":{\"bar\":[{\"error_x\":{\"color\":\"#2a3f5f\"},\"error_y\":{\"color\":\"#2a3f5f\"},\"marker\":{\"line\":{\"color\":\"#E5ECF6\",\"width\":0.5},\"pattern\":{\"fillmode\":\"overlay\",\"size\":10,\"solidity\":0.2}},\"type\":\"bar\"}],\"barpolar\":[{\"marker\":{\"line\":{\"color\":\"#E5ECF6\",\"width\":0.5},\"pattern\":{\"fillmode\":\"overlay\",\"size\":10,\"solidity\":0.2}},\"type\":\"barpolar\"}],\"carpet\":[{\"aaxis\":{\"endlinecolor\":\"#2a3f5f\",\"gridcolor\":\"white\",\"linecolor\":\"white\",\"minorgridcolor\":\"white\",\"startlinecolor\":\"#2a3f5f\"},\"baxis\":{\"endlinecolor\":\"#2a3f5f\",\"gridcolor\":\"white\",\"linecolor\":\"white\",\"minorgridcolor\":\"white\",\"startlinecolor\":\"#2a3f5f\"},\"type\":\"carpet\"}],\"choropleth\":[{\"colorbar\":{\"outlinewidth\":0,\"ticks\":\"\"},\"type\":\"choropleth\"}],\"contour\":[{\"colorbar\":{\"outlinewidth\":0,\"ticks\":\"\"},\"colorscale\":[[0.0,\"#0d0887\"],[0.1111111111111111,\"#46039f\"],[0.2222222222222222,\"#7201a8\"],[0.3333333333333333,\"#9c179e\"],[0.4444444444444444,\"#bd3786\"],[0.5555555555555556,\"#d8576b\"],[0.6666666666666666,\"#ed7953\"],[0.7777777777777778,\"#fb9f3a\"],[0.8888888888888888,\"#fdca26\"],[1.0,\"#f0f921\"]],\"type\":\"contour\"}],\"contourcarpet\":[{\"colorbar\":{\"outlinewidth\":0,\"ticks\":\"\"},\"type\":\"contourcarpet\"}],\"heatmap\":[{\"colorbar\":{\"outlinewidth\":0,\"ticks\":\"\"},\"colorscale\":[[0.0,\"#0d0887\"],[0.1111111111111111,\"#46039f\"],[0.2222222222222222,\"#7201a8\"],[0.3333333333333333,\"#9c179e\"],[0.4444444444444444,\"#bd3786\"],[0.5555555555555556,\"#d8576b\"],[0.6666666666666666,\"#ed7953\"],[0.7777777777777778,\"#fb9f3a\"],[0.8888888888888888,\"#fdca26\"],[1.0,\"#f0f921\"]],\"type\":\"heatmap\"}],\"heatmapgl\":[{\"colorbar\":{\"outlinewidth\":0,\"ticks\":\"\"},\"colorscale\":[[0.0,\"#0d0887\"],[0.1111111111111111,\"#46039f\"],[0.2222222222222222,\"#7201a8\"],[0.3333333333333333,\"#9c179e\"],[0.4444444444444444,\"#bd3786\"],[0.5555555555555556,\"#d8576b\"],[0.6666666666666666,\"#ed7953\"],[0.7777777777777778,\"#fb9f3a\"],[0.8888888888888888,\"#fdca26\"],[1.0,\"#f0f921\"]],\"type\":\"heatmapgl\"}],\"histogram\":[{\"marker\":{\"pattern\":{\"fillmode\":\"overlay\",\"size\":10,\"solidity\":0.2}},\"type\":\"histogram\"}],\"histogram2d\":[{\"colorbar\":{\"outlinewidth\":0,\"ticks\":\"\"},\"colorscale\":[[0.0,\"#0d0887\"],[0.1111111111111111,\"#46039f\"],[0.2222222222222222,\"#7201a8\"],[0.3333333333333333,\"#9c179e\"],[0.4444444444444444,\"#bd3786\"],[0.5555555555555556,\"#d8576b\"],[0.6666666666666666,\"#ed7953\"],[0.7777777777777778,\"#fb9f3a\"],[0.8888888888888888,\"#fdca26\"],[1.0,\"#f0f921\"]],\"type\":\"histogram2d\"}],\"histogram2dcontour\":[{\"colorbar\":{\"outlinewidth\":0,\"ticks\":\"\"},\"colorscale\":[[0.0,\"#0d0887\"],[0.1111111111111111,\"#46039f\"],[0.2222222222222222,\"#7201a8\"],[0.3333333333333333,\"#9c179e\"],[0.4444444444444444,\"#bd3786\"],[0.5555555555555556,\"#d8576b\"],[0.6666666666666666,\"#ed7953\"],[0.7777777777777778,\"#fb9f3a\"],[0.8888888888888888,\"#fdca26\"],[1.0,\"#f0f921\"]],\"type\":\"histogram2dcontour\"}],\"mesh3d\":[{\"colorbar\":{\"outlinewidth\":0,\"ticks\":\"\"},\"type\":\"mesh3d\"}],\"parcoords\":[{\"line\":{\"colorbar\":{\"outlinewidth\":0,\"ticks\":\"\"}},\"type\":\"parcoords\"}],\"pie\":[{\"automargin\":true,\"type\":\"pie\"}],\"scatter\":[{\"marker\":{\"colorbar\":{\"outlinewidth\":0,\"ticks\":\"\"}},\"type\":\"scatter\"}],\"scatter3d\":[{\"line\":{\"colorbar\":{\"outlinewidth\":0,\"ticks\":\"\"}},\"marker\":{\"colorbar\":{\"outlinewidth\":0,\"ticks\":\"\"}},\"type\":\"scatter3d\"}],\"scattercarpet\":[{\"marker\":{\"colorbar\":{\"outlinewidth\":0,\"ticks\":\"\"}},\"type\":\"scattercarpet\"}],\"scattergeo\":[{\"marker\":{\"colorbar\":{\"outlinewidth\":0,\"ticks\":\"\"}},\"type\":\"scattergeo\"}],\"scattergl\":[{\"marker\":{\"colorbar\":{\"outlinewidth\":0,\"ticks\":\"\"}},\"type\":\"scattergl\"}],\"scattermapbox\":[{\"marker\":{\"colorbar\":{\"outlinewidth\":0,\"ticks\":\"\"}},\"type\":\"scattermapbox\"}],\"scatterpolar\":[{\"marker\":{\"colorbar\":{\"outlinewidth\":0,\"ticks\":\"\"}},\"type\":\"scatterpolar\"}],\"scatterpolargl\":[{\"marker\":{\"colorbar\":{\"outlinewidth\":0,\"ticks\":\"\"}},\"type\":\"scatterpolargl\"}],\"scatterternary\":[{\"marker\":{\"colorbar\":{\"outlinewidth\":0,\"ticks\":\"\"}},\"type\":\"scatterternary\"}],\"surface\":[{\"colorbar\":{\"outlinewidth\":0,\"ticks\":\"\"},\"colorscale\":[[0.0,\"#0d0887\"],[0.1111111111111111,\"#46039f\"],[0.2222222222222222,\"#7201a8\"],[0.3333333333333333,\"#9c179e\"],[0.4444444444444444,\"#bd3786\"],[0.5555555555555556,\"#d8576b\"],[0.6666666666666666,\"#ed7953\"],[0.7777777777777778,\"#fb9f3a\"],[0.8888888888888888,\"#fdca26\"],[1.0,\"#f0f921\"]],\"type\":\"surface\"}],\"table\":[{\"cells\":{\"fill\":{\"color\":\"#EBF0F8\"},\"line\":{\"color\":\"white\"}},\"header\":{\"fill\":{\"color\":\"#C8D4E3\"},\"line\":{\"color\":\"white\"}},\"type\":\"table\"}]},\"layout\":{\"annotationdefaults\":{\"arrowcolor\":\"#2a3f5f\",\"arrowhead\":0,\"arrowwidth\":1},\"autotypenumbers\":\"strict\",\"coloraxis\":{\"colorbar\":{\"outlinewidth\":0,\"ticks\":\"\"}},\"colorscale\":{\"diverging\":[[0,\"#8e0152\"],[0.1,\"#c51b7d\"],[0.2,\"#de77ae\"],[0.3,\"#f1b6da\"],[0.4,\"#fde0ef\"],[0.5,\"#f7f7f7\"],[0.6,\"#e6f5d0\"],[0.7,\"#b8e186\"],[0.8,\"#7fbc41\"],[0.9,\"#4d9221\"],[1,\"#276419\"]],\"sequential\":[[0.0,\"#0d0887\"],[0.1111111111111111,\"#46039f\"],[0.2222222222222222,\"#7201a8\"],[0.3333333333333333,\"#9c179e\"],[0.4444444444444444,\"#bd3786\"],[0.5555555555555556,\"#d8576b\"],[0.6666666666666666,\"#ed7953\"],[0.7777777777777778,\"#fb9f3a\"],[0.8888888888888888,\"#fdca26\"],[1.0,\"#f0f921\"]],\"sequentialminus\":[[0.0,\"#0d0887\"],[0.1111111111111111,\"#46039f\"],[0.2222222222222222,\"#7201a8\"],[0.3333333333333333,\"#9c179e\"],[0.4444444444444444,\"#bd3786\"],[0.5555555555555556,\"#d8576b\"],[0.6666666666666666,\"#ed7953\"],[0.7777777777777778,\"#fb9f3a\"],[0.8888888888888888,\"#fdca26\"],[1.0,\"#f0f921\"]]},\"colorway\":[\"#636efa\",\"#EF553B\",\"#00cc96\",\"#ab63fa\",\"#FFA15A\",\"#19d3f3\",\"#FF6692\",\"#B6E880\",\"#FF97FF\",\"#FECB52\"],\"font\":{\"color\":\"#2a3f5f\"},\"geo\":{\"bgcolor\":\"white\",\"lakecolor\":\"white\",\"landcolor\":\"#E5ECF6\",\"showlakes\":true,\"showland\":true,\"subunitcolor\":\"white\"},\"hoverlabel\":{\"align\":\"left\"},\"hovermode\":\"closest\",\"mapbox\":{\"style\":\"light\"},\"paper_bgcolor\":\"white\",\"plot_bgcolor\":\"#E5ECF6\",\"polar\":{\"angularaxis\":{\"gridcolor\":\"white\",\"linecolor\":\"white\",\"ticks\":\"\"},\"bgcolor\":\"#E5ECF6\",\"radialaxis\":{\"gridcolor\":\"white\",\"linecolor\":\"white\",\"ticks\":\"\"}},\"scene\":{\"xaxis\":{\"backgroundcolor\":\"#E5ECF6\",\"gridcolor\":\"white\",\"gridwidth\":2,\"linecolor\":\"white\",\"showbackground\":true,\"ticks\":\"\",\"zerolinecolor\":\"white\"},\"yaxis\":{\"backgroundcolor\":\"#E5ECF6\",\"gridcolor\":\"white\",\"gridwidth\":2,\"linecolor\":\"white\",\"showbackground\":true,\"ticks\":\"\",\"zerolinecolor\":\"white\"},\"zaxis\":{\"backgroundcolor\":\"#E5ECF6\",\"gridcolor\":\"white\",\"gridwidth\":2,\"linecolor\":\"white\",\"showbackground\":true,\"ticks\":\"\",\"zerolinecolor\":\"white\"}},\"shapedefaults\":{\"line\":{\"color\":\"#2a3f5f\"}},\"ternary\":{\"aaxis\":{\"gridcolor\":\"white\",\"linecolor\":\"white\",\"ticks\":\"\"},\"baxis\":{\"gridcolor\":\"white\",\"linecolor\":\"white\",\"ticks\":\"\"},\"bgcolor\":\"#E5ECF6\",\"caxis\":{\"gridcolor\":\"white\",\"linecolor\":\"white\",\"ticks\":\"\"}},\"title\":{\"x\":0.05},\"xaxis\":{\"automargin\":true,\"gridcolor\":\"white\",\"linecolor\":\"white\",\"ticks\":\"\",\"title\":{\"standoff\":15},\"zerolinecolor\":\"white\",\"zerolinewidth\":2},\"yaxis\":{\"automargin\":true,\"gridcolor\":\"white\",\"linecolor\":\"white\",\"ticks\":\"\",\"title\":{\"standoff\":15},\"zerolinecolor\":\"white\",\"zerolinewidth\":2}}},\"title\":{\"text\":\"Pat_Appts_Enbld\"}},                        {\"responsive\": true}                    ).then(function(){\n",
       "                            \n",
       "var gd = document.getElementById('d6531845-0974-41f4-b46b-332224ecbd25');\n",
       "var x = new MutationObserver(function (mutations, observer) {{\n",
       "        var display = window.getComputedStyle(gd).display;\n",
       "        if (!display || display === 'none') {{\n",
       "            console.log([gd, 'removed!']);\n",
       "            Plotly.purge(gd);\n",
       "            observer.disconnect();\n",
       "        }}\n",
       "}});\n",
       "\n",
       "// Listen for the removal of the full notebook cells\n",
       "var notebookContainer = gd.closest('#notebook-container');\n",
       "if (notebookContainer) {{\n",
       "    x.observe(notebookContainer, {childList: true});\n",
       "}}\n",
       "\n",
       "// Listen for the clearing of the current output cell\n",
       "var outputEl = gd.closest('.output');\n",
       "if (outputEl) {{\n",
       "    x.observe(outputEl, {childList: true});\n",
       "}}\n",
       "\n",
       "                        })                };                });            </script>        </div>"
      ]
     },
     "metadata": {},
     "output_type": "display_data"
    }
   ],
   "source": [
    "data1 = go.Scatter(\n",
    "    x = Patients_enabled.report_period_end,\n",
    "    y = Patients_enabled.Pat_Appts_Enbld,\n",
    "    name = \"Easy\")\n",
    "\n",
    "layout = go.Layout(title = 'Pat_Appts_Enbld')\n",
    "\n",
    "figure2 = go.Figure(data = data0, layout = layout)\n",
    "figure2.show()"
   ]
  },
  {
   "cell_type": "code",
   "execution_count": 145,
   "id": "6bd948c4-d04e-4062-bfb8-c5da5552a616",
   "metadata": {},
   "outputs": [
    {
     "data": {
      "application/vnd.plotly.v1+json": {
       "config": {
        "plotlyServerURL": "https://plot.ly"
       },
       "data": [
        {
         "name": "Pat_Presc_Enbld",
         "type": "scatter",
         "x": [
          "2017-04-30T00:00:00",
          "2017-05-31T00:00:00",
          "2017-06-30T00:00:00",
          "2017-07-31T00:00:00",
          "2017-11-30T00:00:00",
          "2018-01-31T00:00:00",
          "2018-02-28T00:00:00",
          "2018-03-31T00:00:00",
          "2018-04-30T00:00:00",
          "2018-05-31T00:00:00",
          "2018-06-30T00:00:00",
          "2018-07-31T00:00:00",
          "2018-08-31T00:00:00",
          "2018-09-30T00:00:00",
          "2018-10-31T00:00:00",
          "2018-11-30T00:00:00",
          "2018-12-31T00:00:00",
          "2019-01-31T00:00:00",
          "2019-02-28T00:00:00",
          "2019-03-31T00:00:00",
          "2019-04-30T00:00:00",
          "2019-05-31T00:00:00",
          "2019-06-30T00:00:00",
          "2019-07-31T00:00:00",
          "2019-08-31T00:00:00",
          "2019-09-30T00:00:00",
          "2019-10-31T00:00:00",
          "2019-11-30T00:00:00",
          "2019-12-31T00:00:00",
          "2020-01-31T00:00:00",
          "2020-02-29T00:00:00",
          "2020-03-31T00:00:00",
          "2020-04-30T00:00:00",
          "2020-05-31T00:00:00",
          "2020-06-30T00:00:00",
          "2020-07-31T00:00:00",
          "2020-08-31T00:00:00",
          "2020-09-30T00:00:00",
          "2020-10-31T00:00:00",
          "2020-11-30T00:00:00",
          "2020-12-31T00:00:00",
          "2021-01-31T00:00:00",
          "2021-02-28T00:00:00",
          "2021-03-31T00:00:00"
         ],
         "y": [
          321812.027329556,
          324512.32094507857,
          326786.3488666668,
          330650.9718288825,
          326246.15521153266,
          343242.6274482629,
          419390.4468867895,
          398253.5588974864,
          401593.0041756985,
          407639.46072164306,
          414279.48488850513,
          422221.28005034983,
          428520.29453653307,
          432939.05219903064,
          439933.8692077077,
          445130.61275542714,
          446762.4821740755,
          458168.66847662866,
          463642.12211529294,
          469939.1708206785,
          467006.0888043733,
          471899.190860481,
          477651.36277810816,
          482916.7707527093,
          489560.9720424457,
          495953.2687014468,
          503823.034276058,
          510686.769467094,
          515475.4867737267,
          523857.10174491856,
          530235.7022102369,
          539922.3795948904,
          375152.30558937695,
          379843.55735565483,
          382897.270698637,
          385667.23273929086,
          388310.58957715385,
          391552.1111423815,
          393577.5279622038,
          397861.7718562235,
          400442.6281755506,
          403647.35680540133,
          406805.58143432625,
          412484.04264984356
         ]
        },
        {
         "name": "Pat_Appts_Enbld",
         "type": "scatter",
         "x": [
          "2017-04-30T00:00:00",
          "2017-05-31T00:00:00",
          "2017-06-30T00:00:00",
          "2017-07-31T00:00:00",
          "2017-11-30T00:00:00",
          "2018-01-31T00:00:00",
          "2018-02-28T00:00:00",
          "2018-03-31T00:00:00",
          "2018-04-30T00:00:00",
          "2018-05-31T00:00:00",
          "2018-06-30T00:00:00",
          "2018-07-31T00:00:00",
          "2018-08-31T00:00:00",
          "2018-09-30T00:00:00",
          "2018-10-31T00:00:00",
          "2018-11-30T00:00:00",
          "2018-12-31T00:00:00",
          "2019-01-31T00:00:00",
          "2019-02-28T00:00:00",
          "2019-03-31T00:00:00",
          "2019-04-30T00:00:00",
          "2019-05-31T00:00:00",
          "2019-06-30T00:00:00",
          "2019-07-31T00:00:00",
          "2019-08-31T00:00:00",
          "2019-09-30T00:00:00",
          "2019-10-31T00:00:00",
          "2019-11-30T00:00:00",
          "2019-12-31T00:00:00",
          "2020-01-31T00:00:00",
          "2020-02-29T00:00:00",
          "2020-03-31T00:00:00",
          "2020-04-30T00:00:00",
          "2020-05-31T00:00:00",
          "2020-06-30T00:00:00",
          "2020-07-31T00:00:00",
          "2020-08-31T00:00:00",
          "2020-09-30T00:00:00",
          "2020-10-31T00:00:00",
          "2020-11-30T00:00:00",
          "2020-12-31T00:00:00",
          "2021-01-31T00:00:00",
          "2021-02-28T00:00:00",
          "2021-03-31T00:00:00"
         ],
         "y": [
          327346.1775769064,
          330040.07305998687,
          332261.0996148531,
          336191.90489257744,
          333619.74427912495,
          351639.44572490145,
          425151.2407032288,
          402647.10172930564,
          406491.8384084489,
          413219.1060046161,
          419387.1925275322,
          426382.7042485135,
          432791.20650649775,
          437502.9230711935,
          444341.56028612994,
          448956.37671453843,
          452155.25730075716,
          461849.31215817743,
          467285.64686312765,
          473882.79803620337,
          470681.4863969296,
          475578.092966582,
          481454.84263079177,
          486744.46802742954,
          493085.31096990575,
          498774.3356196381,
          506310.24713787367,
          513158.5270945173,
          517829.23935843253,
          525926.8194794849,
          529329.0177927889,
          445452.67292869877,
          311146.15532208805,
          315716.20441228355,
          318857.50781621924,
          322684.0279416134,
          331739.58338088845,
          337112.00023033126,
          339202.2396253713,
          346894.66791999806,
          350503.3677411658,
          350243.91669667966,
          352139.6635337047,
          357089.3471717592
         ]
        }
       ],
       "layout": {
        "autosize": true,
        "template": {
         "data": {
          "bar": [
           {
            "error_x": {
             "color": "#2a3f5f"
            },
            "error_y": {
             "color": "#2a3f5f"
            },
            "marker": {
             "line": {
              "color": "#E5ECF6",
              "width": 0.5
             },
             "pattern": {
              "fillmode": "overlay",
              "size": 10,
              "solidity": 0.2
             }
            },
            "type": "bar"
           }
          ],
          "barpolar": [
           {
            "marker": {
             "line": {
              "color": "#E5ECF6",
              "width": 0.5
             },
             "pattern": {
              "fillmode": "overlay",
              "size": 10,
              "solidity": 0.2
             }
            },
            "type": "barpolar"
           }
          ],
          "carpet": [
           {
            "aaxis": {
             "endlinecolor": "#2a3f5f",
             "gridcolor": "white",
             "linecolor": "white",
             "minorgridcolor": "white",
             "startlinecolor": "#2a3f5f"
            },
            "baxis": {
             "endlinecolor": "#2a3f5f",
             "gridcolor": "white",
             "linecolor": "white",
             "minorgridcolor": "white",
             "startlinecolor": "#2a3f5f"
            },
            "type": "carpet"
           }
          ],
          "choropleth": [
           {
            "colorbar": {
             "outlinewidth": 0,
             "ticks": ""
            },
            "type": "choropleth"
           }
          ],
          "contour": [
           {
            "colorbar": {
             "outlinewidth": 0,
             "ticks": ""
            },
            "colorscale": [
             [
              0,
              "#0d0887"
             ],
             [
              0.1111111111111111,
              "#46039f"
             ],
             [
              0.2222222222222222,
              "#7201a8"
             ],
             [
              0.3333333333333333,
              "#9c179e"
             ],
             [
              0.4444444444444444,
              "#bd3786"
             ],
             [
              0.5555555555555556,
              "#d8576b"
             ],
             [
              0.6666666666666666,
              "#ed7953"
             ],
             [
              0.7777777777777778,
              "#fb9f3a"
             ],
             [
              0.8888888888888888,
              "#fdca26"
             ],
             [
              1,
              "#f0f921"
             ]
            ],
            "type": "contour"
           }
          ],
          "contourcarpet": [
           {
            "colorbar": {
             "outlinewidth": 0,
             "ticks": ""
            },
            "type": "contourcarpet"
           }
          ],
          "heatmap": [
           {
            "colorbar": {
             "outlinewidth": 0,
             "ticks": ""
            },
            "colorscale": [
             [
              0,
              "#0d0887"
             ],
             [
              0.1111111111111111,
              "#46039f"
             ],
             [
              0.2222222222222222,
              "#7201a8"
             ],
             [
              0.3333333333333333,
              "#9c179e"
             ],
             [
              0.4444444444444444,
              "#bd3786"
             ],
             [
              0.5555555555555556,
              "#d8576b"
             ],
             [
              0.6666666666666666,
              "#ed7953"
             ],
             [
              0.7777777777777778,
              "#fb9f3a"
             ],
             [
              0.8888888888888888,
              "#fdca26"
             ],
             [
              1,
              "#f0f921"
             ]
            ],
            "type": "heatmap"
           }
          ],
          "heatmapgl": [
           {
            "colorbar": {
             "outlinewidth": 0,
             "ticks": ""
            },
            "colorscale": [
             [
              0,
              "#0d0887"
             ],
             [
              0.1111111111111111,
              "#46039f"
             ],
             [
              0.2222222222222222,
              "#7201a8"
             ],
             [
              0.3333333333333333,
              "#9c179e"
             ],
             [
              0.4444444444444444,
              "#bd3786"
             ],
             [
              0.5555555555555556,
              "#d8576b"
             ],
             [
              0.6666666666666666,
              "#ed7953"
             ],
             [
              0.7777777777777778,
              "#fb9f3a"
             ],
             [
              0.8888888888888888,
              "#fdca26"
             ],
             [
              1,
              "#f0f921"
             ]
            ],
            "type": "heatmapgl"
           }
          ],
          "histogram": [
           {
            "marker": {
             "pattern": {
              "fillmode": "overlay",
              "size": 10,
              "solidity": 0.2
             }
            },
            "type": "histogram"
           }
          ],
          "histogram2d": [
           {
            "colorbar": {
             "outlinewidth": 0,
             "ticks": ""
            },
            "colorscale": [
             [
              0,
              "#0d0887"
             ],
             [
              0.1111111111111111,
              "#46039f"
             ],
             [
              0.2222222222222222,
              "#7201a8"
             ],
             [
              0.3333333333333333,
              "#9c179e"
             ],
             [
              0.4444444444444444,
              "#bd3786"
             ],
             [
              0.5555555555555556,
              "#d8576b"
             ],
             [
              0.6666666666666666,
              "#ed7953"
             ],
             [
              0.7777777777777778,
              "#fb9f3a"
             ],
             [
              0.8888888888888888,
              "#fdca26"
             ],
             [
              1,
              "#f0f921"
             ]
            ],
            "type": "histogram2d"
           }
          ],
          "histogram2dcontour": [
           {
            "colorbar": {
             "outlinewidth": 0,
             "ticks": ""
            },
            "colorscale": [
             [
              0,
              "#0d0887"
             ],
             [
              0.1111111111111111,
              "#46039f"
             ],
             [
              0.2222222222222222,
              "#7201a8"
             ],
             [
              0.3333333333333333,
              "#9c179e"
             ],
             [
              0.4444444444444444,
              "#bd3786"
             ],
             [
              0.5555555555555556,
              "#d8576b"
             ],
             [
              0.6666666666666666,
              "#ed7953"
             ],
             [
              0.7777777777777778,
              "#fb9f3a"
             ],
             [
              0.8888888888888888,
              "#fdca26"
             ],
             [
              1,
              "#f0f921"
             ]
            ],
            "type": "histogram2dcontour"
           }
          ],
          "mesh3d": [
           {
            "colorbar": {
             "outlinewidth": 0,
             "ticks": ""
            },
            "type": "mesh3d"
           }
          ],
          "parcoords": [
           {
            "line": {
             "colorbar": {
              "outlinewidth": 0,
              "ticks": ""
             }
            },
            "type": "parcoords"
           }
          ],
          "pie": [
           {
            "automargin": true,
            "type": "pie"
           }
          ],
          "scatter": [
           {
            "marker": {
             "colorbar": {
              "outlinewidth": 0,
              "ticks": ""
             }
            },
            "type": "scatter"
           }
          ],
          "scatter3d": [
           {
            "line": {
             "colorbar": {
              "outlinewidth": 0,
              "ticks": ""
             }
            },
            "marker": {
             "colorbar": {
              "outlinewidth": 0,
              "ticks": ""
             }
            },
            "type": "scatter3d"
           }
          ],
          "scattercarpet": [
           {
            "marker": {
             "colorbar": {
              "outlinewidth": 0,
              "ticks": ""
             }
            },
            "type": "scattercarpet"
           }
          ],
          "scattergeo": [
           {
            "marker": {
             "colorbar": {
              "outlinewidth": 0,
              "ticks": ""
             }
            },
            "type": "scattergeo"
           }
          ],
          "scattergl": [
           {
            "marker": {
             "colorbar": {
              "outlinewidth": 0,
              "ticks": ""
             }
            },
            "type": "scattergl"
           }
          ],
          "scattermapbox": [
           {
            "marker": {
             "colorbar": {
              "outlinewidth": 0,
              "ticks": ""
             }
            },
            "type": "scattermapbox"
           }
          ],
          "scatterpolar": [
           {
            "marker": {
             "colorbar": {
              "outlinewidth": 0,
              "ticks": ""
             }
            },
            "type": "scatterpolar"
           }
          ],
          "scatterpolargl": [
           {
            "marker": {
             "colorbar": {
              "outlinewidth": 0,
              "ticks": ""
             }
            },
            "type": "scatterpolargl"
           }
          ],
          "scatterternary": [
           {
            "marker": {
             "colorbar": {
              "outlinewidth": 0,
              "ticks": ""
             }
            },
            "type": "scatterternary"
           }
          ],
          "surface": [
           {
            "colorbar": {
             "outlinewidth": 0,
             "ticks": ""
            },
            "colorscale": [
             [
              0,
              "#0d0887"
             ],
             [
              0.1111111111111111,
              "#46039f"
             ],
             [
              0.2222222222222222,
              "#7201a8"
             ],
             [
              0.3333333333333333,
              "#9c179e"
             ],
             [
              0.4444444444444444,
              "#bd3786"
             ],
             [
              0.5555555555555556,
              "#d8576b"
             ],
             [
              0.6666666666666666,
              "#ed7953"
             ],
             [
              0.7777777777777778,
              "#fb9f3a"
             ],
             [
              0.8888888888888888,
              "#fdca26"
             ],
             [
              1,
              "#f0f921"
             ]
            ],
            "type": "surface"
           }
          ],
          "table": [
           {
            "cells": {
             "fill": {
              "color": "#EBF0F8"
             },
             "line": {
              "color": "white"
             }
            },
            "header": {
             "fill": {
              "color": "#C8D4E3"
             },
             "line": {
              "color": "white"
             }
            },
            "type": "table"
           }
          ]
         },
         "layout": {
          "annotationdefaults": {
           "arrowcolor": "#2a3f5f",
           "arrowhead": 0,
           "arrowwidth": 1
          },
          "autotypenumbers": "strict",
          "coloraxis": {
           "colorbar": {
            "outlinewidth": 0,
            "ticks": ""
           }
          },
          "colorscale": {
           "diverging": [
            [
             0,
             "#8e0152"
            ],
            [
             0.1,
             "#c51b7d"
            ],
            [
             0.2,
             "#de77ae"
            ],
            [
             0.3,
             "#f1b6da"
            ],
            [
             0.4,
             "#fde0ef"
            ],
            [
             0.5,
             "#f7f7f7"
            ],
            [
             0.6,
             "#e6f5d0"
            ],
            [
             0.7,
             "#b8e186"
            ],
            [
             0.8,
             "#7fbc41"
            ],
            [
             0.9,
             "#4d9221"
            ],
            [
             1,
             "#276419"
            ]
           ],
           "sequential": [
            [
             0,
             "#0d0887"
            ],
            [
             0.1111111111111111,
             "#46039f"
            ],
            [
             0.2222222222222222,
             "#7201a8"
            ],
            [
             0.3333333333333333,
             "#9c179e"
            ],
            [
             0.4444444444444444,
             "#bd3786"
            ],
            [
             0.5555555555555556,
             "#d8576b"
            ],
            [
             0.6666666666666666,
             "#ed7953"
            ],
            [
             0.7777777777777778,
             "#fb9f3a"
            ],
            [
             0.8888888888888888,
             "#fdca26"
            ],
            [
             1,
             "#f0f921"
            ]
           ],
           "sequentialminus": [
            [
             0,
             "#0d0887"
            ],
            [
             0.1111111111111111,
             "#46039f"
            ],
            [
             0.2222222222222222,
             "#7201a8"
            ],
            [
             0.3333333333333333,
             "#9c179e"
            ],
            [
             0.4444444444444444,
             "#bd3786"
            ],
            [
             0.5555555555555556,
             "#d8576b"
            ],
            [
             0.6666666666666666,
             "#ed7953"
            ],
            [
             0.7777777777777778,
             "#fb9f3a"
            ],
            [
             0.8888888888888888,
             "#fdca26"
            ],
            [
             1,
             "#f0f921"
            ]
           ]
          },
          "colorway": [
           "#636efa",
           "#EF553B",
           "#00cc96",
           "#ab63fa",
           "#FFA15A",
           "#19d3f3",
           "#FF6692",
           "#B6E880",
           "#FF97FF",
           "#FECB52"
          ],
          "font": {
           "color": "#2a3f5f"
          },
          "geo": {
           "bgcolor": "white",
           "lakecolor": "white",
           "landcolor": "#E5ECF6",
           "showlakes": true,
           "showland": true,
           "subunitcolor": "white"
          },
          "hoverlabel": {
           "align": "left"
          },
          "hovermode": "closest",
          "mapbox": {
           "style": "light"
          },
          "paper_bgcolor": "white",
          "plot_bgcolor": "#E5ECF6",
          "polar": {
           "angularaxis": {
            "gridcolor": "white",
            "linecolor": "white",
            "ticks": ""
           },
           "bgcolor": "#E5ECF6",
           "radialaxis": {
            "gridcolor": "white",
            "linecolor": "white",
            "ticks": ""
           }
          },
          "scene": {
           "xaxis": {
            "backgroundcolor": "#E5ECF6",
            "gridcolor": "white",
            "gridwidth": 2,
            "linecolor": "white",
            "showbackground": true,
            "ticks": "",
            "zerolinecolor": "white"
           },
           "yaxis": {
            "backgroundcolor": "#E5ECF6",
            "gridcolor": "white",
            "gridwidth": 2,
            "linecolor": "white",
            "showbackground": true,
            "ticks": "",
            "zerolinecolor": "white"
           },
           "zaxis": {
            "backgroundcolor": "#E5ECF6",
            "gridcolor": "white",
            "gridwidth": 2,
            "linecolor": "white",
            "showbackground": true,
            "ticks": "",
            "zerolinecolor": "white"
           }
          },
          "shapedefaults": {
           "line": {
            "color": "#2a3f5f"
           }
          },
          "ternary": {
           "aaxis": {
            "gridcolor": "white",
            "linecolor": "white",
            "ticks": ""
           },
           "baxis": {
            "gridcolor": "white",
            "linecolor": "white",
            "ticks": ""
           },
           "bgcolor": "#E5ECF6",
           "caxis": {
            "gridcolor": "white",
            "linecolor": "white",
            "ticks": ""
           }
          },
          "title": {
           "x": 0.05
          },
          "xaxis": {
           "automargin": true,
           "gridcolor": "white",
           "linecolor": "white",
           "ticks": "",
           "title": {
            "standoff": 15
           },
           "zerolinecolor": "white",
           "zerolinewidth": 2
          },
          "yaxis": {
           "automargin": true,
           "gridcolor": "white",
           "linecolor": "white",
           "ticks": "",
           "title": {
            "standoff": 15
           },
           "zerolinecolor": "white",
           "zerolinewidth": 2
          }
         }
        },
        "title": {
         "text": "Pat_Appts_Enbld and Pat_Appts_Enbld since 2017"
        },
        "xaxis": {
         "autorange": true,
         "range": [
          "2017-04-30",
          "2021-03-31"
         ],
         "type": "date"
        },
        "yaxis": {
         "autorange": true,
         "range": [
          298436.3650847101,
          552632.1698322683
         ],
         "type": "linear"
        }
       }
      },
      "image/png": "[encoded data removed]",
      "text/html": [
       "<div>                            <div id=\"758bba54-7f71-4704-9930-8a159189243d\" class=\"plotly-graph-div\" style=\"height:525px; width:100%;\"></div>            <script type=\"text/javascript\">                require([\"plotly\"], function(Plotly) {                    window.PLOTLYENV=window.PLOTLYENV || {};                                    if (document.getElementById(\"758bba54-7f71-4704-9930-8a159189243d\")) {                    Plotly.newPlot(                        \"758bba54-7f71-4704-9930-8a159189243d\",                        [{\"name\":\"Pat_Presc_Enbld\",\"type\":\"scatter\",\"x\":[\"2017-04-30T00:00:00\",\"2017-05-31T00:00:00\",\"2017-06-30T00:00:00\",\"2017-07-31T00:00:00\",\"2017-11-30T00:00:00\",\"2018-01-31T00:00:00\",\"2018-02-28T00:00:00\",\"2018-03-31T00:00:00\",\"2018-04-30T00:00:00\",\"2018-05-31T00:00:00\",\"2018-06-30T00:00:00\",\"2018-07-31T00:00:00\",\"2018-08-31T00:00:00\",\"2018-09-30T00:00:00\",\"2018-10-31T00:00:00\",\"2018-11-30T00:00:00\",\"2018-12-31T00:00:00\",\"2019-01-31T00:00:00\",\"2019-02-28T00:00:00\",\"2019-03-31T00:00:00\",\"2019-04-30T00:00:00\",\"2019-05-31T00:00:00\",\"2019-06-30T00:00:00\",\"2019-07-31T00:00:00\",\"2019-08-31T00:00:00\",\"2019-09-30T00:00:00\",\"2019-10-31T00:00:00\",\"2019-11-30T00:00:00\",\"2019-12-31T00:00:00\",\"2020-01-31T00:00:00\",\"2020-02-29T00:00:00\",\"2020-03-31T00:00:00\",\"2020-04-30T00:00:00\",\"2020-05-31T00:00:00\",\"2020-06-30T00:00:00\",\"2020-07-31T00:00:00\",\"2020-08-31T00:00:00\",\"2020-09-30T00:00:00\",\"2020-10-31T00:00:00\",\"2020-11-30T00:00:00\",\"2020-12-31T00:00:00\",\"2021-01-31T00:00:00\",\"2021-02-28T00:00:00\",\"2021-03-31T00:00:00\"],\"y\":[321812.027329556,324512.32094507857,326786.3488666668,330650.9718288825,326246.15521153266,343242.6274482629,419390.4468867895,398253.5588974864,401593.0041756985,407639.46072164306,414279.48488850513,422221.28005034983,428520.29453653307,432939.05219903064,439933.8692077077,445130.61275542714,446762.4821740755,458168.66847662866,463642.12211529294,469939.1708206785,467006.0888043733,471899.190860481,477651.36277810816,482916.7707527093,489560.9720424457,495953.2687014468,503823.034276058,510686.769467094,515475.4867737267,523857.10174491856,530235.7022102369,539922.3795948904,375152.30558937695,379843.55735565483,382897.270698637,385667.23273929086,388310.58957715385,391552.1111423815,393577.5279622038,397861.7718562235,400442.6281755506,403647.35680540133,406805.58143432625,412484.04264984356]},{\"name\":\"Pat_Appts_Enbld\",\"type\":\"scatter\",\"x\":[\"2017-04-30T00:00:00\",\"2017-05-31T00:00:00\",\"2017-06-30T00:00:00\",\"2017-07-31T00:00:00\",\"2017-11-30T00:00:00\",\"2018-01-31T00:00:00\",\"2018-02-28T00:00:00\",\"2018-03-31T00:00:00\",\"2018-04-30T00:00:00\",\"2018-05-31T00:00:00\",\"2018-06-30T00:00:00\",\"2018-07-31T00:00:00\",\"2018-08-31T00:00:00\",\"2018-09-30T00:00:00\",\"2018-10-31T00:00:00\",\"2018-11-30T00:00:00\",\"2018-12-31T00:00:00\",\"2019-01-31T00:00:00\",\"2019-02-28T00:00:00\",\"2019-03-31T00:00:00\",\"2019-04-30T00:00:00\",\"2019-05-31T00:00:00\",\"2019-06-30T00:00:00\",\"2019-07-31T00:00:00\",\"2019-08-31T00:00:00\",\"2019-09-30T00:00:00\",\"2019-10-31T00:00:00\",\"2019-11-30T00:00:00\",\"2019-12-31T00:00:00\",\"2020-01-31T00:00:00\",\"2020-02-29T00:00:00\",\"2020-03-31T00:00:00\",\"2020-04-30T00:00:00\",\"2020-05-31T00:00:00\",\"2020-06-30T00:00:00\",\"2020-07-31T00:00:00\",\"2020-08-31T00:00:00\",\"2020-09-30T00:00:00\",\"2020-10-31T00:00:00\",\"2020-11-30T00:00:00\",\"2020-12-31T00:00:00\",\"2021-01-31T00:00:00\",\"2021-02-28T00:00:00\",\"2021-03-31T00:00:00\"],\"y\":[327346.1775769064,330040.07305998687,332261.0996148531,336191.90489257744,333619.74427912495,351639.44572490145,425151.2407032288,402647.10172930564,406491.8384084489,413219.1060046161,419387.1925275322,426382.7042485135,432791.20650649775,437502.9230711935,444341.56028612994,448956.37671453843,452155.25730075716,461849.31215817743,467285.64686312765,473882.79803620337,470681.4863969296,475578.092966582,481454.84263079177,486744.46802742954,493085.31096990575,498774.3356196381,506310.24713787367,513158.5270945173,517829.23935843253,525926.8194794849,529329.0177927889,445452.67292869877,311146.15532208805,315716.20441228355,318857.50781621924,322684.0279416134,331739.58338088845,337112.00023033126,339202.2396253713,346894.66791999806,350503.3677411658,350243.91669667966,352139.6635337047,357089.3471717592]}],                        {\"template\":{\"data\":{\"bar\":[{\"error_x\":{\"color\":\"#2a3f5f\"},\"error_y\":{\"color\":\"#2a3f5f\"},\"marker\":{\"line\":{\"color\":\"#E5ECF6\",\"width\":0.5},\"pattern\":{\"fillmode\":\"overlay\",\"size\":10,\"solidity\":0.2}},\"type\":\"bar\"}],\"barpolar\":[{\"marker\":{\"line\":{\"color\":\"#E5ECF6\",\"width\":0.5},\"pattern\":{\"fillmode\":\"overlay\",\"size\":10,\"solidity\":0.2}},\"type\":\"barpolar\"}],\"carpet\":[{\"aaxis\":{\"endlinecolor\":\"#2a3f5f\",\"gridcolor\":\"white\",\"linecolor\":\"white\",\"minorgridcolor\":\"white\",\"startlinecolor\":\"#2a3f5f\"},\"baxis\":{\"endlinecolor\":\"#2a3f5f\",\"gridcolor\":\"white\",\"linecolor\":\"white\",\"minorgridcolor\":\"white\",\"startlinecolor\":\"#2a3f5f\"},\"type\":\"carpet\"}],\"choropleth\":[{\"colorbar\":{\"outlinewidth\":0,\"ticks\":\"\"},\"type\":\"choropleth\"}],\"contour\":[{\"colorbar\":{\"outlinewidth\":0,\"ticks\":\"\"},\"colorscale\":[[0.0,\"#0d0887\"],[0.1111111111111111,\"#46039f\"],[0.2222222222222222,\"#7201a8\"],[0.3333333333333333,\"#9c179e\"],[0.4444444444444444,\"#bd3786\"],[0.5555555555555556,\"#d8576b\"],[0.6666666666666666,\"#ed7953\"],[0.7777777777777778,\"#fb9f3a\"],[0.8888888888888888,\"#fdca26\"],[1.0,\"#f0f921\"]],\"type\":\"contour\"}],\"contourcarpet\":[{\"colorbar\":{\"outlinewidth\":0,\"ticks\":\"\"},\"type\":\"contourcarpet\"}],\"heatmap\":[{\"colorbar\":{\"outlinewidth\":0,\"ticks\":\"\"},\"colorscale\":[[0.0,\"#0d0887\"],[0.1111111111111111,\"#46039f\"],[0.2222222222222222,\"#7201a8\"],[0.3333333333333333,\"#9c179e\"],[0.4444444444444444,\"#bd3786\"],[0.5555555555555556,\"#d8576b\"],[0.6666666666666666,\"#ed7953\"],[0.7777777777777778,\"#fb9f3a\"],[0.8888888888888888,\"#fdca26\"],[1.0,\"#f0f921\"]],\"type\":\"heatmap\"}],\"heatmapgl\":[{\"colorbar\":{\"outlinewidth\":0,\"ticks\":\"\"},\"colorscale\":[[0.0,\"#0d0887\"],[0.1111111111111111,\"#46039f\"],[0.2222222222222222,\"#7201a8\"],[0.3333333333333333,\"#9c179e\"],[0.4444444444444444,\"#bd3786\"],[0.5555555555555556,\"#d8576b\"],[0.6666666666666666,\"#ed7953\"],[0.7777777777777778,\"#fb9f3a\"],[0.8888888888888888,\"#fdca26\"],[1.0,\"#f0f921\"]],\"type\":\"heatmapgl\"}],\"histogram\":[{\"marker\":{\"pattern\":{\"fillmode\":\"overlay\",\"size\":10,\"solidity\":0.2}},\"type\":\"histogram\"}],\"histogram2d\":[{\"colorbar\":{\"outlinewidth\":0,\"ticks\":\"\"},\"colorscale\":[[0.0,\"#0d0887\"],[0.1111111111111111,\"#46039f\"],[0.2222222222222222,\"#7201a8\"],[0.3333333333333333,\"#9c179e\"],[0.4444444444444444,\"#bd3786\"],[0.5555555555555556,\"#d8576b\"],[0.6666666666666666,\"#ed7953\"],[0.7777777777777778,\"#fb9f3a\"],[0.8888888888888888,\"#fdca26\"],[1.0,\"#f0f921\"]],\"type\":\"histogram2d\"}],\"histogram2dcontour\":[{\"colorbar\":{\"outlinewidth\":0,\"ticks\":\"\"},\"colorscale\":[[0.0,\"#0d0887\"],[0.1111111111111111,\"#46039f\"],[0.2222222222222222,\"#7201a8\"],[0.3333333333333333,\"#9c179e\"],[0.4444444444444444,\"#bd3786\"],[0.5555555555555556,\"#d8576b\"],[0.6666666666666666,\"#ed7953\"],[0.7777777777777778,\"#fb9f3a\"],[0.8888888888888888,\"#fdca26\"],[1.0,\"#f0f921\"]],\"type\":\"histogram2dcontour\"}],\"mesh3d\":[{\"colorbar\":{\"outlinewidth\":0,\"ticks\":\"\"},\"type\":\"mesh3d\"}],\"parcoords\":[{\"line\":{\"colorbar\":{\"outlinewidth\":0,\"ticks\":\"\"}},\"type\":\"parcoords\"}],\"pie\":[{\"automargin\":true,\"type\":\"pie\"}],\"scatter\":[{\"marker\":{\"colorbar\":{\"outlinewidth\":0,\"ticks\":\"\"}},\"type\":\"scatter\"}],\"scatter3d\":[{\"line\":{\"colorbar\":{\"outlinewidth\":0,\"ticks\":\"\"}},\"marker\":{\"colorbar\":{\"outlinewidth\":0,\"ticks\":\"\"}},\"type\":\"scatter3d\"}],\"scattercarpet\":[{\"marker\":{\"colorbar\":{\"outlinewidth\":0,\"ticks\":\"\"}},\"type\":\"scattercarpet\"}],\"scattergeo\":[{\"marker\":{\"colorbar\":{\"outlinewidth\":0,\"ticks\":\"\"}},\"type\":\"scattergeo\"}],\"scattergl\":[{\"marker\":{\"colorbar\":{\"outlinewidth\":0,\"ticks\":\"\"}},\"type\":\"scattergl\"}],\"scattermapbox\":[{\"marker\":{\"colorbar\":{\"outlinewidth\":0,\"ticks\":\"\"}},\"type\":\"scattermapbox\"}],\"scatterpolar\":[{\"marker\":{\"colorbar\":{\"outlinewidth\":0,\"ticks\":\"\"}},\"type\":\"scatterpolar\"}],\"scatterpolargl\":[{\"marker\":{\"colorbar\":{\"outlinewidth\":0,\"ticks\":\"\"}},\"type\":\"scatterpolargl\"}],\"scatterternary\":[{\"marker\":{\"colorbar\":{\"outlinewidth\":0,\"ticks\":\"\"}},\"type\":\"scatterternary\"}],\"surface\":[{\"colorbar\":{\"outlinewidth\":0,\"ticks\":\"\"},\"colorscale\":[[0.0,\"#0d0887\"],[0.1111111111111111,\"#46039f\"],[0.2222222222222222,\"#7201a8\"],[0.3333333333333333,\"#9c179e\"],[0.4444444444444444,\"#bd3786\"],[0.5555555555555556,\"#d8576b\"],[0.6666666666666666,\"#ed7953\"],[0.7777777777777778,\"#fb9f3a\"],[0.8888888888888888,\"#fdca26\"],[1.0,\"#f0f921\"]],\"type\":\"surface\"}],\"table\":[{\"cells\":{\"fill\":{\"color\":\"#EBF0F8\"},\"line\":{\"color\":\"white\"}},\"header\":{\"fill\":{\"color\":\"#C8D4E3\"},\"line\":{\"color\":\"white\"}},\"type\":\"table\"}]},\"layout\":{\"annotationdefaults\":{\"arrowcolor\":\"#2a3f5f\",\"arrowhead\":0,\"arrowwidth\":1},\"autotypenumbers\":\"strict\",\"coloraxis\":{\"colorbar\":{\"outlinewidth\":0,\"ticks\":\"\"}},\"colorscale\":{\"diverging\":[[0,\"#8e0152\"],[0.1,\"#c51b7d\"],[0.2,\"#de77ae\"],[0.3,\"#f1b6da\"],[0.4,\"#fde0ef\"],[0.5,\"#f7f7f7\"],[0.6,\"#e6f5d0\"],[0.7,\"#b8e186\"],[0.8,\"#7fbc41\"],[0.9,\"#4d9221\"],[1,\"#276419\"]],\"sequential\":[[0.0,\"#0d0887\"],[0.1111111111111111,\"#46039f\"],[0.2222222222222222,\"#7201a8\"],[0.3333333333333333,\"#9c179e\"],[0.4444444444444444,\"#bd3786\"],[0.5555555555555556,\"#d8576b\"],[0.6666666666666666,\"#ed7953\"],[0.7777777777777778,\"#fb9f3a\"],[0.8888888888888888,\"#fdca26\"],[1.0,\"#f0f921\"]],\"sequentialminus\":[[0.0,\"#0d0887\"],[0.1111111111111111,\"#46039f\"],[0.2222222222222222,\"#7201a8\"],[0.3333333333333333,\"#9c179e\"],[0.4444444444444444,\"#bd3786\"],[0.5555555555555556,\"#d8576b\"],[0.6666666666666666,\"#ed7953\"],[0.7777777777777778,\"#fb9f3a\"],[0.8888888888888888,\"#fdca26\"],[1.0,\"#f0f921\"]]},\"colorway\":[\"#636efa\",\"#EF553B\",\"#00cc96\",\"#ab63fa\",\"#FFA15A\",\"#19d3f3\",\"#FF6692\",\"#B6E880\",\"#FF97FF\",\"#FECB52\"],\"font\":{\"color\":\"#2a3f5f\"},\"geo\":{\"bgcolor\":\"white\",\"lakecolor\":\"white\",\"landcolor\":\"#E5ECF6\",\"showlakes\":true,\"showland\":true,\"subunitcolor\":\"white\"},\"hoverlabel\":{\"align\":\"left\"},\"hovermode\":\"closest\",\"mapbox\":{\"style\":\"light\"},\"paper_bgcolor\":\"white\",\"plot_bgcolor\":\"#E5ECF6\",\"polar\":{\"angularaxis\":{\"gridcolor\":\"white\",\"linecolor\":\"white\",\"ticks\":\"\"},\"bgcolor\":\"#E5ECF6\",\"radialaxis\":{\"gridcolor\":\"white\",\"linecolor\":\"white\",\"ticks\":\"\"}},\"scene\":{\"xaxis\":{\"backgroundcolor\":\"#E5ECF6\",\"gridcolor\":\"white\",\"gridwidth\":2,\"linecolor\":\"white\",\"showbackground\":true,\"ticks\":\"\",\"zerolinecolor\":\"white\"},\"yaxis\":{\"backgroundcolor\":\"#E5ECF6\",\"gridcolor\":\"white\",\"gridwidth\":2,\"linecolor\":\"white\",\"showbackground\":true,\"ticks\":\"\",\"zerolinecolor\":\"white\"},\"zaxis\":{\"backgroundcolor\":\"#E5ECF6\",\"gridcolor\":\"white\",\"gridwidth\":2,\"linecolor\":\"white\",\"showbackground\":true,\"ticks\":\"\",\"zerolinecolor\":\"white\"}},\"shapedefaults\":{\"line\":{\"color\":\"#2a3f5f\"}},\"ternary\":{\"aaxis\":{\"gridcolor\":\"white\",\"linecolor\":\"white\",\"ticks\":\"\"},\"baxis\":{\"gridcolor\":\"white\",\"linecolor\":\"white\",\"ticks\":\"\"},\"bgcolor\":\"#E5ECF6\",\"caxis\":{\"gridcolor\":\"white\",\"linecolor\":\"white\",\"ticks\":\"\"}},\"title\":{\"x\":0.05},\"xaxis\":{\"automargin\":true,\"gridcolor\":\"white\",\"linecolor\":\"white\",\"ticks\":\"\",\"title\":{\"standoff\":15},\"zerolinecolor\":\"white\",\"zerolinewidth\":2},\"yaxis\":{\"automargin\":true,\"gridcolor\":\"white\",\"linecolor\":\"white\",\"ticks\":\"\",\"title\":{\"standoff\":15},\"zerolinecolor\":\"white\",\"zerolinewidth\":2}}},\"title\":{\"text\":\"Pat_Appts_Enbld and Pat_Appts_Enbld since 2017\"}},                        {\"responsive\": true}                    ).then(function(){\n",
       "                            \n",
       "var gd = document.getElementById('758bba54-7f71-4704-9930-8a159189243d');\n",
       "var x = new MutationObserver(function (mutations, observer) {{\n",
       "        var display = window.getComputedStyle(gd).display;\n",
       "        if (!display || display === 'none') {{\n",
       "            console.log([gd, 'removed!']);\n",
       "            Plotly.purge(gd);\n",
       "            observer.disconnect();\n",
       "        }}\n",
       "}});\n",
       "\n",
       "// Listen for the removal of the full notebook cells\n",
       "var notebookContainer = gd.closest('#notebook-container');\n",
       "if (notebookContainer) {{\n",
       "    x.observe(notebookContainer, {childList: true});\n",
       "}}\n",
       "\n",
       "// Listen for the clearing of the current output cell\n",
       "var outputEl = gd.closest('.output');\n",
       "if (outputEl) {{\n",
       "    x.observe(outputEl, {childList: true});\n",
       "}}\n",
       "\n",
       "                        })                };                });            </script>        </div>"
      ]
     },
     "metadata": {},
     "output_type": "display_data"
    }
   ],
   "source": [
    "data0 = go.Scatter(\n",
    "    x = Patients_enabled.report_period_end,\n",
    "    y = Patients_enabled.Pat_Presc_Enbld,\n",
    "    name = \"Pat_Presc_Enbld\")\n",
    "\n",
    "data1 = go.Scatter(\n",
    "    x = Patients_enabled.report_period_end,\n",
    "    y = Patients_enabled.Pat_Appts_Enbld,\n",
    "    name = \"Pat_Appts_Enbld\")\n",
    "\n",
    "data = [data0, data1] \n",
    "layout = go.Layout(title = 'Pat_Appts_Enbld and Pat_Appts_Enbld since 2017')\n",
    "\n",
    "figure2 = go.Figure(data = data, layout = layout)\n",
    "figure2.show()"
   ]
  },
  {
   "cell_type": "markdown",
   "id": "31139dba-ee44-4bd7-ba68-001dce0f5e1e",
   "metadata": {},
   "source": [
    "## POMI: Pat_Presc_Enbld and Pat_Appts_Enbld since July 2021: Per capita Map"
   ]
  },
  {
   "cell_type": "code",
   "execution_count": 155,
   "id": "dab0d9b1-dec9-4324-aa37-9ee8ca449f32",
   "metadata": {},
   "outputs": [
    {
     "data": {
      "text/plain": [
       "field\n",
       "report_period_end     object\n",
       "ccg_code              string\n",
       "ccg_name              string\n",
       "Pat_Appts_Enbld      float64\n",
       "Pat_Presc_Enbld      float64\n",
       "Total_Pat_Enbld      float64\n",
       "patient_list_size    float64\n",
       "dtype: object"
      ]
     },
     "execution_count": 155,
     "metadata": {},
     "output_type": "execute_result"
    }
   ],
   "source": [
    "POMI_map_2021 = POMI_index\n",
    "POMI_map_2021.dtypes\n"
   ]
  },
  {
   "cell_type": "code",
   "execution_count": 154,
   "id": "caead14b-de43-4b51-a622-26ac67abef96",
   "metadata": {},
   "outputs": [
    {
     "ename": "AttributeError",
     "evalue": "Can only use .dt accessor with datetimelike values",
     "output_type": "error",
     "traceback": [
      "\u001b[0;31m---------------------------------------------------------------------------\u001b[0m",
      "\u001b[0;31mAttributeError\u001b[0m                            Traceback (most recent call last)",
      "\u001b[0;32m<ipython-input-154-394f7f15a512>\u001b[0m in \u001b[0;36m<module>\u001b[0;34m\u001b[0m\n\u001b[0;32m----> 1\u001b[0;31m \u001b[0mPOMI_map_2021\u001b[0m \u001b[0;34m=\u001b[0m \u001b[0mPOMI_map_2021\u001b[0m\u001b[0;34m[\u001b[0m\u001b[0;34m'report_period_end'\u001b[0m\u001b[0;34m]\u001b[0m \u001b[0;34m=\u001b[0m \u001b[0mPOMI_map_2021\u001b[0m\u001b[0;34m[\u001b[0m\u001b[0;34m'report_period_end'\u001b[0m\u001b[0;34m]\u001b[0m\u001b[0;34m.\u001b[0m\u001b[0mdt\u001b[0m\u001b[0;34m.\u001b[0m\u001b[0mstrftime\u001b[0m\u001b[0;34m(\u001b[0m\u001b[0;34m'%Y-%m-%d'\u001b[0m\u001b[0;34m)\u001b[0m\u001b[0;34m\u001b[0m\u001b[0;34m\u001b[0m\u001b[0m\n\u001b[0m\u001b[1;32m      2\u001b[0m \u001b[0mPOMI_map_2021\u001b[0m\u001b[0;34m.\u001b[0m\u001b[0mdtypes\u001b[0m\u001b[0;34m\u001b[0m\u001b[0;34m\u001b[0m\u001b[0m\n",
      "\u001b[0;32m~/opt/anaconda3/lib/python3.8/site-packages/pandas/core/generic.py\u001b[0m in \u001b[0;36m__getattr__\u001b[0;34m(self, name)\u001b[0m\n\u001b[1;32m   5459\u001b[0m             \u001b[0;32mor\u001b[0m \u001b[0mname\u001b[0m \u001b[0;32min\u001b[0m \u001b[0mself\u001b[0m\u001b[0;34m.\u001b[0m\u001b[0m_accessors\u001b[0m\u001b[0;34m\u001b[0m\u001b[0;34m\u001b[0m\u001b[0m\n\u001b[1;32m   5460\u001b[0m         ):\n\u001b[0;32m-> 5461\u001b[0;31m             \u001b[0;32mreturn\u001b[0m \u001b[0mobject\u001b[0m\u001b[0;34m.\u001b[0m\u001b[0m__getattribute__\u001b[0m\u001b[0;34m(\u001b[0m\u001b[0mself\u001b[0m\u001b[0;34m,\u001b[0m \u001b[0mname\u001b[0m\u001b[0;34m)\u001b[0m\u001b[0;34m\u001b[0m\u001b[0;34m\u001b[0m\u001b[0m\n\u001b[0m\u001b[1;32m   5462\u001b[0m         \u001b[0;32melse\u001b[0m\u001b[0;34m:\u001b[0m\u001b[0;34m\u001b[0m\u001b[0;34m\u001b[0m\u001b[0m\n\u001b[1;32m   5463\u001b[0m             \u001b[0;32mif\u001b[0m \u001b[0mself\u001b[0m\u001b[0;34m.\u001b[0m\u001b[0m_info_axis\u001b[0m\u001b[0;34m.\u001b[0m\u001b[0m_can_hold_identifiers_and_holds_name\u001b[0m\u001b[0;34m(\u001b[0m\u001b[0mname\u001b[0m\u001b[0;34m)\u001b[0m\u001b[0;34m:\u001b[0m\u001b[0;34m\u001b[0m\u001b[0;34m\u001b[0m\u001b[0m\n",
      "\u001b[0;32m~/opt/anaconda3/lib/python3.8/site-packages/pandas/core/accessor.py\u001b[0m in \u001b[0;36m__get__\u001b[0;34m(self, obj, cls)\u001b[0m\n\u001b[1;32m    178\u001b[0m             \u001b[0;31m# we're accessing the attribute of the class, i.e., Dataset.geo\u001b[0m\u001b[0;34m\u001b[0m\u001b[0;34m\u001b[0m\u001b[0;34m\u001b[0m\u001b[0m\n\u001b[1;32m    179\u001b[0m             \u001b[0;32mreturn\u001b[0m \u001b[0mself\u001b[0m\u001b[0;34m.\u001b[0m\u001b[0m_accessor\u001b[0m\u001b[0;34m\u001b[0m\u001b[0;34m\u001b[0m\u001b[0m\n\u001b[0;32m--> 180\u001b[0;31m         \u001b[0maccessor_obj\u001b[0m \u001b[0;34m=\u001b[0m \u001b[0mself\u001b[0m\u001b[0;34m.\u001b[0m\u001b[0m_accessor\u001b[0m\u001b[0;34m(\u001b[0m\u001b[0mobj\u001b[0m\u001b[0;34m)\u001b[0m\u001b[0;34m\u001b[0m\u001b[0;34m\u001b[0m\u001b[0m\n\u001b[0m\u001b[1;32m    181\u001b[0m         \u001b[0;31m# Replace the property with the accessor object. Inspired by:\u001b[0m\u001b[0;34m\u001b[0m\u001b[0;34m\u001b[0m\u001b[0;34m\u001b[0m\u001b[0m\n\u001b[1;32m    182\u001b[0m         \u001b[0;31m# https://www.pydanny.com/cached-property.html\u001b[0m\u001b[0;34m\u001b[0m\u001b[0;34m\u001b[0m\u001b[0;34m\u001b[0m\u001b[0m\n",
      "\u001b[0;32m~/opt/anaconda3/lib/python3.8/site-packages/pandas/core/indexes/accessors.py\u001b[0m in \u001b[0;36m__new__\u001b[0;34m(cls, data)\u001b[0m\n\u001b[1;32m    492\u001b[0m             \u001b[0;32mreturn\u001b[0m \u001b[0mPeriodProperties\u001b[0m\u001b[0;34m(\u001b[0m\u001b[0mdata\u001b[0m\u001b[0;34m,\u001b[0m \u001b[0morig\u001b[0m\u001b[0;34m)\u001b[0m\u001b[0;34m\u001b[0m\u001b[0;34m\u001b[0m\u001b[0m\n\u001b[1;32m    493\u001b[0m \u001b[0;34m\u001b[0m\u001b[0m\n\u001b[0;32m--> 494\u001b[0;31m         \u001b[0;32mraise\u001b[0m \u001b[0mAttributeError\u001b[0m\u001b[0;34m(\u001b[0m\u001b[0;34m\"Can only use .dt accessor with datetimelike values\"\u001b[0m\u001b[0;34m)\u001b[0m\u001b[0;34m\u001b[0m\u001b[0;34m\u001b[0m\u001b[0m\n\u001b[0m",
      "\u001b[0;31mAttributeError\u001b[0m: Can only use .dt accessor with datetimelike values"
     ]
    }
   ],
   "source": [
    "POMI_map_2021 = POMI_map_2021['report_period_end'] = POMI_map_2021['report_period_end'].dt.strftime('%Y-%m-%d')\n",
    "POMI_map_2021.dtypes"
   ]
  },
  {
   "cell_type": "code",
   "execution_count": 158,
   "id": "b9a29003-5f02-41de-bdf6-0cce4f2c8b06",
   "metadata": {},
   "outputs": [
    {
     "data": {
      "text/html": [
       "<div>\n",
       "<style scoped>\n",
       "    .dataframe tbody tr th:only-of-type {\n",
       "        vertical-align: middle;\n",
       "    }\n",
       "\n",
       "    .dataframe tbody tr th {\n",
       "        vertical-align: top;\n",
       "    }\n",
       "\n",
       "    .dataframe thead th {\n",
       "        text-align: right;\n",
       "    }\n",
       "</style>\n",
       "<table border=\"1\" class=\"dataframe\">\n",
       "  <thead>\n",
       "    <tr style=\"text-align: right;\">\n",
       "      <th>field</th>\n",
       "      <th>report_period_end</th>\n",
       "      <th>ccg_code</th>\n",
       "      <th>ccg_name</th>\n",
       "      <th>Pat_Appts_Enbld</th>\n",
       "      <th>Pat_Presc_Enbld</th>\n",
       "      <th>Total_Pat_Enbld</th>\n",
       "      <th>patient_list_size</th>\n",
       "    </tr>\n",
       "  </thead>\n",
       "  <tbody>\n",
       "    <tr>\n",
       "      <th>7761</th>\n",
       "      <td>2021-03-31</td>\n",
       "      <td>00L</td>\n",
       "      <td>NHS NORTHUMBERLAND CCG</td>\n",
       "      <td>3124.789474</td>\n",
       "      <td>3181.605263</td>\n",
       "      <td>3196.289474</td>\n",
       "      <td>8700.631579</td>\n",
       "    </tr>\n",
       "    <tr>\n",
       "      <th>7762</th>\n",
       "      <td>2021-03-31</td>\n",
       "      <td>00N</td>\n",
       "      <td>NHS SOUTH TYNESIDE CCG</td>\n",
       "      <td>1873.761905</td>\n",
       "      <td>2430.714286</td>\n",
       "      <td>2455.000000</td>\n",
       "      <td>7538.619048</td>\n",
       "    </tr>\n",
       "    <tr>\n",
       "      <th>7763</th>\n",
       "      <td>2021-03-31</td>\n",
       "      <td>00P</td>\n",
       "      <td>NHS SUNDERLAND CCG</td>\n",
       "      <td>2183.394737</td>\n",
       "      <td>2419.684211</td>\n",
       "      <td>2458.184211</td>\n",
       "      <td>7479.210526</td>\n",
       "    </tr>\n",
       "    <tr>\n",
       "      <th>7764</th>\n",
       "      <td>2021-03-31</td>\n",
       "      <td>00Q</td>\n",
       "      <td>NHS BLACKBURN WITH DARWEN CCG</td>\n",
       "      <td>1674.391304</td>\n",
       "      <td>2050.608696</td>\n",
       "      <td>2067.913043</td>\n",
       "      <td>7802.043478</td>\n",
       "    </tr>\n",
       "    <tr>\n",
       "      <th>7765</th>\n",
       "      <td>2021-03-31</td>\n",
       "      <td>00R</td>\n",
       "      <td>NHS BLACKPOOL CCG</td>\n",
       "      <td>2056.411765</td>\n",
       "      <td>4009.470588</td>\n",
       "      <td>4063.000000</td>\n",
       "      <td>10291.764706</td>\n",
       "    </tr>\n",
       "    <tr>\n",
       "      <th>...</th>\n",
       "      <td>...</td>\n",
       "      <td>...</td>\n",
       "      <td>...</td>\n",
       "      <td>...</td>\n",
       "      <td>...</td>\n",
       "      <td>...</td>\n",
       "      <td>...</td>\n",
       "    </tr>\n",
       "    <tr>\n",
       "      <th>7891</th>\n",
       "      <td>2021-03-31</td>\n",
       "      <td>99C</td>\n",
       "      <td>NHS NORTH TYNESIDE CCG</td>\n",
       "      <td>2712.400000</td>\n",
       "      <td>3294.560000</td>\n",
       "      <td>3304.080000</td>\n",
       "      <td>8922.880000</td>\n",
       "    </tr>\n",
       "    <tr>\n",
       "      <th>7892</th>\n",
       "      <td>2021-03-31</td>\n",
       "      <td>99E</td>\n",
       "      <td>NHS BASILDON AND BRENTWOOD CCG</td>\n",
       "      <td>2487.242424</td>\n",
       "      <td>2605.545455</td>\n",
       "      <td>2612.787879</td>\n",
       "      <td>8341.424242</td>\n",
       "    </tr>\n",
       "    <tr>\n",
       "      <th>7893</th>\n",
       "      <td>2021-03-31</td>\n",
       "      <td>99F</td>\n",
       "      <td>NHS CASTLE POINT AND ROCHFORD CCG</td>\n",
       "      <td>2307.750000</td>\n",
       "      <td>2442.850000</td>\n",
       "      <td>2444.200000</td>\n",
       "      <td>8069.250000</td>\n",
       "    </tr>\n",
       "    <tr>\n",
       "      <th>7894</th>\n",
       "      <td>2021-03-31</td>\n",
       "      <td>99G</td>\n",
       "      <td>NHS SOUTHEND CCG</td>\n",
       "      <td>2505.560000</td>\n",
       "      <td>2634.320000</td>\n",
       "      <td>2655.960000</td>\n",
       "      <td>7579.800000</td>\n",
       "    </tr>\n",
       "    <tr>\n",
       "      <th>7895</th>\n",
       "      <td>2021-03-31</td>\n",
       "      <td>99M</td>\n",
       "      <td>NHS NORTH EAST HAMPSHIRE AND FARNHAM CCG</td>\n",
       "      <td>3406.650000</td>\n",
       "      <td>4146.600000</td>\n",
       "      <td>4205.050000</td>\n",
       "      <td>11616.000000</td>\n",
       "    </tr>\n",
       "  </tbody>\n",
       "</table>\n",
       "<p>135 rows × 7 columns</p>\n",
       "</div>"
      ],
      "text/plain": [
       "field report_period_end ccg_code                                  ccg_name  \\\n",
       "7761         2021-03-31      00L                    NHS NORTHUMBERLAND CCG   \n",
       "7762         2021-03-31      00N                    NHS SOUTH TYNESIDE CCG   \n",
       "7763         2021-03-31      00P                        NHS SUNDERLAND CCG   \n",
       "7764         2021-03-31      00Q             NHS BLACKBURN WITH DARWEN CCG   \n",
       "7765         2021-03-31      00R                         NHS BLACKPOOL CCG   \n",
       "...                 ...      ...                                       ...   \n",
       "7891         2021-03-31      99C                    NHS NORTH TYNESIDE CCG   \n",
       "7892         2021-03-31      99E            NHS BASILDON AND BRENTWOOD CCG   \n",
       "7893         2021-03-31      99F         NHS CASTLE POINT AND ROCHFORD CCG   \n",
       "7894         2021-03-31      99G                          NHS SOUTHEND CCG   \n",
       "7895         2021-03-31      99M  NHS NORTH EAST HAMPSHIRE AND FARNHAM CCG   \n",
       "\n",
       "field  Pat_Appts_Enbld  Pat_Presc_Enbld  Total_Pat_Enbld  patient_list_size  \n",
       "7761       3124.789474      3181.605263      3196.289474        8700.631579  \n",
       "7762       1873.761905      2430.714286      2455.000000        7538.619048  \n",
       "7763       2183.394737      2419.684211      2458.184211        7479.210526  \n",
       "7764       1674.391304      2050.608696      2067.913043        7802.043478  \n",
       "7765       2056.411765      4009.470588      4063.000000       10291.764706  \n",
       "...                ...              ...              ...                ...  \n",
       "7891       2712.400000      3294.560000      3304.080000        8922.880000  \n",
       "7892       2487.242424      2605.545455      2612.787879        8341.424242  \n",
       "7893       2307.750000      2442.850000      2444.200000        8069.250000  \n",
       "7894       2505.560000      2634.320000      2655.960000        7579.800000  \n",
       "7895       3406.650000      4146.600000      4205.050000       11616.000000  \n",
       "\n",
       "[135 rows x 7 columns]"
      ]
     },
     "execution_count": 158,
     "metadata": {},
     "output_type": "execute_result"
    }
   ],
   "source": [
    "POMI_map_2021_march = POMI_map_2021[POMI_map_2021['report_period_end']=='2021-03-31']\n",
    "\n",
    "POMI_map_2021_march "
   ]
  },
  {
   "cell_type": "markdown",
   "id": "68bfc629-1832-4c75-ab3d-d8d2712121d9",
   "metadata": {},
   "source": [
    "## Datawrapper formatting"
   ]
  },
  {
   "cell_type": "code",
   "execution_count": 166,
   "id": "2fe2a068-5327-4119-a23d-010ed57c259d",
   "metadata": {},
   "outputs": [
    {
     "data": {
      "text/html": [
       "<div>\n",
       "<style scoped>\n",
       "    .dataframe tbody tr th:only-of-type {\n",
       "        vertical-align: middle;\n",
       "    }\n",
       "\n",
       "    .dataframe tbody tr th {\n",
       "        vertical-align: top;\n",
       "    }\n",
       "\n",
       "    .dataframe thead th {\n",
       "        text-align: right;\n",
       "    }\n",
       "</style>\n",
       "<table border=\"1\" class=\"dataframe\">\n",
       "  <thead>\n",
       "    <tr style=\"text-align: right;\">\n",
       "      <th>field</th>\n",
       "      <th>Name</th>\n",
       "      <th>Pat_Appts_Enbld</th>\n",
       "    </tr>\n",
       "  </thead>\n",
       "  <tbody>\n",
       "    <tr>\n",
       "      <th>7761</th>\n",
       "      <td>NHS NORTHUMBERLAND CCG</td>\n",
       "      <td>3124.789474</td>\n",
       "    </tr>\n",
       "    <tr>\n",
       "      <th>7762</th>\n",
       "      <td>NHS SOUTH TYNESIDE CCG</td>\n",
       "      <td>1873.761905</td>\n",
       "    </tr>\n",
       "    <tr>\n",
       "      <th>7763</th>\n",
       "      <td>NHS SUNDERLAND CCG</td>\n",
       "      <td>2183.394737</td>\n",
       "    </tr>\n",
       "    <tr>\n",
       "      <th>7764</th>\n",
       "      <td>NHS BLACKBURN WITH DARWEN CCG</td>\n",
       "      <td>1674.391304</td>\n",
       "    </tr>\n",
       "    <tr>\n",
       "      <th>7765</th>\n",
       "      <td>NHS BLACKPOOL CCG</td>\n",
       "      <td>2056.411765</td>\n",
       "    </tr>\n",
       "    <tr>\n",
       "      <th>...</th>\n",
       "      <td>...</td>\n",
       "      <td>...</td>\n",
       "    </tr>\n",
       "    <tr>\n",
       "      <th>7891</th>\n",
       "      <td>NHS NORTH TYNESIDE CCG</td>\n",
       "      <td>2712.400000</td>\n",
       "    </tr>\n",
       "    <tr>\n",
       "      <th>7892</th>\n",
       "      <td>NHS BASILDON AND BRENTWOOD CCG</td>\n",
       "      <td>2487.242424</td>\n",
       "    </tr>\n",
       "    <tr>\n",
       "      <th>7893</th>\n",
       "      <td>NHS CASTLE POINT AND ROCHFORD CCG</td>\n",
       "      <td>2307.750000</td>\n",
       "    </tr>\n",
       "    <tr>\n",
       "      <th>7894</th>\n",
       "      <td>NHS SOUTHEND CCG</td>\n",
       "      <td>2505.560000</td>\n",
       "    </tr>\n",
       "    <tr>\n",
       "      <th>7895</th>\n",
       "      <td>NHS NORTH EAST HAMPSHIRE AND FARNHAM CCG</td>\n",
       "      <td>3406.650000</td>\n",
       "    </tr>\n",
       "  </tbody>\n",
       "</table>\n",
       "<p>135 rows × 2 columns</p>\n",
       "</div>"
      ],
      "text/plain": [
       "field                                      Name  Pat_Appts_Enbld\n",
       "7761                     NHS NORTHUMBERLAND CCG      3124.789474\n",
       "7762                     NHS SOUTH TYNESIDE CCG      1873.761905\n",
       "7763                         NHS SUNDERLAND CCG      2183.394737\n",
       "7764              NHS BLACKBURN WITH DARWEN CCG      1674.391304\n",
       "7765                          NHS BLACKPOOL CCG      2056.411765\n",
       "...                                         ...              ...\n",
       "7891                     NHS NORTH TYNESIDE CCG      2712.400000\n",
       "7892             NHS BASILDON AND BRENTWOOD CCG      2487.242424\n",
       "7893          NHS CASTLE POINT AND ROCHFORD CCG      2307.750000\n",
       "7894                           NHS SOUTHEND CCG      2505.560000\n",
       "7895   NHS NORTH EAST HAMPSHIRE AND FARNHAM CCG      3406.650000\n",
       "\n",
       "[135 rows x 2 columns]"
      ]
     },
     "execution_count": 166,
     "metadata": {},
     "output_type": "execute_result"
    }
   ],
   "source": [
    "POMI_map_2021_march_Appts = POMI_map_2021_march .drop(['Pat_Presc_Enbld','Total_Pat_Enbld','patient_list_size', 'report_period_end', 'ccg_code'], axis=1)\n",
    "POMI_map_2021_march_Appts = POMI_map_2021_march_Appts.rename(columns={'ccg_name': 'Name'})\n",
    "POMI_map_2021_march_Appts"
   ]
  },
  {
   "cell_type": "code",
   "execution_count": 167,
   "id": "c3a2f625-6d79-4bc3-8e15-2888fc4e3b9d",
   "metadata": {},
   "outputs": [],
   "source": [
    "POMI_map_2021_march_Appts.to_csv('POMI_map_2021_march_Appts')"
   ]
  },
  {
   "cell_type": "code",
   "execution_count": null,
   "id": "2603ecc5-ad29-4177-99d2-562a4eb239ff",
   "metadata": {},
   "outputs": [],
   "source": []
  }
 ],
 "metadata": {
  "kernelspec": {
   "display_name": "Python 3",
   "language": "python",
   "name": "python3"
  },
  "language_info": {
   "codemirror_mode": {
    "name": "ipython",
    "version": 3
   },
   "file_extension": ".py",
   "mimetype": "text/x-python",
   "name": "python",
   "nbconvert_exporter": "python",
   "pygments_lexer": "ipython3",
   "version": "3.8.8"
  }
 },
 "nbformat": 4,
 "nbformat_minor": 5
}
