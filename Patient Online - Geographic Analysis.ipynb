{
 "cells": [
  {
   "cell_type": "markdown",
   "id": "fa351653-7f37-4735-8692-16fbebbc9b10",
   "metadata": {},
   "source": [
    "# Patient Online - Geographic Analysis\n",
    "#### Developed by: Mary Amanuel\n",
    "#### Contact: mary.amanuel@nhsx.nhs.uk\n",
    "#### Last Updated: 25th September 2021"
   ]
  },
  {
   "cell_type": "code",
   "execution_count": 142,
   "id": "f46917ed-33ce-4ba9-bfa7-e1442024c76d",
   "metadata": {},
   "outputs": [],
   "source": [
    "import pandas as pd\n",
    "import os\n",
    "import plotly\n",
    "import plotly.graph_objects as go\n",
    "import plotly.express as px\n",
    "import plotly.offline as pyo\n",
    "import numpy as np\n",
    "import datetime\n",
    "import matplotlib.pyplot as plt\n",
    "import seaborn as sns\n",
    "nhs_colours = ['#00A499', '#FFB81C', '#7C2855']\n"
   ]
  },
  {
   "cell_type": "markdown",
   "id": "39def70f-138f-44ee-af04-33dbef563dc8",
   "metadata": {},
   "source": [
    "### Patient Online  - August 2021 Data "
   ]
  },
  {
   "cell_type": "code",
   "execution_count": 60,
   "id": "e940c7ed-69a3-4f49-8cb1-7f7870f103a2",
   "metadata": {},
   "outputs": [
    {
     "data": {
      "text/html": [
       "<div>\n",
       "<style scoped>\n",
       "    .dataframe tbody tr th:only-of-type {\n",
       "        vertical-align: middle;\n",
       "    }\n",
       "\n",
       "    .dataframe tbody tr th {\n",
       "        vertical-align: top;\n",
       "    }\n",
       "\n",
       "    .dataframe thead th {\n",
       "        text-align: right;\n",
       "    }\n",
       "</style>\n",
       "<table border=\"1\" class=\"dataframe\">\n",
       "  <thead>\n",
       "    <tr style=\"text-align: right;\">\n",
       "      <th></th>\n",
       "      <th>report_period_end</th>\n",
       "      <th>region_code</th>\n",
       "      <th>region_name</th>\n",
       "      <th>ccg_code</th>\n",
       "      <th>ccg_name</th>\n",
       "      <th>practice_code</th>\n",
       "      <th>practice_name</th>\n",
       "      <th>system_supplier</th>\n",
       "      <th>field</th>\n",
       "      <th>value</th>\n",
       "    </tr>\n",
       "  </thead>\n",
       "  <tbody>\n",
       "    <tr>\n",
       "      <th>0</th>\n",
       "      <td>30APR2021</td>\n",
       "      <td>Y56</td>\n",
       "      <td>NaN</td>\n",
       "      <td>36L</td>\n",
       "      <td>NHS South West London CCG</td>\n",
       "      <td>H83001</td>\n",
       "      <td>PORTLAND MEDICAL CENTRE</td>\n",
       "      <td>EMIS</td>\n",
       "      <td>Sys_Presc_Enbld</td>\n",
       "      <td>2.0</td>\n",
       "    </tr>\n",
       "    <tr>\n",
       "      <th>1</th>\n",
       "      <td>30APR2021</td>\n",
       "      <td>Y56</td>\n",
       "      <td>NaN</td>\n",
       "      <td>36L</td>\n",
       "      <td>NHS South West London CCG</td>\n",
       "      <td>H83001</td>\n",
       "      <td>PORTLAND MEDICAL CENTRE</td>\n",
       "      <td>EMIS</td>\n",
       "      <td>patient_list_size</td>\n",
       "      <td>12625.0</td>\n",
       "    </tr>\n",
       "    <tr>\n",
       "      <th>2</th>\n",
       "      <td>30APR2021</td>\n",
       "      <td>Y56</td>\n",
       "      <td>NaN</td>\n",
       "      <td>36L</td>\n",
       "      <td>NHS South West London CCG</td>\n",
       "      <td>H83001</td>\n",
       "      <td>PORTLAND MEDICAL CENTRE</td>\n",
       "      <td>EMIS</td>\n",
       "      <td>Pat_DetCodeRec_Enbld</td>\n",
       "      <td>15.0</td>\n",
       "    </tr>\n",
       "    <tr>\n",
       "      <th>3</th>\n",
       "      <td>30APR2021</td>\n",
       "      <td>Y56</td>\n",
       "      <td>NaN</td>\n",
       "      <td>36L</td>\n",
       "      <td>NHS South West London CCG</td>\n",
       "      <td>H83001</td>\n",
       "      <td>PORTLAND MEDICAL CENTRE</td>\n",
       "      <td>EMIS</td>\n",
       "      <td>Pat_Presc_Enbld</td>\n",
       "      <td>4816.0</td>\n",
       "    </tr>\n",
       "    <tr>\n",
       "      <th>4</th>\n",
       "      <td>30APR2021</td>\n",
       "      <td>Y56</td>\n",
       "      <td>NaN</td>\n",
       "      <td>36L</td>\n",
       "      <td>NHS South West London CCG</td>\n",
       "      <td>H83001</td>\n",
       "      <td>PORTLAND MEDICAL CENTRE</td>\n",
       "      <td>EMIS</td>\n",
       "      <td>New_Pat_Enbld</td>\n",
       "      <td>43.0</td>\n",
       "    </tr>\n",
       "    <tr>\n",
       "      <th>...</th>\n",
       "      <td>...</td>\n",
       "      <td>...</td>\n",
       "      <td>...</td>\n",
       "      <td>...</td>\n",
       "      <td>...</td>\n",
       "      <td>...</td>\n",
       "      <td>...</td>\n",
       "      <td>...</td>\n",
       "      <td>...</td>\n",
       "      <td>...</td>\n",
       "    </tr>\n",
       "    <tr>\n",
       "      <th>423080</th>\n",
       "      <td>31AUG2021</td>\n",
       "      <td>Y63</td>\n",
       "      <td>NaN</td>\n",
       "      <td>X2C4Y</td>\n",
       "      <td>NHS Kirklees CCG</td>\n",
       "      <td>Y06659</td>\n",
       "      <td>NOOK SURGERY</td>\n",
       "      <td>TPP</td>\n",
       "      <td>Sys_Presc_Enbld</td>\n",
       "      <td>2.0</td>\n",
       "    </tr>\n",
       "    <tr>\n",
       "      <th>423081</th>\n",
       "      <td>31AUG2021</td>\n",
       "      <td>Y63</td>\n",
       "      <td>NaN</td>\n",
       "      <td>X2C4Y</td>\n",
       "      <td>NHS Kirklees CCG</td>\n",
       "      <td>Y06659</td>\n",
       "      <td>NOOK SURGERY</td>\n",
       "      <td>TPP</td>\n",
       "      <td>Pat_Appts_Use</td>\n",
       "      <td>0.0</td>\n",
       "    </tr>\n",
       "    <tr>\n",
       "      <th>423082</th>\n",
       "      <td>31AUG2021</td>\n",
       "      <td>Y63</td>\n",
       "      <td>NaN</td>\n",
       "      <td>X2C4Y</td>\n",
       "      <td>NHS Kirklees CCG</td>\n",
       "      <td>Y06659</td>\n",
       "      <td>NOOK SURGERY</td>\n",
       "      <td>TPP</td>\n",
       "      <td>Pat_Appts_Enbld</td>\n",
       "      <td>633.0</td>\n",
       "    </tr>\n",
       "    <tr>\n",
       "      <th>423083</th>\n",
       "      <td>31AUG2021</td>\n",
       "      <td>Y63</td>\n",
       "      <td>NaN</td>\n",
       "      <td>X2C4Y</td>\n",
       "      <td>NHS Kirklees CCG</td>\n",
       "      <td>Y06659</td>\n",
       "      <td>NOOK SURGERY</td>\n",
       "      <td>TPP</td>\n",
       "      <td>Sys_Appts_Enbld</td>\n",
       "      <td>2.0</td>\n",
       "    </tr>\n",
       "    <tr>\n",
       "      <th>423084</th>\n",
       "      <td>31AUG2021</td>\n",
       "      <td>Y63</td>\n",
       "      <td>NaN</td>\n",
       "      <td>X2C4Y</td>\n",
       "      <td>NHS Kirklees CCG</td>\n",
       "      <td>Y06659</td>\n",
       "      <td>NOOK SURGERY</td>\n",
       "      <td>TPP</td>\n",
       "      <td>patient_list_size</td>\n",
       "      <td>3311.0</td>\n",
       "    </tr>\n",
       "  </tbody>\n",
       "</table>\n",
       "<p>423085 rows × 10 columns</p>\n",
       "</div>"
      ],
      "text/plain": [
       "       report_period_end region_code  region_name ccg_code  \\\n",
       "0              30APR2021         Y56          NaN      36L   \n",
       "1              30APR2021         Y56          NaN      36L   \n",
       "2              30APR2021         Y56          NaN      36L   \n",
       "3              30APR2021         Y56          NaN      36L   \n",
       "4              30APR2021         Y56          NaN      36L   \n",
       "...                  ...         ...          ...      ...   \n",
       "423080         31AUG2021         Y63          NaN    X2C4Y   \n",
       "423081         31AUG2021         Y63          NaN    X2C4Y   \n",
       "423082         31AUG2021         Y63          NaN    X2C4Y   \n",
       "423083         31AUG2021         Y63          NaN    X2C4Y   \n",
       "423084         31AUG2021         Y63          NaN    X2C4Y   \n",
       "\n",
       "                         ccg_name practice_code            practice_name  \\\n",
       "0       NHS South West London CCG        H83001  PORTLAND MEDICAL CENTRE   \n",
       "1       NHS South West London CCG        H83001  PORTLAND MEDICAL CENTRE   \n",
       "2       NHS South West London CCG        H83001  PORTLAND MEDICAL CENTRE   \n",
       "3       NHS South West London CCG        H83001  PORTLAND MEDICAL CENTRE   \n",
       "4       NHS South West London CCG        H83001  PORTLAND MEDICAL CENTRE   \n",
       "...                           ...           ...                      ...   \n",
       "423080           NHS Kirklees CCG        Y06659             NOOK SURGERY   \n",
       "423081           NHS Kirklees CCG        Y06659             NOOK SURGERY   \n",
       "423082           NHS Kirklees CCG        Y06659             NOOK SURGERY   \n",
       "423083           NHS Kirklees CCG        Y06659             NOOK SURGERY   \n",
       "423084           NHS Kirklees CCG        Y06659             NOOK SURGERY   \n",
       "\n",
       "       system_supplier                 field    value  \n",
       "0                 EMIS       Sys_Presc_Enbld      2.0  \n",
       "1                 EMIS     patient_list_size  12625.0  \n",
       "2                 EMIS  Pat_DetCodeRec_Enbld     15.0  \n",
       "3                 EMIS       Pat_Presc_Enbld   4816.0  \n",
       "4                 EMIS         New_Pat_Enbld     43.0  \n",
       "...                ...                   ...      ...  \n",
       "423080             TPP       Sys_Presc_Enbld      2.0  \n",
       "423081             TPP         Pat_Appts_Use      0.0  \n",
       "423082             TPP       Pat_Appts_Enbld    633.0  \n",
       "423083             TPP       Sys_Appts_Enbld      2.0  \n",
       "423084             TPP     patient_list_size   3311.0  \n",
       "\n",
       "[423085 rows x 10 columns]"
      ]
     },
     "execution_count": 60,
     "metadata": {},
     "output_type": "execute_result"
    }
   ],
   "source": [
    "POMI = pd.read_csv('data/POMI 2017_2021/POMI_APR2021_to_AUG2021.csv', sep = ',')\n",
    "POMI"
   ]
  },
  {
   "cell_type": "code",
   "execution_count": 61,
   "id": "c1e1c525-c289-470d-976e-81d1adc70be0",
   "metadata": {},
   "outputs": [
    {
     "data": {
      "text/html": [
       "<div>\n",
       "<style scoped>\n",
       "    .dataframe tbody tr th:only-of-type {\n",
       "        vertical-align: middle;\n",
       "    }\n",
       "\n",
       "    .dataframe tbody tr th {\n",
       "        vertical-align: top;\n",
       "    }\n",
       "\n",
       "    .dataframe thead th {\n",
       "        text-align: right;\n",
       "    }\n",
       "</style>\n",
       "<table border=\"1\" class=\"dataframe\">\n",
       "  <thead>\n",
       "    <tr style=\"text-align: right;\">\n",
       "      <th></th>\n",
       "      <th>report_period_end</th>\n",
       "      <th>region_code</th>\n",
       "      <th>region_name</th>\n",
       "      <th>ccg_code</th>\n",
       "      <th>ccg_name</th>\n",
       "      <th>practice_code</th>\n",
       "      <th>practice_name</th>\n",
       "      <th>system_supplier</th>\n",
       "      <th>field</th>\n",
       "      <th>value</th>\n",
       "    </tr>\n",
       "  </thead>\n",
       "  <tbody>\n",
       "    <tr>\n",
       "      <th>0</th>\n",
       "      <td>2021-04-30</td>\n",
       "      <td>Y56</td>\n",
       "      <td>NaN</td>\n",
       "      <td>36L</td>\n",
       "      <td>NHS SOUTH WEST LONDON CCG</td>\n",
       "      <td>H83001</td>\n",
       "      <td>PORTLAND MEDICAL CENTRE</td>\n",
       "      <td>EMIS</td>\n",
       "      <td>Sys_Presc_Enbld</td>\n",
       "      <td>2.0</td>\n",
       "    </tr>\n",
       "    <tr>\n",
       "      <th>1</th>\n",
       "      <td>2021-04-30</td>\n",
       "      <td>Y56</td>\n",
       "      <td>NaN</td>\n",
       "      <td>36L</td>\n",
       "      <td>NHS SOUTH WEST LONDON CCG</td>\n",
       "      <td>H83001</td>\n",
       "      <td>PORTLAND MEDICAL CENTRE</td>\n",
       "      <td>EMIS</td>\n",
       "      <td>patient_list_size</td>\n",
       "      <td>12625.0</td>\n",
       "    </tr>\n",
       "    <tr>\n",
       "      <th>2</th>\n",
       "      <td>2021-04-30</td>\n",
       "      <td>Y56</td>\n",
       "      <td>NaN</td>\n",
       "      <td>36L</td>\n",
       "      <td>NHS SOUTH WEST LONDON CCG</td>\n",
       "      <td>H83001</td>\n",
       "      <td>PORTLAND MEDICAL CENTRE</td>\n",
       "      <td>EMIS</td>\n",
       "      <td>Pat_DetCodeRec_Enbld</td>\n",
       "      <td>15.0</td>\n",
       "    </tr>\n",
       "    <tr>\n",
       "      <th>3</th>\n",
       "      <td>2021-04-30</td>\n",
       "      <td>Y56</td>\n",
       "      <td>NaN</td>\n",
       "      <td>36L</td>\n",
       "      <td>NHS SOUTH WEST LONDON CCG</td>\n",
       "      <td>H83001</td>\n",
       "      <td>PORTLAND MEDICAL CENTRE</td>\n",
       "      <td>EMIS</td>\n",
       "      <td>Pat_Presc_Enbld</td>\n",
       "      <td>4816.0</td>\n",
       "    </tr>\n",
       "    <tr>\n",
       "      <th>4</th>\n",
       "      <td>2021-04-30</td>\n",
       "      <td>Y56</td>\n",
       "      <td>NaN</td>\n",
       "      <td>36L</td>\n",
       "      <td>NHS SOUTH WEST LONDON CCG</td>\n",
       "      <td>H83001</td>\n",
       "      <td>PORTLAND MEDICAL CENTRE</td>\n",
       "      <td>EMIS</td>\n",
       "      <td>New_Pat_Enbld</td>\n",
       "      <td>43.0</td>\n",
       "    </tr>\n",
       "    <tr>\n",
       "      <th>...</th>\n",
       "      <td>...</td>\n",
       "      <td>...</td>\n",
       "      <td>...</td>\n",
       "      <td>...</td>\n",
       "      <td>...</td>\n",
       "      <td>...</td>\n",
       "      <td>...</td>\n",
       "      <td>...</td>\n",
       "      <td>...</td>\n",
       "      <td>...</td>\n",
       "    </tr>\n",
       "    <tr>\n",
       "      <th>423080</th>\n",
       "      <td>2021-08-31</td>\n",
       "      <td>Y63</td>\n",
       "      <td>NaN</td>\n",
       "      <td>X2C4Y</td>\n",
       "      <td>NHS KIRKLEES CCG</td>\n",
       "      <td>Y06659</td>\n",
       "      <td>NOOK SURGERY</td>\n",
       "      <td>TPP</td>\n",
       "      <td>Sys_Presc_Enbld</td>\n",
       "      <td>2.0</td>\n",
       "    </tr>\n",
       "    <tr>\n",
       "      <th>423081</th>\n",
       "      <td>2021-08-31</td>\n",
       "      <td>Y63</td>\n",
       "      <td>NaN</td>\n",
       "      <td>X2C4Y</td>\n",
       "      <td>NHS KIRKLEES CCG</td>\n",
       "      <td>Y06659</td>\n",
       "      <td>NOOK SURGERY</td>\n",
       "      <td>TPP</td>\n",
       "      <td>Pat_Appts_Use</td>\n",
       "      <td>0.0</td>\n",
       "    </tr>\n",
       "    <tr>\n",
       "      <th>423082</th>\n",
       "      <td>2021-08-31</td>\n",
       "      <td>Y63</td>\n",
       "      <td>NaN</td>\n",
       "      <td>X2C4Y</td>\n",
       "      <td>NHS KIRKLEES CCG</td>\n",
       "      <td>Y06659</td>\n",
       "      <td>NOOK SURGERY</td>\n",
       "      <td>TPP</td>\n",
       "      <td>Pat_Appts_Enbld</td>\n",
       "      <td>633.0</td>\n",
       "    </tr>\n",
       "    <tr>\n",
       "      <th>423083</th>\n",
       "      <td>2021-08-31</td>\n",
       "      <td>Y63</td>\n",
       "      <td>NaN</td>\n",
       "      <td>X2C4Y</td>\n",
       "      <td>NHS KIRKLEES CCG</td>\n",
       "      <td>Y06659</td>\n",
       "      <td>NOOK SURGERY</td>\n",
       "      <td>TPP</td>\n",
       "      <td>Sys_Appts_Enbld</td>\n",
       "      <td>2.0</td>\n",
       "    </tr>\n",
       "    <tr>\n",
       "      <th>423084</th>\n",
       "      <td>2021-08-31</td>\n",
       "      <td>Y63</td>\n",
       "      <td>NaN</td>\n",
       "      <td>X2C4Y</td>\n",
       "      <td>NHS KIRKLEES CCG</td>\n",
       "      <td>Y06659</td>\n",
       "      <td>NOOK SURGERY</td>\n",
       "      <td>TPP</td>\n",
       "      <td>patient_list_size</td>\n",
       "      <td>3311.0</td>\n",
       "    </tr>\n",
       "  </tbody>\n",
       "</table>\n",
       "<p>423085 rows × 10 columns</p>\n",
       "</div>"
      ],
      "text/plain": [
       "       report_period_end region_code  region_name ccg_code  \\\n",
       "0             2021-04-30         Y56          NaN      36L   \n",
       "1             2021-04-30         Y56          NaN      36L   \n",
       "2             2021-04-30         Y56          NaN      36L   \n",
       "3             2021-04-30         Y56          NaN      36L   \n",
       "4             2021-04-30         Y56          NaN      36L   \n",
       "...                  ...         ...          ...      ...   \n",
       "423080        2021-08-31         Y63          NaN    X2C4Y   \n",
       "423081        2021-08-31         Y63          NaN    X2C4Y   \n",
       "423082        2021-08-31         Y63          NaN    X2C4Y   \n",
       "423083        2021-08-31         Y63          NaN    X2C4Y   \n",
       "423084        2021-08-31         Y63          NaN    X2C4Y   \n",
       "\n",
       "                         ccg_name practice_code            practice_name  \\\n",
       "0       NHS SOUTH WEST LONDON CCG        H83001  PORTLAND MEDICAL CENTRE   \n",
       "1       NHS SOUTH WEST LONDON CCG        H83001  PORTLAND MEDICAL CENTRE   \n",
       "2       NHS SOUTH WEST LONDON CCG        H83001  PORTLAND MEDICAL CENTRE   \n",
       "3       NHS SOUTH WEST LONDON CCG        H83001  PORTLAND MEDICAL CENTRE   \n",
       "4       NHS SOUTH WEST LONDON CCG        H83001  PORTLAND MEDICAL CENTRE   \n",
       "...                           ...           ...                      ...   \n",
       "423080           NHS KIRKLEES CCG        Y06659             NOOK SURGERY   \n",
       "423081           NHS KIRKLEES CCG        Y06659             NOOK SURGERY   \n",
       "423082           NHS KIRKLEES CCG        Y06659             NOOK SURGERY   \n",
       "423083           NHS KIRKLEES CCG        Y06659             NOOK SURGERY   \n",
       "423084           NHS KIRKLEES CCG        Y06659             NOOK SURGERY   \n",
       "\n",
       "       system_supplier                 field    value  \n",
       "0                 EMIS       Sys_Presc_Enbld      2.0  \n",
       "1                 EMIS     patient_list_size  12625.0  \n",
       "2                 EMIS  Pat_DetCodeRec_Enbld     15.0  \n",
       "3                 EMIS       Pat_Presc_Enbld   4816.0  \n",
       "4                 EMIS         New_Pat_Enbld     43.0  \n",
       "...                ...                   ...      ...  \n",
       "423080             TPP       Sys_Presc_Enbld      2.0  \n",
       "423081             TPP         Pat_Appts_Use      0.0  \n",
       "423082             TPP       Pat_Appts_Enbld    633.0  \n",
       "423083             TPP       Sys_Appts_Enbld      2.0  \n",
       "423084             TPP     patient_list_size   3311.0  \n",
       "\n",
       "[423085 rows x 10 columns]"
      ]
     },
     "execution_count": 61,
     "metadata": {},
     "output_type": "execute_result"
    }
   ],
   "source": [
    "POMI['report_period_end'] = pd.to_datetime(POMI['report_period_end'])\n",
    "POMI['ccg_name'] = POMI['ccg_name'].replace(['NHS Herefordshire CCG'],'NHS Herefordshire and Worcestershire CCG')\n",
    "POMI['ccg_name'] = POMI['ccg_name'].replace(['NHS Herts Valley CCG'],'NHS Herts Valleys CCG')\n",
    "POMI['ccg_name'] = POMI['ccg_name'].str.upper()\n",
    "POMI['practice_name'] = POMI['practice_name'].str.upper()\n",
    "\n",
    "POMI"
   ]
  },
  {
   "cell_type": "code",
   "execution_count": 62,
   "id": "bdd65391-f642-47ff-887f-63950e50f395",
   "metadata": {},
   "outputs": [
    {
     "data": {
      "text/html": [
       "<div>\n",
       "<style scoped>\n",
       "    .dataframe tbody tr th:only-of-type {\n",
       "        vertical-align: middle;\n",
       "    }\n",
       "\n",
       "    .dataframe tbody tr th {\n",
       "        vertical-align: top;\n",
       "    }\n",
       "\n",
       "    .dataframe thead th {\n",
       "        text-align: right;\n",
       "    }\n",
       "</style>\n",
       "<table border=\"1\" class=\"dataframe\">\n",
       "  <thead>\n",
       "    <tr style=\"text-align: right;\">\n",
       "      <th></th>\n",
       "      <th></th>\n",
       "      <th></th>\n",
       "      <th>field</th>\n",
       "      <th>New_Pat_Enbld</th>\n",
       "      <th>Pat_Appts_Enbld</th>\n",
       "      <th>Pat_Appts_Use</th>\n",
       "      <th>Pat_DetCodeRec_Enbld</th>\n",
       "      <th>Pat_DetCodeRec_Use</th>\n",
       "      <th>Pat_Presc_Enbld</th>\n",
       "      <th>Pat_Presc_Use</th>\n",
       "      <th>Sys_Appts_Enbld</th>\n",
       "      <th>Sys_DetCodeRec_Enbld</th>\n",
       "      <th>Sys_Presc_Enbld</th>\n",
       "      <th>Total_Pat_Enbld</th>\n",
       "      <th>Total_Use</th>\n",
       "      <th>patient_list_size</th>\n",
       "    </tr>\n",
       "    <tr>\n",
       "      <th>report_period_end</th>\n",
       "      <th>ccg_name</th>\n",
       "      <th>practice_name</th>\n",
       "      <th>region_code</th>\n",
       "      <th></th>\n",
       "      <th></th>\n",
       "      <th></th>\n",
       "      <th></th>\n",
       "      <th></th>\n",
       "      <th></th>\n",
       "      <th></th>\n",
       "      <th></th>\n",
       "      <th></th>\n",
       "      <th></th>\n",
       "      <th></th>\n",
       "      <th></th>\n",
       "      <th></th>\n",
       "    </tr>\n",
       "  </thead>\n",
       "  <tbody>\n",
       "    <tr>\n",
       "      <th rowspan=\"5\" valign=\"top\">2021-04-30</th>\n",
       "      <th rowspan=\"5\" valign=\"top\">NHS BARNSLEY CCG</th>\n",
       "      <th>APOLLO COURT MEDICAL CENTRE</th>\n",
       "      <th>Y63</th>\n",
       "      <td>130.0</td>\n",
       "      <td>1897.0</td>\n",
       "      <td>0.0</td>\n",
       "      <td>49.0</td>\n",
       "      <td>4824.0</td>\n",
       "      <td>1854.0</td>\n",
       "      <td>631.0</td>\n",
       "      <td>2.0</td>\n",
       "      <td>2.0</td>\n",
       "      <td>2.0</td>\n",
       "      <td>1913.0</td>\n",
       "      <td>10282.0</td>\n",
       "      <td>5004.0</td>\n",
       "    </tr>\n",
       "    <tr>\n",
       "      <th>ASHVILLE MEDICAL CENTRE PMS PRACTICE</th>\n",
       "      <th>Y63</th>\n",
       "      <td>49.0</td>\n",
       "      <td>2341.0</td>\n",
       "      <td>7.0</td>\n",
       "      <td>947.0</td>\n",
       "      <td>794.0</td>\n",
       "      <td>2366.0</td>\n",
       "      <td>916.0</td>\n",
       "      <td>2.0</td>\n",
       "      <td>2.0</td>\n",
       "      <td>2.0</td>\n",
       "      <td>2370.0</td>\n",
       "      <td>2475.0</td>\n",
       "      <td>12347.0</td>\n",
       "    </tr>\n",
       "    <tr>\n",
       "      <th>BHF HIGHGATE SURGERY</th>\n",
       "      <th>Y63</th>\n",
       "      <td>6.0</td>\n",
       "      <td>1542.0</td>\n",
       "      <td>1.0</td>\n",
       "      <td>6.0</td>\n",
       "      <td>37.0</td>\n",
       "      <td>1541.0</td>\n",
       "      <td>556.0</td>\n",
       "      <td>2.0</td>\n",
       "      <td>2.0</td>\n",
       "      <td>2.0</td>\n",
       "      <td>1543.0</td>\n",
       "      <td>766.0</td>\n",
       "      <td>3291.0</td>\n",
       "    </tr>\n",
       "    <tr>\n",
       "      <th>BHF LUNDWOOD SURGERY</th>\n",
       "      <th>Y63</th>\n",
       "      <td>11.0</td>\n",
       "      <td>1421.0</td>\n",
       "      <td>0.0</td>\n",
       "      <td>11.0</td>\n",
       "      <td>1.0</td>\n",
       "      <td>1422.0</td>\n",
       "      <td>562.0</td>\n",
       "      <td>2.0</td>\n",
       "      <td>2.0</td>\n",
       "      <td>2.0</td>\n",
       "      <td>1423.0</td>\n",
       "      <td>707.0</td>\n",
       "      <td>3452.0</td>\n",
       "    </tr>\n",
       "    <tr>\n",
       "      <th>BRIERLEY MEDICAL CENTRE</th>\n",
       "      <th>Y63</th>\n",
       "      <td>5.0</td>\n",
       "      <td>868.0</td>\n",
       "      <td>4.0</td>\n",
       "      <td>40.0</td>\n",
       "      <td>14.0</td>\n",
       "      <td>870.0</td>\n",
       "      <td>499.0</td>\n",
       "      <td>2.0</td>\n",
       "      <td>2.0</td>\n",
       "      <td>2.0</td>\n",
       "      <td>870.0</td>\n",
       "      <td>598.0</td>\n",
       "      <td>3105.0</td>\n",
       "    </tr>\n",
       "    <tr>\n",
       "      <th>...</th>\n",
       "      <th>...</th>\n",
       "      <th>...</th>\n",
       "      <th>...</th>\n",
       "      <td>...</td>\n",
       "      <td>...</td>\n",
       "      <td>...</td>\n",
       "      <td>...</td>\n",
       "      <td>...</td>\n",
       "      <td>...</td>\n",
       "      <td>...</td>\n",
       "      <td>...</td>\n",
       "      <td>...</td>\n",
       "      <td>...</td>\n",
       "      <td>...</td>\n",
       "      <td>...</td>\n",
       "      <td>...</td>\n",
       "    </tr>\n",
       "    <tr>\n",
       "      <th rowspan=\"5\" valign=\"top\">2021-08-31</th>\n",
       "      <th rowspan=\"5\" valign=\"top\">NHS WIRRAL CCG</th>\n",
       "      <th>VILLA MED CTR</th>\n",
       "      <th>Y62</th>\n",
       "      <td>67.0</td>\n",
       "      <td>3381.0</td>\n",
       "      <td>4.0</td>\n",
       "      <td>1015.0</td>\n",
       "      <td>15044.0</td>\n",
       "      <td>3366.0</td>\n",
       "      <td>1112.0</td>\n",
       "      <td>2.0</td>\n",
       "      <td>2.0</td>\n",
       "      <td>2.0</td>\n",
       "      <td>3402.0</td>\n",
       "      <td>31739.0</td>\n",
       "      <td>6104.0</td>\n",
       "    </tr>\n",
       "    <tr>\n",
       "      <th>VITTORIA MED CTR G</th>\n",
       "      <th>Y62</th>\n",
       "      <td>37.0</td>\n",
       "      <td>0.0</td>\n",
       "      <td>0.0</td>\n",
       "      <td>548.0</td>\n",
       "      <td>4276.0</td>\n",
       "      <td>1577.0</td>\n",
       "      <td>383.0</td>\n",
       "      <td>1.0</td>\n",
       "      <td>2.0</td>\n",
       "      <td>2.0</td>\n",
       "      <td>1579.0</td>\n",
       "      <td>8940.0</td>\n",
       "      <td>4747.0</td>\n",
       "    </tr>\n",
       "    <tr>\n",
       "      <th>VITTORIA MED CTR K</th>\n",
       "      <th>Y62</th>\n",
       "      <td>18.0</td>\n",
       "      <td>334.0</td>\n",
       "      <td>0.0</td>\n",
       "      <td>34.0</td>\n",
       "      <td>1017.0</td>\n",
       "      <td>207.0</td>\n",
       "      <td>25.0</td>\n",
       "      <td>2.0</td>\n",
       "      <td>2.0</td>\n",
       "      <td>2.0</td>\n",
       "      <td>337.0</td>\n",
       "      <td>2060.0</td>\n",
       "      <td>1667.0</td>\n",
       "    </tr>\n",
       "    <tr>\n",
       "      <th>WEST WIRRAL GROUP PRACTICE</th>\n",
       "      <th>Y62</th>\n",
       "      <td>175.0</td>\n",
       "      <td>6213.0</td>\n",
       "      <td>435.0</td>\n",
       "      <td>2618.0</td>\n",
       "      <td>33808.0</td>\n",
       "      <td>6196.0</td>\n",
       "      <td>1868.0</td>\n",
       "      <td>2.0</td>\n",
       "      <td>2.0</td>\n",
       "      <td>2.0</td>\n",
       "      <td>6220.0</td>\n",
       "      <td>71021.0</td>\n",
       "      <td>14077.0</td>\n",
       "    </tr>\n",
       "    <tr>\n",
       "      <th>WHETSTONE LANE MED CTR</th>\n",
       "      <th>Y62</th>\n",
       "      <td>65.0</td>\n",
       "      <td>0.0</td>\n",
       "      <td>0.0</td>\n",
       "      <td>1198.0</td>\n",
       "      <td>11058.0</td>\n",
       "      <td>2852.0</td>\n",
       "      <td>1001.0</td>\n",
       "      <td>1.0</td>\n",
       "      <td>2.0</td>\n",
       "      <td>2.0</td>\n",
       "      <td>2873.0</td>\n",
       "      <td>23117.0</td>\n",
       "      <td>8416.0</td>\n",
       "    </tr>\n",
       "  </tbody>\n",
       "</table>\n",
       "<p>32480 rows × 13 columns</p>\n",
       "</div>"
      ],
      "text/plain": [
       "field                                                                                New_Pat_Enbld  \\\n",
       "report_period_end ccg_name         practice_name                        region_code                  \n",
       "2021-04-30        NHS BARNSLEY CCG APOLLO COURT MEDICAL CENTRE          Y63                  130.0   \n",
       "                                   ASHVILLE MEDICAL CENTRE PMS PRACTICE Y63                   49.0   \n",
       "                                   BHF HIGHGATE SURGERY                 Y63                    6.0   \n",
       "                                   BHF LUNDWOOD SURGERY                 Y63                   11.0   \n",
       "                                   BRIERLEY MEDICAL CENTRE              Y63                    5.0   \n",
       "...                                                                                            ...   \n",
       "2021-08-31        NHS WIRRAL CCG   VILLA MED CTR                        Y62                   67.0   \n",
       "                                   VITTORIA MED CTR G                   Y62                   37.0   \n",
       "                                   VITTORIA MED CTR K                   Y62                   18.0   \n",
       "                                   WEST WIRRAL GROUP PRACTICE           Y62                  175.0   \n",
       "                                   WHETSTONE LANE MED CTR               Y62                   65.0   \n",
       "\n",
       "field                                                                                Pat_Appts_Enbld  \\\n",
       "report_period_end ccg_name         practice_name                        region_code                    \n",
       "2021-04-30        NHS BARNSLEY CCG APOLLO COURT MEDICAL CENTRE          Y63                   1897.0   \n",
       "                                   ASHVILLE MEDICAL CENTRE PMS PRACTICE Y63                   2341.0   \n",
       "                                   BHF HIGHGATE SURGERY                 Y63                   1542.0   \n",
       "                                   BHF LUNDWOOD SURGERY                 Y63                   1421.0   \n",
       "                                   BRIERLEY MEDICAL CENTRE              Y63                    868.0   \n",
       "...                                                                                              ...   \n",
       "2021-08-31        NHS WIRRAL CCG   VILLA MED CTR                        Y62                   3381.0   \n",
       "                                   VITTORIA MED CTR G                   Y62                      0.0   \n",
       "                                   VITTORIA MED CTR K                   Y62                    334.0   \n",
       "                                   WEST WIRRAL GROUP PRACTICE           Y62                   6213.0   \n",
       "                                   WHETSTONE LANE MED CTR               Y62                      0.0   \n",
       "\n",
       "field                                                                                Pat_Appts_Use  \\\n",
       "report_period_end ccg_name         practice_name                        region_code                  \n",
       "2021-04-30        NHS BARNSLEY CCG APOLLO COURT MEDICAL CENTRE          Y63                    0.0   \n",
       "                                   ASHVILLE MEDICAL CENTRE PMS PRACTICE Y63                    7.0   \n",
       "                                   BHF HIGHGATE SURGERY                 Y63                    1.0   \n",
       "                                   BHF LUNDWOOD SURGERY                 Y63                    0.0   \n",
       "                                   BRIERLEY MEDICAL CENTRE              Y63                    4.0   \n",
       "...                                                                                            ...   \n",
       "2021-08-31        NHS WIRRAL CCG   VILLA MED CTR                        Y62                    4.0   \n",
       "                                   VITTORIA MED CTR G                   Y62                    0.0   \n",
       "                                   VITTORIA MED CTR K                   Y62                    0.0   \n",
       "                                   WEST WIRRAL GROUP PRACTICE           Y62                  435.0   \n",
       "                                   WHETSTONE LANE MED CTR               Y62                    0.0   \n",
       "\n",
       "field                                                                                Pat_DetCodeRec_Enbld  \\\n",
       "report_period_end ccg_name         practice_name                        region_code                         \n",
       "2021-04-30        NHS BARNSLEY CCG APOLLO COURT MEDICAL CENTRE          Y63                          49.0   \n",
       "                                   ASHVILLE MEDICAL CENTRE PMS PRACTICE Y63                         947.0   \n",
       "                                   BHF HIGHGATE SURGERY                 Y63                           6.0   \n",
       "                                   BHF LUNDWOOD SURGERY                 Y63                          11.0   \n",
       "                                   BRIERLEY MEDICAL CENTRE              Y63                          40.0   \n",
       "...                                                                                                   ...   \n",
       "2021-08-31        NHS WIRRAL CCG   VILLA MED CTR                        Y62                        1015.0   \n",
       "                                   VITTORIA MED CTR G                   Y62                         548.0   \n",
       "                                   VITTORIA MED CTR K                   Y62                          34.0   \n",
       "                                   WEST WIRRAL GROUP PRACTICE           Y62                        2618.0   \n",
       "                                   WHETSTONE LANE MED CTR               Y62                        1198.0   \n",
       "\n",
       "field                                                                                Pat_DetCodeRec_Use  \\\n",
       "report_period_end ccg_name         practice_name                        region_code                       \n",
       "2021-04-30        NHS BARNSLEY CCG APOLLO COURT MEDICAL CENTRE          Y63                      4824.0   \n",
       "                                   ASHVILLE MEDICAL CENTRE PMS PRACTICE Y63                       794.0   \n",
       "                                   BHF HIGHGATE SURGERY                 Y63                        37.0   \n",
       "                                   BHF LUNDWOOD SURGERY                 Y63                         1.0   \n",
       "                                   BRIERLEY MEDICAL CENTRE              Y63                        14.0   \n",
       "...                                                                                                 ...   \n",
       "2021-08-31        NHS WIRRAL CCG   VILLA MED CTR                        Y62                     15044.0   \n",
       "                                   VITTORIA MED CTR G                   Y62                      4276.0   \n",
       "                                   VITTORIA MED CTR K                   Y62                      1017.0   \n",
       "                                   WEST WIRRAL GROUP PRACTICE           Y62                     33808.0   \n",
       "                                   WHETSTONE LANE MED CTR               Y62                     11058.0   \n",
       "\n",
       "field                                                                                Pat_Presc_Enbld  \\\n",
       "report_period_end ccg_name         practice_name                        region_code                    \n",
       "2021-04-30        NHS BARNSLEY CCG APOLLO COURT MEDICAL CENTRE          Y63                   1854.0   \n",
       "                                   ASHVILLE MEDICAL CENTRE PMS PRACTICE Y63                   2366.0   \n",
       "                                   BHF HIGHGATE SURGERY                 Y63                   1541.0   \n",
       "                                   BHF LUNDWOOD SURGERY                 Y63                   1422.0   \n",
       "                                   BRIERLEY MEDICAL CENTRE              Y63                    870.0   \n",
       "...                                                                                              ...   \n",
       "2021-08-31        NHS WIRRAL CCG   VILLA MED CTR                        Y62                   3366.0   \n",
       "                                   VITTORIA MED CTR G                   Y62                   1577.0   \n",
       "                                   VITTORIA MED CTR K                   Y62                    207.0   \n",
       "                                   WEST WIRRAL GROUP PRACTICE           Y62                   6196.0   \n",
       "                                   WHETSTONE LANE MED CTR               Y62                   2852.0   \n",
       "\n",
       "field                                                                                Pat_Presc_Use  \\\n",
       "report_period_end ccg_name         practice_name                        region_code                  \n",
       "2021-04-30        NHS BARNSLEY CCG APOLLO COURT MEDICAL CENTRE          Y63                  631.0   \n",
       "                                   ASHVILLE MEDICAL CENTRE PMS PRACTICE Y63                  916.0   \n",
       "                                   BHF HIGHGATE SURGERY                 Y63                  556.0   \n",
       "                                   BHF LUNDWOOD SURGERY                 Y63                  562.0   \n",
       "                                   BRIERLEY MEDICAL CENTRE              Y63                  499.0   \n",
       "...                                                                                            ...   \n",
       "2021-08-31        NHS WIRRAL CCG   VILLA MED CTR                        Y62                 1112.0   \n",
       "                                   VITTORIA MED CTR G                   Y62                  383.0   \n",
       "                                   VITTORIA MED CTR K                   Y62                   25.0   \n",
       "                                   WEST WIRRAL GROUP PRACTICE           Y62                 1868.0   \n",
       "                                   WHETSTONE LANE MED CTR               Y62                 1001.0   \n",
       "\n",
       "field                                                                                Sys_Appts_Enbld  \\\n",
       "report_period_end ccg_name         practice_name                        region_code                    \n",
       "2021-04-30        NHS BARNSLEY CCG APOLLO COURT MEDICAL CENTRE          Y63                      2.0   \n",
       "                                   ASHVILLE MEDICAL CENTRE PMS PRACTICE Y63                      2.0   \n",
       "                                   BHF HIGHGATE SURGERY                 Y63                      2.0   \n",
       "                                   BHF LUNDWOOD SURGERY                 Y63                      2.0   \n",
       "                                   BRIERLEY MEDICAL CENTRE              Y63                      2.0   \n",
       "...                                                                                              ...   \n",
       "2021-08-31        NHS WIRRAL CCG   VILLA MED CTR                        Y62                      2.0   \n",
       "                                   VITTORIA MED CTR G                   Y62                      1.0   \n",
       "                                   VITTORIA MED CTR K                   Y62                      2.0   \n",
       "                                   WEST WIRRAL GROUP PRACTICE           Y62                      2.0   \n",
       "                                   WHETSTONE LANE MED CTR               Y62                      1.0   \n",
       "\n",
       "field                                                                                Sys_DetCodeRec_Enbld  \\\n",
       "report_period_end ccg_name         practice_name                        region_code                         \n",
       "2021-04-30        NHS BARNSLEY CCG APOLLO COURT MEDICAL CENTRE          Y63                           2.0   \n",
       "                                   ASHVILLE MEDICAL CENTRE PMS PRACTICE Y63                           2.0   \n",
       "                                   BHF HIGHGATE SURGERY                 Y63                           2.0   \n",
       "                                   BHF LUNDWOOD SURGERY                 Y63                           2.0   \n",
       "                                   BRIERLEY MEDICAL CENTRE              Y63                           2.0   \n",
       "...                                                                                                   ...   \n",
       "2021-08-31        NHS WIRRAL CCG   VILLA MED CTR                        Y62                           2.0   \n",
       "                                   VITTORIA MED CTR G                   Y62                           2.0   \n",
       "                                   VITTORIA MED CTR K                   Y62                           2.0   \n",
       "                                   WEST WIRRAL GROUP PRACTICE           Y62                           2.0   \n",
       "                                   WHETSTONE LANE MED CTR               Y62                           2.0   \n",
       "\n",
       "field                                                                                Sys_Presc_Enbld  \\\n",
       "report_period_end ccg_name         practice_name                        region_code                    \n",
       "2021-04-30        NHS BARNSLEY CCG APOLLO COURT MEDICAL CENTRE          Y63                      2.0   \n",
       "                                   ASHVILLE MEDICAL CENTRE PMS PRACTICE Y63                      2.0   \n",
       "                                   BHF HIGHGATE SURGERY                 Y63                      2.0   \n",
       "                                   BHF LUNDWOOD SURGERY                 Y63                      2.0   \n",
       "                                   BRIERLEY MEDICAL CENTRE              Y63                      2.0   \n",
       "...                                                                                              ...   \n",
       "2021-08-31        NHS WIRRAL CCG   VILLA MED CTR                        Y62                      2.0   \n",
       "                                   VITTORIA MED CTR G                   Y62                      2.0   \n",
       "                                   VITTORIA MED CTR K                   Y62                      2.0   \n",
       "                                   WEST WIRRAL GROUP PRACTICE           Y62                      2.0   \n",
       "                                   WHETSTONE LANE MED CTR               Y62                      2.0   \n",
       "\n",
       "field                                                                                Total_Pat_Enbld  \\\n",
       "report_period_end ccg_name         practice_name                        region_code                    \n",
       "2021-04-30        NHS BARNSLEY CCG APOLLO COURT MEDICAL CENTRE          Y63                   1913.0   \n",
       "                                   ASHVILLE MEDICAL CENTRE PMS PRACTICE Y63                   2370.0   \n",
       "                                   BHF HIGHGATE SURGERY                 Y63                   1543.0   \n",
       "                                   BHF LUNDWOOD SURGERY                 Y63                   1423.0   \n",
       "                                   BRIERLEY MEDICAL CENTRE              Y63                    870.0   \n",
       "...                                                                                              ...   \n",
       "2021-08-31        NHS WIRRAL CCG   VILLA MED CTR                        Y62                   3402.0   \n",
       "                                   VITTORIA MED CTR G                   Y62                   1579.0   \n",
       "                                   VITTORIA MED CTR K                   Y62                    337.0   \n",
       "                                   WEST WIRRAL GROUP PRACTICE           Y62                   6220.0   \n",
       "                                   WHETSTONE LANE MED CTR               Y62                   2873.0   \n",
       "\n",
       "field                                                                                Total_Use  \\\n",
       "report_period_end ccg_name         practice_name                        region_code              \n",
       "2021-04-30        NHS BARNSLEY CCG APOLLO COURT MEDICAL CENTRE          Y63            10282.0   \n",
       "                                   ASHVILLE MEDICAL CENTRE PMS PRACTICE Y63             2475.0   \n",
       "                                   BHF HIGHGATE SURGERY                 Y63              766.0   \n",
       "                                   BHF LUNDWOOD SURGERY                 Y63              707.0   \n",
       "                                   BRIERLEY MEDICAL CENTRE              Y63              598.0   \n",
       "...                                                                                        ...   \n",
       "2021-08-31        NHS WIRRAL CCG   VILLA MED CTR                        Y62            31739.0   \n",
       "                                   VITTORIA MED CTR G                   Y62             8940.0   \n",
       "                                   VITTORIA MED CTR K                   Y62             2060.0   \n",
       "                                   WEST WIRRAL GROUP PRACTICE           Y62            71021.0   \n",
       "                                   WHETSTONE LANE MED CTR               Y62            23117.0   \n",
       "\n",
       "field                                                                                patient_list_size  \n",
       "report_period_end ccg_name         practice_name                        region_code                     \n",
       "2021-04-30        NHS BARNSLEY CCG APOLLO COURT MEDICAL CENTRE          Y63                     5004.0  \n",
       "                                   ASHVILLE MEDICAL CENTRE PMS PRACTICE Y63                    12347.0  \n",
       "                                   BHF HIGHGATE SURGERY                 Y63                     3291.0  \n",
       "                                   BHF LUNDWOOD SURGERY                 Y63                     3452.0  \n",
       "                                   BRIERLEY MEDICAL CENTRE              Y63                     3105.0  \n",
       "...                                                                                                ...  \n",
       "2021-08-31        NHS WIRRAL CCG   VILLA MED CTR                        Y62                     6104.0  \n",
       "                                   VITTORIA MED CTR G                   Y62                     4747.0  \n",
       "                                   VITTORIA MED CTR K                   Y62                     1667.0  \n",
       "                                   WEST WIRRAL GROUP PRACTICE           Y62                    14077.0  \n",
       "                                   WHETSTONE LANE MED CTR               Y62                     8416.0  \n",
       "\n",
       "[32480 rows x 13 columns]"
      ]
     },
     "execution_count": 62,
     "metadata": {},
     "output_type": "execute_result"
    }
   ],
   "source": [
    "POMI_pivot =  pd.pivot_table(POMI, index = ['report_period_end', 'ccg_name', 'practice_name', 'region_code', ], columns = 'field', values = 'value')\n",
    "POMI_pivot"
   ]
  },
  {
   "cell_type": "code",
   "execution_count": 63,
   "id": "71de985f-27fd-4481-8ee8-1a99cd36c8a7",
   "metadata": {},
   "outputs": [
    {
     "data": {
      "text/html": [
       "<div>\n",
       "<style scoped>\n",
       "    .dataframe tbody tr th:only-of-type {\n",
       "        vertical-align: middle;\n",
       "    }\n",
       "\n",
       "    .dataframe tbody tr th {\n",
       "        vertical-align: top;\n",
       "    }\n",
       "\n",
       "    .dataframe thead th {\n",
       "        text-align: right;\n",
       "    }\n",
       "</style>\n",
       "<table border=\"1\" class=\"dataframe\">\n",
       "  <thead>\n",
       "    <tr style=\"text-align: right;\">\n",
       "      <th>field</th>\n",
       "      <th>report_period_end</th>\n",
       "      <th>ccg_name</th>\n",
       "      <th>practice_name</th>\n",
       "      <th>region_code</th>\n",
       "      <th>Pat_Appts_Use</th>\n",
       "      <th>Pat_Presc_Use</th>\n",
       "      <th>Total_Use</th>\n",
       "      <th>patient_list_size</th>\n",
       "    </tr>\n",
       "  </thead>\n",
       "  <tbody>\n",
       "    <tr>\n",
       "      <th>0</th>\n",
       "      <td>2021-04-30</td>\n",
       "      <td>NHS BARNSLEY CCG</td>\n",
       "      <td>APOLLO COURT MEDICAL CENTRE</td>\n",
       "      <td>Y63</td>\n",
       "      <td>0.0</td>\n",
       "      <td>631.0</td>\n",
       "      <td>10282.0</td>\n",
       "      <td>5004.0</td>\n",
       "    </tr>\n",
       "    <tr>\n",
       "      <th>1</th>\n",
       "      <td>2021-04-30</td>\n",
       "      <td>NHS BARNSLEY CCG</td>\n",
       "      <td>ASHVILLE MEDICAL CENTRE PMS PRACTICE</td>\n",
       "      <td>Y63</td>\n",
       "      <td>7.0</td>\n",
       "      <td>916.0</td>\n",
       "      <td>2475.0</td>\n",
       "      <td>12347.0</td>\n",
       "    </tr>\n",
       "    <tr>\n",
       "      <th>2</th>\n",
       "      <td>2021-04-30</td>\n",
       "      <td>NHS BARNSLEY CCG</td>\n",
       "      <td>BHF HIGHGATE SURGERY</td>\n",
       "      <td>Y63</td>\n",
       "      <td>1.0</td>\n",
       "      <td>556.0</td>\n",
       "      <td>766.0</td>\n",
       "      <td>3291.0</td>\n",
       "    </tr>\n",
       "    <tr>\n",
       "      <th>3</th>\n",
       "      <td>2021-04-30</td>\n",
       "      <td>NHS BARNSLEY CCG</td>\n",
       "      <td>BHF LUNDWOOD SURGERY</td>\n",
       "      <td>Y63</td>\n",
       "      <td>0.0</td>\n",
       "      <td>562.0</td>\n",
       "      <td>707.0</td>\n",
       "      <td>3452.0</td>\n",
       "    </tr>\n",
       "    <tr>\n",
       "      <th>4</th>\n",
       "      <td>2021-04-30</td>\n",
       "      <td>NHS BARNSLEY CCG</td>\n",
       "      <td>BRIERLEY MEDICAL CENTRE</td>\n",
       "      <td>Y63</td>\n",
       "      <td>4.0</td>\n",
       "      <td>499.0</td>\n",
       "      <td>598.0</td>\n",
       "      <td>3105.0</td>\n",
       "    </tr>\n",
       "    <tr>\n",
       "      <th>...</th>\n",
       "      <td>...</td>\n",
       "      <td>...</td>\n",
       "      <td>...</td>\n",
       "      <td>...</td>\n",
       "      <td>...</td>\n",
       "      <td>...</td>\n",
       "      <td>...</td>\n",
       "      <td>...</td>\n",
       "    </tr>\n",
       "    <tr>\n",
       "      <th>32475</th>\n",
       "      <td>2021-08-31</td>\n",
       "      <td>NHS WIRRAL CCG</td>\n",
       "      <td>VILLA MED CTR</td>\n",
       "      <td>Y62</td>\n",
       "      <td>4.0</td>\n",
       "      <td>1112.0</td>\n",
       "      <td>31739.0</td>\n",
       "      <td>6104.0</td>\n",
       "    </tr>\n",
       "    <tr>\n",
       "      <th>32476</th>\n",
       "      <td>2021-08-31</td>\n",
       "      <td>NHS WIRRAL CCG</td>\n",
       "      <td>VITTORIA MED CTR G</td>\n",
       "      <td>Y62</td>\n",
       "      <td>0.0</td>\n",
       "      <td>383.0</td>\n",
       "      <td>8940.0</td>\n",
       "      <td>4747.0</td>\n",
       "    </tr>\n",
       "    <tr>\n",
       "      <th>32477</th>\n",
       "      <td>2021-08-31</td>\n",
       "      <td>NHS WIRRAL CCG</td>\n",
       "      <td>VITTORIA MED CTR K</td>\n",
       "      <td>Y62</td>\n",
       "      <td>0.0</td>\n",
       "      <td>25.0</td>\n",
       "      <td>2060.0</td>\n",
       "      <td>1667.0</td>\n",
       "    </tr>\n",
       "    <tr>\n",
       "      <th>32478</th>\n",
       "      <td>2021-08-31</td>\n",
       "      <td>NHS WIRRAL CCG</td>\n",
       "      <td>WEST WIRRAL GROUP PRACTICE</td>\n",
       "      <td>Y62</td>\n",
       "      <td>435.0</td>\n",
       "      <td>1868.0</td>\n",
       "      <td>71021.0</td>\n",
       "      <td>14077.0</td>\n",
       "    </tr>\n",
       "    <tr>\n",
       "      <th>32479</th>\n",
       "      <td>2021-08-31</td>\n",
       "      <td>NHS WIRRAL CCG</td>\n",
       "      <td>WHETSTONE LANE MED CTR</td>\n",
       "      <td>Y62</td>\n",
       "      <td>0.0</td>\n",
       "      <td>1001.0</td>\n",
       "      <td>23117.0</td>\n",
       "      <td>8416.0</td>\n",
       "    </tr>\n",
       "  </tbody>\n",
       "</table>\n",
       "<p>32480 rows × 8 columns</p>\n",
       "</div>"
      ],
      "text/plain": [
       "field report_period_end          ccg_name  \\\n",
       "0            2021-04-30  NHS BARNSLEY CCG   \n",
       "1            2021-04-30  NHS BARNSLEY CCG   \n",
       "2            2021-04-30  NHS BARNSLEY CCG   \n",
       "3            2021-04-30  NHS BARNSLEY CCG   \n",
       "4            2021-04-30  NHS BARNSLEY CCG   \n",
       "...                 ...               ...   \n",
       "32475        2021-08-31    NHS WIRRAL CCG   \n",
       "32476        2021-08-31    NHS WIRRAL CCG   \n",
       "32477        2021-08-31    NHS WIRRAL CCG   \n",
       "32478        2021-08-31    NHS WIRRAL CCG   \n",
       "32479        2021-08-31    NHS WIRRAL CCG   \n",
       "\n",
       "field                         practice_name region_code  Pat_Appts_Use  \\\n",
       "0               APOLLO COURT MEDICAL CENTRE         Y63            0.0   \n",
       "1      ASHVILLE MEDICAL CENTRE PMS PRACTICE         Y63            7.0   \n",
       "2                      BHF HIGHGATE SURGERY         Y63            1.0   \n",
       "3                      BHF LUNDWOOD SURGERY         Y63            0.0   \n",
       "4                   BRIERLEY MEDICAL CENTRE         Y63            4.0   \n",
       "...                                     ...         ...            ...   \n",
       "32475                         VILLA MED CTR         Y62            4.0   \n",
       "32476                    VITTORIA MED CTR G         Y62            0.0   \n",
       "32477                    VITTORIA MED CTR K         Y62            0.0   \n",
       "32478            WEST WIRRAL GROUP PRACTICE         Y62          435.0   \n",
       "32479                WHETSTONE LANE MED CTR         Y62            0.0   \n",
       "\n",
       "field  Pat_Presc_Use  Total_Use  patient_list_size  \n",
       "0              631.0    10282.0             5004.0  \n",
       "1              916.0     2475.0            12347.0  \n",
       "2              556.0      766.0             3291.0  \n",
       "3              562.0      707.0             3452.0  \n",
       "4              499.0      598.0             3105.0  \n",
       "...              ...        ...                ...  \n",
       "32475         1112.0    31739.0             6104.0  \n",
       "32476          383.0     8940.0             4747.0  \n",
       "32477           25.0     2060.0             1667.0  \n",
       "32478         1868.0    71021.0            14077.0  \n",
       "32479         1001.0    23117.0             8416.0  \n",
       "\n",
       "[32480 rows x 8 columns]"
      ]
     },
     "execution_count": 63,
     "metadata": {},
     "output_type": "execute_result"
    }
   ],
   "source": [
    "POMI_filter = POMI_pivot.drop(['New_Pat_Enbld','Pat_Appts_Enbld', 'Pat_DetCodeRec_Enbld','Pat_DetCodeRec_Use','Pat_Presc_Enbld','Sys_Appts_Enbld','Sys_DetCodeRec_Enbld','Sys_Presc_Enbld','Total_Pat_Enbld'], axis=1)\n",
    "POMI_filter = POMI_filter.reset_index()\n",
    "POMI_filter"
   ]
  },
  {
   "cell_type": "code",
   "execution_count": 64,
   "id": "58e6defc-1e42-4cf7-b7ec-8e4277733f2e",
   "metadata": {},
   "outputs": [
    {
     "data": {
      "text/html": [
       "<div>\n",
       "<style scoped>\n",
       "    .dataframe tbody tr th:only-of-type {\n",
       "        vertical-align: middle;\n",
       "    }\n",
       "\n",
       "    .dataframe tbody tr th {\n",
       "        vertical-align: top;\n",
       "    }\n",
       "\n",
       "    .dataframe thead th {\n",
       "        text-align: right;\n",
       "    }\n",
       "</style>\n",
       "<table border=\"1\" class=\"dataframe\">\n",
       "  <thead>\n",
       "    <tr style=\"text-align: right;\">\n",
       "      <th>field</th>\n",
       "      <th>patient_list_size</th>\n",
       "    </tr>\n",
       "    <tr>\n",
       "      <th>report_period_end</th>\n",
       "      <th></th>\n",
       "    </tr>\n",
       "  </thead>\n",
       "  <tbody>\n",
       "    <tr>\n",
       "      <th>2021-04-30</th>\n",
       "      <td>60291477.5</td>\n",
       "    </tr>\n",
       "    <tr>\n",
       "      <th>2021-05-31</th>\n",
       "      <td>60388741.0</td>\n",
       "    </tr>\n",
       "    <tr>\n",
       "      <th>2021-06-30</th>\n",
       "      <td>60413296.0</td>\n",
       "    </tr>\n",
       "    <tr>\n",
       "      <th>2021-07-31</th>\n",
       "      <td>60421937.5</td>\n",
       "    </tr>\n",
       "    <tr>\n",
       "      <th>2021-08-31</th>\n",
       "      <td>60635688.5</td>\n",
       "    </tr>\n",
       "  </tbody>\n",
       "</table>\n",
       "</div>"
      ],
      "text/plain": [
       "field              patient_list_size\n",
       "report_period_end                   \n",
       "2021-04-30                60291477.5\n",
       "2021-05-31                60388741.0\n",
       "2021-06-30                60413296.0\n",
       "2021-07-31                60421937.5\n",
       "2021-08-31                60635688.5"
      ]
     },
     "execution_count": 64,
     "metadata": {},
     "output_type": "execute_result"
    }
   ],
   "source": [
    "patient_list_size_check = POMI_filter[['report_period_end','patient_list_size']].groupby('report_period_end').sum()\n",
    "patient_list_size_check "
   ]
  },
  {
   "cell_type": "code",
   "execution_count": 65,
   "id": "b495790a-9017-4fff-bc85-ad9b52fc0d56",
   "metadata": {},
   "outputs": [
    {
     "data": {
      "text/plain": [
       "field\n",
       "report_period_end     object\n",
       "ccg_name              object\n",
       "practice_name         object\n",
       "region_code           object\n",
       "Pat_Appts_Use        float64\n",
       "Pat_Presc_Use        float64\n",
       "Total_Use            float64\n",
       "patient_list_size    float64\n",
       "dtype: object"
      ]
     },
     "execution_count": 65,
     "metadata": {},
     "output_type": "execute_result"
    }
   ],
   "source": [
    "POMI_filter.report_period_end = POMI_filter.report_period_end.astype(str)\n",
    "POMI_filter.dtypes"
   ]
  },
  {
   "cell_type": "code",
   "execution_count": 66,
   "id": "b2ee2dc9-24e4-4daa-849f-bee40ca4e7da",
   "metadata": {},
   "outputs": [
    {
     "data": {
      "text/html": [
       "<div>\n",
       "<style scoped>\n",
       "    .dataframe tbody tr th:only-of-type {\n",
       "        vertical-align: middle;\n",
       "    }\n",
       "\n",
       "    .dataframe tbody tr th {\n",
       "        vertical-align: top;\n",
       "    }\n",
       "\n",
       "    .dataframe thead th {\n",
       "        text-align: right;\n",
       "    }\n",
       "</style>\n",
       "<table border=\"1\" class=\"dataframe\">\n",
       "  <thead>\n",
       "    <tr style=\"text-align: right;\">\n",
       "      <th>field</th>\n",
       "      <th>report_period_end</th>\n",
       "      <th>ccg_name</th>\n",
       "      <th>practice_name</th>\n",
       "      <th>region_code</th>\n",
       "      <th>Pat_Appts_Use</th>\n",
       "      <th>Pat_Presc_Use</th>\n",
       "      <th>Total_Use</th>\n",
       "      <th>patient_list_size</th>\n",
       "    </tr>\n",
       "  </thead>\n",
       "  <tbody>\n",
       "    <tr>\n",
       "      <th>26005</th>\n",
       "      <td>2021-08-31</td>\n",
       "      <td>NHS BARNSLEY CCG</td>\n",
       "      <td>APOLLO COURT MEDICAL CENTRE</td>\n",
       "      <td>Y63</td>\n",
       "      <td>0.0</td>\n",
       "      <td>861.0</td>\n",
       "      <td>11904.0</td>\n",
       "      <td>5030.0</td>\n",
       "    </tr>\n",
       "    <tr>\n",
       "      <th>26006</th>\n",
       "      <td>2021-08-31</td>\n",
       "      <td>NHS BARNSLEY CCG</td>\n",
       "      <td>ASHVILLE MEDICAL CENTRE PMS PRACTICE</td>\n",
       "      <td>Y63</td>\n",
       "      <td>617.0</td>\n",
       "      <td>1421.0</td>\n",
       "      <td>5562.0</td>\n",
       "      <td>12358.0</td>\n",
       "    </tr>\n",
       "    <tr>\n",
       "      <th>26007</th>\n",
       "      <td>2021-08-31</td>\n",
       "      <td>NHS BARNSLEY CCG</td>\n",
       "      <td>BHF HIGHGATE SURGERY</td>\n",
       "      <td>Y63</td>\n",
       "      <td>4.0</td>\n",
       "      <td>599.0</td>\n",
       "      <td>614.0</td>\n",
       "      <td>3229.0</td>\n",
       "    </tr>\n",
       "    <tr>\n",
       "      <th>26008</th>\n",
       "      <td>2021-08-31</td>\n",
       "      <td>NHS BARNSLEY CCG</td>\n",
       "      <td>BHF LUNDWOOD SURGERY</td>\n",
       "      <td>Y63</td>\n",
       "      <td>2.0</td>\n",
       "      <td>595.0</td>\n",
       "      <td>597.0</td>\n",
       "      <td>3408.0</td>\n",
       "    </tr>\n",
       "    <tr>\n",
       "      <th>26009</th>\n",
       "      <td>2021-08-31</td>\n",
       "      <td>NHS BARNSLEY CCG</td>\n",
       "      <td>BRIERLEY MEDICAL CENTRE</td>\n",
       "      <td>Y63</td>\n",
       "      <td>9.0</td>\n",
       "      <td>503.0</td>\n",
       "      <td>521.0</td>\n",
       "      <td>3125.0</td>\n",
       "    </tr>\n",
       "    <tr>\n",
       "      <th>...</th>\n",
       "      <td>...</td>\n",
       "      <td>...</td>\n",
       "      <td>...</td>\n",
       "      <td>...</td>\n",
       "      <td>...</td>\n",
       "      <td>...</td>\n",
       "      <td>...</td>\n",
       "      <td>...</td>\n",
       "    </tr>\n",
       "    <tr>\n",
       "      <th>32475</th>\n",
       "      <td>2021-08-31</td>\n",
       "      <td>NHS WIRRAL CCG</td>\n",
       "      <td>VILLA MED CTR</td>\n",
       "      <td>Y62</td>\n",
       "      <td>4.0</td>\n",
       "      <td>1112.0</td>\n",
       "      <td>31739.0</td>\n",
       "      <td>6104.0</td>\n",
       "    </tr>\n",
       "    <tr>\n",
       "      <th>32476</th>\n",
       "      <td>2021-08-31</td>\n",
       "      <td>NHS WIRRAL CCG</td>\n",
       "      <td>VITTORIA MED CTR G</td>\n",
       "      <td>Y62</td>\n",
       "      <td>0.0</td>\n",
       "      <td>383.0</td>\n",
       "      <td>8940.0</td>\n",
       "      <td>4747.0</td>\n",
       "    </tr>\n",
       "    <tr>\n",
       "      <th>32477</th>\n",
       "      <td>2021-08-31</td>\n",
       "      <td>NHS WIRRAL CCG</td>\n",
       "      <td>VITTORIA MED CTR K</td>\n",
       "      <td>Y62</td>\n",
       "      <td>0.0</td>\n",
       "      <td>25.0</td>\n",
       "      <td>2060.0</td>\n",
       "      <td>1667.0</td>\n",
       "    </tr>\n",
       "    <tr>\n",
       "      <th>32478</th>\n",
       "      <td>2021-08-31</td>\n",
       "      <td>NHS WIRRAL CCG</td>\n",
       "      <td>WEST WIRRAL GROUP PRACTICE</td>\n",
       "      <td>Y62</td>\n",
       "      <td>435.0</td>\n",
       "      <td>1868.0</td>\n",
       "      <td>71021.0</td>\n",
       "      <td>14077.0</td>\n",
       "    </tr>\n",
       "    <tr>\n",
       "      <th>32479</th>\n",
       "      <td>2021-08-31</td>\n",
       "      <td>NHS WIRRAL CCG</td>\n",
       "      <td>WHETSTONE LANE MED CTR</td>\n",
       "      <td>Y62</td>\n",
       "      <td>0.0</td>\n",
       "      <td>1001.0</td>\n",
       "      <td>23117.0</td>\n",
       "      <td>8416.0</td>\n",
       "    </tr>\n",
       "  </tbody>\n",
       "</table>\n",
       "<p>6475 rows × 8 columns</p>\n",
       "</div>"
      ],
      "text/plain": [
       "field report_period_end          ccg_name  \\\n",
       "26005        2021-08-31  NHS BARNSLEY CCG   \n",
       "26006        2021-08-31  NHS BARNSLEY CCG   \n",
       "26007        2021-08-31  NHS BARNSLEY CCG   \n",
       "26008        2021-08-31  NHS BARNSLEY CCG   \n",
       "26009        2021-08-31  NHS BARNSLEY CCG   \n",
       "...                 ...               ...   \n",
       "32475        2021-08-31    NHS WIRRAL CCG   \n",
       "32476        2021-08-31    NHS WIRRAL CCG   \n",
       "32477        2021-08-31    NHS WIRRAL CCG   \n",
       "32478        2021-08-31    NHS WIRRAL CCG   \n",
       "32479        2021-08-31    NHS WIRRAL CCG   \n",
       "\n",
       "field                         practice_name region_code  Pat_Appts_Use  \\\n",
       "26005           APOLLO COURT MEDICAL CENTRE         Y63            0.0   \n",
       "26006  ASHVILLE MEDICAL CENTRE PMS PRACTICE         Y63          617.0   \n",
       "26007                  BHF HIGHGATE SURGERY         Y63            4.0   \n",
       "26008                  BHF LUNDWOOD SURGERY         Y63            2.0   \n",
       "26009               BRIERLEY MEDICAL CENTRE         Y63            9.0   \n",
       "...                                     ...         ...            ...   \n",
       "32475                         VILLA MED CTR         Y62            4.0   \n",
       "32476                    VITTORIA MED CTR G         Y62            0.0   \n",
       "32477                    VITTORIA MED CTR K         Y62            0.0   \n",
       "32478            WEST WIRRAL GROUP PRACTICE         Y62          435.0   \n",
       "32479                WHETSTONE LANE MED CTR         Y62            0.0   \n",
       "\n",
       "field  Pat_Presc_Use  Total_Use  patient_list_size  \n",
       "26005          861.0    11904.0             5030.0  \n",
       "26006         1421.0     5562.0            12358.0  \n",
       "26007          599.0      614.0             3229.0  \n",
       "26008          595.0      597.0             3408.0  \n",
       "26009          503.0      521.0             3125.0  \n",
       "...              ...        ...                ...  \n",
       "32475         1112.0    31739.0             6104.0  \n",
       "32476          383.0     8940.0             4747.0  \n",
       "32477           25.0     2060.0             1667.0  \n",
       "32478         1868.0    71021.0            14077.0  \n",
       "32479         1001.0    23117.0             8416.0  \n",
       "\n",
       "[6475 rows x 8 columns]"
      ]
     },
     "execution_count": 66,
     "metadata": {},
     "output_type": "execute_result"
    }
   ],
   "source": [
    "POMI_august_2021 = POMI_filter[POMI_filter['report_period_end'] == '2021-08-31']\n",
    "POMI_august_2021"
   ]
  },
  {
   "cell_type": "code",
   "execution_count": 67,
   "id": "d4bb69a8-6ef9-468a-8a04-a6eec38c2a81",
   "metadata": {},
   "outputs": [
    {
     "data": {
      "text/html": [
       "<div>\n",
       "<style scoped>\n",
       "    .dataframe tbody tr th:only-of-type {\n",
       "        vertical-align: middle;\n",
       "    }\n",
       "\n",
       "    .dataframe tbody tr th {\n",
       "        vertical-align: top;\n",
       "    }\n",
       "\n",
       "    .dataframe thead th {\n",
       "        text-align: right;\n",
       "    }\n",
       "</style>\n",
       "<table border=\"1\" class=\"dataframe\">\n",
       "  <thead>\n",
       "    <tr style=\"text-align: right;\">\n",
       "      <th>field</th>\n",
       "      <th>ccg_name</th>\n",
       "      <th>Pat_Appts_Use</th>\n",
       "      <th>Pat_Presc_Use</th>\n",
       "      <th>patient_list_size</th>\n",
       "    </tr>\n",
       "  </thead>\n",
       "  <tbody>\n",
       "    <tr>\n",
       "      <th>0</th>\n",
       "      <td>NHS BARNSLEY CCG</td>\n",
       "      <td>2316.0</td>\n",
       "      <td>40265.0</td>\n",
       "      <td>264891.0</td>\n",
       "    </tr>\n",
       "    <tr>\n",
       "      <th>1</th>\n",
       "      <td>NHS BASILDON AND BRENTWOOD CCG</td>\n",
       "      <td>4230.0</td>\n",
       "      <td>27135.0</td>\n",
       "      <td>276465.0</td>\n",
       "    </tr>\n",
       "    <tr>\n",
       "      <th>2</th>\n",
       "      <td>NHS BASSETLAW CCG</td>\n",
       "      <td>1003.0</td>\n",
       "      <td>20840.0</td>\n",
       "      <td>121080.0</td>\n",
       "    </tr>\n",
       "    <tr>\n",
       "      <th>3</th>\n",
       "      <td>NHS BATH AND NORTH EAST SOMERSET, SWINDON AND ...</td>\n",
       "      <td>22936.0</td>\n",
       "      <td>112303.0</td>\n",
       "      <td>965079.0</td>\n",
       "    </tr>\n",
       "    <tr>\n",
       "      <th>4</th>\n",
       "      <td>NHS BEDFORDSHIRE, LUTON AND MILTON KEYNES CCG</td>\n",
       "      <td>16569.0</td>\n",
       "      <td>150942.0</td>\n",
       "      <td>1056306.0</td>\n",
       "    </tr>\n",
       "    <tr>\n",
       "      <th>...</th>\n",
       "      <td>...</td>\n",
       "      <td>...</td>\n",
       "      <td>...</td>\n",
       "      <td>...</td>\n",
       "    </tr>\n",
       "    <tr>\n",
       "      <th>101</th>\n",
       "      <td>NHS WEST LEICESTERSHIRE CCG</td>\n",
       "      <td>12732.0</td>\n",
       "      <td>58148.0</td>\n",
       "      <td>404415.0</td>\n",
       "    </tr>\n",
       "    <tr>\n",
       "      <th>102</th>\n",
       "      <td>NHS WEST SUFFOLK CCG</td>\n",
       "      <td>4277.0</td>\n",
       "      <td>17625.0</td>\n",
       "      <td>260857.0</td>\n",
       "    </tr>\n",
       "    <tr>\n",
       "      <th>103</th>\n",
       "      <td>NHS WEST SUSSEX CCG</td>\n",
       "      <td>10261.0</td>\n",
       "      <td>100643.0</td>\n",
       "      <td>899055.0</td>\n",
       "    </tr>\n",
       "    <tr>\n",
       "      <th>104</th>\n",
       "      <td>NHS WIGAN BOROUGH CCG</td>\n",
       "      <td>1124.0</td>\n",
       "      <td>37771.0</td>\n",
       "      <td>336205.0</td>\n",
       "    </tr>\n",
       "    <tr>\n",
       "      <th>105</th>\n",
       "      <td>NHS WIRRAL CCG</td>\n",
       "      <td>1476.0</td>\n",
       "      <td>42320.0</td>\n",
       "      <td>339203.0</td>\n",
       "    </tr>\n",
       "  </tbody>\n",
       "</table>\n",
       "<p>106 rows × 4 columns</p>\n",
       "</div>"
      ],
      "text/plain": [
       "field                                           ccg_name  Pat_Appts_Use  \\\n",
       "0                                       NHS BARNSLEY CCG         2316.0   \n",
       "1                         NHS BASILDON AND BRENTWOOD CCG         4230.0   \n",
       "2                                      NHS BASSETLAW CCG         1003.0   \n",
       "3      NHS BATH AND NORTH EAST SOMERSET, SWINDON AND ...        22936.0   \n",
       "4          NHS BEDFORDSHIRE, LUTON AND MILTON KEYNES CCG        16569.0   \n",
       "..                                                   ...            ...   \n",
       "101                          NHS WEST LEICESTERSHIRE CCG        12732.0   \n",
       "102                                 NHS WEST SUFFOLK CCG         4277.0   \n",
       "103                                  NHS WEST SUSSEX CCG        10261.0   \n",
       "104                                NHS WIGAN BOROUGH CCG         1124.0   \n",
       "105                                       NHS WIRRAL CCG         1476.0   \n",
       "\n",
       "field  Pat_Presc_Use  patient_list_size  \n",
       "0            40265.0           264891.0  \n",
       "1            27135.0           276465.0  \n",
       "2            20840.0           121080.0  \n",
       "3           112303.0           965079.0  \n",
       "4           150942.0          1056306.0  \n",
       "..               ...                ...  \n",
       "101          58148.0           404415.0  \n",
       "102          17625.0           260857.0  \n",
       "103         100643.0           899055.0  \n",
       "104          37771.0           336205.0  \n",
       "105          42320.0           339203.0  \n",
       "\n",
       "[106 rows x 4 columns]"
      ]
     },
     "execution_count": 67,
     "metadata": {},
     "output_type": "execute_result"
    }
   ],
   "source": [
    "POMI_august_2021_cgg = POMI_august_2021[['ccg_name', 'region_code', 'Pat_Appts_Use', 'Pat_Presc_Use', 'patient_list_size']].groupby('ccg_name').sum()\n",
    "POMI_august_2021_cgg.reset_index()"
   ]
  },
  {
   "cell_type": "code",
   "execution_count": 68,
   "id": "c75cbb52-75a7-49d6-b15b-f7c7f09b5a65",
   "metadata": {},
   "outputs": [
    {
     "data": {
      "text/html": [
       "<div>\n",
       "<style scoped>\n",
       "    .dataframe tbody tr th:only-of-type {\n",
       "        vertical-align: middle;\n",
       "    }\n",
       "\n",
       "    .dataframe tbody tr th {\n",
       "        vertical-align: top;\n",
       "    }\n",
       "\n",
       "    .dataframe thead th {\n",
       "        text-align: right;\n",
       "    }\n",
       "</style>\n",
       "<table border=\"1\" class=\"dataframe\">\n",
       "  <thead>\n",
       "    <tr style=\"text-align: right;\">\n",
       "      <th>field</th>\n",
       "      <th>patient_list_size</th>\n",
       "    </tr>\n",
       "    <tr>\n",
       "      <th>ccg_name</th>\n",
       "      <th></th>\n",
       "    </tr>\n",
       "  </thead>\n",
       "  <tbody>\n",
       "    <tr>\n",
       "      <th>NHS BARNSLEY CCG</th>\n",
       "      <td>264891.0</td>\n",
       "    </tr>\n",
       "    <tr>\n",
       "      <th>NHS BASILDON AND BRENTWOOD CCG</th>\n",
       "      <td>276465.0</td>\n",
       "    </tr>\n",
       "    <tr>\n",
       "      <th>NHS BASSETLAW CCG</th>\n",
       "      <td>121080.0</td>\n",
       "    </tr>\n",
       "    <tr>\n",
       "      <th>NHS BATH AND NORTH EAST SOMERSET, SWINDON AND WILTSHIRE CCG</th>\n",
       "      <td>965079.0</td>\n",
       "    </tr>\n",
       "    <tr>\n",
       "      <th>NHS BEDFORDSHIRE, LUTON AND MILTON KEYNES CCG</th>\n",
       "      <td>1056306.0</td>\n",
       "    </tr>\n",
       "    <tr>\n",
       "      <th>...</th>\n",
       "      <td>...</td>\n",
       "    </tr>\n",
       "    <tr>\n",
       "      <th>NHS WEST LEICESTERSHIRE CCG</th>\n",
       "      <td>404415.0</td>\n",
       "    </tr>\n",
       "    <tr>\n",
       "      <th>NHS WEST SUFFOLK CCG</th>\n",
       "      <td>260857.0</td>\n",
       "    </tr>\n",
       "    <tr>\n",
       "      <th>NHS WEST SUSSEX CCG</th>\n",
       "      <td>899055.0</td>\n",
       "    </tr>\n",
       "    <tr>\n",
       "      <th>NHS WIGAN BOROUGH CCG</th>\n",
       "      <td>336205.0</td>\n",
       "    </tr>\n",
       "    <tr>\n",
       "      <th>NHS WIRRAL CCG</th>\n",
       "      <td>339203.0</td>\n",
       "    </tr>\n",
       "  </tbody>\n",
       "</table>\n",
       "<p>106 rows × 1 columns</p>\n",
       "</div>"
      ],
      "text/plain": [
       "field                                               patient_list_size\n",
       "ccg_name                                                             \n",
       "NHS BARNSLEY CCG                                             264891.0\n",
       "NHS BASILDON AND BRENTWOOD CCG                               276465.0\n",
       "NHS BASSETLAW CCG                                            121080.0\n",
       "NHS BATH AND NORTH EAST SOMERSET, SWINDON AND W...           965079.0\n",
       "NHS BEDFORDSHIRE, LUTON AND MILTON KEYNES CCG               1056306.0\n",
       "...                                                               ...\n",
       "NHS WEST LEICESTERSHIRE CCG                                  404415.0\n",
       "NHS WEST SUFFOLK CCG                                         260857.0\n",
       "NHS WEST SUSSEX CCG                                          899055.0\n",
       "NHS WIGAN BOROUGH CCG                                        336205.0\n",
       "NHS WIRRAL CCG                                               339203.0\n",
       "\n",
       "[106 rows x 1 columns]"
      ]
     },
     "execution_count": 68,
     "metadata": {},
     "output_type": "execute_result"
    }
   ],
   "source": [
    "patient_list_size_check_ccg = POMI_august_2021[['ccg_name','patient_list_size']].groupby('ccg_name').sum()\n",
    "patient_list_size_check_ccg"
   ]
  },
  {
   "cell_type": "code",
   "execution_count": 79,
   "id": "33bcaeb4-c537-4003-96cd-041df478ae5c",
   "metadata": {},
   "outputs": [
    {
     "data": {
      "text/html": [
       "<div>\n",
       "<style scoped>\n",
       "    .dataframe tbody tr th:only-of-type {\n",
       "        vertical-align: middle;\n",
       "    }\n",
       "\n",
       "    .dataframe tbody tr th {\n",
       "        vertical-align: top;\n",
       "    }\n",
       "\n",
       "    .dataframe thead th {\n",
       "        text-align: right;\n",
       "    }\n",
       "</style>\n",
       "<table border=\"1\" class=\"dataframe\">\n",
       "  <thead>\n",
       "    <tr style=\"text-align: right;\">\n",
       "      <th>field</th>\n",
       "      <th>Pat_Appts_Use</th>\n",
       "      <th>Pat_Presc_Use</th>\n",
       "      <th>patient_list_size</th>\n",
       "      <th>Pat_Presc_Use_per_10000</th>\n",
       "      <th>Pat_Appts_Use_per_10000</th>\n",
       "    </tr>\n",
       "    <tr>\n",
       "      <th>ccg_name</th>\n",
       "      <th></th>\n",
       "      <th></th>\n",
       "      <th></th>\n",
       "      <th></th>\n",
       "      <th></th>\n",
       "    </tr>\n",
       "  </thead>\n",
       "  <tbody>\n",
       "    <tr>\n",
       "      <th>NHS BARNSLEY CCG</th>\n",
       "      <td>2316.0</td>\n",
       "      <td>40265.0</td>\n",
       "      <td>264891.0</td>\n",
       "      <td>1520.06</td>\n",
       "      <td>87.43</td>\n",
       "    </tr>\n",
       "    <tr>\n",
       "      <th>NHS BASILDON AND BRENTWOOD CCG</th>\n",
       "      <td>4230.0</td>\n",
       "      <td>27135.0</td>\n",
       "      <td>276465.0</td>\n",
       "      <td>981.50</td>\n",
       "      <td>153.00</td>\n",
       "    </tr>\n",
       "    <tr>\n",
       "      <th>NHS BASSETLAW CCG</th>\n",
       "      <td>1003.0</td>\n",
       "      <td>20840.0</td>\n",
       "      <td>121080.0</td>\n",
       "      <td>1721.18</td>\n",
       "      <td>82.84</td>\n",
       "    </tr>\n",
       "    <tr>\n",
       "      <th>NHS BATH AND NORTH EAST SOMERSET, SWINDON AND WILTSHIRE CCG</th>\n",
       "      <td>22936.0</td>\n",
       "      <td>112303.0</td>\n",
       "      <td>965079.0</td>\n",
       "      <td>1163.67</td>\n",
       "      <td>237.66</td>\n",
       "    </tr>\n",
       "    <tr>\n",
       "      <th>NHS BEDFORDSHIRE, LUTON AND MILTON KEYNES CCG</th>\n",
       "      <td>16569.0</td>\n",
       "      <td>150942.0</td>\n",
       "      <td>1056306.0</td>\n",
       "      <td>1428.96</td>\n",
       "      <td>156.86</td>\n",
       "    </tr>\n",
       "    <tr>\n",
       "      <th>...</th>\n",
       "      <td>...</td>\n",
       "      <td>...</td>\n",
       "      <td>...</td>\n",
       "      <td>...</td>\n",
       "      <td>...</td>\n",
       "    </tr>\n",
       "    <tr>\n",
       "      <th>NHS WEST LEICESTERSHIRE CCG</th>\n",
       "      <td>12732.0</td>\n",
       "      <td>58148.0</td>\n",
       "      <td>404415.0</td>\n",
       "      <td>1437.83</td>\n",
       "      <td>314.83</td>\n",
       "    </tr>\n",
       "    <tr>\n",
       "      <th>NHS WEST SUFFOLK CCG</th>\n",
       "      <td>4277.0</td>\n",
       "      <td>17625.0</td>\n",
       "      <td>260857.0</td>\n",
       "      <td>675.66</td>\n",
       "      <td>163.96</td>\n",
       "    </tr>\n",
       "    <tr>\n",
       "      <th>NHS WEST SUSSEX CCG</th>\n",
       "      <td>10261.0</td>\n",
       "      <td>100643.0</td>\n",
       "      <td>899055.0</td>\n",
       "      <td>1119.43</td>\n",
       "      <td>114.13</td>\n",
       "    </tr>\n",
       "    <tr>\n",
       "      <th>NHS WIGAN BOROUGH CCG</th>\n",
       "      <td>1124.0</td>\n",
       "      <td>37771.0</td>\n",
       "      <td>336205.0</td>\n",
       "      <td>1123.45</td>\n",
       "      <td>33.43</td>\n",
       "    </tr>\n",
       "    <tr>\n",
       "      <th>NHS WIRRAL CCG</th>\n",
       "      <td>1476.0</td>\n",
       "      <td>42320.0</td>\n",
       "      <td>339203.0</td>\n",
       "      <td>1247.63</td>\n",
       "      <td>43.51</td>\n",
       "    </tr>\n",
       "  </tbody>\n",
       "</table>\n",
       "<p>106 rows × 5 columns</p>\n",
       "</div>"
      ],
      "text/plain": [
       "field                                               Pat_Appts_Use  \\\n",
       "ccg_name                                                            \n",
       "NHS BARNSLEY CCG                                           2316.0   \n",
       "NHS BASILDON AND BRENTWOOD CCG                             4230.0   \n",
       "NHS BASSETLAW CCG                                          1003.0   \n",
       "NHS BATH AND NORTH EAST SOMERSET, SWINDON AND W...        22936.0   \n",
       "NHS BEDFORDSHIRE, LUTON AND MILTON KEYNES CCG             16569.0   \n",
       "...                                                           ...   \n",
       "NHS WEST LEICESTERSHIRE CCG                               12732.0   \n",
       "NHS WEST SUFFOLK CCG                                       4277.0   \n",
       "NHS WEST SUSSEX CCG                                       10261.0   \n",
       "NHS WIGAN BOROUGH CCG                                      1124.0   \n",
       "NHS WIRRAL CCG                                             1476.0   \n",
       "\n",
       "field                                               Pat_Presc_Use  \\\n",
       "ccg_name                                                            \n",
       "NHS BARNSLEY CCG                                          40265.0   \n",
       "NHS BASILDON AND BRENTWOOD CCG                            27135.0   \n",
       "NHS BASSETLAW CCG                                         20840.0   \n",
       "NHS BATH AND NORTH EAST SOMERSET, SWINDON AND W...       112303.0   \n",
       "NHS BEDFORDSHIRE, LUTON AND MILTON KEYNES CCG            150942.0   \n",
       "...                                                           ...   \n",
       "NHS WEST LEICESTERSHIRE CCG                               58148.0   \n",
       "NHS WEST SUFFOLK CCG                                      17625.0   \n",
       "NHS WEST SUSSEX CCG                                      100643.0   \n",
       "NHS WIGAN BOROUGH CCG                                     37771.0   \n",
       "NHS WIRRAL CCG                                            42320.0   \n",
       "\n",
       "field                                               patient_list_size  \\\n",
       "ccg_name                                                                \n",
       "NHS BARNSLEY CCG                                             264891.0   \n",
       "NHS BASILDON AND BRENTWOOD CCG                               276465.0   \n",
       "NHS BASSETLAW CCG                                            121080.0   \n",
       "NHS BATH AND NORTH EAST SOMERSET, SWINDON AND W...           965079.0   \n",
       "NHS BEDFORDSHIRE, LUTON AND MILTON KEYNES CCG               1056306.0   \n",
       "...                                                               ...   \n",
       "NHS WEST LEICESTERSHIRE CCG                                  404415.0   \n",
       "NHS WEST SUFFOLK CCG                                         260857.0   \n",
       "NHS WEST SUSSEX CCG                                          899055.0   \n",
       "NHS WIGAN BOROUGH CCG                                        336205.0   \n",
       "NHS WIRRAL CCG                                               339203.0   \n",
       "\n",
       "field                                               Pat_Presc_Use_per_10000  \\\n",
       "ccg_name                                                                      \n",
       "NHS BARNSLEY CCG                                                    1520.06   \n",
       "NHS BASILDON AND BRENTWOOD CCG                                       981.50   \n",
       "NHS BASSETLAW CCG                                                   1721.18   \n",
       "NHS BATH AND NORTH EAST SOMERSET, SWINDON AND W...                  1163.67   \n",
       "NHS BEDFORDSHIRE, LUTON AND MILTON KEYNES CCG                       1428.96   \n",
       "...                                                                     ...   \n",
       "NHS WEST LEICESTERSHIRE CCG                                         1437.83   \n",
       "NHS WEST SUFFOLK CCG                                                 675.66   \n",
       "NHS WEST SUSSEX CCG                                                 1119.43   \n",
       "NHS WIGAN BOROUGH CCG                                               1123.45   \n",
       "NHS WIRRAL CCG                                                      1247.63   \n",
       "\n",
       "field                                               Pat_Appts_Use_per_10000  \n",
       "ccg_name                                                                     \n",
       "NHS BARNSLEY CCG                                                      87.43  \n",
       "NHS BASILDON AND BRENTWOOD CCG                                       153.00  \n",
       "NHS BASSETLAW CCG                                                     82.84  \n",
       "NHS BATH AND NORTH EAST SOMERSET, SWINDON AND W...                   237.66  \n",
       "NHS BEDFORDSHIRE, LUTON AND MILTON KEYNES CCG                        156.86  \n",
       "...                                                                     ...  \n",
       "NHS WEST LEICESTERSHIRE CCG                                          314.83  \n",
       "NHS WEST SUFFOLK CCG                                                 163.96  \n",
       "NHS WEST SUSSEX CCG                                                  114.13  \n",
       "NHS WIGAN BOROUGH CCG                                                 33.43  \n",
       "NHS WIRRAL CCG                                                        43.51  \n",
       "\n",
       "[106 rows x 5 columns]"
      ]
     },
     "execution_count": 79,
     "metadata": {},
     "output_type": "execute_result"
    }
   ],
   "source": [
    "POMI_august_2021_cgg['Pat_Presc_Use_per_10000'] = (POMI_august_2021_cgg['Pat_Presc_Use'] / POMI_august_2021_cgg['patient_list_size']) * 10000\n",
    "POMI_august_2021_cgg['Pat_Appts_Use_per_10000'] = (POMI_august_2021_cgg['Pat_Appts_Use'] / POMI_august_2021_cgg['patient_list_size']) * 10000\n",
    "POMI_final = POMI_august_2021_cgg.round(2)\n",
    "POMI_final"
   ]
  },
  {
   "cell_type": "markdown",
   "id": "360ff421-088d-4078-b6a7-8a902da625cb",
   "metadata": {},
   "source": [
    "### Merging CCG CODES / ONS CODES"
   ]
  },
  {
   "cell_type": "code",
   "execution_count": 80,
   "id": "c003b907-4f3a-4a99-9a80-01d01228eb9a",
   "metadata": {},
   "outputs": [
    {
     "data": {
      "text/html": [
       "<div>\n",
       "<style scoped>\n",
       "    .dataframe tbody tr th:only-of-type {\n",
       "        vertical-align: middle;\n",
       "    }\n",
       "\n",
       "    .dataframe tbody tr th {\n",
       "        vertical-align: top;\n",
       "    }\n",
       "\n",
       "    .dataframe thead th {\n",
       "        text-align: right;\n",
       "    }\n",
       "</style>\n",
       "<table border=\"1\" class=\"dataframe\">\n",
       "  <thead>\n",
       "    <tr style=\"text-align: right;\">\n",
       "      <th></th>\n",
       "      <th>FID</th>\n",
       "      <th>CCG21CD</th>\n",
       "      <th>CCG21CDH</th>\n",
       "      <th>CCG21NM</th>\n",
       "    </tr>\n",
       "  </thead>\n",
       "  <tbody>\n",
       "    <tr>\n",
       "      <th>0</th>\n",
       "      <td>1</td>\n",
       "      <td>E38000006</td>\n",
       "      <td>02P</td>\n",
       "      <td>NHS Barnsley CCG</td>\n",
       "    </tr>\n",
       "    <tr>\n",
       "      <th>1</th>\n",
       "      <td>2</td>\n",
       "      <td>E38000007</td>\n",
       "      <td>99E</td>\n",
       "      <td>NHS Basildon and Brentwood CCG</td>\n",
       "    </tr>\n",
       "    <tr>\n",
       "      <th>2</th>\n",
       "      <td>3</td>\n",
       "      <td>E38000008</td>\n",
       "      <td>02Q</td>\n",
       "      <td>NHS Bassetlaw CCG</td>\n",
       "    </tr>\n",
       "    <tr>\n",
       "      <th>3</th>\n",
       "      <td>4</td>\n",
       "      <td>E38000014</td>\n",
       "      <td>00Q</td>\n",
       "      <td>NHS Blackburn with Darwen CCG</td>\n",
       "    </tr>\n",
       "    <tr>\n",
       "      <th>4</th>\n",
       "      <td>5</td>\n",
       "      <td>E38000015</td>\n",
       "      <td>00R</td>\n",
       "      <td>NHS Blackpool CCG</td>\n",
       "    </tr>\n",
       "    <tr>\n",
       "      <th>...</th>\n",
       "      <td>...</td>\n",
       "      <td>...</td>\n",
       "      <td>...</td>\n",
       "      <td>...</td>\n",
       "    </tr>\n",
       "    <tr>\n",
       "      <th>101</th>\n",
       "      <td>102</td>\n",
       "      <td>E38000253</td>\n",
       "      <td>D9Y0V</td>\n",
       "      <td>NHS Hampshire, Southampton and Isle of Wight CCG</td>\n",
       "    </tr>\n",
       "    <tr>\n",
       "      <th>102</th>\n",
       "      <td>103</td>\n",
       "      <td>E38000254</td>\n",
       "      <td>X2C4Y</td>\n",
       "      <td>NHS Kirklees CCG</td>\n",
       "    </tr>\n",
       "    <tr>\n",
       "      <th>103</th>\n",
       "      <td>104</td>\n",
       "      <td>E38000255</td>\n",
       "      <td>A3A8R</td>\n",
       "      <td>NHS North East London CCG</td>\n",
       "    </tr>\n",
       "    <tr>\n",
       "      <th>104</th>\n",
       "      <td>105</td>\n",
       "      <td>E38000256</td>\n",
       "      <td>W2U3Z</td>\n",
       "      <td>NHS North West London CCG</td>\n",
       "    </tr>\n",
       "    <tr>\n",
       "      <th>105</th>\n",
       "      <td>106</td>\n",
       "      <td>E38000257</td>\n",
       "      <td>M2L0M</td>\n",
       "      <td>NHS Shropshire, Telford and Wrekin CCG</td>\n",
       "    </tr>\n",
       "  </tbody>\n",
       "</table>\n",
       "<p>106 rows × 4 columns</p>\n",
       "</div>"
      ],
      "text/plain": [
       "     FID    CCG21CD CCG21CDH                                           CCG21NM\n",
       "0      1  E38000006      02P                                  NHS Barnsley CCG\n",
       "1      2  E38000007      99E                    NHS Basildon and Brentwood CCG\n",
       "2      3  E38000008      02Q                                 NHS Bassetlaw CCG\n",
       "3      4  E38000014      00Q                     NHS Blackburn with Darwen CCG\n",
       "4      5  E38000015      00R                                 NHS Blackpool CCG\n",
       "..   ...        ...      ...                                               ...\n",
       "101  102  E38000253    D9Y0V  NHS Hampshire, Southampton and Isle of Wight CCG\n",
       "102  103  E38000254    X2C4Y                                  NHS Kirklees CCG\n",
       "103  104  E38000255    A3A8R                         NHS North East London CCG\n",
       "104  105  E38000256    W2U3Z                         NHS North West London CCG\n",
       "105  106  E38000257    M2L0M            NHS Shropshire, Telford and Wrekin CCG\n",
       "\n",
       "[106 rows x 4 columns]"
      ]
     },
     "execution_count": 80,
     "metadata": {},
     "output_type": "execute_result"
    }
   ],
   "source": [
    "CCG_APRIL_2021_CODES_ONS = pd.read_csv('data/POMI 2017_2021/Clinical_Commissioning_Groups_(April_2021)_Names_and_Codes_in_England.csv', sep = ',')\n",
    "CCG_APRIL_2021_CODES_ONS "
   ]
  },
  {
   "cell_type": "code",
   "execution_count": 81,
   "id": "a9f7873c-fe37-4ba3-8ac6-f57b7c9794d9",
   "metadata": {},
   "outputs": [
    {
     "data": {
      "text/html": [
       "<div>\n",
       "<style scoped>\n",
       "    .dataframe tbody tr th:only-of-type {\n",
       "        vertical-align: middle;\n",
       "    }\n",
       "\n",
       "    .dataframe tbody tr th {\n",
       "        vertical-align: top;\n",
       "    }\n",
       "\n",
       "    .dataframe thead th {\n",
       "        text-align: right;\n",
       "    }\n",
       "</style>\n",
       "<table border=\"1\" class=\"dataframe\">\n",
       "  <thead>\n",
       "    <tr style=\"text-align: right;\">\n",
       "      <th></th>\n",
       "      <th>FID</th>\n",
       "      <th>CCG21CD</th>\n",
       "      <th>CCG21CDH</th>\n",
       "      <th>CCG21NM</th>\n",
       "    </tr>\n",
       "  </thead>\n",
       "  <tbody>\n",
       "    <tr>\n",
       "      <th>0</th>\n",
       "      <td>1</td>\n",
       "      <td>E38000006</td>\n",
       "      <td>02P</td>\n",
       "      <td>NHS BARNSLEY CCG</td>\n",
       "    </tr>\n",
       "    <tr>\n",
       "      <th>1</th>\n",
       "      <td>2</td>\n",
       "      <td>E38000007</td>\n",
       "      <td>99E</td>\n",
       "      <td>NHS BASILDON AND BRENTWOOD CCG</td>\n",
       "    </tr>\n",
       "    <tr>\n",
       "      <th>2</th>\n",
       "      <td>3</td>\n",
       "      <td>E38000008</td>\n",
       "      <td>02Q</td>\n",
       "      <td>NHS BASSETLAW CCG</td>\n",
       "    </tr>\n",
       "    <tr>\n",
       "      <th>3</th>\n",
       "      <td>4</td>\n",
       "      <td>E38000014</td>\n",
       "      <td>00Q</td>\n",
       "      <td>NHS BLACKBURN WITH DARWEN CCG</td>\n",
       "    </tr>\n",
       "    <tr>\n",
       "      <th>4</th>\n",
       "      <td>5</td>\n",
       "      <td>E38000015</td>\n",
       "      <td>00R</td>\n",
       "      <td>NHS BLACKPOOL CCG</td>\n",
       "    </tr>\n",
       "    <tr>\n",
       "      <th>...</th>\n",
       "      <td>...</td>\n",
       "      <td>...</td>\n",
       "      <td>...</td>\n",
       "      <td>...</td>\n",
       "    </tr>\n",
       "    <tr>\n",
       "      <th>101</th>\n",
       "      <td>102</td>\n",
       "      <td>E38000253</td>\n",
       "      <td>D9Y0V</td>\n",
       "      <td>NHS HAMPSHIRE, SOUTHAMPTON AND ISLE OF WIGHT CCG</td>\n",
       "    </tr>\n",
       "    <tr>\n",
       "      <th>102</th>\n",
       "      <td>103</td>\n",
       "      <td>E38000254</td>\n",
       "      <td>X2C4Y</td>\n",
       "      <td>NHS KIRKLEES CCG</td>\n",
       "    </tr>\n",
       "    <tr>\n",
       "      <th>103</th>\n",
       "      <td>104</td>\n",
       "      <td>E38000255</td>\n",
       "      <td>A3A8R</td>\n",
       "      <td>NHS NORTH EAST LONDON CCG</td>\n",
       "    </tr>\n",
       "    <tr>\n",
       "      <th>104</th>\n",
       "      <td>105</td>\n",
       "      <td>E38000256</td>\n",
       "      <td>W2U3Z</td>\n",
       "      <td>NHS NORTH WEST LONDON CCG</td>\n",
       "    </tr>\n",
       "    <tr>\n",
       "      <th>105</th>\n",
       "      <td>106</td>\n",
       "      <td>E38000257</td>\n",
       "      <td>M2L0M</td>\n",
       "      <td>NHS SHROPSHIRE, TELFORD AND WREKIN CCG</td>\n",
       "    </tr>\n",
       "  </tbody>\n",
       "</table>\n",
       "<p>106 rows × 4 columns</p>\n",
       "</div>"
      ],
      "text/plain": [
       "     FID    CCG21CD CCG21CDH                                           CCG21NM\n",
       "0      1  E38000006      02P                                  NHS BARNSLEY CCG\n",
       "1      2  E38000007      99E                    NHS BASILDON AND BRENTWOOD CCG\n",
       "2      3  E38000008      02Q                                 NHS BASSETLAW CCG\n",
       "3      4  E38000014      00Q                     NHS BLACKBURN WITH DARWEN CCG\n",
       "4      5  E38000015      00R                                 NHS BLACKPOOL CCG\n",
       "..   ...        ...      ...                                               ...\n",
       "101  102  E38000253    D9Y0V  NHS HAMPSHIRE, SOUTHAMPTON AND ISLE OF WIGHT CCG\n",
       "102  103  E38000254    X2C4Y                                  NHS KIRKLEES CCG\n",
       "103  104  E38000255    A3A8R                         NHS NORTH EAST LONDON CCG\n",
       "104  105  E38000256    W2U3Z                         NHS NORTH WEST LONDON CCG\n",
       "105  106  E38000257    M2L0M            NHS SHROPSHIRE, TELFORD AND WREKIN CCG\n",
       "\n",
       "[106 rows x 4 columns]"
      ]
     },
     "execution_count": 81,
     "metadata": {},
     "output_type": "execute_result"
    }
   ],
   "source": [
    "CCG_APRIL_2021_CODES_ONS['CCG21NM']= CCG_APRIL_2021_CODES_ONS['CCG21NM'].str.upper()\n",
    "CCG_APRIL_2021_CODES_ONS"
   ]
  },
  {
   "cell_type": "code",
   "execution_count": 101,
   "id": "db4dffbf-4497-4a84-a600-acfd65a74546",
   "metadata": {},
   "outputs": [
    {
     "data": {
      "text/html": [
       "<div>\n",
       "<style scoped>\n",
       "    .dataframe tbody tr th:only-of-type {\n",
       "        vertical-align: middle;\n",
       "    }\n",
       "\n",
       "    .dataframe tbody tr th {\n",
       "        vertical-align: top;\n",
       "    }\n",
       "\n",
       "    .dataframe thead th {\n",
       "        text-align: right;\n",
       "    }\n",
       "</style>\n",
       "<table border=\"1\" class=\"dataframe\">\n",
       "  <thead>\n",
       "    <tr style=\"text-align: right;\">\n",
       "      <th></th>\n",
       "      <th>FID</th>\n",
       "      <th>CCG21CD</th>\n",
       "      <th>CCG21CDH</th>\n",
       "      <th>Name</th>\n",
       "      <th>Pat_Appts_Use</th>\n",
       "      <th>Pat_Presc_Use</th>\n",
       "      <th>patient_list_size</th>\n",
       "      <th>Pat_Presc_Use_per_10000</th>\n",
       "      <th>Pat_Appts_Use_per_10000</th>\n",
       "    </tr>\n",
       "  </thead>\n",
       "  <tbody>\n",
       "    <tr>\n",
       "      <th>0</th>\n",
       "      <td>1</td>\n",
       "      <td>E38000006</td>\n",
       "      <td>02P</td>\n",
       "      <td>NHS BARNSLEY CCG</td>\n",
       "      <td>2316.0</td>\n",
       "      <td>40265.0</td>\n",
       "      <td>264891.0</td>\n",
       "      <td>1520.06</td>\n",
       "      <td>87.43</td>\n",
       "    </tr>\n",
       "    <tr>\n",
       "      <th>1</th>\n",
       "      <td>2</td>\n",
       "      <td>E38000007</td>\n",
       "      <td>99E</td>\n",
       "      <td>NHS BASILDON AND BRENTWOOD CCG</td>\n",
       "      <td>4230.0</td>\n",
       "      <td>27135.0</td>\n",
       "      <td>276465.0</td>\n",
       "      <td>981.50</td>\n",
       "      <td>153.00</td>\n",
       "    </tr>\n",
       "    <tr>\n",
       "      <th>2</th>\n",
       "      <td>3</td>\n",
       "      <td>E38000008</td>\n",
       "      <td>02Q</td>\n",
       "      <td>NHS BASSETLAW CCG</td>\n",
       "      <td>1003.0</td>\n",
       "      <td>20840.0</td>\n",
       "      <td>121080.0</td>\n",
       "      <td>1721.18</td>\n",
       "      <td>82.84</td>\n",
       "    </tr>\n",
       "    <tr>\n",
       "      <th>79</th>\n",
       "      <td>80</td>\n",
       "      <td>E38000231</td>\n",
       "      <td>92G</td>\n",
       "      <td>NHS BATH AND NORTH EAST SOMERSET, SWINDON AND ...</td>\n",
       "      <td>22936.0</td>\n",
       "      <td>112303.0</td>\n",
       "      <td>965079.0</td>\n",
       "      <td>1163.67</td>\n",
       "      <td>237.66</td>\n",
       "    </tr>\n",
       "    <tr>\n",
       "      <th>97</th>\n",
       "      <td>98</td>\n",
       "      <td>E38000249</td>\n",
       "      <td>M1J4Y</td>\n",
       "      <td>NHS BEDFORDSHIRE, LUTON AND MILTON KEYNES CCG</td>\n",
       "      <td>16569.0</td>\n",
       "      <td>150942.0</td>\n",
       "      <td>1056306.0</td>\n",
       "      <td>1428.96</td>\n",
       "      <td>156.86</td>\n",
       "    </tr>\n",
       "    <tr>\n",
       "      <th>...</th>\n",
       "      <td>...</td>\n",
       "      <td>...</td>\n",
       "      <td>...</td>\n",
       "      <td>...</td>\n",
       "      <td>...</td>\n",
       "      <td>...</td>\n",
       "      <td>...</td>\n",
       "      <td>...</td>\n",
       "      <td>...</td>\n",
       "    </tr>\n",
       "    <tr>\n",
       "      <th>62</th>\n",
       "      <td>63</td>\n",
       "      <td>E38000201</td>\n",
       "      <td>04V</td>\n",
       "      <td>NHS WEST LEICESTERSHIRE CCG</td>\n",
       "      <td>12732.0</td>\n",
       "      <td>58148.0</td>\n",
       "      <td>404415.0</td>\n",
       "      <td>1437.83</td>\n",
       "      <td>314.83</td>\n",
       "    </tr>\n",
       "    <tr>\n",
       "      <th>63</th>\n",
       "      <td>64</td>\n",
       "      <td>E38000204</td>\n",
       "      <td>07K</td>\n",
       "      <td>NHS WEST SUFFOLK CCG</td>\n",
       "      <td>4277.0</td>\n",
       "      <td>17625.0</td>\n",
       "      <td>260857.0</td>\n",
       "      <td>675.66</td>\n",
       "      <td>163.96</td>\n",
       "    </tr>\n",
       "    <tr>\n",
       "      <th>96</th>\n",
       "      <td>97</td>\n",
       "      <td>E38000248</td>\n",
       "      <td>70F</td>\n",
       "      <td>NHS WEST SUSSEX CCG</td>\n",
       "      <td>10261.0</td>\n",
       "      <td>100643.0</td>\n",
       "      <td>899055.0</td>\n",
       "      <td>1119.43</td>\n",
       "      <td>114.13</td>\n",
       "    </tr>\n",
       "    <tr>\n",
       "      <th>64</th>\n",
       "      <td>65</td>\n",
       "      <td>E38000205</td>\n",
       "      <td>02H</td>\n",
       "      <td>NHS WIGAN BOROUGH CCG</td>\n",
       "      <td>1124.0</td>\n",
       "      <td>37771.0</td>\n",
       "      <td>336205.0</td>\n",
       "      <td>1123.45</td>\n",
       "      <td>33.43</td>\n",
       "    </tr>\n",
       "    <tr>\n",
       "      <th>65</th>\n",
       "      <td>66</td>\n",
       "      <td>E38000208</td>\n",
       "      <td>12F</td>\n",
       "      <td>NHS WIRRAL CCG</td>\n",
       "      <td>1476.0</td>\n",
       "      <td>42320.0</td>\n",
       "      <td>339203.0</td>\n",
       "      <td>1247.63</td>\n",
       "      <td>43.51</td>\n",
       "    </tr>\n",
       "  </tbody>\n",
       "</table>\n",
       "<p>106 rows × 9 columns</p>\n",
       "</div>"
      ],
      "text/plain": [
       "    FID    CCG21CD CCG21CDH  \\\n",
       "0     1  E38000006      02P   \n",
       "1     2  E38000007      99E   \n",
       "2     3  E38000008      02Q   \n",
       "79   80  E38000231      92G   \n",
       "97   98  E38000249    M1J4Y   \n",
       "..  ...        ...      ...   \n",
       "62   63  E38000201      04V   \n",
       "63   64  E38000204      07K   \n",
       "96   97  E38000248      70F   \n",
       "64   65  E38000205      02H   \n",
       "65   66  E38000208      12F   \n",
       "\n",
       "                                                 Name  Pat_Appts_Use  \\\n",
       "0                                    NHS BARNSLEY CCG         2316.0   \n",
       "1                      NHS BASILDON AND BRENTWOOD CCG         4230.0   \n",
       "2                                   NHS BASSETLAW CCG         1003.0   \n",
       "79  NHS BATH AND NORTH EAST SOMERSET, SWINDON AND ...        22936.0   \n",
       "97      NHS BEDFORDSHIRE, LUTON AND MILTON KEYNES CCG        16569.0   \n",
       "..                                                ...            ...   \n",
       "62                        NHS WEST LEICESTERSHIRE CCG        12732.0   \n",
       "63                               NHS WEST SUFFOLK CCG         4277.0   \n",
       "96                                NHS WEST SUSSEX CCG        10261.0   \n",
       "64                              NHS WIGAN BOROUGH CCG         1124.0   \n",
       "65                                     NHS WIRRAL CCG         1476.0   \n",
       "\n",
       "    Pat_Presc_Use  patient_list_size  Pat_Presc_Use_per_10000  \\\n",
       "0         40265.0           264891.0                  1520.06   \n",
       "1         27135.0           276465.0                   981.50   \n",
       "2         20840.0           121080.0                  1721.18   \n",
       "79       112303.0           965079.0                  1163.67   \n",
       "97       150942.0          1056306.0                  1428.96   \n",
       "..            ...                ...                      ...   \n",
       "62        58148.0           404415.0                  1437.83   \n",
       "63        17625.0           260857.0                   675.66   \n",
       "96       100643.0           899055.0                  1119.43   \n",
       "64        37771.0           336205.0                  1123.45   \n",
       "65        42320.0           339203.0                  1247.63   \n",
       "\n",
       "    Pat_Appts_Use_per_10000  \n",
       "0                     87.43  \n",
       "1                    153.00  \n",
       "2                     82.84  \n",
       "79                   237.66  \n",
       "97                   156.86  \n",
       "..                      ...  \n",
       "62                   314.83  \n",
       "63                   163.96  \n",
       "96                   114.13  \n",
       "64                    33.43  \n",
       "65                    43.51  \n",
       "\n",
       "[106 rows x 9 columns]"
      ]
     },
     "execution_count": 101,
     "metadata": {},
     "output_type": "execute_result"
    }
   ],
   "source": [
    "CCG_codes = CCG_APRIL_2021_CODES_ONS.merge(POMI_final, left_on='CCG21NM', right_on ='ccg_name')\n",
    "data_set_data_wrapper_mapping = CCG_codes.rename(columns={'CCG21NM': 'Name'})\n",
    "CCG_code_results = data_set_data_wrapper_mapping.sort_values(by='Name', ascending=True)\n",
    "CCG_code_results"
   ]
  },
  {
   "cell_type": "code",
   "execution_count": 102,
   "id": "5d3ff77b-05c1-441c-80e2-98f8bb7954fe",
   "metadata": {},
   "outputs": [],
   "source": [
    "CCG_code_results.to_csv('POMI_CCG_Results_August_2021.csv')"
   ]
  },
  {
   "cell_type": "markdown",
   "id": "f2fbdb16-d3d2-45a0-8a7e-721bc5d08d3a",
   "metadata": {},
   "source": [
    "### Regional Bar Charts"
   ]
  },
  {
   "cell_type": "code",
   "execution_count": 118,
   "id": "a54a6e29-adf1-4df6-9df2-8da72743a966",
   "metadata": {},
   "outputs": [
    {
     "data": {
      "text/html": [
       "<div>\n",
       "<style scoped>\n",
       "    .dataframe tbody tr th:only-of-type {\n",
       "        vertical-align: middle;\n",
       "    }\n",
       "\n",
       "    .dataframe tbody tr th {\n",
       "        vertical-align: top;\n",
       "    }\n",
       "\n",
       "    .dataframe thead th {\n",
       "        text-align: right;\n",
       "    }\n",
       "</style>\n",
       "<table border=\"1\" class=\"dataframe\">\n",
       "  <thead>\n",
       "    <tr style=\"text-align: right;\">\n",
       "      <th>field</th>\n",
       "      <th>region_code</th>\n",
       "      <th>Pat_Appts_Use</th>\n",
       "      <th>Pat_Presc_Use</th>\n",
       "      <th>patient_list_size</th>\n",
       "    </tr>\n",
       "  </thead>\n",
       "  <tbody>\n",
       "    <tr>\n",
       "      <th>0</th>\n",
       "      <td>Y56</td>\n",
       "      <td>82215.5</td>\n",
       "      <td>397654.0</td>\n",
       "      <td>10418477.5</td>\n",
       "    </tr>\n",
       "    <tr>\n",
       "      <th>1</th>\n",
       "      <td>Y58</td>\n",
       "      <td>85731.0</td>\n",
       "      <td>576012.0</td>\n",
       "      <td>5919055.0</td>\n",
       "    </tr>\n",
       "    <tr>\n",
       "      <th>2</th>\n",
       "      <td>Y59</td>\n",
       "      <td>89467.0</td>\n",
       "      <td>782523.0</td>\n",
       "      <td>9449019.0</td>\n",
       "    </tr>\n",
       "    <tr>\n",
       "      <th>3</th>\n",
       "      <td>Y60</td>\n",
       "      <td>124756.0</td>\n",
       "      <td>1066293.5</td>\n",
       "      <td>11268328.0</td>\n",
       "    </tr>\n",
       "    <tr>\n",
       "      <th>4</th>\n",
       "      <td>Y61</td>\n",
       "      <td>108235.0</td>\n",
       "      <td>718133.0</td>\n",
       "      <td>6886159.0</td>\n",
       "    </tr>\n",
       "    <tr>\n",
       "      <th>5</th>\n",
       "      <td>Y62</td>\n",
       "      <td>31453.0</td>\n",
       "      <td>756858.0</td>\n",
       "      <td>7620602.0</td>\n",
       "    </tr>\n",
       "    <tr>\n",
       "      <th>6</th>\n",
       "      <td>Y63</td>\n",
       "      <td>116123.0</td>\n",
       "      <td>1100423.0</td>\n",
       "      <td>9074048.0</td>\n",
       "    </tr>\n",
       "  </tbody>\n",
       "</table>\n",
       "</div>"
      ],
      "text/plain": [
       "field region_code  Pat_Appts_Use  Pat_Presc_Use  patient_list_size\n",
       "0             Y56        82215.5       397654.0         10418477.5\n",
       "1             Y58        85731.0       576012.0          5919055.0\n",
       "2             Y59        89467.0       782523.0          9449019.0\n",
       "3             Y60       124756.0      1066293.5         11268328.0\n",
       "4             Y61       108235.0       718133.0          6886159.0\n",
       "5             Y62        31453.0       756858.0          7620602.0\n",
       "6             Y63       116123.0      1100423.0          9074048.0"
      ]
     },
     "execution_count": 118,
     "metadata": {},
     "output_type": "execute_result"
    }
   ],
   "source": [
    "POMI_august_2021_region = POMI_august_2021[['ccg_name', 'region_code', 'Pat_Appts_Use', 'Pat_Presc_Use', 'patient_list_size']].groupby('region_code').sum()\n",
    "POMI_august_2021_region.reset_index()"
   ]
  },
  {
   "cell_type": "code",
   "execution_count": 119,
   "id": "c3b951a3-9757-4e41-9b29-12ddbeb73350",
   "metadata": {},
   "outputs": [
    {
     "data": {
      "text/plain": [
       "60635688.5"
      ]
     },
     "execution_count": 119,
     "metadata": {},
     "output_type": "execute_result"
    }
   ],
   "source": [
    "patient_list_size_check_region = POMI_august_2021_region['patient_list_size'].sum()\n",
    "patient_list_size_check_region "
   ]
  },
  {
   "cell_type": "code",
   "execution_count": 138,
   "id": "f10677ff-7a03-4bde-abe5-ed245ce86431",
   "metadata": {},
   "outputs": [],
   "source": [
    "POMI_august_2021_region['Pat_Presc_Use_per_10000'] = (POMI_august_2021_region['Pat_Presc_Use'] / POMI_august_2021_region['patient_list_size']) * 10000\n",
    "POMI_august_2021_region['Pat_Appts_Use_per_10000'] = (POMI_august_2021_region['Pat_Appts_Use'] / POMI_august_2021_region['patient_list_size']) * 10000\n",
    "POMI_region = POMI_august_2021_region.round(2)\n",
    "region_name = {'Y56': 'London', 'Y58': 'South West', 'Y59': 'South East', 'Y60': 'Midlands', 'Y61': 'East of England', 'Y61': 'East of England', 'Y62': 'North West', 'Y63': 'North East and Yorkshire'}\n",
    "POMI_region_code_names = POMI_region.reset_index()"
   ]
  },
  {
   "cell_type": "code",
   "execution_count": 173,
   "id": "4b8e0fb6-c5b9-4e02-98a1-7b5f41b8fbfe",
   "metadata": {},
   "outputs": [
    {
     "data": {
      "application/vnd.plotly.v1+json": {
       "config": {
        "plotlyServerURL": "https://plot.ly"
       },
       "data": [
        {
         "type": "bar",
         "x": [
          "North East and Yorkshire",
          "East of England",
          "North West",
          "South West",
          "Midlands",
          "South East",
          "London"
         ],
         "y": [
          1212.71,
          1042.86,
          993.17,
          973.15,
          946.27,
          828.15,
          381.68
         ]
        }
       ],
       "layout": {
        "autosize": true,
        "template": {
         "data": {
          "bar": [
           {
            "error_x": {
             "color": "#2a3f5f"
            },
            "error_y": {
             "color": "#2a3f5f"
            },
            "marker": {
             "line": {
              "color": "#E5ECF6",
              "width": 0.5
             },
             "pattern": {
              "fillmode": "overlay",
              "size": 10,
              "solidity": 0.2
             }
            },
            "type": "bar"
           }
          ],
          "barpolar": [
           {
            "marker": {
             "line": {
              "color": "#E5ECF6",
              "width": 0.5
             },
             "pattern": {
              "fillmode": "overlay",
              "size": 10,
              "solidity": 0.2
             }
            },
            "type": "barpolar"
           }
          ],
          "carpet": [
           {
            "aaxis": {
             "endlinecolor": "#2a3f5f",
             "gridcolor": "white",
             "linecolor": "white",
             "minorgridcolor": "white",
             "startlinecolor": "#2a3f5f"
            },
            "baxis": {
             "endlinecolor": "#2a3f5f",
             "gridcolor": "white",
             "linecolor": "white",
             "minorgridcolor": "white",
             "startlinecolor": "#2a3f5f"
            },
            "type": "carpet"
           }
          ],
          "choropleth": [
           {
            "colorbar": {
             "outlinewidth": 0,
             "ticks": ""
            },
            "type": "choropleth"
           }
          ],
          "contour": [
           {
            "colorbar": {
             "outlinewidth": 0,
             "ticks": ""
            },
            "colorscale": [
             [
              0,
              "#0d0887"
             ],
             [
              0.1111111111111111,
              "#46039f"
             ],
             [
              0.2222222222222222,
              "#7201a8"
             ],
             [
              0.3333333333333333,
              "#9c179e"
             ],
             [
              0.4444444444444444,
              "#bd3786"
             ],
             [
              0.5555555555555556,
              "#d8576b"
             ],
             [
              0.6666666666666666,
              "#ed7953"
             ],
             [
              0.7777777777777778,
              "#fb9f3a"
             ],
             [
              0.8888888888888888,
              "#fdca26"
             ],
             [
              1,
              "#f0f921"
             ]
            ],
            "type": "contour"
           }
          ],
          "contourcarpet": [
           {
            "colorbar": {
             "outlinewidth": 0,
             "ticks": ""
            },
            "type": "contourcarpet"
           }
          ],
          "heatmap": [
           {
            "colorbar": {
             "outlinewidth": 0,
             "ticks": ""
            },
            "colorscale": [
             [
              0,
              "#0d0887"
             ],
             [
              0.1111111111111111,
              "#46039f"
             ],
             [
              0.2222222222222222,
              "#7201a8"
             ],
             [
              0.3333333333333333,
              "#9c179e"
             ],
             [
              0.4444444444444444,
              "#bd3786"
             ],
             [
              0.5555555555555556,
              "#d8576b"
             ],
             [
              0.6666666666666666,
              "#ed7953"
             ],
             [
              0.7777777777777778,
              "#fb9f3a"
             ],
             [
              0.8888888888888888,
              "#fdca26"
             ],
             [
              1,
              "#f0f921"
             ]
            ],
            "type": "heatmap"
           }
          ],
          "heatmapgl": [
           {
            "colorbar": {
             "outlinewidth": 0,
             "ticks": ""
            },
            "colorscale": [
             [
              0,
              "#0d0887"
             ],
             [
              0.1111111111111111,
              "#46039f"
             ],
             [
              0.2222222222222222,
              "#7201a8"
             ],
             [
              0.3333333333333333,
              "#9c179e"
             ],
             [
              0.4444444444444444,
              "#bd3786"
             ],
             [
              0.5555555555555556,
              "#d8576b"
             ],
             [
              0.6666666666666666,
              "#ed7953"
             ],
             [
              0.7777777777777778,
              "#fb9f3a"
             ],
             [
              0.8888888888888888,
              "#fdca26"
             ],
             [
              1,
              "#f0f921"
             ]
            ],
            "type": "heatmapgl"
           }
          ],
          "histogram": [
           {
            "marker": {
             "pattern": {
              "fillmode": "overlay",
              "size": 10,
              "solidity": 0.2
             }
            },
            "type": "histogram"
           }
          ],
          "histogram2d": [
           {
            "colorbar": {
             "outlinewidth": 0,
             "ticks": ""
            },
            "colorscale": [
             [
              0,
              "#0d0887"
             ],
             [
              0.1111111111111111,
              "#46039f"
             ],
             [
              0.2222222222222222,
              "#7201a8"
             ],
             [
              0.3333333333333333,
              "#9c179e"
             ],
             [
              0.4444444444444444,
              "#bd3786"
             ],
             [
              0.5555555555555556,
              "#d8576b"
             ],
             [
              0.6666666666666666,
              "#ed7953"
             ],
             [
              0.7777777777777778,
              "#fb9f3a"
             ],
             [
              0.8888888888888888,
              "#fdca26"
             ],
             [
              1,
              "#f0f921"
             ]
            ],
            "type": "histogram2d"
           }
          ],
          "histogram2dcontour": [
           {
            "colorbar": {
             "outlinewidth": 0,
             "ticks": ""
            },
            "colorscale": [
             [
              0,
              "#0d0887"
             ],
             [
              0.1111111111111111,
              "#46039f"
             ],
             [
              0.2222222222222222,
              "#7201a8"
             ],
             [
              0.3333333333333333,
              "#9c179e"
             ],
             [
              0.4444444444444444,
              "#bd3786"
             ],
             [
              0.5555555555555556,
              "#d8576b"
             ],
             [
              0.6666666666666666,
              "#ed7953"
             ],
             [
              0.7777777777777778,
              "#fb9f3a"
             ],
             [
              0.8888888888888888,
              "#fdca26"
             ],
             [
              1,
              "#f0f921"
             ]
            ],
            "type": "histogram2dcontour"
           }
          ],
          "mesh3d": [
           {
            "colorbar": {
             "outlinewidth": 0,
             "ticks": ""
            },
            "type": "mesh3d"
           }
          ],
          "parcoords": [
           {
            "line": {
             "colorbar": {
              "outlinewidth": 0,
              "ticks": ""
             }
            },
            "type": "parcoords"
           }
          ],
          "pie": [
           {
            "automargin": true,
            "type": "pie"
           }
          ],
          "scatter": [
           {
            "marker": {
             "colorbar": {
              "outlinewidth": 0,
              "ticks": ""
             }
            },
            "type": "scatter"
           }
          ],
          "scatter3d": [
           {
            "line": {
             "colorbar": {
              "outlinewidth": 0,
              "ticks": ""
             }
            },
            "marker": {
             "colorbar": {
              "outlinewidth": 0,
              "ticks": ""
             }
            },
            "type": "scatter3d"
           }
          ],
          "scattercarpet": [
           {
            "marker": {
             "colorbar": {
              "outlinewidth": 0,
              "ticks": ""
             }
            },
            "type": "scattercarpet"
           }
          ],
          "scattergeo": [
           {
            "marker": {
             "colorbar": {
              "outlinewidth": 0,
              "ticks": ""
             }
            },
            "type": "scattergeo"
           }
          ],
          "scattergl": [
           {
            "marker": {
             "colorbar": {
              "outlinewidth": 0,
              "ticks": ""
             }
            },
            "type": "scattergl"
           }
          ],
          "scattermapbox": [
           {
            "marker": {
             "colorbar": {
              "outlinewidth": 0,
              "ticks": ""
             }
            },
            "type": "scattermapbox"
           }
          ],
          "scatterpolar": [
           {
            "marker": {
             "colorbar": {
              "outlinewidth": 0,
              "ticks": ""
             }
            },
            "type": "scatterpolar"
           }
          ],
          "scatterpolargl": [
           {
            "marker": {
             "colorbar": {
              "outlinewidth": 0,
              "ticks": ""
             }
            },
            "type": "scatterpolargl"
           }
          ],
          "scatterternary": [
           {
            "marker": {
             "colorbar": {
              "outlinewidth": 0,
              "ticks": ""
             }
            },
            "type": "scatterternary"
           }
          ],
          "surface": [
           {
            "colorbar": {
             "outlinewidth": 0,
             "ticks": ""
            },
            "colorscale": [
             [
              0,
              "#0d0887"
             ],
             [
              0.1111111111111111,
              "#46039f"
             ],
             [
              0.2222222222222222,
              "#7201a8"
             ],
             [
              0.3333333333333333,
              "#9c179e"
             ],
             [
              0.4444444444444444,
              "#bd3786"
             ],
             [
              0.5555555555555556,
              "#d8576b"
             ],
             [
              0.6666666666666666,
              "#ed7953"
             ],
             [
              0.7777777777777778,
              "#fb9f3a"
             ],
             [
              0.8888888888888888,
              "#fdca26"
             ],
             [
              1,
              "#f0f921"
             ]
            ],
            "type": "surface"
           }
          ],
          "table": [
           {
            "cells": {
             "fill": {
              "color": "#EBF0F8"
             },
             "line": {
              "color": "white"
             }
            },
            "header": {
             "fill": {
              "color": "#C8D4E3"
             },
             "line": {
              "color": "white"
             }
            },
            "type": "table"
           }
          ]
         },
         "layout": {
          "annotationdefaults": {
           "arrowcolor": "#2a3f5f",
           "arrowhead": 0,
           "arrowwidth": 1
          },
          "autotypenumbers": "strict",
          "coloraxis": {
           "colorbar": {
            "outlinewidth": 0,
            "ticks": ""
           }
          },
          "colorscale": {
           "diverging": [
            [
             0,
             "#8e0152"
            ],
            [
             0.1,
             "#c51b7d"
            ],
            [
             0.2,
             "#de77ae"
            ],
            [
             0.3,
             "#f1b6da"
            ],
            [
             0.4,
             "#fde0ef"
            ],
            [
             0.5,
             "#f7f7f7"
            ],
            [
             0.6,
             "#e6f5d0"
            ],
            [
             0.7,
             "#b8e186"
            ],
            [
             0.8,
             "#7fbc41"
            ],
            [
             0.9,
             "#4d9221"
            ],
            [
             1,
             "#276419"
            ]
           ],
           "sequential": [
            [
             0,
             "#0d0887"
            ],
            [
             0.1111111111111111,
             "#46039f"
            ],
            [
             0.2222222222222222,
             "#7201a8"
            ],
            [
             0.3333333333333333,
             "#9c179e"
            ],
            [
             0.4444444444444444,
             "#bd3786"
            ],
            [
             0.5555555555555556,
             "#d8576b"
            ],
            [
             0.6666666666666666,
             "#ed7953"
            ],
            [
             0.7777777777777778,
             "#fb9f3a"
            ],
            [
             0.8888888888888888,
             "#fdca26"
            ],
            [
             1,
             "#f0f921"
            ]
           ],
           "sequentialminus": [
            [
             0,
             "#0d0887"
            ],
            [
             0.1111111111111111,
             "#46039f"
            ],
            [
             0.2222222222222222,
             "#7201a8"
            ],
            [
             0.3333333333333333,
             "#9c179e"
            ],
            [
             0.4444444444444444,
             "#bd3786"
            ],
            [
             0.5555555555555556,
             "#d8576b"
            ],
            [
             0.6666666666666666,
             "#ed7953"
            ],
            [
             0.7777777777777778,
             "#fb9f3a"
            ],
            [
             0.8888888888888888,
             "#fdca26"
            ],
            [
             1,
             "#f0f921"
            ]
           ]
          },
          "colorway": [
           "#636efa",
           "#EF553B",
           "#00cc96",
           "#ab63fa",
           "#FFA15A",
           "#19d3f3",
           "#FF6692",
           "#B6E880",
           "#FF97FF",
           "#FECB52"
          ],
          "font": {
           "color": "#2a3f5f"
          },
          "geo": {
           "bgcolor": "white",
           "lakecolor": "white",
           "landcolor": "#E5ECF6",
           "showlakes": true,
           "showland": true,
           "subunitcolor": "white"
          },
          "hoverlabel": {
           "align": "left"
          },
          "hovermode": "closest",
          "mapbox": {
           "style": "light"
          },
          "paper_bgcolor": "white",
          "plot_bgcolor": "#E5ECF6",
          "polar": {
           "angularaxis": {
            "gridcolor": "white",
            "linecolor": "white",
            "ticks": ""
           },
           "bgcolor": "#E5ECF6",
           "radialaxis": {
            "gridcolor": "white",
            "linecolor": "white",
            "ticks": ""
           }
          },
          "scene": {
           "xaxis": {
            "backgroundcolor": "#E5ECF6",
            "gridcolor": "white",
            "gridwidth": 2,
            "linecolor": "white",
            "showbackground": true,
            "ticks": "",
            "zerolinecolor": "white"
           },
           "yaxis": {
            "backgroundcolor": "#E5ECF6",
            "gridcolor": "white",
            "gridwidth": 2,
            "linecolor": "white",
            "showbackground": true,
            "ticks": "",
            "zerolinecolor": "white"
           },
           "zaxis": {
            "backgroundcolor": "#E5ECF6",
            "gridcolor": "white",
            "gridwidth": 2,
            "linecolor": "white",
            "showbackground": true,
            "ticks": "",
            "zerolinecolor": "white"
           }
          },
          "shapedefaults": {
           "line": {
            "color": "#2a3f5f"
           }
          },
          "ternary": {
           "aaxis": {
            "gridcolor": "white",
            "linecolor": "white",
            "ticks": ""
           },
           "baxis": {
            "gridcolor": "white",
            "linecolor": "white",
            "ticks": ""
           },
           "bgcolor": "#E5ECF6",
           "caxis": {
            "gridcolor": "white",
            "linecolor": "white",
            "ticks": ""
           }
          },
          "title": {
           "x": 0.05
          },
          "xaxis": {
           "automargin": true,
           "gridcolor": "white",
           "linecolor": "white",
           "ticks": "",
           "title": {
            "standoff": 15
           },
           "zerolinecolor": "white",
           "zerolinewidth": 2
          },
          "yaxis": {
           "automargin": true,
           "gridcolor": "white",
           "linecolor": "white",
           "ticks": "",
           "title": {
            "standoff": 15
           },
           "zerolinecolor": "white",
           "zerolinewidth": 2
          }
         }
        },
        "xaxis": {
         "autorange": true,
         "range": [
          -0.5,
          6.5
         ],
         "type": "category"
        },
        "yaxis": {
         "autorange": true,
         "range": [
          0,
          1276.5368421052633
         ],
         "type": "linear"
        }
       }
      },
      "image/png": "[encoded data removed]",
      "text/html": [
       "<div>                            <div id=\"cd3c106d-6f0e-42a8-b41d-23f1cee29d29\" class=\"plotly-graph-div\" style=\"height:525px; width:100%;\"></div>            <script type=\"text/javascript\">                require([\"plotly\"], function(Plotly) {                    window.PLOTLYENV=window.PLOTLYENV || {};                                    if (document.getElementById(\"cd3c106d-6f0e-42a8-b41d-23f1cee29d29\")) {                    Plotly.newPlot(                        \"cd3c106d-6f0e-42a8-b41d-23f1cee29d29\",                        [{\"type\":\"bar\",\"x\":[\"North East and Yorkshire\",\"East of England\",\"North West\",\"South West\",\"Midlands\",\"South East\",\"London\"],\"y\":[1212.71,1042.86,993.17,973.15,946.27,828.15,381.68]}],                        {\"template\":{\"data\":{\"bar\":[{\"error_x\":{\"color\":\"#2a3f5f\"},\"error_y\":{\"color\":\"#2a3f5f\"},\"marker\":{\"line\":{\"color\":\"#E5ECF6\",\"width\":0.5},\"pattern\":{\"fillmode\":\"overlay\",\"size\":10,\"solidity\":0.2}},\"type\":\"bar\"}],\"barpolar\":[{\"marker\":{\"line\":{\"color\":\"#E5ECF6\",\"width\":0.5},\"pattern\":{\"fillmode\":\"overlay\",\"size\":10,\"solidity\":0.2}},\"type\":\"barpolar\"}],\"carpet\":[{\"aaxis\":{\"endlinecolor\":\"#2a3f5f\",\"gridcolor\":\"white\",\"linecolor\":\"white\",\"minorgridcolor\":\"white\",\"startlinecolor\":\"#2a3f5f\"},\"baxis\":{\"endlinecolor\":\"#2a3f5f\",\"gridcolor\":\"white\",\"linecolor\":\"white\",\"minorgridcolor\":\"white\",\"startlinecolor\":\"#2a3f5f\"},\"type\":\"carpet\"}],\"choropleth\":[{\"colorbar\":{\"outlinewidth\":0,\"ticks\":\"\"},\"type\":\"choropleth\"}],\"contour\":[{\"colorbar\":{\"outlinewidth\":0,\"ticks\":\"\"},\"colorscale\":[[0.0,\"#0d0887\"],[0.1111111111111111,\"#46039f\"],[0.2222222222222222,\"#7201a8\"],[0.3333333333333333,\"#9c179e\"],[0.4444444444444444,\"#bd3786\"],[0.5555555555555556,\"#d8576b\"],[0.6666666666666666,\"#ed7953\"],[0.7777777777777778,\"#fb9f3a\"],[0.8888888888888888,\"#fdca26\"],[1.0,\"#f0f921\"]],\"type\":\"contour\"}],\"contourcarpet\":[{\"colorbar\":{\"outlinewidth\":0,\"ticks\":\"\"},\"type\":\"contourcarpet\"}],\"heatmap\":[{\"colorbar\":{\"outlinewidth\":0,\"ticks\":\"\"},\"colorscale\":[[0.0,\"#0d0887\"],[0.1111111111111111,\"#46039f\"],[0.2222222222222222,\"#7201a8\"],[0.3333333333333333,\"#9c179e\"],[0.4444444444444444,\"#bd3786\"],[0.5555555555555556,\"#d8576b\"],[0.6666666666666666,\"#ed7953\"],[0.7777777777777778,\"#fb9f3a\"],[0.8888888888888888,\"#fdca26\"],[1.0,\"#f0f921\"]],\"type\":\"heatmap\"}],\"heatmapgl\":[{\"colorbar\":{\"outlinewidth\":0,\"ticks\":\"\"},\"colorscale\":[[0.0,\"#0d0887\"],[0.1111111111111111,\"#46039f\"],[0.2222222222222222,\"#7201a8\"],[0.3333333333333333,\"#9c179e\"],[0.4444444444444444,\"#bd3786\"],[0.5555555555555556,\"#d8576b\"],[0.6666666666666666,\"#ed7953\"],[0.7777777777777778,\"#fb9f3a\"],[0.8888888888888888,\"#fdca26\"],[1.0,\"#f0f921\"]],\"type\":\"heatmapgl\"}],\"histogram\":[{\"marker\":{\"pattern\":{\"fillmode\":\"overlay\",\"size\":10,\"solidity\":0.2}},\"type\":\"histogram\"}],\"histogram2d\":[{\"colorbar\":{\"outlinewidth\":0,\"ticks\":\"\"},\"colorscale\":[[0.0,\"#0d0887\"],[0.1111111111111111,\"#46039f\"],[0.2222222222222222,\"#7201a8\"],[0.3333333333333333,\"#9c179e\"],[0.4444444444444444,\"#bd3786\"],[0.5555555555555556,\"#d8576b\"],[0.6666666666666666,\"#ed7953\"],[0.7777777777777778,\"#fb9f3a\"],[0.8888888888888888,\"#fdca26\"],[1.0,\"#f0f921\"]],\"type\":\"histogram2d\"}],\"histogram2dcontour\":[{\"colorbar\":{\"outlinewidth\":0,\"ticks\":\"\"},\"colorscale\":[[0.0,\"#0d0887\"],[0.1111111111111111,\"#46039f\"],[0.2222222222222222,\"#7201a8\"],[0.3333333333333333,\"#9c179e\"],[0.4444444444444444,\"#bd3786\"],[0.5555555555555556,\"#d8576b\"],[0.6666666666666666,\"#ed7953\"],[0.7777777777777778,\"#fb9f3a\"],[0.8888888888888888,\"#fdca26\"],[1.0,\"#f0f921\"]],\"type\":\"histogram2dcontour\"}],\"mesh3d\":[{\"colorbar\":{\"outlinewidth\":0,\"ticks\":\"\"},\"type\":\"mesh3d\"}],\"parcoords\":[{\"line\":{\"colorbar\":{\"outlinewidth\":0,\"ticks\":\"\"}},\"type\":\"parcoords\"}],\"pie\":[{\"automargin\":true,\"type\":\"pie\"}],\"scatter\":[{\"marker\":{\"colorbar\":{\"outlinewidth\":0,\"ticks\":\"\"}},\"type\":\"scatter\"}],\"scatter3d\":[{\"line\":{\"colorbar\":{\"outlinewidth\":0,\"ticks\":\"\"}},\"marker\":{\"colorbar\":{\"outlinewidth\":0,\"ticks\":\"\"}},\"type\":\"scatter3d\"}],\"scattercarpet\":[{\"marker\":{\"colorbar\":{\"outlinewidth\":0,\"ticks\":\"\"}},\"type\":\"scattercarpet\"}],\"scattergeo\":[{\"marker\":{\"colorbar\":{\"outlinewidth\":0,\"ticks\":\"\"}},\"type\":\"scattergeo\"}],\"scattergl\":[{\"marker\":{\"colorbar\":{\"outlinewidth\":0,\"ticks\":\"\"}},\"type\":\"scattergl\"}],\"scattermapbox\":[{\"marker\":{\"colorbar\":{\"outlinewidth\":0,\"ticks\":\"\"}},\"type\":\"scattermapbox\"}],\"scatterpolar\":[{\"marker\":{\"colorbar\":{\"outlinewidth\":0,\"ticks\":\"\"}},\"type\":\"scatterpolar\"}],\"scatterpolargl\":[{\"marker\":{\"colorbar\":{\"outlinewidth\":0,\"ticks\":\"\"}},\"type\":\"scatterpolargl\"}],\"scatterternary\":[{\"marker\":{\"colorbar\":{\"outlinewidth\":0,\"ticks\":\"\"}},\"type\":\"scatterternary\"}],\"surface\":[{\"colorbar\":{\"outlinewidth\":0,\"ticks\":\"\"},\"colorscale\":[[0.0,\"#0d0887\"],[0.1111111111111111,\"#46039f\"],[0.2222222222222222,\"#7201a8\"],[0.3333333333333333,\"#9c179e\"],[0.4444444444444444,\"#bd3786\"],[0.5555555555555556,\"#d8576b\"],[0.6666666666666666,\"#ed7953\"],[0.7777777777777778,\"#fb9f3a\"],[0.8888888888888888,\"#fdca26\"],[1.0,\"#f0f921\"]],\"type\":\"surface\"}],\"table\":[{\"cells\":{\"fill\":{\"color\":\"#EBF0F8\"},\"line\":{\"color\":\"white\"}},\"header\":{\"fill\":{\"color\":\"#C8D4E3\"},\"line\":{\"color\":\"white\"}},\"type\":\"table\"}]},\"layout\":{\"annotationdefaults\":{\"arrowcolor\":\"#2a3f5f\",\"arrowhead\":0,\"arrowwidth\":1},\"autotypenumbers\":\"strict\",\"coloraxis\":{\"colorbar\":{\"outlinewidth\":0,\"ticks\":\"\"}},\"colorscale\":{\"diverging\":[[0,\"#8e0152\"],[0.1,\"#c51b7d\"],[0.2,\"#de77ae\"],[0.3,\"#f1b6da\"],[0.4,\"#fde0ef\"],[0.5,\"#f7f7f7\"],[0.6,\"#e6f5d0\"],[0.7,\"#b8e186\"],[0.8,\"#7fbc41\"],[0.9,\"#4d9221\"],[1,\"#276419\"]],\"sequential\":[[0.0,\"#0d0887\"],[0.1111111111111111,\"#46039f\"],[0.2222222222222222,\"#7201a8\"],[0.3333333333333333,\"#9c179e\"],[0.4444444444444444,\"#bd3786\"],[0.5555555555555556,\"#d8576b\"],[0.6666666666666666,\"#ed7953\"],[0.7777777777777778,\"#fb9f3a\"],[0.8888888888888888,\"#fdca26\"],[1.0,\"#f0f921\"]],\"sequentialminus\":[[0.0,\"#0d0887\"],[0.1111111111111111,\"#46039f\"],[0.2222222222222222,\"#7201a8\"],[0.3333333333333333,\"#9c179e\"],[0.4444444444444444,\"#bd3786\"],[0.5555555555555556,\"#d8576b\"],[0.6666666666666666,\"#ed7953\"],[0.7777777777777778,\"#fb9f3a\"],[0.8888888888888888,\"#fdca26\"],[1.0,\"#f0f921\"]]},\"colorway\":[\"#636efa\",\"#EF553B\",\"#00cc96\",\"#ab63fa\",\"#FFA15A\",\"#19d3f3\",\"#FF6692\",\"#B6E880\",\"#FF97FF\",\"#FECB52\"],\"font\":{\"color\":\"#2a3f5f\"},\"geo\":{\"bgcolor\":\"white\",\"lakecolor\":\"white\",\"landcolor\":\"#E5ECF6\",\"showlakes\":true,\"showland\":true,\"subunitcolor\":\"white\"},\"hoverlabel\":{\"align\":\"left\"},\"hovermode\":\"closest\",\"mapbox\":{\"style\":\"light\"},\"paper_bgcolor\":\"white\",\"plot_bgcolor\":\"#E5ECF6\",\"polar\":{\"angularaxis\":{\"gridcolor\":\"white\",\"linecolor\":\"white\",\"ticks\":\"\"},\"bgcolor\":\"#E5ECF6\",\"radialaxis\":{\"gridcolor\":\"white\",\"linecolor\":\"white\",\"ticks\":\"\"}},\"scene\":{\"xaxis\":{\"backgroundcolor\":\"#E5ECF6\",\"gridcolor\":\"white\",\"gridwidth\":2,\"linecolor\":\"white\",\"showbackground\":true,\"ticks\":\"\",\"zerolinecolor\":\"white\"},\"yaxis\":{\"backgroundcolor\":\"#E5ECF6\",\"gridcolor\":\"white\",\"gridwidth\":2,\"linecolor\":\"white\",\"showbackground\":true,\"ticks\":\"\",\"zerolinecolor\":\"white\"},\"zaxis\":{\"backgroundcolor\":\"#E5ECF6\",\"gridcolor\":\"white\",\"gridwidth\":2,\"linecolor\":\"white\",\"showbackground\":true,\"ticks\":\"\",\"zerolinecolor\":\"white\"}},\"shapedefaults\":{\"line\":{\"color\":\"#2a3f5f\"}},\"ternary\":{\"aaxis\":{\"gridcolor\":\"white\",\"linecolor\":\"white\",\"ticks\":\"\"},\"baxis\":{\"gridcolor\":\"white\",\"linecolor\":\"white\",\"ticks\":\"\"},\"bgcolor\":\"#E5ECF6\",\"caxis\":{\"gridcolor\":\"white\",\"linecolor\":\"white\",\"ticks\":\"\"}},\"title\":{\"x\":0.05},\"xaxis\":{\"automargin\":true,\"gridcolor\":\"white\",\"linecolor\":\"white\",\"ticks\":\"\",\"title\":{\"standoff\":15},\"zerolinecolor\":\"white\",\"zerolinewidth\":2},\"yaxis\":{\"automargin\":true,\"gridcolor\":\"white\",\"linecolor\":\"white\",\"ticks\":\"\",\"title\":{\"standoff\":15},\"zerolinecolor\":\"white\",\"zerolinewidth\":2}}}},                        {\"responsive\": true}                    ).then(function(){\n",
       "                            \n",
       "var gd = document.getElementById('cd3c106d-6f0e-42a8-b41d-23f1cee29d29');\n",
       "var x = new MutationObserver(function (mutations, observer) {{\n",
       "        var display = window.getComputedStyle(gd).display;\n",
       "        if (!display || display === 'none') {{\n",
       "            console.log([gd, 'removed!']);\n",
       "            Plotly.purge(gd);\n",
       "            observer.disconnect();\n",
       "        }}\n",
       "}});\n",
       "\n",
       "// Listen for the removal of the full notebook cells\n",
       "var notebookContainer = gd.closest('#notebook-container');\n",
       "if (notebookContainer) {{\n",
       "    x.observe(notebookContainer, {childList: true});\n",
       "}}\n",
       "\n",
       "// Listen for the clearing of the current output cell\n",
       "var outputEl = gd.closest('.output');\n",
       "if (outputEl) {{\n",
       "    x.observe(outputEl, {childList: true});\n",
       "}}\n",
       "\n",
       "                        })                };                });            </script>        </div>"
      ]
     },
     "metadata": {},
     "output_type": "display_data"
    }
   ],
   "source": [
    "POMI_region_code_names['region_name'] = POMI_region_code_names['region_code'].map(region_name)\n",
    "Region_code_results_presc = POMI_region_code_names.sort_values(by='Pat_Presc_Use_per_10000', ascending=False)\n",
    "Region_code_results_presc\n",
    "\n",
    "data0 = go.Bar(\n",
    "    x = Region_code_results_presc.region_name,\n",
    "    y = Region_code_results_presc.Pat_Presc_Use_per_10000)\n",
    "\n",
    "figure = go.Figure(data = data0)\n",
    "figure.show()"
   ]
  },
  {
   "cell_type": "code",
   "execution_count": 176,
   "id": "2c00f6c2-e496-401d-b1e0-95d5446cc68f",
   "metadata": {},
   "outputs": [],
   "source": [
    "\n",
    "# Write chart to file (.html)\n",
    "config = {\"displayModeBar\": False, \"displaylogo\": False}\n",
    "plotly_obj = plotly.offline.plot(\n",
    "    fig, include_plotlyjs=False, output_type=\"div\", config=config\n",
    ")\n",
    "with open(\"_includes/prescriptions.html\", \"w\") as file:\n",
    "    file.write(plotly_obj)"
   ]
  },
  {
   "cell_type": "code",
   "execution_count": 177,
   "id": "ce2f3c2d-cb73-495e-bad5-74c79ef3bc23",
   "metadata": {},
   "outputs": [
    {
     "data": {
      "application/vnd.plotly.v1+json": {
       "config": {
        "plotlyServerURL": "https://plot.ly"
       },
       "data": [
        {
         "type": "bar",
         "x": [
          "East of England",
          "South West",
          "North East and Yorkshire",
          "Midlands",
          "South East",
          "London",
          "North West"
         ],
         "y": [
          157.18,
          144.84,
          127.97,
          110.71,
          94.68,
          78.91,
          41.27
         ]
        }
       ],
       "layout": {
        "autosize": true,
        "template": {
         "data": {
          "bar": [
           {
            "error_x": {
             "color": "#2a3f5f"
            },
            "error_y": {
             "color": "#2a3f5f"
            },
            "marker": {
             "line": {
              "color": "#E5ECF6",
              "width": 0.5
             },
             "pattern": {
              "fillmode": "overlay",
              "size": 10,
              "solidity": 0.2
             }
            },
            "type": "bar"
           }
          ],
          "barpolar": [
           {
            "marker": {
             "line": {
              "color": "#E5ECF6",
              "width": 0.5
             },
             "pattern": {
              "fillmode": "overlay",
              "size": 10,
              "solidity": 0.2
             }
            },
            "type": "barpolar"
           }
          ],
          "carpet": [
           {
            "aaxis": {
             "endlinecolor": "#2a3f5f",
             "gridcolor": "white",
             "linecolor": "white",
             "minorgridcolor": "white",
             "startlinecolor": "#2a3f5f"
            },
            "baxis": {
             "endlinecolor": "#2a3f5f",
             "gridcolor": "white",
             "linecolor": "white",
             "minorgridcolor": "white",
             "startlinecolor": "#2a3f5f"
            },
            "type": "carpet"
           }
          ],
          "choropleth": [
           {
            "colorbar": {
             "outlinewidth": 0,
             "ticks": ""
            },
            "type": "choropleth"
           }
          ],
          "contour": [
           {
            "colorbar": {
             "outlinewidth": 0,
             "ticks": ""
            },
            "colorscale": [
             [
              0,
              "#0d0887"
             ],
             [
              0.1111111111111111,
              "#46039f"
             ],
             [
              0.2222222222222222,
              "#7201a8"
             ],
             [
              0.3333333333333333,
              "#9c179e"
             ],
             [
              0.4444444444444444,
              "#bd3786"
             ],
             [
              0.5555555555555556,
              "#d8576b"
             ],
             [
              0.6666666666666666,
              "#ed7953"
             ],
             [
              0.7777777777777778,
              "#fb9f3a"
             ],
             [
              0.8888888888888888,
              "#fdca26"
             ],
             [
              1,
              "#f0f921"
             ]
            ],
            "type": "contour"
           }
          ],
          "contourcarpet": [
           {
            "colorbar": {
             "outlinewidth": 0,
             "ticks": ""
            },
            "type": "contourcarpet"
           }
          ],
          "heatmap": [
           {
            "colorbar": {
             "outlinewidth": 0,
             "ticks": ""
            },
            "colorscale": [
             [
              0,
              "#0d0887"
             ],
             [
              0.1111111111111111,
              "#46039f"
             ],
             [
              0.2222222222222222,
              "#7201a8"
             ],
             [
              0.3333333333333333,
              "#9c179e"
             ],
             [
              0.4444444444444444,
              "#bd3786"
             ],
             [
              0.5555555555555556,
              "#d8576b"
             ],
             [
              0.6666666666666666,
              "#ed7953"
             ],
             [
              0.7777777777777778,
              "#fb9f3a"
             ],
             [
              0.8888888888888888,
              "#fdca26"
             ],
             [
              1,
              "#f0f921"
             ]
            ],
            "type": "heatmap"
           }
          ],
          "heatmapgl": [
           {
            "colorbar": {
             "outlinewidth": 0,
             "ticks": ""
            },
            "colorscale": [
             [
              0,
              "#0d0887"
             ],
             [
              0.1111111111111111,
              "#46039f"
             ],
             [
              0.2222222222222222,
              "#7201a8"
             ],
             [
              0.3333333333333333,
              "#9c179e"
             ],
             [
              0.4444444444444444,
              "#bd3786"
             ],
             [
              0.5555555555555556,
              "#d8576b"
             ],
             [
              0.6666666666666666,
              "#ed7953"
             ],
             [
              0.7777777777777778,
              "#fb9f3a"
             ],
             [
              0.8888888888888888,
              "#fdca26"
             ],
             [
              1,
              "#f0f921"
             ]
            ],
            "type": "heatmapgl"
           }
          ],
          "histogram": [
           {
            "marker": {
             "pattern": {
              "fillmode": "overlay",
              "size": 10,
              "solidity": 0.2
             }
            },
            "type": "histogram"
           }
          ],
          "histogram2d": [
           {
            "colorbar": {
             "outlinewidth": 0,
             "ticks": ""
            },
            "colorscale": [
             [
              0,
              "#0d0887"
             ],
             [
              0.1111111111111111,
              "#46039f"
             ],
             [
              0.2222222222222222,
              "#7201a8"
             ],
             [
              0.3333333333333333,
              "#9c179e"
             ],
             [
              0.4444444444444444,
              "#bd3786"
             ],
             [
              0.5555555555555556,
              "#d8576b"
             ],
             [
              0.6666666666666666,
              "#ed7953"
             ],
             [
              0.7777777777777778,
              "#fb9f3a"
             ],
             [
              0.8888888888888888,
              "#fdca26"
             ],
             [
              1,
              "#f0f921"
             ]
            ],
            "type": "histogram2d"
           }
          ],
          "histogram2dcontour": [
           {
            "colorbar": {
             "outlinewidth": 0,
             "ticks": ""
            },
            "colorscale": [
             [
              0,
              "#0d0887"
             ],
             [
              0.1111111111111111,
              "#46039f"
             ],
             [
              0.2222222222222222,
              "#7201a8"
             ],
             [
              0.3333333333333333,
              "#9c179e"
             ],
             [
              0.4444444444444444,
              "#bd3786"
             ],
             [
              0.5555555555555556,
              "#d8576b"
             ],
             [
              0.6666666666666666,
              "#ed7953"
             ],
             [
              0.7777777777777778,
              "#fb9f3a"
             ],
             [
              0.8888888888888888,
              "#fdca26"
             ],
             [
              1,
              "#f0f921"
             ]
            ],
            "type": "histogram2dcontour"
           }
          ],
          "mesh3d": [
           {
            "colorbar": {
             "outlinewidth": 0,
             "ticks": ""
            },
            "type": "mesh3d"
           }
          ],
          "parcoords": [
           {
            "line": {
             "colorbar": {
              "outlinewidth": 0,
              "ticks": ""
             }
            },
            "type": "parcoords"
           }
          ],
          "pie": [
           {
            "automargin": true,
            "type": "pie"
           }
          ],
          "scatter": [
           {
            "marker": {
             "colorbar": {
              "outlinewidth": 0,
              "ticks": ""
             }
            },
            "type": "scatter"
           }
          ],
          "scatter3d": [
           {
            "line": {
             "colorbar": {
              "outlinewidth": 0,
              "ticks": ""
             }
            },
            "marker": {
             "colorbar": {
              "outlinewidth": 0,
              "ticks": ""
             }
            },
            "type": "scatter3d"
           }
          ],
          "scattercarpet": [
           {
            "marker": {
             "colorbar": {
              "outlinewidth": 0,
              "ticks": ""
             }
            },
            "type": "scattercarpet"
           }
          ],
          "scattergeo": [
           {
            "marker": {
             "colorbar": {
              "outlinewidth": 0,
              "ticks": ""
             }
            },
            "type": "scattergeo"
           }
          ],
          "scattergl": [
           {
            "marker": {
             "colorbar": {
              "outlinewidth": 0,
              "ticks": ""
             }
            },
            "type": "scattergl"
           }
          ],
          "scattermapbox": [
           {
            "marker": {
             "colorbar": {
              "outlinewidth": 0,
              "ticks": ""
             }
            },
            "type": "scattermapbox"
           }
          ],
          "scatterpolar": [
           {
            "marker": {
             "colorbar": {
              "outlinewidth": 0,
              "ticks": ""
             }
            },
            "type": "scatterpolar"
           }
          ],
          "scatterpolargl": [
           {
            "marker": {
             "colorbar": {
              "outlinewidth": 0,
              "ticks": ""
             }
            },
            "type": "scatterpolargl"
           }
          ],
          "scatterternary": [
           {
            "marker": {
             "colorbar": {
              "outlinewidth": 0,
              "ticks": ""
             }
            },
            "type": "scatterternary"
           }
          ],
          "surface": [
           {
            "colorbar": {
             "outlinewidth": 0,
             "ticks": ""
            },
            "colorscale": [
             [
              0,
              "#0d0887"
             ],
             [
              0.1111111111111111,
              "#46039f"
             ],
             [
              0.2222222222222222,
              "#7201a8"
             ],
             [
              0.3333333333333333,
              "#9c179e"
             ],
             [
              0.4444444444444444,
              "#bd3786"
             ],
             [
              0.5555555555555556,
              "#d8576b"
             ],
             [
              0.6666666666666666,
              "#ed7953"
             ],
             [
              0.7777777777777778,
              "#fb9f3a"
             ],
             [
              0.8888888888888888,
              "#fdca26"
             ],
             [
              1,
              "#f0f921"
             ]
            ],
            "type": "surface"
           }
          ],
          "table": [
           {
            "cells": {
             "fill": {
              "color": "#EBF0F8"
             },
             "line": {
              "color": "white"
             }
            },
            "header": {
             "fill": {
              "color": "#C8D4E3"
             },
             "line": {
              "color": "white"
             }
            },
            "type": "table"
           }
          ]
         },
         "layout": {
          "annotationdefaults": {
           "arrowcolor": "#2a3f5f",
           "arrowhead": 0,
           "arrowwidth": 1
          },
          "autotypenumbers": "strict",
          "coloraxis": {
           "colorbar": {
            "outlinewidth": 0,
            "ticks": ""
           }
          },
          "colorscale": {
           "diverging": [
            [
             0,
             "#8e0152"
            ],
            [
             0.1,
             "#c51b7d"
            ],
            [
             0.2,
             "#de77ae"
            ],
            [
             0.3,
             "#f1b6da"
            ],
            [
             0.4,
             "#fde0ef"
            ],
            [
             0.5,
             "#f7f7f7"
            ],
            [
             0.6,
             "#e6f5d0"
            ],
            [
             0.7,
             "#b8e186"
            ],
            [
             0.8,
             "#7fbc41"
            ],
            [
             0.9,
             "#4d9221"
            ],
            [
             1,
             "#276419"
            ]
           ],
           "sequential": [
            [
             0,
             "#0d0887"
            ],
            [
             0.1111111111111111,
             "#46039f"
            ],
            [
             0.2222222222222222,
             "#7201a8"
            ],
            [
             0.3333333333333333,
             "#9c179e"
            ],
            [
             0.4444444444444444,
             "#bd3786"
            ],
            [
             0.5555555555555556,
             "#d8576b"
            ],
            [
             0.6666666666666666,
             "#ed7953"
            ],
            [
             0.7777777777777778,
             "#fb9f3a"
            ],
            [
             0.8888888888888888,
             "#fdca26"
            ],
            [
             1,
             "#f0f921"
            ]
           ],
           "sequentialminus": [
            [
             0,
             "#0d0887"
            ],
            [
             0.1111111111111111,
             "#46039f"
            ],
            [
             0.2222222222222222,
             "#7201a8"
            ],
            [
             0.3333333333333333,
             "#9c179e"
            ],
            [
             0.4444444444444444,
             "#bd3786"
            ],
            [
             0.5555555555555556,
             "#d8576b"
            ],
            [
             0.6666666666666666,
             "#ed7953"
            ],
            [
             0.7777777777777778,
             "#fb9f3a"
            ],
            [
             0.8888888888888888,
             "#fdca26"
            ],
            [
             1,
             "#f0f921"
            ]
           ]
          },
          "colorway": [
           "#636efa",
           "#EF553B",
           "#00cc96",
           "#ab63fa",
           "#FFA15A",
           "#19d3f3",
           "#FF6692",
           "#B6E880",
           "#FF97FF",
           "#FECB52"
          ],
          "font": {
           "color": "#2a3f5f"
          },
          "geo": {
           "bgcolor": "white",
           "lakecolor": "white",
           "landcolor": "#E5ECF6",
           "showlakes": true,
           "showland": true,
           "subunitcolor": "white"
          },
          "hoverlabel": {
           "align": "left"
          },
          "hovermode": "closest",
          "mapbox": {
           "style": "light"
          },
          "paper_bgcolor": "white",
          "plot_bgcolor": "#E5ECF6",
          "polar": {
           "angularaxis": {
            "gridcolor": "white",
            "linecolor": "white",
            "ticks": ""
           },
           "bgcolor": "#E5ECF6",
           "radialaxis": {
            "gridcolor": "white",
            "linecolor": "white",
            "ticks": ""
           }
          },
          "scene": {
           "xaxis": {
            "backgroundcolor": "#E5ECF6",
            "gridcolor": "white",
            "gridwidth": 2,
            "linecolor": "white",
            "showbackground": true,
            "ticks": "",
            "zerolinecolor": "white"
           },
           "yaxis": {
            "backgroundcolor": "#E5ECF6",
            "gridcolor": "white",
            "gridwidth": 2,
            "linecolor": "white",
            "showbackground": true,
            "ticks": "",
            "zerolinecolor": "white"
           },
           "zaxis": {
            "backgroundcolor": "#E5ECF6",
            "gridcolor": "white",
            "gridwidth": 2,
            "linecolor": "white",
            "showbackground": true,
            "ticks": "",
            "zerolinecolor": "white"
           }
          },
          "shapedefaults": {
           "line": {
            "color": "#2a3f5f"
           }
          },
          "ternary": {
           "aaxis": {
            "gridcolor": "white",
            "linecolor": "white",
            "ticks": ""
           },
           "baxis": {
            "gridcolor": "white",
            "linecolor": "white",
            "ticks": ""
           },
           "bgcolor": "#E5ECF6",
           "caxis": {
            "gridcolor": "white",
            "linecolor": "white",
            "ticks": ""
           }
          },
          "title": {
           "x": 0.05
          },
          "xaxis": {
           "automargin": true,
           "gridcolor": "white",
           "linecolor": "white",
           "ticks": "",
           "title": {
            "standoff": 15
           },
           "zerolinecolor": "white",
           "zerolinewidth": 2
          },
          "yaxis": {
           "automargin": true,
           "gridcolor": "white",
           "linecolor": "white",
           "ticks": "",
           "title": {
            "standoff": 15
           },
           "zerolinecolor": "white",
           "zerolinewidth": 2
          }
         }
        },
        "xaxis": {
         "autorange": true,
         "range": [
          -0.5,
          6.5
         ],
         "type": "category"
        },
        "yaxis": {
         "autorange": true,
         "range": [
          0,
          165.45263157894738
         ],
         "type": "linear"
        }
       }
      },
      "image/png": "[encoded data removed]",
      "text/html": [
       "<div>                            <div id=\"80c13717-5069-414c-94bb-7edf135686e2\" class=\"plotly-graph-div\" style=\"height:525px; width:100%;\"></div>            <script type=\"text/javascript\">                require([\"plotly\"], function(Plotly) {                    window.PLOTLYENV=window.PLOTLYENV || {};                                    if (document.getElementById(\"80c13717-5069-414c-94bb-7edf135686e2\")) {                    Plotly.newPlot(                        \"80c13717-5069-414c-94bb-7edf135686e2\",                        [{\"type\":\"bar\",\"x\":[\"East of England\",\"South West\",\"North East and Yorkshire\",\"Midlands\",\"South East\",\"London\",\"North West\"],\"y\":[157.18,144.84,127.97,110.71,94.68,78.91,41.27]}],                        {\"template\":{\"data\":{\"bar\":[{\"error_x\":{\"color\":\"#2a3f5f\"},\"error_y\":{\"color\":\"#2a3f5f\"},\"marker\":{\"line\":{\"color\":\"#E5ECF6\",\"width\":0.5},\"pattern\":{\"fillmode\":\"overlay\",\"size\":10,\"solidity\":0.2}},\"type\":\"bar\"}],\"barpolar\":[{\"marker\":{\"line\":{\"color\":\"#E5ECF6\",\"width\":0.5},\"pattern\":{\"fillmode\":\"overlay\",\"size\":10,\"solidity\":0.2}},\"type\":\"barpolar\"}],\"carpet\":[{\"aaxis\":{\"endlinecolor\":\"#2a3f5f\",\"gridcolor\":\"white\",\"linecolor\":\"white\",\"minorgridcolor\":\"white\",\"startlinecolor\":\"#2a3f5f\"},\"baxis\":{\"endlinecolor\":\"#2a3f5f\",\"gridcolor\":\"white\",\"linecolor\":\"white\",\"minorgridcolor\":\"white\",\"startlinecolor\":\"#2a3f5f\"},\"type\":\"carpet\"}],\"choropleth\":[{\"colorbar\":{\"outlinewidth\":0,\"ticks\":\"\"},\"type\":\"choropleth\"}],\"contour\":[{\"colorbar\":{\"outlinewidth\":0,\"ticks\":\"\"},\"colorscale\":[[0.0,\"#0d0887\"],[0.1111111111111111,\"#46039f\"],[0.2222222222222222,\"#7201a8\"],[0.3333333333333333,\"#9c179e\"],[0.4444444444444444,\"#bd3786\"],[0.5555555555555556,\"#d8576b\"],[0.6666666666666666,\"#ed7953\"],[0.7777777777777778,\"#fb9f3a\"],[0.8888888888888888,\"#fdca26\"],[1.0,\"#f0f921\"]],\"type\":\"contour\"}],\"contourcarpet\":[{\"colorbar\":{\"outlinewidth\":0,\"ticks\":\"\"},\"type\":\"contourcarpet\"}],\"heatmap\":[{\"colorbar\":{\"outlinewidth\":0,\"ticks\":\"\"},\"colorscale\":[[0.0,\"#0d0887\"],[0.1111111111111111,\"#46039f\"],[0.2222222222222222,\"#7201a8\"],[0.3333333333333333,\"#9c179e\"],[0.4444444444444444,\"#bd3786\"],[0.5555555555555556,\"#d8576b\"],[0.6666666666666666,\"#ed7953\"],[0.7777777777777778,\"#fb9f3a\"],[0.8888888888888888,\"#fdca26\"],[1.0,\"#f0f921\"]],\"type\":\"heatmap\"}],\"heatmapgl\":[{\"colorbar\":{\"outlinewidth\":0,\"ticks\":\"\"},\"colorscale\":[[0.0,\"#0d0887\"],[0.1111111111111111,\"#46039f\"],[0.2222222222222222,\"#7201a8\"],[0.3333333333333333,\"#9c179e\"],[0.4444444444444444,\"#bd3786\"],[0.5555555555555556,\"#d8576b\"],[0.6666666666666666,\"#ed7953\"],[0.7777777777777778,\"#fb9f3a\"],[0.8888888888888888,\"#fdca26\"],[1.0,\"#f0f921\"]],\"type\":\"heatmapgl\"}],\"histogram\":[{\"marker\":{\"pattern\":{\"fillmode\":\"overlay\",\"size\":10,\"solidity\":0.2}},\"type\":\"histogram\"}],\"histogram2d\":[{\"colorbar\":{\"outlinewidth\":0,\"ticks\":\"\"},\"colorscale\":[[0.0,\"#0d0887\"],[0.1111111111111111,\"#46039f\"],[0.2222222222222222,\"#7201a8\"],[0.3333333333333333,\"#9c179e\"],[0.4444444444444444,\"#bd3786\"],[0.5555555555555556,\"#d8576b\"],[0.6666666666666666,\"#ed7953\"],[0.7777777777777778,\"#fb9f3a\"],[0.8888888888888888,\"#fdca26\"],[1.0,\"#f0f921\"]],\"type\":\"histogram2d\"}],\"histogram2dcontour\":[{\"colorbar\":{\"outlinewidth\":0,\"ticks\":\"\"},\"colorscale\":[[0.0,\"#0d0887\"],[0.1111111111111111,\"#46039f\"],[0.2222222222222222,\"#7201a8\"],[0.3333333333333333,\"#9c179e\"],[0.4444444444444444,\"#bd3786\"],[0.5555555555555556,\"#d8576b\"],[0.6666666666666666,\"#ed7953\"],[0.7777777777777778,\"#fb9f3a\"],[0.8888888888888888,\"#fdca26\"],[1.0,\"#f0f921\"]],\"type\":\"histogram2dcontour\"}],\"mesh3d\":[{\"colorbar\":{\"outlinewidth\":0,\"ticks\":\"\"},\"type\":\"mesh3d\"}],\"parcoords\":[{\"line\":{\"colorbar\":{\"outlinewidth\":0,\"ticks\":\"\"}},\"type\":\"parcoords\"}],\"pie\":[{\"automargin\":true,\"type\":\"pie\"}],\"scatter\":[{\"marker\":{\"colorbar\":{\"outlinewidth\":0,\"ticks\":\"\"}},\"type\":\"scatter\"}],\"scatter3d\":[{\"line\":{\"colorbar\":{\"outlinewidth\":0,\"ticks\":\"\"}},\"marker\":{\"colorbar\":{\"outlinewidth\":0,\"ticks\":\"\"}},\"type\":\"scatter3d\"}],\"scattercarpet\":[{\"marker\":{\"colorbar\":{\"outlinewidth\":0,\"ticks\":\"\"}},\"type\":\"scattercarpet\"}],\"scattergeo\":[{\"marker\":{\"colorbar\":{\"outlinewidth\":0,\"ticks\":\"\"}},\"type\":\"scattergeo\"}],\"scattergl\":[{\"marker\":{\"colorbar\":{\"outlinewidth\":0,\"ticks\":\"\"}},\"type\":\"scattergl\"}],\"scattermapbox\":[{\"marker\":{\"colorbar\":{\"outlinewidth\":0,\"ticks\":\"\"}},\"type\":\"scattermapbox\"}],\"scatterpolar\":[{\"marker\":{\"colorbar\":{\"outlinewidth\":0,\"ticks\":\"\"}},\"type\":\"scatterpolar\"}],\"scatterpolargl\":[{\"marker\":{\"colorbar\":{\"outlinewidth\":0,\"ticks\":\"\"}},\"type\":\"scatterpolargl\"}],\"scatterternary\":[{\"marker\":{\"colorbar\":{\"outlinewidth\":0,\"ticks\":\"\"}},\"type\":\"scatterternary\"}],\"surface\":[{\"colorbar\":{\"outlinewidth\":0,\"ticks\":\"\"},\"colorscale\":[[0.0,\"#0d0887\"],[0.1111111111111111,\"#46039f\"],[0.2222222222222222,\"#7201a8\"],[0.3333333333333333,\"#9c179e\"],[0.4444444444444444,\"#bd3786\"],[0.5555555555555556,\"#d8576b\"],[0.6666666666666666,\"#ed7953\"],[0.7777777777777778,\"#fb9f3a\"],[0.8888888888888888,\"#fdca26\"],[1.0,\"#f0f921\"]],\"type\":\"surface\"}],\"table\":[{\"cells\":{\"fill\":{\"color\":\"#EBF0F8\"},\"line\":{\"color\":\"white\"}},\"header\":{\"fill\":{\"color\":\"#C8D4E3\"},\"line\":{\"color\":\"white\"}},\"type\":\"table\"}]},\"layout\":{\"annotationdefaults\":{\"arrowcolor\":\"#2a3f5f\",\"arrowhead\":0,\"arrowwidth\":1},\"autotypenumbers\":\"strict\",\"coloraxis\":{\"colorbar\":{\"outlinewidth\":0,\"ticks\":\"\"}},\"colorscale\":{\"diverging\":[[0,\"#8e0152\"],[0.1,\"#c51b7d\"],[0.2,\"#de77ae\"],[0.3,\"#f1b6da\"],[0.4,\"#fde0ef\"],[0.5,\"#f7f7f7\"],[0.6,\"#e6f5d0\"],[0.7,\"#b8e186\"],[0.8,\"#7fbc41\"],[0.9,\"#4d9221\"],[1,\"#276419\"]],\"sequential\":[[0.0,\"#0d0887\"],[0.1111111111111111,\"#46039f\"],[0.2222222222222222,\"#7201a8\"],[0.3333333333333333,\"#9c179e\"],[0.4444444444444444,\"#bd3786\"],[0.5555555555555556,\"#d8576b\"],[0.6666666666666666,\"#ed7953\"],[0.7777777777777778,\"#fb9f3a\"],[0.8888888888888888,\"#fdca26\"],[1.0,\"#f0f921\"]],\"sequentialminus\":[[0.0,\"#0d0887\"],[0.1111111111111111,\"#46039f\"],[0.2222222222222222,\"#7201a8\"],[0.3333333333333333,\"#9c179e\"],[0.4444444444444444,\"#bd3786\"],[0.5555555555555556,\"#d8576b\"],[0.6666666666666666,\"#ed7953\"],[0.7777777777777778,\"#fb9f3a\"],[0.8888888888888888,\"#fdca26\"],[1.0,\"#f0f921\"]]},\"colorway\":[\"#636efa\",\"#EF553B\",\"#00cc96\",\"#ab63fa\",\"#FFA15A\",\"#19d3f3\",\"#FF6692\",\"#B6E880\",\"#FF97FF\",\"#FECB52\"],\"font\":{\"color\":\"#2a3f5f\"},\"geo\":{\"bgcolor\":\"white\",\"lakecolor\":\"white\",\"landcolor\":\"#E5ECF6\",\"showlakes\":true,\"showland\":true,\"subunitcolor\":\"white\"},\"hoverlabel\":{\"align\":\"left\"},\"hovermode\":\"closest\",\"mapbox\":{\"style\":\"light\"},\"paper_bgcolor\":\"white\",\"plot_bgcolor\":\"#E5ECF6\",\"polar\":{\"angularaxis\":{\"gridcolor\":\"white\",\"linecolor\":\"white\",\"ticks\":\"\"},\"bgcolor\":\"#E5ECF6\",\"radialaxis\":{\"gridcolor\":\"white\",\"linecolor\":\"white\",\"ticks\":\"\"}},\"scene\":{\"xaxis\":{\"backgroundcolor\":\"#E5ECF6\",\"gridcolor\":\"white\",\"gridwidth\":2,\"linecolor\":\"white\",\"showbackground\":true,\"ticks\":\"\",\"zerolinecolor\":\"white\"},\"yaxis\":{\"backgroundcolor\":\"#E5ECF6\",\"gridcolor\":\"white\",\"gridwidth\":2,\"linecolor\":\"white\",\"showbackground\":true,\"ticks\":\"\",\"zerolinecolor\":\"white\"},\"zaxis\":{\"backgroundcolor\":\"#E5ECF6\",\"gridcolor\":\"white\",\"gridwidth\":2,\"linecolor\":\"white\",\"showbackground\":true,\"ticks\":\"\",\"zerolinecolor\":\"white\"}},\"shapedefaults\":{\"line\":{\"color\":\"#2a3f5f\"}},\"ternary\":{\"aaxis\":{\"gridcolor\":\"white\",\"linecolor\":\"white\",\"ticks\":\"\"},\"baxis\":{\"gridcolor\":\"white\",\"linecolor\":\"white\",\"ticks\":\"\"},\"bgcolor\":\"#E5ECF6\",\"caxis\":{\"gridcolor\":\"white\",\"linecolor\":\"white\",\"ticks\":\"\"}},\"title\":{\"x\":0.05},\"xaxis\":{\"automargin\":true,\"gridcolor\":\"white\",\"linecolor\":\"white\",\"ticks\":\"\",\"title\":{\"standoff\":15},\"zerolinecolor\":\"white\",\"zerolinewidth\":2},\"yaxis\":{\"automargin\":true,\"gridcolor\":\"white\",\"linecolor\":\"white\",\"ticks\":\"\",\"title\":{\"standoff\":15},\"zerolinecolor\":\"white\",\"zerolinewidth\":2}}}},                        {\"responsive\": true}                    ).then(function(){\n",
       "                            \n",
       "var gd = document.getElementById('80c13717-5069-414c-94bb-7edf135686e2');\n",
       "var x = new MutationObserver(function (mutations, observer) {{\n",
       "        var display = window.getComputedStyle(gd).display;\n",
       "        if (!display || display === 'none') {{\n",
       "            console.log([gd, 'removed!']);\n",
       "            Plotly.purge(gd);\n",
       "            observer.disconnect();\n",
       "        }}\n",
       "}});\n",
       "\n",
       "// Listen for the removal of the full notebook cells\n",
       "var notebookContainer = gd.closest('#notebook-container');\n",
       "if (notebookContainer) {{\n",
       "    x.observe(notebookContainer, {childList: true});\n",
       "}}\n",
       "\n",
       "// Listen for the clearing of the current output cell\n",
       "var outputEl = gd.closest('.output');\n",
       "if (outputEl) {{\n",
       "    x.observe(outputEl, {childList: true});\n",
       "}}\n",
       "\n",
       "                        })                };                });            </script>        </div>"
      ]
     },
     "metadata": {},
     "output_type": "display_data"
    }
   ],
   "source": [
    "POMI_region_code_names['region_name'] = POMI_region_code_names['region_code'].map(region_name)\n",
    "Region_code_results_appts= POMI_region_code_names.sort_values(by='Pat_Appts_Use_per_10000', ascending=False)\n",
    "\n",
    "data1 = go.Bar(\n",
    "    x = Region_code_results_appts.region_name,\n",
    "    y = Region_code_results_appts.Pat_Appts_Use_per_10000)\n",
    "\n",
    "figure = go.Figure(data = data1)\n",
    "figure.show()"
   ]
  },
  {
   "cell_type": "code",
   "execution_count": 178,
   "id": "e716b2ae-367b-496b-ab88-6b176a26c03b",
   "metadata": {},
   "outputs": [],
   "source": [
    "\n",
    "# Write chart to file (.html)\n",
    "config = {\"displayModeBar\": False, \"displaylogo\": False}\n",
    "plotly_obj = plotly.offline.plot(\n",
    "    fig, include_plotlyjs=False, output_type=\"div\", config=config\n",
    ")\n",
    "with open(\"_includes/appointments.html\", \"w\") as file:\n",
    "    file.write(plotly_obj)"
   ]
  },
  {
   "cell_type": "code",
   "execution_count": null,
   "id": "47bd07a4-5307-43e7-aaff-1cfb8e4fcf2b",
   "metadata": {},
   "outputs": [],
   "source": []
  }
 ],
 "metadata": {
  "kernelspec": {
   "display_name": "Python 3",
   "language": "python",
   "name": "python3"
  },
  "language_info": {
   "codemirror_mode": {
    "name": "ipython",
    "version": 3
   },
   "file_extension": ".py",
   "mimetype": "text/x-python",
   "name": "python",
   "nbconvert_exporter": "python",
   "pygments_lexer": "ipython3",
   "version": "3.8.8"
  }
 },
 "nbformat": 4,
 "nbformat_minor": 5
}
